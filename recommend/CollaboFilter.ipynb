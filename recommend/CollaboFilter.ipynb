{
 "cells": [
  {
   "cell_type": "code",
   "execution_count": 1,
   "metadata": {},
   "outputs": [],
   "source": [
    "import numpy as np\n",
    "import pandas as pd\n",
    "from tqdm import tqdm\n",
    "from sklearn.metrics.pairwise import pairwise_distances"
   ]
  },
  {
   "cell_type": "code",
   "execution_count": 2,
   "metadata": {},
   "outputs": [],
   "source": [
    "# データ取得\n",
    "u_data_org = pd.read_csv(\n",
    "    'http://files.grouplens.org/datasets/movielens/ml-100k/u.data',\n",
    "    names=[\"user_id\",\"item_id\",\"rating\",\"timestamp\"],\n",
    "    sep=\"\\t\")\n",
    "u_data_org.head()\n",
    "\n",
    "u_data_train = pd.read_csv(\n",
    "    'http://files.grouplens.org/datasets/movielens/ml-100k/ua.base',\n",
    "    names=[\"user_id\",\"item_id\",\"rating\",\"timestamp\"],\n",
    "    sep=\"\\t\"\n",
    ")\n",
    "\n",
    "u_data_test = pd.read_csv(\n",
    "    'http://files.grouplens.org/datasets/movielens/ml-100k/ua.test',\n",
    "    names=[\"user_id\",\"item_id\",\"rating\",\"timestamp\"],\n",
    "    sep=\"\\t\"\n",
    ")"
   ]
  },
  {
   "cell_type": "code",
   "execution_count": 3,
   "metadata": {
    "pycharm": {
     "name": "#%%\n"
    }
   },
   "outputs": [],
   "source": [
    "# データ整備\n",
    "item_list = u_data_org.sort_values('item_id').item_id.unique()\n",
    "user_list = u_data_org.user_id.unique()\n",
    "rating_matrix_item = np.zeros([len(item_list), len(user_list)])"
   ]
  },
  {
   "cell_type": "code",
   "execution_count": null,
   "metadata": {
    "pycharm": {
     "name": "#%%\n",
     "is_executing": true
    }
   },
   "outputs": [
    {
     "name": "stderr",
     "output_type": "stream",
     "text": [
      "  8%|▊         | 133/1681 [00:25<06:30,  3.96it/s]"
     ]
    }
   ],
   "source": [
    "for item_id in tqdm(range(1, len(item_list))):\n",
    "    user_list_item = u_data_train[u_data_train['item_id'] == item_id].sort_values('user_id').user_id.unique()\n",
    "    for user_id in user_list_item:\n",
    "        try:\n",
    "            user_rate = u_data_train[(u_data_train['item_id'] == item_id) & (u_data_train['user_id'] == user_id)].loc[:, 'rating']\n",
    "        except:\n",
    "            user_rate = 0\n",
    "        rating_matrix_item[item_id-1, user_id-1] = user_rate"
   ]
  },
  {
   "cell_type": "code",
   "execution_count": null,
   "metadata": {
    "pycharm": {
     "is_executing": true
    }
   },
   "outputs": [],
   "source": [
    "# スコア\n",
    "rating_matrix_calc = rating_matrix_item.copy()\n",
    "rating_matrix_calc[rating_matrix_calc != 0] = 1\n",
    "rating_matrix_train = np.abs(rating_matrix_calc - 1)"
   ]
  },
  {
   "cell_type": "code",
   "execution_count": null,
   "metadata": {
    "pycharm": {
     "is_executing": true
    }
   },
   "outputs": [],
   "source": [
    "#　類似度\n",
    "similarity_matrix = 1 - pairwise_distances(rating_matrix_item, metric='cosine')\n",
    "np.fill_diagonal(similarity_matrix, 0)"
   ]
  },
  {
   "cell_type": "code",
   "execution_count": null,
   "metadata": {
    "pycharm": {
     "is_executing": true
    }
   },
   "outputs": [],
   "source": [
    "# レコメンド算出\n",
    "user_id = 100\n",
    "hits = 0"
   ]
  },
  {
   "cell_type": "code",
   "execution_count": null,
   "outputs": [],
   "source": [
    "# 類似度×スコア\n",
    "rating_matrix_user = rating_matrix_item[:, user_id - 1]\n",
    "pred_rating_user = similarity_matrix * rating_matrix_user\n",
    "pred_rating_user = pred_rating_user.sum(axis=1)\n",
    "pred_rating_user_item = pred_rating_user * rating_matrix_train[:,user_id - 1]\n",
    "recommend_list = np.argsort(pred_rating_user_item)[::-1][:10] + 1\n",
    "purchase_list_user = u_data_test[u_data_test.user_id == user_id].loc[:, 'item_id'].unique()\n",
    "for item_id in recommend_list:\n",
    "    if item_id in purchase_list_user:\n",
    "        hits += 1\n",
    "pre = hits / 10.0"
   ],
   "metadata": {
    "collapsed": false,
    "pycharm": {
     "name": "#%%\n",
     "is_executing": true
    }
   }
  },
  {
   "cell_type": "code",
   "execution_count": null,
   "metadata": {
    "pycharm": {
     "is_executing": true
    }
   },
   "outputs": [],
   "source": [
    "# レコメンド結果出力\n",
    "print('Recommend list:', recommend_list)\n",
    "print('Test Rated list:', purchase_list_user)\n",
    "print('Precision:', str(pre))"
   ]
  },
  {
   "cell_type": "code",
   "execution_count": null,
   "metadata": {
    "pycharm": {
     "is_executing": true
    }
   },
   "outputs": [],
   "source": [
    "# 精度評価\n",
    "precision_list = []\n",
    "recall_list = []\n",
    "user_list_test = u_data_test.sort_values('user_id').user_id.unique()"
   ]
  },
  {
   "cell_type": "code",
   "execution_count": null,
   "metadata": {
    "pycharm": {
     "name": "#%%\n",
     "is_executing": true
    }
   },
   "outputs": [],
   "source": [
    "for user_id in tqdm(user_list_test):\n",
    "    hits = 0\n",
    "    rating_matrix_user = rating_matrix_item[:, user_id - 1]\n",
    "    pred_rating_user = similarity_matrix * rating_matrix_user\n",
    "    pred_rating_user_item = pred_rating_user * rating_matrix_train[:,user_id - 1]\n",
    "    pred_rating_user_item[np.isnan(pred_rating_user_item)] = 0\n",
    "    recommend_list = np.argsort(pred_rating_user_item)[::-1][:10] + 1\n",
    "    purchase_list_user = u_data_test[u_data_test.user_id == user_id].loc[:, 'item_id'].unique()\n",
    "    if len(purchase_list_user) == 0:\n",
    "        continue\n",
    "    for item_id in recommend_list:\n",
    "        if item_id in purchase_list_user:\n",
    "            hits += 1\n",
    "    pre = hits / 10.0\n",
    "    precision_list.append(pre)"
   ]
  },
  {
   "cell_type": "code",
   "execution_count": null,
   "metadata": {
    "pycharm": {
     "name": "#%%\n",
     "is_executing": true
    }
   },
   "outputs": [],
   "source": [
    "# 結果出力\n",
    "precision = sum(precision_list) / len(precision_list)\n",
    "print('Precision:', precision)\n"
   ]
  }
 ],
 "metadata": {
  "kernelspec": {
   "display_name": "Python 3",
   "language": "python",
   "name": "python3"
  },
  "language_info": {
   "codemirror_mode": {
    "name": "ipython",
    "version": 3
   },
   "file_extension": ".py",
   "mimetype": "text/x-python",
   "name": "python",
   "nbconvert_exporter": "python",
   "pygments_lexer": "ipython3",
   "version": "3.8.5"
  }
 },
 "nbformat": 4,
 "nbformat_minor": 4
}