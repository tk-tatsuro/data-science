{
 "cells": [
  {
   "cell_type": "code",
   "execution_count": null,
   "metadata": {
    "pycharm": {
     "is_executing": true
    }
   },
   "outputs": [],
   "source": [
    "import numpy as np\n",
    "import pandas as pd\n",
    "from tqdm import tqdm\n",
    "from sklearn.metrics.pairwise import pairwise_distances\n",
    "\n",
    "\n",
    "# データ取得\n",
    "u_data_org = pd.read_csv(\n",
    "    'http://files.grouplens.org/datasets/movielens/ml-100k/u.data',\n",
    "    names=[\"user_id\",\"item_id\",\"rating\",\"timestamp\"],\n",
    "    sep=\"\\t\")\n",
    "u_data_org.head()\n",
    "\n",
    "u_data_train = pd.read_csv(\n",
    "    'http://files.grouplens.org/datasets/movielens/ml-100k/ua.base',\n",
    "    names=[\"user_id\",\"item_id\",\"rating\",\"timestamp\"],\n",
    "    sep=\"\\t\"\n",
    ")\n",
    "u_data_train.head()\n",
    "u_data_test = pd.read_csv(\n",
    "    'http://files.grouplens.org/datasets/movielens/ml-100k/ua.test',\n",
    "    names=[\"user_id\",\"item_id\",\"rating\",\"timestamp\"],\n",
    "    sep=\"\\t\"\n",
    ")\n",
    "u_data_test.head()\n",
    "\n",
    "\n",
    "# データ整備\n",
    "item_list = u_data_org.sort_values('item_id').item_id.unique()\n",
    "user_list = u_data_org.user_id.unique()\n",
    "rating_matrix_item = np.zeros([len(item_list), len(user_list)])\n",
    "\n",
    "for item_id in tqdm(range(1, len(item_list))):\n",
    "    user_list_item = u_data_train[u_data_train['item_id'] == item_id].sort_values('user_id').user_id.unique()\n",
    "    for user_id in user_list_item:\n",
    "        try:\n",
    "            user_rate = u_data_train[ (u_data_train['item_id'] == item_id) & (u_data_train['user_id'] == user_id) ].loc[:, 'rating']\n",
    "        except:\n",
    "            user_rate = 0\n",
    "        rating_matrix_item[item_id - 1, user_id - 1] = user_rate\n",
    "\n",
    "# スコア\n",
    "rating_matrix_calc = rating_matrix_item.copy()\n",
    "rating_matrix_calc[rating_matrix_calc != 0] = 1\n",
    "rating_matrix_train = np.abs(rating_matrix_calc - 1)\n",
    "\n",
    "# 類似度\n",
    "similarity_matrix = 1 - pairwise_distances(rating_matrix_item, metric='cosine')\n",
    "np.fill_diagonal(similarity_matrix, 0)\n",
    "\n",
    "# 計算\n",
    "use_id = 100\n",
    "hits = 0\n",
    "rating_matrix_user = rating_matrix_item[:, user_id - 1]\n",
    "pred_rating_user = similarity_matrix * rating_matrix_user\n",
    "pred_rating_user = pred_rating_user.sum(axis=1)\n",
    "pred_rating_user_item = pred_rating_user * rating_matrix_train[:, user_id - 1]\n",
    "recommend_list = np.argsort(pred_rating_user_item)[::-1][:10] + 1\n",
    "purchase_list_user = u_data_test[u_data_test.user_id == user_id].loc[:, 'item_id'].unique()\n",
    "for item_id in recommend_list:\n",
    "    if item_id in purchase_list_user:\n",
    "        hits +- 1\n",
    "pre = hits / 10.0\n",
    "\n",
    "# 評価\n",
    "# precision_list = []\n",
    "# recall_list = []\n",
    "# user_list_test = u_data_test.sort_values('user_id').user_id.unique()\n",
    "#\n",
    "# for user_id in tqdm(user_list_test):\n",
    "#     hits = 0\n",
    "#     rating_matrix_user = rating_matrix_item[:, user_id - 1]\n",
    "#     pred_rating_user = similarity_matrix * rating_matrix_user\n",
    "#     pred_rating_user_item = pred_rating_user * rating_matrix_train[:,user_id - 1]\n",
    "#     pred_rating_user_item[np.isnan(pred_rating_user_item)] = 0\n",
    "#     recommend_list = np.argsort(pred_rating_user_item)[::-1][:10] + 1\n",
    "#     purchase_list_user = u_data_test[u_data_test.user_id == user_id].loc[:, 'item_id'].unique()\n",
    "#     if len(purchase_list_user) == 0:\n",
    "#         continue\n",
    "#     for item_id in recommend_list:\n",
    "#         if item_id in purchase_list_user:\n",
    "#             hits += 1\n",
    "#     pre = hits / 10.0\n",
    "#     precision_list.append(pre)\n",
    "#\n",
    "# precision = sum(precision_list) / len(precision_list)\n",
    "# print('Precision:', precision)\n",
    "\n",
    "\n"
   ]
  },
  {
   "cell_type": "code",
   "execution_count": null,
   "metadata": {
    "pycharm": {
     "is_executing": true
    }
   },
   "outputs": [],
   "source": []
  }
 ],
 "metadata": {
  "kernelspec": {
   "display_name": "Python 3",
   "language": "python",
   "name": "python3"
  },
  "language_info": {
   "codemirror_mode": {
    "name": "ipython",
    "version": 2
   },
   "file_extension": ".py",
   "mimetype": "text/x-python",
   "name": "python",
   "nbconvert_exporter": "python",
   "pygments_lexer": "ipython2",
   "version": "2.7.6"
  }
 },
 "nbformat": 4,
 "nbformat_minor": 1
}
