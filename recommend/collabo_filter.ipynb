{
 "cells": [
  {
   "cell_type": "code",
   "execution_count": 1,
   "metadata": {},
   "outputs": [],
   "source": [
    "import numpy as np\n",
    "import pandas as pd\n",
    "from tqdm import tqdm\n",
    "from sklearn.metrics.pairwise import pairwise_distances"
   ]
  },
  {
   "cell_type": "code",
   "execution_count": null,
   "metadata": {},
   "outputs": [],
   "source": [
    "# データ取得\n",
    "data_base = pd.read_csv(\n",
    "    './data_base.csv',\n",
    "    names=[\"user_id\",\"job_id\",\"rating\",\"timestamp\"],\n",
    "    sep=\"\\t\")\n",
    "data_base.head()\n",
    "\n",
    "data_train = pd.read_csv(\n",
    "    './data_training.csv',\n",
    "    names=[\"user_id\",\"job_id\",\"rating\",\"timestamp\"],\n",
    "    sep=\"\\t\"\n",
    ")\n",
    "\n",
    "data_test = pd.read_csv(\n",
    "    './data_test.csv',\n",
    "    names=[\"user_id\",\"job_id\",\"rating\",\"timestamp\"],\n",
    "    sep=\"\\t\"\n",
    ")"
   ]
  },
  {
   "cell_type": "code",
   "execution_count": 3,
   "metadata": {
    "pycharm": {
     "name": "#%%\n"
    }
   },
   "outputs": [],
   "source": [
    "# データ整備\n",
    "user_list = data_base.user_id.unique() # 並び替え\n",
    "job_list = data_base.sort_values('job_id').job_id.unique() # 並び替え\n",
    "rating_matrix_job = np.zeros([len(job_list), len(user_list)])"
   ]
  },
  {
   "cell_type": "code",
   "execution_count": null,
   "metadata": {
    "pycharm": {
     "name": "#%%\n",
     "is_executing": true
    }
   },
   "outputs": [
    {
     "name": "stderr",
     "output_type": "stream",
     "text": [
      "  8%|▊         | 133/1681 [00:25<06:30,  3.96it/s]"
     ]
    }
   ],
   "source": [
    "for job_id in tqdm(range(1, len(job_list))): # 進捗表示\n",
    "    user_list_job = data_train[data_train['job_id'] == job_id].sort_values('user_id').user_id.unique()\n",
    "    for user_id in user_list_job:\n",
    "        try:\n",
    "            user_rate = data_train[(data_train['job_id'] == job_id) & (data_train['user_id'] == user_id)].loc[:, 'rating']\n",
    "        except None as e:\n",
    "            user_rate = 0 # 該当なしの場合は0をセット\n",
    "        rating_matrix_job[job_id-1, user_id-1] = user_rate # 評価をセット"
   ]
  },
  {
   "cell_type": "code",
   "execution_count": null,
   "metadata": {
    "pycharm": {
     "is_executing": true
    }
   },
   "outputs": [],
   "source": [
    "# 評価\n",
    "rating_matrix_calc = rating_matrix_job.copy() #\n",
    "rating_matrix_calc[rating_matrix_calc != 0] = 1\n",
    "rating_matrix_train = np.abs(rating_matrix_calc) # 絶対値変換"
   ]
  },
  {
   "cell_type": "code",
   "execution_count": null,
   "metadata": {
    "pycharm": {
     "is_executing": true
    }
   },
   "outputs": [],
   "source": [
    "#　類似度\n",
    "similarity_matrix = 1 - pairwise_distances(rating_matrix_job, metric='cosine') # コサイン類似度\n",
    "np.fill_diagonal(similarity_matrix, 0)"
   ]
  },
  {
   "cell_type": "code",
   "execution_count": null,
   "metadata": {
    "pycharm": {
     "is_executing": true
    }
   },
   "outputs": [],
   "source": [
    "# レコメンド算出\n",
    "user_id = 100\n",
    "hits = 0"
   ]
  },
  {
   "cell_type": "code",
   "execution_count": null,
   "outputs": [],
   "source": [
    "# 類似度×スコア\n",
    "rating_matrix_user = rating_matrix_job[:, user_id - 1]\n",
    "pre_rating_user = similarity_matrix * rating_matrix_user\n",
    "pre_rating_user = pre_rating_user.sum(axis=1)\n",
    "pre_rating_user_job = pre_rating_user * rating_matrix_train[:,user_id - 1]\n",
    "# 該当率計算\n",
    "recommend_list = np.argsort(pre_rating_user_job)[::-1][:10] + 1\n",
    "purchase_list_user = data_test[data_test.user_id == user_id].loc[:, 'job_id'].unique()\n",
    "for job_id in recommend_list:\n",
    "    if job_id in purchase_list_user:\n",
    "        hits += 1\n",
    "pre = hits / 10"
   ],
   "metadata": {
    "collapsed": false,
    "pycharm": {
     "name": "#%%\n",
     "is_executing": true
    }
   }
  },
  {
   "cell_type": "code",
   "execution_count": null,
   "metadata": {
    "pycharm": {
     "is_executing": true
    }
   },
   "outputs": [],
   "source": [
    "# レコメンド結果出力\n",
    "print('Recommend list:', recommend_list)\n",
    "print('Recommend list count:', len(recommend_list))\n",
    "print('Test Rated list:', purchase_list_user)\n",
    "print('Test Rated list count:', len(purchase_list_user))\n",
    "print('Precision:', str(pre))"
   ]
  },
  {
   "cell_type": "code",
   "execution_count": null,
   "metadata": {
    "pycharm": {
     "is_executing": true
    }
   },
   "outputs": [],
   "source": [
    "# 精度評価\n",
    "precision_list = []\n",
    "recall_list = []\n",
    "user_list_test = data_test.sort_values('user_id').user_id.unique()"
   ]
  },
  {
   "cell_type": "code",
   "execution_count": null,
   "metadata": {
    "pycharm": {
     "name": "#%%\n",
     "is_executing": true
    }
   },
   "outputs": [],
   "source": [
    "for user_id in tqdm(user_list_test):\n",
    "    hits = 0\n",
    "    rating_matrix_user = rating_matrix_job[:, user_id - 1]\n",
    "    pre_rating_user = similarity_matrix * rating_matrix_user\n",
    "    pre_rating_user_job = pre_rating_user * rating_matrix_train[:,user_id - 1]\n",
    "    pre_rating_user_job[np.isnan(pre_rating_user_job)] = 0\n",
    "    recommend_list = np.argsort(pre_rating_user_job)[::-1][:10] + 1\n",
    "    purchase_list_user = data_test[data_test.user_id == user_id].loc[:, 'job_id'].unique()\n",
    "    if len(purchase_list_user) == 0:\n",
    "        continue\n",
    "    for job_id in recommend_list:\n",
    "        if job_id in purchase_list_user:\n",
    "            hits += 1\n",
    "    pre = hits / 10.0\n",
    "    precision_list.append(pre)"
   ]
  },
  {
   "cell_type": "code",
   "execution_count": null,
   "metadata": {
    "pycharm": {
     "name": "#%%\n",
     "is_executing": true
    }
   },
   "outputs": [],
   "source": [
    "# 評価結果出力\n",
    "precision = sum(precision_list) / len(precision_list)\n",
    "print('Precision:', precision)"
   ]
  }
 ],
 "metadata": {
  "kernelspec": {
   "display_name": "Python 3",
   "language": "python",
   "name": "python3"
  },
  "language_info": {
   "codemirror_mode": {
    "name": "ipython",
    "version": 3
   },
   "file_extension": ".py",
   "mimetype": "text/x-python",
   "name": "python",
   "nbconvert_exporter": "python",
   "pygments_lexer": "ipython3",
   "version": "3.8.5"
  }
 },
 "nbformat": 4,
 "nbformat_minor": 4
}