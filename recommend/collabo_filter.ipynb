{
 "cells": [
  {
   "cell_type": "code",
   "execution_count": 126,
   "metadata": {},
   "outputs": [],
   "source": [
    "import numpy as np\n",
    "import pandas as pd\n",
    "from tqdm import tqdm\n",
    "from sklearn.metrics.pairwise import pairwise_distances"
   ]
  },
  {
   "cell_type": "code",
   "execution_count": 127,
   "metadata": {},
   "outputs": [],
   "source": [
    "# データ取得\n",
    "data_base = pd.read_csv(\n",
    "    './base.csv',\n",
    "    names=[\"user_id\",\"job_id\",\"rating\",\"timestamp\"],\n",
    "    sep=\"\\t\")\n",
    "# data_base.head()"
   ]
  },
  {
   "cell_type": "code",
   "execution_count": 128,
   "outputs": [],
   "source": [
    "data_train = pd.read_csv(\n",
    "    './training.csv',\n",
    "    names=[\"user_id\",\"job_id\",\"rating\",\"timestamp\"],\n",
    "    sep=\"\\t\"\n",
    ")\n",
    "# data_train.head()"
   ],
   "metadata": {
    "collapsed": false,
    "pycharm": {
     "name": "#%%\n"
    }
   }
  },
  {
   "cell_type": "code",
   "execution_count": 129,
   "outputs": [],
   "source": [
    "data_test = pd.read_csv(\n",
    "    './test.csv',\n",
    "    names=[\"user_id\",\"job_id\",\"rating\",\"timestamp\"],\n",
    "    sep=\"\\t\"\n",
    ")\n",
    "# data_test.head()"
   ],
   "metadata": {
    "collapsed": false,
    "pycharm": {
     "name": "#%%\n"
    }
   }
  },
  {
   "cell_type": "code",
   "execution_count": 130,
   "metadata": {
    "pycharm": {
     "name": "#%%\n"
    }
   },
   "outputs": [],
   "source": [
    "# データ整備\n",
    "job_list = data_base.sort_values('job_id').job_id.unique()\n",
    "user_list = data_base.user_id.unique()\n",
    "rating_matrix_job = np.zeros([len(job_list), len(user_list)])"
   ]
  },
  {
   "cell_type": "code",
   "execution_count": 131,
   "metadata": {
    "pycharm": {
     "name": "#%%\n"
    }
   },
   "outputs": [
    {
     "name": "stderr",
     "output_type": "stream",
     "text": [
      "100%|██████████| 1605/1605 [00:43<00:00, 37.22it/s] \n"
     ]
    }
   ],
   "source": [
    "for job_id in tqdm(range(1, len(job_list))):\n",
    "    user_list_job = data_train[data_train['job_id'] == job_id].sort_values('user_id').user_id.unique()\n",
    "    for user_id in user_list_job:\n",
    "        try:\n",
    "            user_rate = data_train[(data_train['job_id'] == job_id) & (data_train['user_id'] == user_id)].loc[:, 'rating']\n",
    "        except:\n",
    "            user_rate = 0\n",
    "        rating_matrix_job[job_id-1, user_id-1] = user_rate"
   ]
  },
  {
   "cell_type": "code",
   "execution_count": 132,
   "metadata": {},
   "outputs": [],
   "source": [
    "# スコア\n",
    "rating_matrix_calc = rating_matrix_job.copy()\n",
    "rating_matrix_calc[rating_matrix_calc != 0] = 1\n",
    "rating_matrix_train = np.abs(rating_matrix_calc - 1)"
   ]
  },
  {
   "cell_type": "code",
   "execution_count": 133,
   "metadata": {},
   "outputs": [],
   "source": [
    "#　類似度\n",
    "similarity_matrix = 1 - pairwise_distances(rating_matrix_job, metric='cosine') # コサイン類似度で距離の行列計算\n",
    "np.fill_diagonal(similarity_matrix, 0) # 計算コストが高いため対角成分を取る"
   ]
  },
  {
   "cell_type": "code",
   "execution_count": 134,
   "metadata": {},
   "outputs": [],
   "source": [
    "# レコメンド算出\n",
    "user_id = 100\n",
    "hits = 0"
   ]
  },
  {
   "cell_type": "code",
   "execution_count": 135,
   "metadata": {
    "pycharm": {
     "name": "#%%\n"
    }
   },
   "outputs": [],
   "source": [
    "# 類似度×スコア\n",
    "rating_matrix_user = rating_matrix_job[:, user_id - 1]\n",
    "pred_rating_user = similarity_matrix * rating_matrix_user\n",
    "pred_rating_user = pred_rating_user.sum(axis=1)\n",
    "pred_rating_user_job = pred_rating_user * rating_matrix_train[:,user_id - 1]\n",
    "recommend_list = np.argsort(pred_rating_user_job)[::-1][:10] + 1\n",
    "purchase_list_user = data_test[data_test.user_id == user_id].loc[:, 'job_id'].unique()\n",
    "for job_id in recommend_list: # 適合商品数/全商品数（適合率：Precision）\n",
    "    if job_id in purchase_list_user:\n",
    "        hits += 1\n",
    "pre = hits / 10.0"
   ]
  },
  {
   "cell_type": "code",
   "execution_count": 137,
   "metadata": {},
   "outputs": [
    {
     "name": "stdout",
     "output_type": "stream",
     "text": [
      "Recommend list: [302 181 354 100 237 268 750 748 301 332]\n",
      "Test Rated list: [266 268 288 302 321 340 344 354 355 750]\n",
      "Precision: 0.4\n"
     ]
    }
   ],
   "source": [
    "# レコメンド結果出力\n",
    "print('Recommend list:', recommend_list)\n",
    "print('Test Rated list:', purchase_list_user)\n",
    "print('Precision:', str(pre))"
   ]
  },
  {
   "cell_type": "code",
   "execution_count": 139,
   "metadata": {},
   "outputs": [],
   "source": [
    "# 精度評価\n",
    "precision_list = []\n",
    "recall_list = []\n",
    "user_list_test = data_test.sort_values('user_id').user_id.unique()"
   ]
  },
  {
   "cell_type": "code",
   "execution_count": 141,
   "metadata": {
    "pycharm": {
     "name": "#%%\n"
    }
   },
   "outputs": [
    {
     "name": "stderr",
     "output_type": "stream",
     "text": [
      " 88%|████████▊ | 829/943 [01:12<00:09, 11.50it/s]\n"
     ]
    },
    {
     "ename": "IndexError",
     "evalue": "index 829 is out of bounds for axis 1 with size 829",
     "output_type": "error",
     "traceback": [
      "\u001B[0;31m---------------------------------------------------------------------------\u001B[0m",
      "\u001B[0;31mIndexError\u001B[0m                                Traceback (most recent call last)",
      "\u001B[0;32m<ipython-input-141-c1d4ab755589>\u001B[0m in \u001B[0;36m<module>\u001B[0;34m\u001B[0m\n\u001B[1;32m      1\u001B[0m \u001B[0;32mfor\u001B[0m \u001B[0muser_id\u001B[0m \u001B[0;32min\u001B[0m \u001B[0mtqdm\u001B[0m\u001B[0;34m(\u001B[0m\u001B[0muser_list_test\u001B[0m\u001B[0;34m)\u001B[0m\u001B[0;34m:\u001B[0m\u001B[0;34m\u001B[0m\u001B[0;34m\u001B[0m\u001B[0m\n\u001B[1;32m      2\u001B[0m     \u001B[0mhits\u001B[0m \u001B[0;34m=\u001B[0m \u001B[0;36m0\u001B[0m\u001B[0;34m\u001B[0m\u001B[0;34m\u001B[0m\u001B[0m\n\u001B[0;32m----> 3\u001B[0;31m     \u001B[0mrating_matrix_user\u001B[0m \u001B[0;34m=\u001B[0m \u001B[0mrating_matrix_job\u001B[0m\u001B[0;34m[\u001B[0m\u001B[0;34m:\u001B[0m\u001B[0;34m,\u001B[0m \u001B[0muser_id\u001B[0m \u001B[0;34m-\u001B[0m \u001B[0;36m1\u001B[0m\u001B[0;34m]\u001B[0m\u001B[0;34m\u001B[0m\u001B[0;34m\u001B[0m\u001B[0m\n\u001B[0m\u001B[1;32m      4\u001B[0m     \u001B[0mpred_rating_user\u001B[0m \u001B[0;34m=\u001B[0m \u001B[0msimilarity_matrix\u001B[0m \u001B[0;34m*\u001B[0m \u001B[0mrating_matrix_user\u001B[0m\u001B[0;34m\u001B[0m\u001B[0;34m\u001B[0m\u001B[0m\n\u001B[1;32m      5\u001B[0m     \u001B[0mpred_rating_user_job\u001B[0m \u001B[0;34m=\u001B[0m \u001B[0mpred_rating_user\u001B[0m \u001B[0;34m*\u001B[0m \u001B[0mrating_matrix_train\u001B[0m\u001B[0;34m[\u001B[0m\u001B[0;34m:\u001B[0m\u001B[0;34m,\u001B[0m\u001B[0muser_id\u001B[0m \u001B[0;34m-\u001B[0m \u001B[0;36m1\u001B[0m\u001B[0;34m]\u001B[0m\u001B[0;34m\u001B[0m\u001B[0;34m\u001B[0m\u001B[0m\n",
      "\u001B[0;31mIndexError\u001B[0m: index 829 is out of bounds for axis 1 with size 829"
     ]
    }
   ],
   "source": [
    "for user_id in tqdm(user_list_test):\n",
    "    hits = 0\n",
    "    rating_matrix_user = rating_matrix_job[:, user_id - 1]\n",
    "    pred_rating_user = similarity_matrix * rating_matrix_user\n",
    "    pred_rating_user_job = pred_rating_user * rating_matrix_train[:,user_id - 1]\n",
    "    pred_rating_user_job[np.isnan(pred_rating_user_job)] = 0\n",
    "    recommend_list = np.argsort(pred_rating_user_job)[:-1][1] + 1\n",
    "    purchase_list_user = data_test[data_test.user_id == user_id].loc[:, 'job_id'].unique()\n",
    "    if len(purchase_list_user) == 0:\n",
    "        continue\n",
    "    for job_id in recommend_list:\n",
    "        if job_id in purchase_list_user:\n",
    "            hits += 1\n",
    "    pre = hits / 10.0\n",
    "    precision_list.append(pre)"
   ]
  },
  {
   "cell_type": "code",
   "execution_count": null,
   "metadata": {
    "pycharm": {
     "name": "#%%\n"
    }
   },
   "outputs": [],
   "source": [
    "# 結果出力\n",
    "precision = sum(precision_list) / len(precision_list)\n",
    "print('Precision:', precision)"
   ]
  }
 ],
 "metadata": {
  "kernelspec": {
   "display_name": "Python 3",
   "language": "python",
   "name": "python3"
  },
  "language_info": {
   "codemirror_mode": {
    "name": "ipython",
    "version": 3
   },
   "file_extension": ".py",
   "mimetype": "text/x-python",
   "name": "python",
   "nbconvert_exporter": "python",
   "pygments_lexer": "ipython3",
   "version": "3.8.5"
  }
 },
 "nbformat": 4,
 "nbformat_minor": 4
}