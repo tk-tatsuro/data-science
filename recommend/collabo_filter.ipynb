{
 "cells": [
  {
   "cell_type": "code",
   "execution_count": 41,
   "metadata": {},
   "outputs": [],
   "source": [
    "import numpy as np\n",
    "import pandas as pd\n",
    "from tqdm import tqdm\n",
    "from sklearn.metrics.pairwise import pairwise_distances"
   ]
  },
  {
   "cell_type": "code",
   "execution_count": 42,
   "metadata": {},
   "outputs": [],
   "source": [
    "# データ取得（各ユーザーの商品の閲覧数）\n",
    "data_base = pd.read_csv(\n",
    "    './data_base.csv',\n",
    "    names=[\"user_id\",\"job_id\",\"view_count\",\"timestamp\"],\n",
    "    sep=\"\\t\")\n",
    "data_base.head()\n",
    "\n",
    "data_train = pd.read_csv(\n",
    "    './data_training.csv',\n",
    "    names=[\"user_id\",\"job_id\",\"view_count\",\"timestamp\"],\n",
    "    sep=\"\\t\"\n",
    ")\n",
    "\n",
    "data_test = pd.read_csv(\n",
    "    './data_test.csv',\n",
    "    names=[\"user_id\",\"job_id\",\"view_count\",\"timestamp\"],\n",
    "    sep=\"\\t\"\n",
    ")"
   ]
  },
  {
   "cell_type": "code",
   "execution_count": 50,
   "metadata": {
    "pycharm": {
     "name": "#%%\n"
    }
   },
   "outputs": [],
   "source": [
    "# データ整備\n",
    "job_list = data_base.sort_values('job_id').job_id.unique() # 並び替え\n",
    "user_list = data_base.user_id.unique() # 並び替え\n",
    "view_matrix_job = np.zeros([len(job_list), len(user_list)])"
   ]
  },
  {
   "cell_type": "code",
   "execution_count": 44,
   "metadata": {
    "pycharm": {
     "is_executing": true,
     "name": "#%%\n"
    }
   },
   "outputs": [
    {
     "name": "stderr",
     "output_type": "stream",
     "text": [
      "100%|██████████| 1605/1605 [00:34<00:00, 46.36it/s] \n"
     ]
    }
   ],
   "source": [
    "# 学習データ整形\n",
    "for job_id in tqdm(range(1, len(job_list))): # 進捗表示\n",
    "    user_list_job = data_train[data_train['job_id'] == job_id].sort_values('user_id').user_id.unique()\n",
    "    for user_id in user_list_job:\n",
    "        try:\n",
    "            user_rate = data_train[(data_train['job_id'] == job_id) & (data_train['user_id'] == user_id)].loc[:, 'view_count']\n",
    "        except None as e:\n",
    "            user_rate = 0 # 該当なしの場合は0をセット\n",
    "        view_matrix_job[job_id-1, user_id-1] = user_rate # 評価をセット"
   ]
  },
  {
   "cell_type": "code",
   "execution_count": 45,
   "metadata": {
    "pycharm": {
     "is_executing": true
    }
   },
   "outputs": [],
   "source": [
    "# 閲覧数（閲覧数は評価点の見立てとする）\n",
    "view_matrix_calc = view_matrix_job.copy() #\n",
    "view_matrix_calc[view_matrix_calc != 0] = 1\n",
    "view_matrix_train = np.abs(view_matrix_calc - 1) # 絶対値変換"
   ]
  },
  {
   "cell_type": "code",
   "execution_count": 46,
   "metadata": {
    "pycharm": {
     "is_executing": true
    }
   },
   "outputs": [],
   "source": [
    "#　類似度\n",
    "similarity_matrix = 1 - pairwise_distances(view_matrix_job, metric='cosine') # コサイン類似度\n",
    "np.fill_diagonal(similarity_matrix, 0)"
   ]
  },
  {
   "cell_type": "code",
   "execution_count": 47,
   "metadata": {
    "pycharm": {
     "is_executing": true
    }
   },
   "outputs": [],
   "source": [
    "# レコメンド算出\n",
    "user_id = 100\n",
    "hits = 0"
   ]
  },
  {
   "cell_type": "code",
   "execution_count": 48,
   "metadata": {
    "pycharm": {
     "is_executing": true,
     "name": "#%%\n"
    }
   },
   "outputs": [],
   "source": [
    "# 閲覧(評価)点の算出\n",
    "view_matrix_user = view_matrix_job[:, user_id - 1]\n",
    "pre_view_user = similarity_matrix * view_matrix_user # 類似度×閲覧数\n",
    "pre_view_user = pre_view_user.sum(axis=1) # 各評価の合算\n",
    "pre_view_user_job = pre_view_user * view_matrix_train[:,user_id - 1]\n",
    "# 該当率計算\n",
    "recommend_list = np.argsort(pre_view_user_job)[::-1][:10] + 1\n",
    "purchase_list_user = data_test[data_test.user_id == user_id].loc[:, 'job_id'].unique()\n",
    "for job_id in recommend_list:\n",
    "    if job_id in purchase_list_user:\n",
    "        hits += 1\n",
    "pre = hits / 10"
   ]
  },
  {
   "cell_type": "code",
   "execution_count": 49,
   "metadata": {
    "pycharm": {
     "is_executing": true
    }
   },
   "outputs": [
    {
     "name": "stdout",
     "output_type": "stream",
     "text": [
      "Recommend list: [405 597 546 117 237 411   7 763 410 121]\n",
      "Recommend list count: 10\n",
      "Test Rated list: [100 243 257 261 322 328 456 872 876 948]\n",
      "Test Rated list count: 10\n",
      "Precision: 0.0\n"
     ]
    }
   ],
   "source": [
    "# レコメンド結果出力\n",
    "print('Recommend list:', recommend_list)\n",
    "print('Recommend list count:', len(recommend_list))\n",
    "print('Test Rated list:', purchase_list_user)\n",
    "print('Test Rated list count:', len(purchase_list_user))\n",
    "print('Precision:', str(pre))"
   ]
  },
  {
   "cell_type": "code",
   "execution_count": null,
   "metadata": {
    "pycharm": {
     "is_executing": true
    }
   },
   "outputs": [],
   "source": [
    "# 精度評価\n",
    "precision_list = []\n",
    "recall_list = []\n",
    "user_list_test = data_test.sort_values('user_id').user_id.unique() # 評価用データ"
   ]
  },
  {
   "cell_type": "code",
   "execution_count": null,
   "metadata": {
    "pycharm": {
     "is_executing": true,
     "name": "#%%\n"
    }
   },
   "outputs": [],
   "source": [
    "for user_id in tqdm(user_list_test):\n",
    "    hits = 0\n",
    "    view_matrix_user = view_matrix_job[:, user_id - 1]\n",
    "    pre_view_user = similarity_matrix * view_matrix_user\n",
    "    pre_view_user_job = pre_view_user * view_matrix_train[:,user_id - 1]\n",
    "    pre_view_user_job[np.isnan(pre_view_user_job)] = 0\n",
    "    recommend_list = np.argsort(pre_view_user_job)[::-1][:10] + 1\n",
    "    purchase_list_user = data_test[data_test.user_id == user_id].loc[:, 'job_id'].unique()\n",
    "    # 該当率計算\n",
    "    if len(purchase_list_user) == 0:\n",
    "        continue\n",
    "    for job_id in recommend_list:\n",
    "        if job_id in purchase_list_user:\n",
    "            hits += 1\n",
    "    pre = hits / 10.0\n",
    "    precision_list.append(pre)"
   ]
  },
  {
   "cell_type": "code",
   "execution_count": null,
   "metadata": {
    "pycharm": {
     "is_executing": true,
     "name": "#%%\n"
    }
   },
   "outputs": [],
   "source": [
    "# 評価結果出力\n",
    "precision = sum(precision_list) / len(precision_list)\n",
    "print('Precision:', precision)"
   ]
  }
 ],
 "metadata": {
  "kernelspec": {
   "display_name": "Python 3",
   "language": "python",
   "name": "python3"
  }
 },
 "nbformat": 4,
 "nbformat_minor": 4
}