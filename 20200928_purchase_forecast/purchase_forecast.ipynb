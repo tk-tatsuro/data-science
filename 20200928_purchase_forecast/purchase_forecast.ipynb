{
 "cells": [
  {
   "cell_type": "markdown",
   "metadata": {
    "collapsed": true,
    "pycharm": {
     "is_executing": true
    }
   },
   "source": [
    "# 目次"
   ]
  },
  {
   "cell_type": "markdown",
   "metadata": {},
   "source": [
    "- 概要把握  \n",
    "- 欠損値の確認  \n",
    "- 重複行の確認  \n",
    "- ペアワイズ削除法  \n",
    "- リストワイズ削除法  \n",
    "- 平均値代入法  "
   ]
  },
  {
   "cell_type": "markdown",
   "metadata": {},
   "source": [
    "# ライブラリ群"
   ]
  },
  {
   "cell_type": "code",
   "execution_count": 1,
   "metadata": {
    "pycharm": {
     "name": "#%%\n"
    }
   },
   "outputs": [
    {
     "name": "stdout",
     "output_type": "stream",
     "text": [
      "データ処理系\n",
      "描画系\n",
      "表示調整系\n"
     ]
    },
    {
     "data": {
      "text/html": [
       "<style>.cm-s-ipython span.cm-comment { color: blue; }</style>"
      ],
      "text/plain": [
       "<IPython.core.display.HTML object>"
      ]
     },
     "metadata": {},
     "output_type": "display_data"
    }
   ],
   "source": [
    "print(\"データ処理系\")\n",
    "import csv\n",
    "import numpy as np\n",
    "import pandas as pd\n",
    "\n",
    "print(\"描画系\")\n",
    "import matplotlib.pyplot as plt\n",
    "import matplotlib.style as mplstyle\n",
    "from matplotlib import rcParams\n",
    "import japanize_matplotlib\n",
    "mplstyle.use('fast')\n",
    "%matplotlib inline\n",
    "import seaborn as sns\n",
    "sns.set()\n",
    "sns.set_style(style='dark')\n",
    "\n",
    "print(\"表示調整系\")\n",
    "from IPython.core.interactiveshell import InteractiveShell\n",
    "InteractiveShell.ast_node_interactivity = \"all\"\n",
    "pd.options.display.float_format = '{:.0f}'.format\n",
    "rcParams['font.family'] = 'sans-serif'\n",
    "rcParams['font.sans-serif'] = ['Hiragino Maru Gothic Pro', 'Yu Gothic', 'Meirio', 'Takao', 'IPAexGothic', 'IPAPGothic', 'Noto Sans CJK JP']\n",
    "plt.rcParams[\"figure.figsize\"] = [20,5]\n",
    "plt.rcParams[\"font.size\"] = 10\n",
    "from IPython.core.display import display, HTML\n",
    "display(HTML(\"<style>.cm-s-ipython span.cm-comment { color: blue; }</style>\"))"
   ]
  },
  {
   "cell_type": "code",
   "execution_count": 2,
   "metadata": {},
   "outputs": [
    {
     "name": "stdout",
     "output_type": "stream",
     "text": [
      "データ取得\n"
     ]
    }
   ],
   "source": [
    "print('データ取得')\n",
    "user_table = pd.read_csv(\"./user_table.csv\")\n",
    "tran_AtoI = pd.read_csv(\"./historical_transactions_AtoI.csv\")\n",
    "tran_X = pd.read_csv(\"./historical_transactions_X.csv\")"
   ]
  },
  {
   "cell_type": "markdown",
   "metadata": {},
   "source": [
    "# 概要把握"
   ]
  },
  {
   "cell_type": "code",
   "execution_count": 3,
   "metadata": {},
   "outputs": [
    {
     "name": "stdout",
     "output_type": "stream",
     "text": [
      "レコード件数比較用の関数\n"
     ]
    }
   ],
   "source": [
    "print('レコード件数比較用の関数')\n",
    "def show_graph(labels, records, color, va):\n",
    "    graph = plt.bar(labels, records, color=color)\n",
    "\n",
    "    def autolabel(graph):\n",
    "        for rect in graph:\n",
    "            labels = rect.get_height()\n",
    "            plt.annotate('{}'.format(labels),\n",
    "                xy=(rect.get_x() + rect.get_width() / 2, labels),\n",
    "                xytext=(0, 4),\n",
    "                textcoords=\"offset points\",\n",
    "                ha='center', va=va)\n",
    "\n",
    "    plt.grid()\n",
    "    autolabel(graph);"
   ]
  },
  {
   "cell_type": "code",
   "execution_count": 4,
   "metadata": {},
   "outputs": [
    {
     "name": "stdout",
     "output_type": "stream",
     "text": [
      "レコード件数をプロット\n"
     ]
    },
    {
     "data": {
      "image/png": "[encoded data removed]",
      "text/plain": [
       "<Figure size 1440x360 with 1 Axes>"
      ]
     },
     "metadata": {},
     "output_type": "display_data"
    }
   ],
   "source": [
    "print('レコード件数をプロット')\n",
    "x1=len(user_table)\n",
    "x2=len(tran_AtoI)\n",
    "x3=len(tran_X)\n",
    "records=[x1,x2,x3]\n",
    "labels=['user_table','tran_AtoI','tran_X']\n",
    "color=['b','g','y']\n",
    "va='bottom'\n",
    "\n",
    "plt.title('各ファイルのレコード数')\n",
    "plt.xlabel('ファイル名')\n",
    "plt.ylabel('レコード数')\n",
    "show_graph(labels, records, color, va);"
   ]
  },
  {
   "cell_type": "code",
   "execution_count": 5,
   "metadata": {},
   "outputs": [
    {
     "data": {
      "text/html": [
       "<div>\n",
       "<style scoped>\n",
       "    .dataframe tbody tr th:only-of-type {\n",
       "        vertical-align: middle;\n",
       "    }\n",
       "\n",
       "    .dataframe tbody tr th {\n",
       "        vertical-align: top;\n",
       "    }\n",
       "\n",
       "    .dataframe thead th {\n",
       "        text-align: right;\n",
       "    }\n",
       "</style>\n",
       "<table border=\"1\" class=\"dataframe\">\n",
       "  <thead>\n",
       "    <tr style=\"text-align: right;\">\n",
       "      <th></th>\n",
       "      <th>user_id</th>\n",
       "      <th>name</th>\n",
       "      <th>nickname</th>\n",
       "      <th>age</th>\n",
       "      <th>country</th>\n",
       "      <th>num_family</th>\n",
       "      <th>married</th>\n",
       "      <th>job</th>\n",
       "      <th>income</th>\n",
       "      <th>profile</th>\n",
       "    </tr>\n",
       "  </thead>\n",
       "  <tbody>\n",
       "    <tr>\n",
       "      <th>0</th>\n",
       "      <td>14742</td>\n",
       "      <td>Richard Chen</td>\n",
       "      <td>kathryn77</td>\n",
       "      <td>20</td>\n",
       "      <td>NaN</td>\n",
       "      <td>1</td>\n",
       "      <td>0</td>\n",
       "      <td>Human resources officer</td>\n",
       "      <td>394</td>\n",
       "      <td>Last sit star physical accept. Actually relate...</td>\n",
       "    </tr>\n",
       "    <tr>\n",
       "      <th>1</th>\n",
       "      <td>21530</td>\n",
       "      <td>Kayla Garcia</td>\n",
       "      <td>brandtalexander</td>\n",
       "      <td>59</td>\n",
       "      <td>Saint Kitts and Nevis</td>\n",
       "      <td>4</td>\n",
       "      <td>0</td>\n",
       "      <td>Teacher, early years/pre</td>\n",
       "      <td>370</td>\n",
       "      <td>Door entire as. Whose suddenly mission hold.\\n...</td>\n",
       "    </tr>\n",
       "    <tr>\n",
       "      <th>2</th>\n",
       "      <td>34985</td>\n",
       "      <td>Troy Blackwell</td>\n",
       "      <td>richardfarmer</td>\n",
       "      <td>44</td>\n",
       "      <td>Iraq</td>\n",
       "      <td>3</td>\n",
       "      <td>2</td>\n",
       "      <td>Forensic psychologist</td>\n",
       "      <td>326</td>\n",
       "      <td>Writer drug a tax. Team standard both write pr...</td>\n",
       "    </tr>\n",
       "    <tr>\n",
       "      <th>3</th>\n",
       "      <td>31854</td>\n",
       "      <td>Suzanne Ray</td>\n",
       "      <td>nicole40</td>\n",
       "      <td>52</td>\n",
       "      <td>Sri Lanka</td>\n",
       "      <td>nan</td>\n",
       "      <td>0</td>\n",
       "      <td>Garment/textile technologist</td>\n",
       "      <td>673</td>\n",
       "      <td>Evidence try next degree man local. Movie sea ...</td>\n",
       "    </tr>\n",
       "    <tr>\n",
       "      <th>4</th>\n",
       "      <td>46689</td>\n",
       "      <td>Susan Horn</td>\n",
       "      <td>heather38</td>\n",
       "      <td>nan</td>\n",
       "      <td>Japan</td>\n",
       "      <td>1</td>\n",
       "      <td>0</td>\n",
       "      <td>Nature conservation officer</td>\n",
       "      <td>306</td>\n",
       "      <td>Voice after assume hard tonight. Recent try ma...</td>\n",
       "    </tr>\n",
       "  </tbody>\n",
       "</table>\n",
       "</div>"
      ],
      "text/plain": [
       "   user_id            name         nickname  age                country  \\\n",
       "0    14742    Richard Chen        kathryn77   20                    NaN   \n",
       "1    21530    Kayla Garcia  brandtalexander   59  Saint Kitts and Nevis   \n",
       "2    34985  Troy Blackwell    richardfarmer   44                   Iraq   \n",
       "3    31854     Suzanne Ray         nicole40   52              Sri Lanka   \n",
       "4    46689      Susan Horn        heather38  nan                  Japan   \n",
       "\n",
       "   num_family  married                           job  income  \\\n",
       "0           1        0       Human resources officer     394   \n",
       "1           4        0      Teacher, early years/pre     370   \n",
       "2           3        2         Forensic psychologist     326   \n",
       "3         nan        0  Garment/textile technologist     673   \n",
       "4           1        0   Nature conservation officer     306   \n",
       "\n",
       "                                             profile  \n",
       "0  Last sit star physical accept. Actually relate...  \n",
       "1  Door entire as. Whose suddenly mission hold.\\n...  \n",
       "2  Writer drug a tax. Team standard both write pr...  \n",
       "3  Evidence try next degree man local. Movie sea ...  \n",
       "4  Voice after assume hard tonight. Recent try ma...  "
      ]
     },
     "execution_count": 5,
     "metadata": {},
     "output_type": "execute_result"
    },
    {
     "data": {
      "text/html": [
       "<div>\n",
       "<style scoped>\n",
       "    .dataframe tbody tr th:only-of-type {\n",
       "        vertical-align: middle;\n",
       "    }\n",
       "\n",
       "    .dataframe tbody tr th {\n",
       "        vertical-align: top;\n",
       "    }\n",
       "\n",
       "    .dataframe thead th {\n",
       "        text-align: right;\n",
       "    }\n",
       "</style>\n",
       "<table border=\"1\" class=\"dataframe\">\n",
       "  <thead>\n",
       "    <tr style=\"text-align: right;\">\n",
       "      <th></th>\n",
       "      <th>user_id</th>\n",
       "      <th>price</th>\n",
       "      <th>num_purchase</th>\n",
       "      <th>item</th>\n",
       "    </tr>\n",
       "  </thead>\n",
       "  <tbody>\n",
       "    <tr>\n",
       "      <th>0</th>\n",
       "      <td>0</td>\n",
       "      <td>867</td>\n",
       "      <td>3</td>\n",
       "      <td>C</td>\n",
       "    </tr>\n",
       "    <tr>\n",
       "      <th>1</th>\n",
       "      <td>0</td>\n",
       "      <td>947</td>\n",
       "      <td>2</td>\n",
       "      <td>F</td>\n",
       "    </tr>\n",
       "    <tr>\n",
       "      <th>2</th>\n",
       "      <td>0</td>\n",
       "      <td>815</td>\n",
       "      <td>2</td>\n",
       "      <td>D</td>\n",
       "    </tr>\n",
       "    <tr>\n",
       "      <th>3</th>\n",
       "      <td>0</td>\n",
       "      <td>867</td>\n",
       "      <td>3</td>\n",
       "      <td>C</td>\n",
       "    </tr>\n",
       "    <tr>\n",
       "      <th>4</th>\n",
       "      <td>1</td>\n",
       "      <td>172</td>\n",
       "      <td>2</td>\n",
       "      <td>B</td>\n",
       "    </tr>\n",
       "  </tbody>\n",
       "</table>\n",
       "</div>"
      ],
      "text/plain": [
       "   user_id  price  num_purchase item\n",
       "0        0    867             3    C\n",
       "1        0    947             2    F\n",
       "2        0    815             2    D\n",
       "3        0    867             3    C\n",
       "4        1    172             2    B"
      ]
     },
     "execution_count": 5,
     "metadata": {},
     "output_type": "execute_result"
    },
    {
     "data": {
      "text/html": [
       "<div>\n",
       "<style scoped>\n",
       "    .dataframe tbody tr th:only-of-type {\n",
       "        vertical-align: middle;\n",
       "    }\n",
       "\n",
       "    .dataframe tbody tr th {\n",
       "        vertical-align: top;\n",
       "    }\n",
       "\n",
       "    .dataframe thead th {\n",
       "        text-align: right;\n",
       "    }\n",
       "</style>\n",
       "<table border=\"1\" class=\"dataframe\">\n",
       "  <thead>\n",
       "    <tr style=\"text-align: right;\">\n",
       "      <th></th>\n",
       "      <th>user_id</th>\n",
       "      <th>price</th>\n",
       "      <th>num_purchase</th>\n",
       "      <th>item</th>\n",
       "    </tr>\n",
       "  </thead>\n",
       "  <tbody>\n",
       "    <tr>\n",
       "      <th>0</th>\n",
       "      <td>1</td>\n",
       "      <td>137</td>\n",
       "      <td>1</td>\n",
       "      <td>X</td>\n",
       "    </tr>\n",
       "    <tr>\n",
       "      <th>1</th>\n",
       "      <td>7</td>\n",
       "      <td>137</td>\n",
       "      <td>1</td>\n",
       "      <td>X</td>\n",
       "    </tr>\n",
       "    <tr>\n",
       "      <th>2</th>\n",
       "      <td>9</td>\n",
       "      <td>137</td>\n",
       "      <td>1</td>\n",
       "      <td>X</td>\n",
       "    </tr>\n",
       "    <tr>\n",
       "      <th>3</th>\n",
       "      <td>19</td>\n",
       "      <td>137</td>\n",
       "      <td>1</td>\n",
       "      <td>X</td>\n",
       "    </tr>\n",
       "    <tr>\n",
       "      <th>4</th>\n",
       "      <td>21</td>\n",
       "      <td>137</td>\n",
       "      <td>1</td>\n",
       "      <td>X</td>\n",
       "    </tr>\n",
       "  </tbody>\n",
       "</table>\n",
       "</div>"
      ],
      "text/plain": [
       "   user_id  price  num_purchase item\n",
       "0        1    137             1    X\n",
       "1        7    137             1    X\n",
       "2        9    137             1    X\n",
       "3       19    137             1    X\n",
       "4       21    137             1    X"
      ]
     },
     "execution_count": 5,
     "metadata": {},
     "output_type": "execute_result"
    }
   ],
   "source": [
    "user_table.head()\n",
    "tran_AtoI.head()\n",
    "tran_X.head()"
   ]
  },
  {
   "cell_type": "markdown",
   "metadata": {},
   "source": [
    "# 欠損値の確認"
   ]
  },
  {
   "cell_type": "code",
   "execution_count": 6,
   "metadata": {},
   "outputs": [
    {
     "data": {
      "text/html": [
       "<div>\n",
       "<style scoped>\n",
       "    .dataframe tbody tr th:only-of-type {\n",
       "        vertical-align: middle;\n",
       "    }\n",
       "\n",
       "    .dataframe tbody tr th {\n",
       "        vertical-align: top;\n",
       "    }\n",
       "\n",
       "    .dataframe thead th {\n",
       "        text-align: right;\n",
       "    }\n",
       "</style>\n",
       "<table border=\"1\" class=\"dataframe\">\n",
       "  <thead>\n",
       "    <tr style=\"text-align: right;\">\n",
       "      <th></th>\n",
       "      <th>user_id</th>\n",
       "      <th>name</th>\n",
       "      <th>nickname</th>\n",
       "      <th>age</th>\n",
       "      <th>country</th>\n",
       "      <th>num_family</th>\n",
       "      <th>married</th>\n",
       "      <th>job</th>\n",
       "      <th>income</th>\n",
       "      <th>profile</th>\n",
       "    </tr>\n",
       "  </thead>\n",
       "  <tbody>\n",
       "    <tr>\n",
       "      <th>0</th>\n",
       "      <td>0</td>\n",
       "      <td>0</td>\n",
       "      <td>0</td>\n",
       "      <td>5131</td>\n",
       "      <td>10148</td>\n",
       "      <td>2570</td>\n",
       "      <td>2456</td>\n",
       "      <td>0</td>\n",
       "      <td>2527</td>\n",
       "      <td>0</td>\n",
       "    </tr>\n",
       "  </tbody>\n",
       "</table>\n",
       "</div>"
      ],
      "text/plain": [
       "   user_id  name  nickname   age  country  num_family  married  job  income  \\\n",
       "0        0     0         0  5131    10148        2570     2456    0    2527   \n",
       "\n",
       "   profile  \n",
       "0        0  "
      ]
     },
     "execution_count": 6,
     "metadata": {},
     "output_type": "execute_result"
    },
    {
     "data": {
      "text/html": [
       "<div>\n",
       "<style scoped>\n",
       "    .dataframe tbody tr th:only-of-type {\n",
       "        vertical-align: middle;\n",
       "    }\n",
       "\n",
       "    .dataframe tbody tr th {\n",
       "        vertical-align: top;\n",
       "    }\n",
       "\n",
       "    .dataframe thead th {\n",
       "        text-align: right;\n",
       "    }\n",
       "</style>\n",
       "<table border=\"1\" class=\"dataframe\">\n",
       "  <thead>\n",
       "    <tr style=\"text-align: right;\">\n",
       "      <th></th>\n",
       "      <th>user_id</th>\n",
       "      <th>price</th>\n",
       "      <th>num_purchase</th>\n",
       "      <th>item</th>\n",
       "    </tr>\n",
       "  </thead>\n",
       "  <tbody>\n",
       "    <tr>\n",
       "      <th>0</th>\n",
       "      <td>0</td>\n",
       "      <td>0</td>\n",
       "      <td>0</td>\n",
       "      <td>0</td>\n",
       "    </tr>\n",
       "  </tbody>\n",
       "</table>\n",
       "</div>"
      ],
      "text/plain": [
       "   user_id  price  num_purchase  item\n",
       "0        0      0             0     0"
      ]
     },
     "execution_count": 6,
     "metadata": {},
     "output_type": "execute_result"
    },
    {
     "data": {
      "text/html": [
       "<div>\n",
       "<style scoped>\n",
       "    .dataframe tbody tr th:only-of-type {\n",
       "        vertical-align: middle;\n",
       "    }\n",
       "\n",
       "    .dataframe tbody tr th {\n",
       "        vertical-align: top;\n",
       "    }\n",
       "\n",
       "    .dataframe thead th {\n",
       "        text-align: right;\n",
       "    }\n",
       "</style>\n",
       "<table border=\"1\" class=\"dataframe\">\n",
       "  <thead>\n",
       "    <tr style=\"text-align: right;\">\n",
       "      <th></th>\n",
       "      <th>user_id</th>\n",
       "      <th>price</th>\n",
       "      <th>num_purchase</th>\n",
       "      <th>item</th>\n",
       "    </tr>\n",
       "  </thead>\n",
       "  <tbody>\n",
       "    <tr>\n",
       "      <th>0</th>\n",
       "      <td>0</td>\n",
       "      <td>0</td>\n",
       "      <td>0</td>\n",
       "      <td>0</td>\n",
       "    </tr>\n",
       "  </tbody>\n",
       "</table>\n",
       "</div>"
      ],
      "text/plain": [
       "   user_id  price  num_purchase  item\n",
       "0        0      0             0     0"
      ]
     },
     "execution_count": 6,
     "metadata": {},
     "output_type": "execute_result"
    }
   ],
   "source": [
    "missing_user_table = pd.DataFrame()\n",
    "# user_table\n",
    "for column in user_table.columns:\n",
    "    missing_user_table[column] = [user_table[user_table[column].isnull()].shape[0]]\n",
    "\n",
    "# historical_transactions_AtoI\n",
    "missing_tran_AtoI = pd.DataFrame()\n",
    "for column in tran_AtoI.columns:\n",
    "    missing_tran_AtoI[column] = [tran_AtoI[tran_AtoI[column].isnull()].shape[0]]\n",
    "\n",
    "# historical_transactions_X\n",
    "missing_tran_X = pd.DataFrame()\n",
    "for column in tran_X.columns:\n",
    "    missing_tran_X[column] = [tran_X[tran_X[column].isnull()].shape[0]]\n",
    "\n",
    "missing_user_table\n",
    "missing_tran_AtoI\n",
    "missing_tran_X"
   ]
  },
  {
   "cell_type": "markdown",
   "metadata": {},
   "source": [
    "# 重複行の確認"
   ]
  },
  {
   "cell_type": "code",
   "execution_count": 7,
   "metadata": {},
   "outputs": [
    {
     "data": {
      "text/html": [
       "<div>\n",
       "<style scoped>\n",
       "    .dataframe tbody tr th:only-of-type {\n",
       "        vertical-align: middle;\n",
       "    }\n",
       "\n",
       "    .dataframe tbody tr th {\n",
       "        vertical-align: top;\n",
       "    }\n",
       "\n",
       "    .dataframe thead th {\n",
       "        text-align: right;\n",
       "    }\n",
       "</style>\n",
       "<table border=\"1\" class=\"dataframe\">\n",
       "  <thead>\n",
       "    <tr style=\"text-align: right;\">\n",
       "      <th></th>\n",
       "      <th>ユーザー</th>\n",
       "      <th>購入履歴１</th>\n",
       "      <th>購入履歴２</th>\n",
       "    </tr>\n",
       "  </thead>\n",
       "  <tbody>\n",
       "    <tr>\n",
       "      <th>0</th>\n",
       "      <td>103</td>\n",
       "      <td>17179</td>\n",
       "      <td>826</td>\n",
       "    </tr>\n",
       "  </tbody>\n",
       "</table>\n",
       "</div>"
      ],
      "text/plain": [
       "   ユーザー  購入履歴１  購入履歴２\n",
       "0   103  17179    826"
      ]
     },
     "execution_count": 7,
     "metadata": {},
     "output_type": "execute_result"
    }
   ],
   "source": [
    "duplicated_check = pd.DataFrame()\n",
    "duplicated_check[\"ユーザー\"] = [user_table[user_table.duplicated()].shape[0]]\n",
    "duplicated_check[\"購入履歴１\"] = [tran_AtoI[tran_AtoI.duplicated()].shape[0]]\n",
    "duplicated_check[\"購入履歴２\"] = [tran_X[tran_X.duplicated()].shape[0]]\n",
    "duplicated_check"
   ]
  },
  {
   "cell_type": "markdown",
   "metadata": {},
   "source": [
    "# ペアワイズ削除法"
   ]
  },
  {
   "cell_type": "code",
   "execution_count": 8,
   "metadata": {},
   "outputs": [
    {
     "data": {
      "text/html": [
       "<div>\n",
       "<style scoped>\n",
       "    .dataframe tbody tr th:only-of-type {\n",
       "        vertical-align: middle;\n",
       "    }\n",
       "\n",
       "    .dataframe tbody tr th {\n",
       "        vertical-align: top;\n",
       "    }\n",
       "\n",
       "    .dataframe thead th {\n",
       "        text-align: right;\n",
       "    }\n",
       "</style>\n",
       "<table border=\"1\" class=\"dataframe\">\n",
       "  <thead>\n",
       "    <tr style=\"text-align: right;\">\n",
       "      <th></th>\n",
       "      <th>項目名</th>\n",
       "      <th>削除前件数</th>\n",
       "      <th>削除後件数</th>\n",
       "    </tr>\n",
       "  </thead>\n",
       "  <tbody>\n",
       "    <tr>\n",
       "      <th>0</th>\n",
       "      <td>user_id</td>\n",
       "      <td>50103</td>\n",
       "      <td>30714</td>\n",
       "    </tr>\n",
       "    <tr>\n",
       "      <th>1</th>\n",
       "      <td>name</td>\n",
       "      <td>50103</td>\n",
       "      <td>30714</td>\n",
       "    </tr>\n",
       "    <tr>\n",
       "      <th>2</th>\n",
       "      <td>nickname</td>\n",
       "      <td>50103</td>\n",
       "      <td>30714</td>\n",
       "    </tr>\n",
       "    <tr>\n",
       "      <th>3</th>\n",
       "      <td>age</td>\n",
       "      <td>44972</td>\n",
       "      <td>30714</td>\n",
       "    </tr>\n",
       "    <tr>\n",
       "      <th>4</th>\n",
       "      <td>country</td>\n",
       "      <td>39955</td>\n",
       "      <td>30714</td>\n",
       "    </tr>\n",
       "    <tr>\n",
       "      <th>5</th>\n",
       "      <td>num_family</td>\n",
       "      <td>47533</td>\n",
       "      <td>30714</td>\n",
       "    </tr>\n",
       "    <tr>\n",
       "      <th>6</th>\n",
       "      <td>married</td>\n",
       "      <td>47647</td>\n",
       "      <td>30714</td>\n",
       "    </tr>\n",
       "    <tr>\n",
       "      <th>7</th>\n",
       "      <td>job</td>\n",
       "      <td>50103</td>\n",
       "      <td>30714</td>\n",
       "    </tr>\n",
       "    <tr>\n",
       "      <th>8</th>\n",
       "      <td>income</td>\n",
       "      <td>47576</td>\n",
       "      <td>30714</td>\n",
       "    </tr>\n",
       "    <tr>\n",
       "      <th>9</th>\n",
       "      <td>profile</td>\n",
       "      <td>50103</td>\n",
       "      <td>30714</td>\n",
       "    </tr>\n",
       "  </tbody>\n",
       "</table>\n",
       "</div>"
      ],
      "text/plain": [
       "          項目名  削除前件数  削除後件数\n",
       "0     user_id  50103  30714\n",
       "1        name  50103  30714\n",
       "2    nickname  50103  30714\n",
       "3         age  44972  30714\n",
       "4     country  39955  30714\n",
       "5  num_family  47533  30714\n",
       "6     married  47647  30714\n",
       "7         job  50103  30714\n",
       "8      income  47576  30714\n",
       "9     profile  50103  30714"
      ]
     },
     "execution_count": 8,
     "metadata": {},
     "output_type": "execute_result"
    }
   ],
   "source": [
    "user_table_drop = user_table.copy()\n",
    "user_table_drop = user_table.dropna()\n",
    "\n",
    "df = pd.DataFrame()\n",
    "df['項目名'] = user_table.columns\n",
    "rows = []\n",
    "rows_drop = []\n",
    "for column in user_table.columns:\n",
    "    rows.append(user_table[column].count())\n",
    "    rows_drop.append(user_table_drop[column].count())\n",
    "\n",
    "df['削除前件数'] = rows\n",
    "df['削除後件数'] = rows_drop\n",
    "\n",
    "df"
   ]
  },
  {
   "cell_type": "markdown",
   "metadata": {},
   "source": [
    "# リストワイズ削除法"
   ]
  },
  {
   "cell_type": "code",
   "execution_count": 9,
   "metadata": {},
   "outputs": [
    {
     "data": {
      "text/html": [
       "<div>\n",
       "<style scoped>\n",
       "    .dataframe tbody tr th:only-of-type {\n",
       "        vertical-align: middle;\n",
       "    }\n",
       "\n",
       "    .dataframe tbody tr th {\n",
       "        vertical-align: top;\n",
       "    }\n",
       "\n",
       "    .dataframe thead th {\n",
       "        text-align: right;\n",
       "    }\n",
       "</style>\n",
       "<table border=\"1\" class=\"dataframe\">\n",
       "  <thead>\n",
       "    <tr style=\"text-align: right;\">\n",
       "      <th></th>\n",
       "      <th>項目名</th>\n",
       "      <th>削除前件数</th>\n",
       "      <th>削除後件数</th>\n",
       "    </tr>\n",
       "  </thead>\n",
       "  <tbody>\n",
       "    <tr>\n",
       "      <th>0</th>\n",
       "      <td>user_id</td>\n",
       "      <td>50103</td>\n",
       "      <td>42940</td>\n",
       "    </tr>\n",
       "    <tr>\n",
       "      <th>1</th>\n",
       "      <td>name</td>\n",
       "      <td>50103</td>\n",
       "      <td>42940</td>\n",
       "    </tr>\n",
       "    <tr>\n",
       "      <th>2</th>\n",
       "      <td>nickname</td>\n",
       "      <td>50103</td>\n",
       "      <td>42940</td>\n",
       "    </tr>\n",
       "    <tr>\n",
       "      <th>3</th>\n",
       "      <td>num_family</td>\n",
       "      <td>47533</td>\n",
       "      <td>42940</td>\n",
       "    </tr>\n",
       "    <tr>\n",
       "      <th>4</th>\n",
       "      <td>married</td>\n",
       "      <td>47647</td>\n",
       "      <td>42940</td>\n",
       "    </tr>\n",
       "    <tr>\n",
       "      <th>5</th>\n",
       "      <td>job</td>\n",
       "      <td>50103</td>\n",
       "      <td>42940</td>\n",
       "    </tr>\n",
       "    <tr>\n",
       "      <th>6</th>\n",
       "      <td>income</td>\n",
       "      <td>47576</td>\n",
       "      <td>42940</td>\n",
       "    </tr>\n",
       "    <tr>\n",
       "      <th>7</th>\n",
       "      <td>profile</td>\n",
       "      <td>50103</td>\n",
       "      <td>42940</td>\n",
       "    </tr>\n",
       "  </tbody>\n",
       "</table>\n",
       "</div>"
      ],
      "text/plain": [
       "          項目名  削除前件数  削除後件数\n",
       "0     user_id  50103  42940\n",
       "1        name  50103  42940\n",
       "2    nickname  50103  42940\n",
       "3  num_family  47533  42940\n",
       "4     married  47647  42940\n",
       "5         job  50103  42940\n",
       "6      income  47576  42940\n",
       "7     profile  50103  42940"
      ]
     },
     "execution_count": 9,
     "metadata": {},
     "output_type": "execute_result"
    }
   ],
   "source": [
    "# ペアワイズ削除法\n",
    "# 欠損値の多い列を削除\n",
    "drop_df = user_table.drop(columns=['age', 'country'])\n",
    "# リストワイズ削除法\n",
    "user_table_drop = drop_df.copy()\n",
    "user_table_drop = drop_df.dropna()\n",
    "\n",
    "df = pd.DataFrame()\n",
    "df['項目名'] = drop_df.columns\n",
    "rows = []\n",
    "rows_drop = []\n",
    "for column in drop_df.columns:\n",
    "    rows.append(drop_df[column].count())\n",
    "    rows_drop.append(user_table_drop[column].count())\n",
    "\n",
    "df['削除前件数'] = rows\n",
    "df['削除後件数'] = rows_drop\n",
    "\n",
    "df"
   ]
  },
  {
   "cell_type": "markdown",
   "metadata": {},
   "source": [
    "# 平均値代入法"
   ]
  },
  {
   "cell_type": "code",
   "execution_count": 32,
   "metadata": {},
   "outputs": [
    {
     "data": {
      "image/png": "[encoded data removed]",
      "text/plain": [
       "<Figure size 1440x360 with 1 Axes>"
      ]
     },
     "metadata": {},
     "output_type": "display_data"
    }
   ],
   "source": [
    "fig,ax=plt.subplots(figsize = (20 , 5))\n",
    "ax.set_ylabel('密度')\n",
    "plt.grid()\n",
    "\n",
    "# 代入前\n",
    "sns.histplot(user_table['income'], label='before', kde=True, bins=50, color='blue')\n",
    "\n",
    "# 平均値代入法\n",
    "user_table_fillna = user_table.copy()\n",
    "user_table_fillna['income'] = user_table['income'].fillna(user_table['income'].mean())\n",
    "\n",
    "# 代入後\n",
    "sns.histplot(user_table_fillna['income'], label='after', kde=True, bins=50, color='red', alpha=0.4);"
   ]
  },
  {
   "cell_type": "code",
   "execution_count": 11,
   "metadata": {},
   "outputs": [
    {
     "data": {
      "text/plain": [
       "Egypt                    8099\n",
       "Japan                    8087\n",
       "Saint Kitts and Nevis    7977\n",
       "Sri Lanka                7955\n",
       "Iraq                     7837\n",
       "Name: country, dtype: int64"
      ]
     },
     "execution_count": 11,
     "metadata": {},
     "output_type": "execute_result"
    },
    {
     "data": {
      "text/plain": [
       "5     7955\n",
       "4     7977\n",
       "3     8087\n",
       "2     7837\n",
       "1     8099\n",
       "0    10148\n",
       "Name: country, dtype: int64"
      ]
     },
     "execution_count": 11,
     "metadata": {},
     "output_type": "execute_result"
    }
   ],
   "source": [
    "# ラベルエンコーディング\n",
    "from sklearn.preprocessing import LabelEncoder\n",
    "\n",
    "user_table['country'].value_counts()\n",
    "\n",
    "le = LabelEncoder()\n",
    "user_table_label = user_table.copy()\n",
    "# 欠損値の補完\n",
    "user_table_label['country'] = user_table_label['country'].fillna('0')\n",
    "user_table_label['country'] = le.fit_transform(user_table_label['country'])\n",
    "user_table_label['country'].value_counts().sort_index(ascending=False)"
   ]
  }
 ],
 "metadata": {
  "kernelspec": {
   "display_name": "Python 3",
   "language": "python",
   "name": "python3"
  },
  "language_info": {
   "codemirror_mode": {
    "name": "ipython",
    "version": 3
   },
   "file_extension": ".py",
   "mimetype": "text/x-python",
   "name": "python",
   "nbconvert_exporter": "python",
   "pygments_lexer": "ipython3",
   "version": "3.8.5"
  },
  "toc": {
   "base_numbering": 1,
   "nav_menu": {},
   "number_sections": true,
   "sideBar": true,
   "skip_h1_title": false,
   "title_cell": "Table of Contents",
   "title_sidebar": "Contents",
   "toc_cell": false,
   "toc_position": {},
   "toc_section_display": true,
   "toc_window_display": true
  }
 },
 "nbformat": 4,
 "nbformat_minor": 1
}