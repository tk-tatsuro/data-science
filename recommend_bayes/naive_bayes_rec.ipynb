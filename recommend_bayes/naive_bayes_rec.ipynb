{
 "cells": [
  {
   "cell_type": "code",
   "execution_count": 1,
   "metadata": {},
   "outputs": [],
   "source": [
    "import numpy as np\n",
    "import pandas as pd\n",
    "from sklearn.model_selection import train_test_split\n",
    "from sklearn.preprocessing import LabelEncoder\n",
    "from sklearn.naive_bayes import GaussianNB\n",
    "from sklearn.metrics import accuracy_score\n",
    "import matplotlib.pyplot as plt\n",
    "%matplotlib inline"
   ]
  },
  {
   "cell_type": "code",
   "execution_count": 2,
   "metadata": {
    "pycharm": {
     "name": "#%%\n"
    }
   },
   "outputs": [
    {
     "name": "stdout",
     "output_type": "stream",
     "text": [
      "(12370, 14)\n",
      "===============\n",
      "<class 'pandas.core.frame.DataFrame'>\n",
      "RangeIndex: 12370 entries, 0 to 12369\n",
      "Data columns (total 14 columns):\n",
      " #   Column         Non-Null Count  Dtype  \n",
      "---  ------         --------------  -----  \n",
      " 0   applicant_id   12370 non-null  int64  \n",
      " 1   job_id         12370 non-null  int64  \n",
      " 2   title          12370 non-null  object \n",
      " 3   position       12370 non-null  object \n",
      " 4   company        11790 non-null  object \n",
      " 5   city           12370 non-null  object \n",
      " 6   state_name     12348 non-null  object \n",
      " 7   state_code     12348 non-null  object \n",
      " 8   industry       2199 non-null   object \n",
      " 9   view_start     12370 non-null  object \n",
      " 10  view_end       10575 non-null  object \n",
      " 11  view_duration  10575 non-null  float64\n",
      " 12  created_at     12370 non-null  object \n",
      " 13  updated_at     12370 non-null  object \n",
      "dtypes: float64(1), int64(2), object(11)\n",
      "memory usage: 1.3+ MB\n",
      "None\n",
      "===============\n",
      "   applicant_id  job_id                                  title  \\\n",
      "0         10000   73666  Cashiers & Valets Needed! @ WallyPark   \n",
      "\n",
      "                    position    company    city  state_name state_code  \\\n",
      "0  Cashiers & Valets Needed!  WallyPark  Newark  New Jersey         NJ   \n",
      "\n",
      "  industry               view_start                 view_end  view_duration  \\\n",
      "0      NaN  2014-12-12 20:12:35 UTC  2014-12-12 20:31:24 UTC         1129.0   \n",
      "\n",
      "                created_at               updated_at  \n",
      "0  2014-12-12 20:12:35 UTC  2014-12-12 20:12:35 UTC  \n"
     ]
    }
   ],
   "source": [
    "df = pd.read_csv(\n",
    "    './Job_Views.csv',\n",
    "   names=[\n",
    "        'applicant_id', 'job_id', 'title', 'position',\n",
    "        'company', 'city', 'state_name', 'state_code',\n",
    "        'industry', 'view_start', 'view_end',\n",
    "        'view_duration', 'created_at', 'updated_at'],\n",
    "   sep=\",\"\n",
    ")\n",
    "# データ確認\n",
    "print(df.shape)\n",
    "print('===============')\n",
    "print(df.info())\n",
    "print('===============')\n",
    "print(df.head(1))"
   ]
  },
  {
   "cell_type": "code",
   "execution_count": 3,
   "metadata": {
    "pycharm": {
     "name": "#%%\n"
    }
   },
   "outputs": [
    {
     "name": "stdout",
     "output_type": "stream",
     "text": [
      "[]\n"
     ]
    }
   ],
   "source": [
    "job_data_null = df.copy()\n",
    "# null項目の検索\n",
    "non_null_list = []\n",
    "for col in df.columns:\n",
    "    non_null = df[col].count()\n",
    "    if non_null == 0:\n",
    "        non_null_list.append(col)\n",
    "print(non_null_list)\n",
    "\n",
    "# 対象なしのため以下の処理は実施不要とする\n",
    "# null項目を除外\n",
    "# job_data_null.drop('null columns', axis=1)"
   ]
  },
  {
   "cell_type": "code",
   "execution_count": 4,
   "metadata": {
    "pycharm": {
     "name": "#%%\n"
    }
   },
   "outputs": [
    {
     "data": {
      "text/plain": [
       "Index(['applicant_id', 'job_id', 'title', 'position', 'company', 'city',\n",
       "       'state_name', 'state_code', 'view_duration'],\n",
       "      dtype='object')"
      ]
     },
     "execution_count": 4,
     "metadata": {},
     "output_type": "execute_result"
    }
   ],
   "source": [
    "job_data_out = job_data_null.copy()\n",
    "# 考慮対象外項目を削除\n",
    "job_data_out = job_data_out.drop('industry', axis=1)\n",
    "job_data_out = job_data_out.drop('view_start', axis=1)\n",
    "job_data_out = job_data_out.drop('view_end', axis=1)\n",
    "job_data_out = job_data_out.drop('created_at', axis=1)\n",
    "job_data_out = job_data_out.drop('updated_at', axis=1)\n",
    "job_data_out.columns"
   ]
  },
  {
   "cell_type": "code",
   "execution_count": 5,
   "metadata": {
    "pycharm": {
     "name": "#%%\n"
    }
   },
   "outputs": [
    {
     "name": "stdout",
     "output_type": "stream",
     "text": [
      "California    2735\n",
      "New York      1081\n",
      "Illinois       929\n",
      "Florida        609\n",
      "Texas          601\n",
      "Name: state_name, dtype: int64\n",
      "===============\n",
      "CA    2735\n",
      "NY    1081\n",
      "IL     929\n",
      "FL     609\n",
      "TX     601\n",
      "Name: state_code, dtype: int64\n",
      "===============\n",
      "['applicant_id' 'job_id' 'title' 'position' 'company' 'city' 'state_code'\n",
      " 'view_duration']\n"
     ]
    }
   ],
   "source": [
    "# 相関性のある項目の確認\n",
    "print(job_data_out['state_name'].value_counts().head())\n",
    "print('===============')\n",
    "print(job_data_out['state_code'].value_counts().head())\n",
    "print('===============')\n",
    "\n",
    "job_data_relation = job_data_out.copy()\n",
    "# 相関性の高い項目の除外\n",
    "job_data_relation = job_data_relation.drop('state_name', axis=1)\n",
    "print(job_data_relation.columns.values)"
   ]
  },
  {
   "cell_type": "code",
   "execution_count": 6,
   "metadata": {
    "pycharm": {
     "name": "#%%\n"
    }
   },
   "outputs": [
    {
     "data": {
      "text/html": [
       "<div>\n",
       "<style scoped>\n",
       "    .dataframe tbody tr th:only-of-type {\n",
       "        vertical-align: middle;\n",
       "    }\n",
       "\n",
       "    .dataframe tbody tr th {\n",
       "        vertical-align: top;\n",
       "    }\n",
       "\n",
       "    .dataframe thead th {\n",
       "        text-align: right;\n",
       "    }\n",
       "</style>\n",
       "<table border=\"1\" class=\"dataframe\">\n",
       "  <thead>\n",
       "    <tr style=\"text-align: right;\">\n",
       "      <th></th>\n",
       "      <th>applicant_id</th>\n",
       "      <th>job_id</th>\n",
       "      <th>title</th>\n",
       "      <th>position</th>\n",
       "      <th>company</th>\n",
       "      <th>city</th>\n",
       "      <th>state_code</th>\n",
       "      <th>view_duration</th>\n",
       "    </tr>\n",
       "  </thead>\n",
       "  <tbody>\n",
       "    <tr>\n",
       "      <th>count</th>\n",
       "      <td>12370</td>\n",
       "      <td>12370</td>\n",
       "      <td>12370</td>\n",
       "      <td>12370</td>\n",
       "      <td>12370</td>\n",
       "      <td>12370</td>\n",
       "      <td>12370</td>\n",
       "      <td>12370</td>\n",
       "    </tr>\n",
       "    <tr>\n",
       "      <th>unique</th>\n",
       "      <td>3448</td>\n",
       "      <td>7047</td>\n",
       "      <td>4518</td>\n",
       "      <td>4059</td>\n",
       "      <td>2056</td>\n",
       "      <td>1632</td>\n",
       "      <td>50</td>\n",
       "      <td>1176</td>\n",
       "    </tr>\n",
       "    <tr>\n",
       "      <th>top</th>\n",
       "      <td>601</td>\n",
       "      <td>221890</td>\n",
       "      <td>Package Handler - Part-Time @ UPS</td>\n",
       "      <td>Administrative Assistant</td>\n",
       "      <td>OfficeTeam</td>\n",
       "      <td>Los Angeles</td>\n",
       "      <td>CA</td>\n",
       "      <td>nan</td>\n",
       "    </tr>\n",
       "    <tr>\n",
       "      <th>freq</th>\n",
       "      <td>75</td>\n",
       "      <td>114</td>\n",
       "      <td>200</td>\n",
       "      <td>330</td>\n",
       "      <td>1039</td>\n",
       "      <td>441</td>\n",
       "      <td>2735</td>\n",
       "      <td>1795</td>\n",
       "    </tr>\n",
       "  </tbody>\n",
       "</table>\n",
       "</div>"
      ],
      "text/plain": [
       "       applicant_id  job_id                              title  \\\n",
       "count         12370   12370                              12370   \n",
       "unique         3448    7047                               4518   \n",
       "top             601  221890  Package Handler - Part-Time @ UPS   \n",
       "freq             75     114                                200   \n",
       "\n",
       "                        position     company         city state_code  \\\n",
       "count                      12370       12370        12370      12370   \n",
       "unique                      4059        2056         1632         50   \n",
       "top     Administrative Assistant  OfficeTeam  Los Angeles         CA   \n",
       "freq                         330        1039          441       2735   \n",
       "\n",
       "       view_duration  \n",
       "count          12370  \n",
       "unique          1176  \n",
       "top              nan  \n",
       "freq            1795  "
      ]
     },
     "execution_count": 6,
     "metadata": {},
     "output_type": "execute_result"
    }
   ],
   "source": [
    "# 統計量の確認\n",
    "job_data_relation.astype('str').describe()"
   ]
  },
  {
   "cell_type": "code",
   "execution_count": 7,
   "metadata": {
    "pycharm": {
     "name": "#%%\n"
    }
   },
   "outputs": [],
   "source": [
    "# 対象なしのため以下の処理は実施不要とする\n",
    "# カラム値が同一の項目の除外\n",
    "# job_data.drop('non', axis=1)"
   ]
  },
  {
   "cell_type": "code",
   "execution_count": 8,
   "metadata": {
    "pycharm": {
     "name": "#%%\n"
    }
   },
   "outputs": [
    {
     "data": {
      "text/plain": [
       "0        NJ\n",
       "1        NY\n",
       "2        WA\n",
       "3        SC\n",
       "4        SC\n",
       "         ..\n",
       "12365    CA\n",
       "12366    CA\n",
       "12367    CA\n",
       "12368    CA\n",
       "12369    CA\n",
       "Name: state_code, Length: 12370, dtype: object"
      ]
     },
     "execution_count": 8,
     "metadata": {},
     "output_type": "execute_result"
    }
   ],
   "source": [
    "job_data_mold = job_data_relation.copy()\n",
    "# 型変換\n",
    "job_data_mold['company'].replace().astype(str) # str型に変換\n",
    "job_data_mold['city'].replace().astype(str) # str型に変換\n",
    "job_data_mold['state_code'].replace().astype(str) # str型に変換\n",
    "# job_data_mold.info()"
   ]
  },
  {
   "cell_type": "code",
   "execution_count": 9,
   "metadata": {
    "pycharm": {
     "name": "#%%\n"
    }
   },
   "outputs": [
    {
     "name": "stdout",
     "output_type": "stream",
     "text": [
      "applicant_id        0\n",
      "job_id              0\n",
      "title               0\n",
      "position            0\n",
      "company           580\n",
      "city                0\n",
      "state_code         22\n",
      "view_duration    1795\n",
      "dtype: int64\n",
      "===============\n",
      "＜欠損値処理結果＞\n",
      "applicant_id     0\n",
      "job_id           0\n",
      "title            0\n",
      "position         0\n",
      "company          0\n",
      "city             0\n",
      "state_code       0\n",
      "view_duration    0\n",
      "dtype: int64\n",
      "===============\n"
     ]
    },
    {
     "data": {
      "text/html": [
       "<div>\n",
       "<style scoped>\n",
       "    .dataframe tbody tr th:only-of-type {\n",
       "        vertical-align: middle;\n",
       "    }\n",
       "\n",
       "    .dataframe tbody tr th {\n",
       "        vertical-align: top;\n",
       "    }\n",
       "\n",
       "    .dataframe thead th {\n",
       "        text-align: right;\n",
       "    }\n",
       "</style>\n",
       "<table border=\"1\" class=\"dataframe\">\n",
       "  <thead>\n",
       "    <tr style=\"text-align: right;\">\n",
       "      <th></th>\n",
       "      <th>applicant_id</th>\n",
       "      <th>job_id</th>\n",
       "      <th>title</th>\n",
       "      <th>position</th>\n",
       "      <th>company</th>\n",
       "      <th>city</th>\n",
       "      <th>state_code</th>\n",
       "      <th>view_duration</th>\n",
       "    </tr>\n",
       "  </thead>\n",
       "  <tbody>\n",
       "    <tr>\n",
       "      <th>0</th>\n",
       "      <td>10000</td>\n",
       "      <td>73666</td>\n",
       "      <td>651</td>\n",
       "      <td>580</td>\n",
       "      <td>1971</td>\n",
       "      <td>983</td>\n",
       "      <td>30</td>\n",
       "      <td>1129.0</td>\n",
       "    </tr>\n",
       "  </tbody>\n",
       "</table>\n",
       "</div>"
      ],
      "text/plain": [
       "   applicant_id  job_id  title  position  company  city  state_code  \\\n",
       "0         10000   73666    651       580     1971   983          30   \n",
       "\n",
       "   view_duration  \n",
       "0         1129.0  "
      ]
     },
     "execution_count": 9,
     "metadata": {},
     "output_type": "execute_result"
    }
   ],
   "source": [
    "job_data_lost = job_data_mold.copy()\n",
    "# カテゴリ変数の欠損値処理\n",
    "print(job_data_lost.isnull().sum())\n",
    "print('===============')\n",
    "job_data_lost['company'] = job_data_lost['company'].fillna('other')\n",
    "job_data_lost.dropna(subset = ['state_code'], inplace = True) # nanの行のみ削除\n",
    "job_data_lost['view_duration'] = job_data_lost['view_duration'].fillna(0)\n",
    "print('＜欠損値処理結果＞')\n",
    "print(job_data_lost.isnull().sum())\n",
    "print('===============')"
   ]
  },
  {
   "cell_type": "code",
   "execution_count": null,
   "metadata": {},
   "outputs": [],
   "source": [
    "# カテゴリ変数処理\n",
    "#ラベル・エンコーディング\n",
    "# title, position, company, city, state_code\n",
    "le = LabelEncoder()\n",
    "data = ['title', 'position', 'company', 'city', 'state_code']\n",
    "job_data_lost[data[0]] = le.fit_transform(job_data_lost[data[0]].values)\n",
    "job_data_lost[data[1]] = le.fit_transform(job_data_lost[data[1]].values)\n",
    "job_data_lost[data[2]] = le.fit_transform(job_data_lost[data[2]].values)\n",
    "job_data_lost[data[3]] = le.fit_transform(job_data_lost[data[3]].values)\n",
    "job_data_lost[data[4]] = le.fit_transform(job_data_lost[data[4]].values)\n",
    "job_data_lost.head(1)"
   ]
  },
  {
   "cell_type": "code",
   "execution_count": 10,
   "metadata": {},
   "outputs": [],
   "source": [
    "job_data_time = job_data_lost.copy()\n",
    "# タイムゾーン（JST/UTC）変換\n",
    "# job_data_time['view_start'] = pd.to_datetime(job_data_time['view_start'], utc=False)\n",
    "# job_data_time['view_start'] = job_data_time['view_start'].astype('datetime64[ns]')\n",
    "# job_data_time['view_start'] = job_data_time['view_start'].astype('int')\n",
    "\n",
    "# job_data_time['view_end'] = pd.to_datetime(job_data_time['view_end'], utc=False)\n",
    "# job_data_time['view_end'] = job_data_time['view_end'].astype('datetime64[ns]')\n",
    "# job_data_time['view_end'] = job_data_time['view_end'].fillna(np.min(job_data_time['view_end']))\n",
    "# job_data_time['view_end'] = job_data_time['view_end'].astype('int')\n",
    "\n",
    "# print(job_data_time.isnull().sum())"
   ]
  },
  {
   "cell_type": "code",
   "execution_count": 11,
   "metadata": {
    "pycharm": {
     "name": "#%%\n"
    }
   },
   "outputs": [],
   "source": [
    "# 型変換\n",
    "data = ['title', 'position', 'company', 'city', 'state_code', 'view_duration']\n",
    "job_data_time[data[0]] = job_data_time[data[0]].replace().astype(int)\n",
    "job_data_time[data[1]] = job_data_time[data[1]].replace().astype(int)\n",
    "job_data_time[data[2]] = job_data_time[data[2]].replace().astype(int)\n",
    "job_data_time[data[3]] = job_data_time[data[3]].replace().astype(int)\n",
    "job_data_time[data[4]] = job_data_time[data[4]].replace().astype(int)\n",
    "job_data_time[data[5]] = job_data_time[data[5]].replace().astype(int)"
   ]
  },
  {
   "cell_type": "code",
   "execution_count": 12,
   "metadata": {},
   "outputs": [
    {
     "name": "stdout",
     "output_type": "stream",
     "text": [
      "Index(['applicant_id', 'job_id', 'title', 'position', 'company', 'city',\n",
      "       'state_code', 'view_duration'],\n",
      "      dtype='object')\n"
     ]
    },
    {
     "data": {
      "text/plain": [
       "<matplotlib.collections.PathCollection at 0x7fc8ca7a8d00>"
      ]
     },
     "execution_count": 12,
     "metadata": {},
     "output_type": "execute_result"
    },
    {
     "data": {
      "image/png": "[encoded data removed]",
      "text/plain": [
       "<Figure size 432x288 with 1 Axes>"
      ]
     },
     "metadata": {
      "needs_background": "light"
     },
     "output_type": "display_data"
    }
   ],
   "source": [
    "# 外れ値検出\n",
    "data = job_data_time.values\n",
    "job_data_time.shape\n",
    "print(job_data_time.columns)\n",
    "x = data[:, 0]\n",
    "y = data[:, 7]\n",
    "plt.scatter(x, y)"
   ]
  },
  {
   "cell_type": "code",
   "execution_count": 13,
   "metadata": {},
   "outputs": [
    {
     "name": "stdout",
     "output_type": "stream",
     "text": [
      "count     12348\n",
      "unique     1170\n",
      "top           0\n",
      "freq       2003\n",
      "Name: view_duration, dtype: object\n",
      "============\n",
      "9060      880522\n",
      "10058     933748\n",
      "3110     1191657\n",
      "6374     1711965\n",
      "9042     2984851\n",
      "9044     3248075\n",
      "Name: view_duration, dtype: int64\n",
      "============\n",
      "[2984851, 3248075]\n"
     ]
    }
   ],
   "source": [
    "# 外れ値除去\n",
    "job_data_outlier = job_data_time.copy()\n",
    "\n",
    "print(job_data_outlier['view_duration'].astype('str').describe())\n",
    "print('============')\n",
    "print(job_data_outlier.sort_values('view_duration')['view_duration'].tail(6))\n",
    "print('============')\n",
    "\n",
    "outliers_list = []\n",
    "for column in job_data_outlier.columns:\n",
    "        outlier = job_data_outlier[column]\n",
    "for num in outlier:\n",
    "        if num > 2800000.0:\n",
    "            outliers_list.append(num)\n",
    "print(outliers_list)"
   ]
  },
  {
   "cell_type": "code",
   "execution_count": 14,
   "metadata": {},
   "outputs": [
    {
     "name": "stdout",
     "output_type": "stream",
     "text": [
      "(12348, 8)\n",
      "============\n",
      "(12347, 8)\n"
     ]
    }
   ],
   "source": [
    "job_data_outlier = job_data_time.copy()\n",
    "#条件にマッチしたIndexを削除\n",
    "drop_index = job_data_outlier.index[job_data_outlier['view_duration'] > 2900000]\n",
    "job_data_outlier = job_data_outlier.drop(drop_index)\n",
    "\n",
    "print(job_data_time.shape)\n",
    "print('============')\n",
    "print(job_data_outlier.shape)"
   ]
  },
  {
   "cell_type": "code",
   "execution_count": 15,
   "metadata": {
    "pycharm": {
     "name": "#%%\n"
    }
   },
   "outputs": [
    {
     "name": "stdout",
     "output_type": "stream",
     "text": [
      "(9878, 8)\n",
      "(2470, 8)\n",
      "=======================\n",
      "(9878, 7)\n",
      "(9878,)\n",
      "=======================\n",
      "(2470, 7)\n",
      "(2470,)\n"
     ]
    }
   ],
   "source": [
    "# 学習データとテストデータに分割\n",
    "train_set, test_set = train_test_split(job_data_time, test_size=0.2, random_state=1)\n",
    "print(train_set.shape)\n",
    "print(test_set.shape)\n",
    "print('=======================')\n",
    "\n",
    "# 説明変数と目的変数に分割\n",
    "#　学習データを説明変数データと目的変数データに分割\n",
    "train_X = train_set.drop('job_id', axis=1)\n",
    "train_y = train_set['job_id']\n",
    "print(train_X.shape)\n",
    "print(train_y.shape)\n",
    "print('=======================')\n",
    "\n",
    "#　テスト用データを説明変数データと目的変数データに分割\n",
    "test_X = test_set.drop('job_id', axis=1)\n",
    "test_y = test_set['job_id']\n",
    "print(test_X.shape)\n",
    "print(test_y.shape)"
   ]
  },
  {
   "cell_type": "code",
   "execution_count": 16,
   "metadata": {
    "pycharm": {
     "name": "#%%\n"
    }
   },
   "outputs": [
    {
     "data": {
      "text/plain": [
       "GaussianNB()"
      ]
     },
     "execution_count": 16,
     "metadata": {},
     "output_type": "execute_result"
    }
   ],
   "source": [
    "# 学習\n",
    "model = GaussianNB()\n",
    "model.fit(train_X, train_y)"
   ]
  },
  {
   "cell_type": "code",
   "execution_count": 17,
   "metadata": {
    "pycharm": {
     "name": "#%%\n"
    }
   },
   "outputs": [
    {
     "name": "stdout",
     "output_type": "stream",
     "text": [
      "[ 97544  73957 221890 ... 134292  79848 235787]\n"
     ]
    }
   ],
   "source": [
    "# 機械学習モデルmodelに対する出力結果\n",
    "pred = model.predict(test_X)\n",
    "print(pred)"
   ]
  },
  {
   "cell_type": "code",
   "execution_count": null,
   "outputs": [],
   "source": [
    "# 適合率算出\n",
    "print(accuracy_score(pred, test_y))"
   ],
   "metadata": {
    "collapsed": false,
    "pycharm": {
     "name": "#%%\n"
    }
   }
  },
  {
   "cell_type": "code",
   "execution_count": 19,
   "metadata": {
    "pycharm": {
     "name": "#%%\n"
    }
   },
   "outputs": [
    {
     "name": "stdout",
     "output_type": "stream",
     "text": [
      "[8718, 8709, 8639, 8659, 8648, 2181, 8427, 6025, 8463, 8426]\n"
     ]
    }
   ],
   "source": [
    "# job_idとの紐づけ\n",
    "pred_jobs = pd.Series(pred, index = test_X.index)\n",
    "\n",
    "# 指定のjob_idとの関連の高い順にソート\n",
    "jobs = pred_jobs.sort_values(ascending=False).index\n",
    "\n",
    "# 上位10件を出力\n",
    "output = list(jobs)[:10]\n",
    "print(output)"
   ]
  }
 ],
 "metadata": {
  "kernelspec": {
   "display_name": "Python 3",
   "language": "python",
   "name": "python3"
  },
  "language_info": {
   "codemirror_mode": {
    "name": "ipython",
    "version": 3
   },
   "file_extension": ".py",
   "mimetype": "text/x-python",
   "name": "python",
   "nbconvert_exporter": "python",
   "pygments_lexer": "ipython3",
   "version": "3.8.5"
  }
 },
 "nbformat": 4,
 "nbformat_minor": 1
}