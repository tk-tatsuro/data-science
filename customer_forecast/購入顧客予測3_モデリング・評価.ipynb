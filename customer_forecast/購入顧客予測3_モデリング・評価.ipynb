{
 "cells": [
  {
   "cell_type": "markdown",
   "metadata": {
    "collapsed": true
   },
   "source": [
    "目次  \n",
    "1.前準備   \n",
    "  \n",
    "2.モデルの訓練  \n",
    "2.1.アンダー・サンプリング  \n",
    "2.2.パイプライン作成  \n",
    "2.3.ランダムフォレスト  \n",
    "2.4.決定木  \n",
    "2.5.K近傍法（分類・回帰）  \n",
    "2.6.ロジスティック回帰  \n",
    "2.7.サポートベクトルマシン  \n",
    "2.8.パーセプトロン  \n",
    "2.9.確率的勾配降下法  \n",
    "2.10.ナイーブベイズ分類器  \n",
    "2.11.XGBoost  \n",
    "2.12.交差検証（KFold, StratifiedKFold） XGBoost  \n",
    "2.13.交差検証（KFold, StratifiedKFold） K近傍法（分類・回帰）  \n",
    "  \n",
    "3.評価  \n",
    "3.1.正解率、適合率、再現率、F値  \n",
    "3.2.重要度  \n",
    "3.3.学習曲線  \n",
    "3.4.AUC  \n",
    "3.5.特徴量の再精査  \n",
    "  \n",
    "4.パラメータ・チューニング  \n",
    "5.再学習  \n",
    "6.再パラメータ・チューニング  \n",
    "7.アンサンブル（スタッキング）  "
   ]
  },
  {
   "cell_type": "markdown",
   "metadata": {},
   "source": [
    "# 前準備"
   ]
  },
  {
   "cell_type": "markdown",
   "metadata": {},
   "source": [
    "## Jupyter notebook の表示調整"
   ]
  },
  {
   "cell_type": "code",
   "execution_count": 1,
   "metadata": {},
   "outputs": [
    {
     "data": {
      "application/vnd.jupyter.widget-view+json": {
       "model_id": "f198c7039a1d456688f1ab3f5758dd41",
       "version_major": 2,
       "version_minor": 0
      },
      "text/plain": [
       "Button(description='Refresh', style=ButtonStyle())"
      ]
     },
     "metadata": {},
     "output_type": "display_data"
    }
   ],
   "source": [
    "from IPython.display import HTML\n",
    "HTML('''<script>  function code_toggle() {\n",
    "    if (code_shown){\n",
    "      $('div.input').hide('500');\n",
    "      $('#toggleButton').val('Show code')\n",
    "    } else {\n",
    "      $('div.input').show('500');\n",
    "      $('#toggleButton').val('Hide code')\n",
    "    }\n",
    "    code_shown= !code_shown\n",
    "  }\n",
    "  $( document ).ready(function(){\n",
    "    code_shown=false;\n",
    "    $('div.input').hide()\n",
    "  });\n",
    "</script><form action=\"javascript:code_toggle()\"><input type=\"submit\" id=\"toggleButton\" value=\"Show code\"></form>''')\n",
    "from IPython.display import Javascript, display\n",
    "from ipywidgets import widgets\n",
    "def run_all(ev):\n",
    "    display(Javascript('IPython.notebook.execute_cells_below()'))\n",
    "button= widgets.Button(description=\"Refresh\")\n",
    "button.on_click(run_all)\n",
    "display(button)"
   ]
  },
  {
   "cell_type": "markdown",
   "metadata": {},
   "source": [
    "## ライブラリ・インポート、初期セットアップ"
   ]
  },
  {
   "cell_type": "code",
   "execution_count": 2,
   "metadata": {
    "pycharm": {
     "is_executing": true
    }
   },
   "outputs": [
    {
     "name": "stdout",
     "output_type": "stream",
     "text": [
      "ライブラリ群\n",
      "データ処理系\n",
      "データ準備\n",
      "アルゴリズム\n",
      "評価\n",
      "パラメーター・チューニング\n",
      "アンサンブル\n",
      "描画系\n",
      "表示調整系\n"
     ]
    },
    {
     "data": {
      "text/html": [
       "<style>.cm-s-ipython span.cm-comment { color: blue; }</style>"
      ],
      "text/plain": [
       "<IPython.core.display.HTML object>"
      ]
     },
     "metadata": {},
     "output_type": "display_data"
    }
   ],
   "source": [
    "print(\"ライブラリ群\")\n",
    "print(\"データ処理系\")\n",
    "import csv\n",
    "import numpy as np\n",
    "import pandas as pd\n",
    "from sklearn import metrics\n",
    "\n",
    "print(\"データ準備\")\n",
    "from sklearn.model_selection import train_test_split # データ分割\n",
    "from sklearn.preprocessing import StandardScaler # 標準化\n",
    "from imblearn.under_sampling import RandomUnderSampler # アンダーサンプリング\n",
    "\n",
    "print(\"アルゴリズム\")\n",
    "from sklearn.ensemble import RandomForestClassifier # ランダムフォレスト\n",
    "from sklearn.tree import DecisionTreeClassifier # 決定木\n",
    "from sklearn.neighbors import KNeighborsClassifier # K近傍法（分類）\n",
    "from sklearn.neighbors import KNeighborsRegressor # K近傍法（回帰）\n",
    "from sklearn.linear_model import LogisticRegression # ロジスティック回帰\n",
    "from sklearn.svm import SVC # サポートベクトルマシン\n",
    "from sklearn.linear_model import Perceptron # パーセプトロン\n",
    "from sklearn.linear_model import SGDClassifier # 確率的勾配降下法\n",
    "from sklearn.naive_bayes import GaussianNB # ナイーブベイズ分類器\n",
    "import xgboost as xgb # XGBoost\n",
    "\n",
    "print(\"評価\")\n",
    "from sklearn.metrics import confusion_matrix # 混同行列\n",
    "from sklearn.model_selection import learning_curve # 学習曲線\n",
    "from sklearn.metrics import accuracy_score, recall_score, precision_score, f1_score, log_loss\n",
    "from sklearn.model_selection import KFold\n",
    "from sklearn.model_selection import StratifiedKFold\n",
    "\n",
    "print(\"パラメーター・チューニング\")\n",
    "import scipy.stats\n",
    "from sklearn.model_selection import GridSearchCV\n",
    "from sklearn.model_selection import RandomizedSearchCV\n",
    "\n",
    "print(\"アンサンブル\")\n",
    "from xgboost.sklearn import XGBClassifier\n",
    "from sklearn import model_selection\n",
    "from sklearn.model_selection import cross_val_score\n",
    "from sklearn.ensemble import StackingClassifier\n",
    "\n",
    "print(\"描画系\")\n",
    "import matplotlib.pyplot as plt\n",
    "import matplotlib.style as mplstyle\n",
    "from matplotlib import rcParams\n",
    "import japanize_matplotlib\n",
    "mplstyle.use('fast')\n",
    "%matplotlib inline\n",
    "import seaborn as sns\n",
    "sns.set()\n",
    "sns.set_style(style='dark')\n",
    "\n",
    "print(\"表示調整系\")\n",
    "from IPython.core.interactiveshell import InteractiveShell\n",
    "InteractiveShell.ast_node_interactivity = \"all\" \n",
    "pd.options.display.float_format = '{:.0f}'.format\n",
    "rcParams['font.family'] = 'sans-serif'\n",
    "rcParams['font.sans-serif'] = ['Hiragino Maru Gothic Pro', 'Yu Gothic', 'Meirio', 'Takao', 'IPAexGothic', 'IPAPGothic', 'Noto Sans CJK JP']\n",
    "plt.rcParams[\"figure.figsize\"] = [20,5]\n",
    "plt.rcParams[\"font.size\"] = 10\n",
    "from IPython.core.display import display, HTML\n",
    "display(HTML(\"<style>.cm-s-ipython span.cm-comment { color: blue; }</style>\"))\n",
    "from tqdm import tqdm # プログレスバー表示用"
   ]
  },
  {
   "cell_type": "code",
   "execution_count": 3,
   "metadata": {
    "pycharm": {
     "is_executing": true
    }
   },
   "outputs": [
    {
     "name": "stdout",
     "output_type": "stream",
     "text": [
      "データ取得\n"
     ]
    },
    {
     "name": "stderr",
     "output_type": "stream",
     "text": [
      "100%|██████████| 394882/394882 [00:05<00:00, 74758.99it/s]\n"
     ]
    },
    {
     "name": "stdout",
     "output_type": "stream",
     "text": [
      "時間項目を4桁の固定長に変換\n",
      "対象項目\n"
     ]
    },
    {
     "data": {
      "text/html": [
       "<div>\n",
       "<style scoped>\n",
       "    .dataframe tbody tr th:only-of-type {\n",
       "        vertical-align: middle;\n",
       "    }\n",
       "\n",
       "    .dataframe tbody tr th {\n",
       "        vertical-align: top;\n",
       "    }\n",
       "\n",
       "    .dataframe thead th {\n",
       "        text-align: right;\n",
       "    }\n",
       "</style>\n",
       "<table border=\"1\" class=\"dataframe\">\n",
       "  <thead>\n",
       "    <tr style=\"text-align: right;\">\n",
       "      <th></th>\n",
       "      <th>購入フラグ</th>\n",
       "      <th>顧客コード</th>\n",
       "      <th>性別</th>\n",
       "      <th>誕生日</th>\n",
       "      <th>年齢</th>\n",
       "      <th>年齢グループ</th>\n",
       "      <th>郵便番号</th>\n",
       "      <th>都道府県</th>\n",
       "      <th>市区町村</th>\n",
       "      <th>都道府県フラグ</th>\n",
       "      <th>...</th>\n",
       "      <th>レジNo.3</th>\n",
       "      <th>レジNo.4</th>\n",
       "      <th>レジNo.5</th>\n",
       "      <th>Monday</th>\n",
       "      <th>Tuesday</th>\n",
       "      <th>Wednesday</th>\n",
       "      <th>Thursday</th>\n",
       "      <th>Friday</th>\n",
       "      <th>Saturday</th>\n",
       "      <th>Sunday</th>\n",
       "    </tr>\n",
       "  </thead>\n",
       "  <tbody>\n",
       "    <tr>\n",
       "      <th>0</th>\n",
       "      <td>0</td>\n",
       "      <td>10506982644</td>\n",
       "      <td>1</td>\n",
       "      <td>1942</td>\n",
       "      <td>78</td>\n",
       "      <td>1</td>\n",
       "      <td>7808015</td>\n",
       "      <td>19</td>\n",
       "      <td>90</td>\n",
       "      <td>1</td>\n",
       "      <td>...</td>\n",
       "      <td>1</td>\n",
       "      <td>0</td>\n",
       "      <td>0</td>\n",
       "      <td>1</td>\n",
       "      <td>0</td>\n",
       "      <td>0</td>\n",
       "      <td>0</td>\n",
       "      <td>0</td>\n",
       "      <td>0</td>\n",
       "      <td>0</td>\n",
       "    </tr>\n",
       "    <tr>\n",
       "      <th>1</th>\n",
       "      <td>0</td>\n",
       "      <td>10506982644</td>\n",
       "      <td>1</td>\n",
       "      <td>1942</td>\n",
       "      <td>78</td>\n",
       "      <td>1</td>\n",
       "      <td>7808015</td>\n",
       "      <td>19</td>\n",
       "      <td>90</td>\n",
       "      <td>1</td>\n",
       "      <td>...</td>\n",
       "      <td>1</td>\n",
       "      <td>0</td>\n",
       "      <td>0</td>\n",
       "      <td>1</td>\n",
       "      <td>0</td>\n",
       "      <td>0</td>\n",
       "      <td>0</td>\n",
       "      <td>0</td>\n",
       "      <td>0</td>\n",
       "      <td>0</td>\n",
       "    </tr>\n",
       "  </tbody>\n",
       "</table>\n",
       "<p>2 rows × 41 columns</p>\n",
       "</div>"
      ],
      "text/plain": [
       "   購入フラグ        顧客コード  性別  誕生日  年齢  年齢グループ     郵便番号  都道府県  市区町村  都道府県フラグ  ...  \\\n",
       "0      0  10506982644   1 1942  78       1  7808015    19    90        1  ...   \n",
       "1      0  10506982644   1 1942  78       1  7808015    19    90        1  ...   \n",
       "\n",
       "   レジNo.3  レジNo.4  レジNo.5  Monday  Tuesday  Wednesday Thursday  Friday  \\\n",
       "0       1       0       0       1        0          0        0       0   \n",
       "1       1       0       0       1        0          0        0       0   \n",
       "\n",
       "   Saturday  Sunday  \n",
       "0         0       0  \n",
       "1         0       0  \n",
       "\n",
       "[2 rows x 41 columns]"
      ]
     },
     "execution_count": 3,
     "metadata": {},
     "output_type": "execute_result"
    },
    {
     "data": {
      "text/html": [
       "<div>\n",
       "<style scoped>\n",
       "    .dataframe tbody tr th:only-of-type {\n",
       "        vertical-align: middle;\n",
       "    }\n",
       "\n",
       "    .dataframe tbody tr th {\n",
       "        vertical-align: top;\n",
       "    }\n",
       "\n",
       "    .dataframe thead th {\n",
       "        text-align: right;\n",
       "    }\n",
       "</style>\n",
       "<table border=\"1\" class=\"dataframe\">\n",
       "  <thead>\n",
       "    <tr style=\"text-align: right;\">\n",
       "      <th></th>\n",
       "      <th>カラム名</th>\n",
       "    </tr>\n",
       "  </thead>\n",
       "  <tbody>\n",
       "    <tr>\n",
       "      <th>0</th>\n",
       "      <td>購入フラグ</td>\n",
       "    </tr>\n",
       "    <tr>\n",
       "      <th>1</th>\n",
       "      <td>顧客コード</td>\n",
       "    </tr>\n",
       "    <tr>\n",
       "      <th>2</th>\n",
       "      <td>性別</td>\n",
       "    </tr>\n",
       "    <tr>\n",
       "      <th>3</th>\n",
       "      <td>誕生日</td>\n",
       "    </tr>\n",
       "    <tr>\n",
       "      <th>4</th>\n",
       "      <td>年齢</td>\n",
       "    </tr>\n",
       "    <tr>\n",
       "      <th>5</th>\n",
       "      <td>年齢グループ</td>\n",
       "    </tr>\n",
       "    <tr>\n",
       "      <th>6</th>\n",
       "      <td>郵便番号</td>\n",
       "    </tr>\n",
       "    <tr>\n",
       "      <th>7</th>\n",
       "      <td>都道府県</td>\n",
       "    </tr>\n",
       "    <tr>\n",
       "      <th>8</th>\n",
       "      <td>市区町村</td>\n",
       "    </tr>\n",
       "    <tr>\n",
       "      <th>9</th>\n",
       "      <td>都道府県フラグ</td>\n",
       "    </tr>\n",
       "    <tr>\n",
       "      <th>10</th>\n",
       "      <td>移動距離</td>\n",
       "    </tr>\n",
       "    <tr>\n",
       "      <th>11</th>\n",
       "      <td>移動時間</td>\n",
       "    </tr>\n",
       "    <tr>\n",
       "      <th>12</th>\n",
       "      <td>買物可能フラグ</td>\n",
       "    </tr>\n",
       "    <tr>\n",
       "      <th>13</th>\n",
       "      <td>ジャンコード</td>\n",
       "    </tr>\n",
       "    <tr>\n",
       "      <th>14</th>\n",
       "      <td>国コード</td>\n",
       "    </tr>\n",
       "    <tr>\n",
       "      <th>15</th>\n",
       "      <td>日付</td>\n",
       "    </tr>\n",
       "    <tr>\n",
       "      <th>16</th>\n",
       "      <td>時間</td>\n",
       "    </tr>\n",
       "    <tr>\n",
       "      <th>17</th>\n",
       "      <td>日付時間</td>\n",
       "    </tr>\n",
       "    <tr>\n",
       "      <th>18</th>\n",
       "      <td>数量</td>\n",
       "    </tr>\n",
       "    <tr>\n",
       "      <th>19</th>\n",
       "      <td>売単価</td>\n",
       "    </tr>\n",
       "    <tr>\n",
       "      <th>20</th>\n",
       "      <td>値引</td>\n",
       "    </tr>\n",
       "    <tr>\n",
       "      <th>21</th>\n",
       "      <td>販売金額</td>\n",
       "    </tr>\n",
       "    <tr>\n",
       "      <th>22</th>\n",
       "      <td>原単価</td>\n",
       "    </tr>\n",
       "    <tr>\n",
       "      <th>23</th>\n",
       "      <td>売単価分類</td>\n",
       "    </tr>\n",
       "    <tr>\n",
       "      <th>24</th>\n",
       "      <td>売上単価</td>\n",
       "    </tr>\n",
       "    <tr>\n",
       "      <th>25</th>\n",
       "      <td>来店回数</td>\n",
       "    </tr>\n",
       "    <tr>\n",
       "      <th>26</th>\n",
       "      <td>レシート行</td>\n",
       "    </tr>\n",
       "    <tr>\n",
       "      <th>27</th>\n",
       "      <td>レシート行分類</td>\n",
       "    </tr>\n",
       "    <tr>\n",
       "      <th>28</th>\n",
       "      <td>レシートNo</td>\n",
       "    </tr>\n",
       "    <tr>\n",
       "      <th>29</th>\n",
       "      <td>レジNo.1</td>\n",
       "    </tr>\n",
       "    <tr>\n",
       "      <th>30</th>\n",
       "      <td>レジNo.2</td>\n",
       "    </tr>\n",
       "    <tr>\n",
       "      <th>31</th>\n",
       "      <td>レジNo.3</td>\n",
       "    </tr>\n",
       "    <tr>\n",
       "      <th>32</th>\n",
       "      <td>レジNo.4</td>\n",
       "    </tr>\n",
       "    <tr>\n",
       "      <th>33</th>\n",
       "      <td>レジNo.5</td>\n",
       "    </tr>\n",
       "    <tr>\n",
       "      <th>34</th>\n",
       "      <td>Monday</td>\n",
       "    </tr>\n",
       "    <tr>\n",
       "      <th>35</th>\n",
       "      <td>Tuesday</td>\n",
       "    </tr>\n",
       "    <tr>\n",
       "      <th>36</th>\n",
       "      <td>Wednesday</td>\n",
       "    </tr>\n",
       "    <tr>\n",
       "      <th>37</th>\n",
       "      <td>Thursday</td>\n",
       "    </tr>\n",
       "    <tr>\n",
       "      <th>38</th>\n",
       "      <td>Friday</td>\n",
       "    </tr>\n",
       "    <tr>\n",
       "      <th>39</th>\n",
       "      <td>Saturday</td>\n",
       "    </tr>\n",
       "    <tr>\n",
       "      <th>40</th>\n",
       "      <td>Sunday</td>\n",
       "    </tr>\n",
       "  </tbody>\n",
       "</table>\n",
       "</div>"
      ],
      "text/plain": [
       "         カラム名\n",
       "0       購入フラグ\n",
       "1       顧客コード\n",
       "2          性別\n",
       "3         誕生日\n",
       "4          年齢\n",
       "5      年齢グループ\n",
       "6        郵便番号\n",
       "7        都道府県\n",
       "8        市区町村\n",
       "9     都道府県フラグ\n",
       "10       移動距離\n",
       "11       移動時間\n",
       "12    買物可能フラグ\n",
       "13     ジャンコード\n",
       "14       国コード\n",
       "15         日付\n",
       "16         時間\n",
       "17       日付時間\n",
       "18         数量\n",
       "19        売単価\n",
       "20         値引\n",
       "21       販売金額\n",
       "22        原単価\n",
       "23      売単価分類\n",
       "24       売上単価\n",
       "25       来店回数\n",
       "26      レシート行\n",
       "27    レシート行分類\n",
       "28     レシートNo\n",
       "29     レジNo.1\n",
       "30     レジNo.2\n",
       "31     レジNo.3\n",
       "32     レジNo.4\n",
       "33     レジNo.5\n",
       "34     Monday\n",
       "35    Tuesday\n",
       "36  Wednesday\n",
       "37   Thursday\n",
       "38     Friday\n",
       "39   Saturday\n",
       "40     Sunday"
      ]
     },
     "execution_count": 3,
     "metadata": {},
     "output_type": "execute_result"
    }
   ],
   "source": [
    "print(\"データ取得\")\n",
    "df = pd.read_csv(\"./considerationed.csv\")\n",
    "\n",
    "df['時間'] = df['時間'].astype(int).astype(str)\n",
    "list = []\n",
    "for index in tqdm(df.index):\n",
    "    if (len(df['時間'][index])<4):\n",
    "        list.append(df['時間'][index].zfill(4))\n",
    "    else:\n",
    "        list.append(df['時間'][index])\n",
    "df['時間'] = list\n",
    "print('時間項目を4桁の固定長に変換')\n",
    "\n",
    "modeling = df.copy()\n",
    "modeling['ジャンコード'] = modeling['ジャンコード'].astype(int)\n",
    "\n",
    "print('対象項目')\n",
    "columns = [\n",
    "        '購入フラグ',\n",
    "        '顧客コード',\n",
    "        '性別',\n",
    "        '誕生日', '年齢', '年齢グループ',\n",
    "        '郵便番号', '都道府県', '市区町村', '都道府県フラグ',\n",
    "        '移動距離', '移動時間',\n",
    "        '買物可能フラグ', \n",
    "        'ジャンコード',\n",
    "        '国コード', \n",
    "        '日付', '時間', '日付時間', \n",
    "        '数量', '売単価', '値引', '販売金額', '原単価',\n",
    "        '売単価分類', '売上単価', '来店回数',\n",
    "        'レシート行', 'レシート行分類', \n",
    "        'レシートNo', 'レジNo.1', 'レジNo.2', 'レジNo.3', 'レジNo.4', 'レジNo.5',\n",
    "        'Monday', 'Tuesday', 'Wednesday', 'Thursday', 'Friday', 'Saturday', 'Sunday', \n",
    "]\n",
    "modeling = modeling[columns]\n",
    "modeling.head(2)\n",
    "\n",
    "table = pd.DataFrame()\n",
    "table['カラム名'] = modeling.columns\n",
    "table"
   ]
  },
  {
   "cell_type": "markdown",
   "metadata": {},
   "source": [
    "## 評価について"
   ]
  },
  {
   "cell_type": "markdown",
   "metadata": {},
   "source": [
    "- 正解率・適合率・再現率、F値、Log損失\n",
    "- 変数単体のAUC\n",
    "- 学習曲線、過学習の評価\n",
    "- 特徴量の重要度"
   ]
  },
  {
   "cell_type": "markdown",
   "metadata": {},
   "source": [
    "# モデルの訓練"
   ]
  },
  {
   "cell_type": "markdown",
   "metadata": {},
   "source": [
    "## アンダー・サンプリング"
   ]
  },
  {
   "cell_type": "code",
   "execution_count": 4,
   "metadata": {
    "pycharm": {
     "is_executing": true
    }
   },
   "outputs": [
    {
     "name": "stdout",
     "output_type": "stream",
     "text": [
      "正例・負例件数\n"
     ]
    }
   ],
   "source": [
    "print(\"正例・負例件数\")\n",
    "modeling['購入フラグ'].value_counts();"
   ]
  },
  {
   "cell_type": "code",
   "execution_count": 5,
   "metadata": {
    "pycharm": {
     "is_executing": true
    }
   },
   "outputs": [
    {
     "name": "stdout",
     "output_type": "stream",
     "text": [
      "月別の正例の合計数をプロット\n"
     ]
    },
    {
     "data": {
      "image/png": "[encoded data removed]",
      "text/plain": [
       "<Figure size 1440x360 with 1 Axes>"
      ]
     },
     "metadata": {},
     "output_type": "display_data"
    }
   ],
   "source": [
    "print(\"月別の正例の合計数をプロット\")\n",
    "index = modeling.copy()\n",
    "index['日付'] = index['日付'].astype(int).astype(str)\n",
    "index['時間'] = index['時間'].astype(str)\n",
    "index[\"日付時間\"] = pd.to_datetime( index['日付'].str.cat( [index['時間']], sep=' ') )\n",
    "index = index.set_index('日付時間')\n",
    "index = index.sort_index()\n",
    "\n",
    "month_target = index.resample('M')['購入フラグ'].sum()\n",
    "month_all = index.resample('M')['購入フラグ'].count()\n",
    "\n",
    "x1 = month_target.index.astype(str)\n",
    "y1 = month_target.values\n",
    "x2 = month_all.index.astype(str)\n",
    "y2 = month_all.values\n",
    "plt.grid()\n",
    "plt.title('月別の件数', fontsize=20)\n",
    "plt.xlabel('月')\n",
    "plt.ylabel('件数')\n",
    "plt.plot(x1, y1, color='r')\n",
    "plt.bar(x1, y1, color='r');"
   ]
  },
  {
   "cell_type": "code",
   "execution_count": 6,
   "metadata": {
    "pycharm": {
     "is_executing": true
    }
   },
   "outputs": [
    {
     "name": "stdout",
     "output_type": "stream",
     "text": [
      "負例の合計数\n"
     ]
    },
    {
     "data": {
      "image/png": "[encoded data removed]",
      "text/plain": [
       "<Figure size 1440x360 with 1 Axes>"
      ]
     },
     "metadata": {},
     "output_type": "display_data"
    }
   ],
   "source": [
    "print(\"負例の合計数\")\n",
    "plt.grid()\n",
    "plt.title('月別の件数', fontsize=20)\n",
    "plt.xlabel('月')\n",
    "plt.ylabel('件数')\n",
    "plt.bar(x2, y2, color='b')\n",
    "plt.plot(x2, y2, color='b');"
   ]
  },
  {
   "cell_type": "code",
   "execution_count": 7,
   "metadata": {
    "pycharm": {
     "is_executing": true
    }
   },
   "outputs": [
    {
     "name": "stdout",
     "output_type": "stream",
     "text": [
      "不均衡データのため、負例データのアンダー・サンプリングを実施する\n",
      "********************\n",
      "＜元のデータ＞\n",
      "0の件数：394577\n",
      "1の件数：305\n",
      "********************\n",
      "＜アンダーサンプリング後のデータ＞\n",
      "0の件数：305\n",
      "1の件数：305\n"
     ]
    }
   ],
   "source": [
    "print(\"不均衡データのため、負例データのアンダー・サンプリングを実施する\")\n",
    "\n",
    "target = '購入フラグ'\n",
    "rs=RandomUnderSampler(random_state=42)\n",
    "df_sample,_=rs.fit_resample(modeling,modeling[target])\n",
    "\n",
    "print('*'*20)\n",
    "print('＜元のデータ＞')\n",
    "print('0の件数：%d'%len(df.query(f'{target}==0')))\n",
    "print('1の件数：%d'%len(df.query(f'{target}==1')))\n",
    "print('*'*20)\n",
    "print('＜アンダーサンプリング後のデータ＞')\n",
    "print('0の件数：%d'%len(df_sample.query(f'{target}==0')))\n",
    "print('1の件数：%d'%len(df_sample.query(f'{target}==1')));"
   ]
  },
  {
   "cell_type": "markdown",
   "metadata": {},
   "source": [
    "## 全アルゴリズム"
   ]
  },
  {
   "cell_type": "markdown",
   "metadata": {},
   "source": [
    "### 全パラメータ・デフォルト"
   ]
  },
  {
   "cell_type": "code",
   "execution_count": 8,
   "metadata": {
    "pycharm": {
     "is_executing": true
    }
   },
   "outputs": [
    {
     "name": "stdout",
     "output_type": "stream",
     "text": [
      "学習関数\n"
     ]
    }
   ],
   "source": [
    "print(\"学習関数\")\n",
    "def run_cv(model):\n",
    "    target = '購入フラグ'\n",
    "    Xtrain = df_sample.drop(columns=target)\n",
    "    ytrain = df_sample[target]\n",
    "    acc_results = []\n",
    "    cv = StratifiedKFold(n_splits=10, random_state=42, shuffle=True)\n",
    "    for trn_index, val_index in cv.split(Xtrain, ytrain):\n",
    "        X_trn, X_val = Xtrain.loc[trn_index], Xtrain.loc[val_index]\n",
    "        y_trn, y_val = ytrain[trn_index], ytrain[val_index]\n",
    "        model.fit(X_trn, y_trn)\n",
    "\n",
    "        acc = model.score(X_val, y_val)\n",
    "        acc_results.append(acc)\n",
    "        \n",
    "        return acc_results"
   ]
  },
  {
   "cell_type": "code",
   "execution_count": 9,
   "metadata": {
    "pycharm": {
     "is_executing": true
    }
   },
   "outputs": [
    {
     "name": "stdout",
     "output_type": "stream",
     "text": [
      "ロジスティック回帰\n"
     ]
    },
    {
     "data": {
      "text/plain": [
       "0.59"
      ]
     },
     "execution_count": 9,
     "metadata": {},
     "output_type": "execute_result"
    },
    {
     "name": "stdout",
     "output_type": "stream",
     "text": [
      "ナイーブベイズ分類器\n"
     ]
    },
    {
     "data": {
      "text/plain": [
       "0.59"
      ]
     },
     "execution_count": 9,
     "metadata": {},
     "output_type": "execute_result"
    },
    {
     "name": "stdout",
     "output_type": "stream",
     "text": [
      "サポートベクターマシン\n"
     ]
    },
    {
     "data": {
      "text/plain": [
       "0.623"
      ]
     },
     "execution_count": 9,
     "metadata": {},
     "output_type": "execute_result"
    },
    {
     "name": "stdout",
     "output_type": "stream",
     "text": [
      "確率的勾配降下法\n"
     ]
    },
    {
     "data": {
      "text/plain": [
       "0.508"
      ]
     },
     "execution_count": 9,
     "metadata": {},
     "output_type": "execute_result"
    },
    {
     "name": "stdout",
     "output_type": "stream",
     "text": [
      "パーセプトロン\n"
     ]
    },
    {
     "data": {
      "text/plain": [
       "0.623"
      ]
     },
     "execution_count": 9,
     "metadata": {},
     "output_type": "execute_result"
    },
    {
     "name": "stdout",
     "output_type": "stream",
     "text": [
      "決定木\n"
     ]
    },
    {
     "data": {
      "text/plain": [
       "0.951"
      ]
     },
     "execution_count": 9,
     "metadata": {},
     "output_type": "execute_result"
    },
    {
     "name": "stdout",
     "output_type": "stream",
     "text": [
      "ランダムフォレスト\n"
     ]
    },
    {
     "data": {
      "text/plain": [
       "0.918"
      ]
     },
     "execution_count": 9,
     "metadata": {},
     "output_type": "execute_result"
    },
    {
     "name": "stdout",
     "output_type": "stream",
     "text": [
      "k近傍法（分類）\n"
     ]
    },
    {
     "data": {
      "text/plain": [
       "0.984"
      ]
     },
     "execution_count": 9,
     "metadata": {},
     "output_type": "execute_result"
    },
    {
     "name": "stdout",
     "output_type": "stream",
     "text": [
      "k近傍法（回帰）\n"
     ]
    },
    {
     "data": {
      "text/plain": [
       "0.911"
      ]
     },
     "execution_count": 9,
     "metadata": {},
     "output_type": "execute_result"
    }
   ],
   "source": [
    "print(\"ロジスティック回帰\")\n",
    "lr_acc_results = run_cv(LogisticRegression())\n",
    "lr_acc_results[0].round(decimals=3)\n",
    "\n",
    "print(\"ナイーブベイズ分類器\")\n",
    "gnb_acc_results = run_cv(GaussianNB())\n",
    "gnb_acc_results[0].round(decimals=3)\n",
    "\n",
    "print(\"サポートベクターマシン\")\n",
    "svc_acc_results = run_cv(SVC())\n",
    "svc_acc_results[0].round(decimals=3)\n",
    "\n",
    "print(\"確率的勾配降下法\")\n",
    "sgdc_acc_results = run_cv(SGDClassifier())\n",
    "sgdc_acc_results[0].round(decimals=3)\n",
    "\n",
    "print(\"パーセプトロン\")\n",
    "pc_acc_results = run_cv(Perceptron())\n",
    "pc_acc_results[0].round(decimals=3)\n",
    "\n",
    "print(\"決定木\")\n",
    "dt_acc_results = run_cv(DecisionTreeClassifier())\n",
    "dt_acc_results[0].round(decimals=3)\n",
    "\n",
    "print(\"ランダムフォレスト\")\n",
    "rf_acc_results = run_cv(RandomForestClassifier())\n",
    "rf_acc_results[0].round(decimals=3)\n",
    "\n",
    "print(\"k近傍法（分類）\")\n",
    "knc_acc_results = run_cv(KNeighborsClassifier())\n",
    "knc_acc_results[0].round(decimals=3)\n",
    "\n",
    "print(\"k近傍法（回帰）\")\n",
    "knr_acc_results = run_cv(KNeighborsRegressor())\n",
    "knr_acc_results[0].round(decimals=3)"
   ]
  },
  {
   "cell_type": "markdown",
   "metadata": {},
   "source": [
    "### 考察"
   ]
  },
  {
   "cell_type": "markdown",
   "metadata": {},
   "source": [
    "決定木の評価高。  \n",
    "k近傍法の評価が異常に高いのは要考察とする。  \n",
    "データが少ない為、よく分類できているとも言えるかもしれない。  \n",
    "データ量を変化させた際の、評価の変化も考察する。  "
   ]
  },
  {
   "cell_type": "markdown",
   "metadata": {},
   "source": [
    "## パイプライン作成"
   ]
  },
  {
   "cell_type": "markdown",
   "metadata": {},
   "source": [
    "### パイプライン"
   ]
  },
  {
   "cell_type": "code",
   "execution_count": 10,
   "metadata": {
    "pycharm": {
     "is_executing": true
    }
   },
   "outputs": [
    {
     "name": "stdout",
     "output_type": "stream",
     "text": [
      "ランダムフォレストのパイプライン\n",
      "ロジスティック回帰のパイプライン\n",
      "サポートベクトルマシンのパイプライン\n",
      "決定木\n",
      "K近傍法（分類）\n",
      "K近傍法（回帰）\n",
      "パーセプトロン\n",
      "確率的勾配降下法\n",
      "ナイーブベイズ分類器\n",
      "各モデル用のデータ\n"
     ]
    }
   ],
   "source": [
    "from sklearn.pipeline import make_pipeline\n",
    "\n",
    "print(\"ランダムフォレストのパイプライン\")\n",
    "rf_model = make_pipeline(\n",
    "    RandomForestClassifier(n_estimators=100, criterion='entropy', random_state=42, n_jobs=-1),\n",
    ")\n",
    "print(\"ロジスティック回帰のパイプライン\")\n",
    "lr_model = make_pipeline(\n",
    "    StandardScaler(), # 標準化\n",
    "    LogisticRegression(max_iter=1000),\n",
    ")\n",
    "print(\"サポートベクトルマシンのパイプライン\")\n",
    "svm_model = make_pipeline(\n",
    "    StandardScaler(), # 標準化\n",
    "    SVC(C=1.0, kernel='rbf', gamma='scale'),\n",
    ")\n",
    "print(\"決定木\")\n",
    "dt_model = make_pipeline(\n",
    "    DecisionTreeClassifier(),\n",
    ")\n",
    "print(\"K近傍法（分類）\")\n",
    "knc_model = make_pipeline(\n",
    "    KNeighborsClassifier(),\n",
    ")\n",
    "print(\"K近傍法（回帰）\")\n",
    "knr_model = make_pipeline(\n",
    "    KNeighborsRegressor(),\n",
    ")\n",
    "print(\"パーセプトロン\")\n",
    "pc_model = make_pipeline(\n",
    "    Perceptron(),\n",
    ")\n",
    "print(\"確率的勾配降下法\")\n",
    "sgd_model = make_pipeline(\n",
    "    SGDClassifier(),\n",
    ")\n",
    "print(\"ナイーブベイズ分類器\")\n",
    "nb_model = make_pipeline(\n",
    "    GaussianNB(),\n",
    ")\n",
    "print(\"各モデル用のデータ\")\n",
    "target = '購入フラグ'\n",
    "X = df_sample.drop(columns=target)\n",
    "y = df_sample[target]\n",
    "train_X, test_X, train_y, test_y = train_test_split(X, y, test_size=0.3, random_state=42);"
   ]
  },
  {
   "cell_type": "markdown",
   "metadata": {},
   "source": [
    "### モデル（XGBoost）"
   ]
  },
  {
   "cell_type": "code",
   "execution_count": 11,
   "metadata": {
    "pycharm": {
     "is_executing": true
    }
   },
   "outputs": [
    {
     "name": "stdout",
     "output_type": "stream",
     "text": [
      "XGBoost用のデータ\n",
      "XGBoostのパイプライン\n",
      "[21:14:21] WARNING: /opt/concourse/worker/volumes/live/7a2b9f41-3287-451b-6691-43e9a6c0910f/volume/xgboost-split_1619728204606/work/src/learner.cc:541: \n",
      "Parameters: { num_boost_round } might not be used.\n",
      "\n",
      "  This may not be accurate due to some parameters are only used in language bindings but\n",
      "  passed down to XGBoost core.  Or some parameters are not used but slip through this\n",
      "  verification. Please open an issue if you find above cases.\n",
      "\n",
      "\n",
      "[0]\ttrain-logloss:0.49327\teval-logloss:0.52302\n",
      "[1]\ttrain-logloss:0.37685\teval-logloss:0.44396\n",
      "[2]\ttrain-logloss:0.29206\teval-logloss:0.37356\n",
      "[3]\ttrain-logloss:0.23412\teval-logloss:0.33701\n",
      "[4]\ttrain-logloss:0.18688\teval-logloss:0.30523\n",
      "[5]\ttrain-logloss:0.15614\teval-logloss:0.29724\n",
      "[6]\ttrain-logloss:0.13234\teval-logloss:0.28588\n",
      "[7]\ttrain-logloss:0.10952\teval-logloss:0.27968\n",
      "[8]\ttrain-logloss:0.09493\teval-logloss:0.27700\n",
      "[9]\ttrain-logloss:0.08475\teval-logloss:0.27056\n"
     ]
    }
   ],
   "source": [
    "print(\"XGBoost用のデータ\")\n",
    "float_df = df_sample.astype(float).copy()\n",
    "Xf = float_df.drop(columns=target)\n",
    "yf = float_df['購入フラグ']\n",
    "X_train, X_test, y_train, y_test = train_test_split(Xf, yf, test_size=0.3, random_state=42)\n",
    "\n",
    "dtrain = xgb.DMatrix(X_train, label=y_train)\n",
    "dtest = xgb.DMatrix(X_test, label=y_test)\n",
    "\n",
    "xgb_params = {\n",
    "    'objective': 'binary:logistic',\n",
    "    'eval_metric': 'logloss',\n",
    "    'num_boost_round': 100\n",
    "}\n",
    "evals = [(dtrain, 'train'), (dtest, 'eval')]\n",
    "evals_result = {}\n",
    "\n",
    "print(\"XGBoostのパイプライン\")\n",
    "xgb_model = xgb.train(xgb_params, dtrain, evals=evals, evals_result=evals_result);"
   ]
  },
  {
   "cell_type": "markdown",
   "metadata": {},
   "source": [
    "### 関数の定義（混同行列、学習曲線）"
   ]
  },
  {
   "cell_type": "code",
   "execution_count": 12,
   "metadata": {
    "pycharm": {
     "is_executing": true
    }
   },
   "outputs": [
    {
     "name": "stdout",
     "output_type": "stream",
     "text": [
      "混同行列の表示用関数\n"
     ]
    }
   ],
   "source": [
    "print(\"混同行列の表示用関数\")\n",
    "def show_confusion_matrix(predict, test_y):\n",
    "    pred =  np.where(predict > 0.5, 1, 0)\n",
    "    cm = confusion_matrix(test_y, pred)\n",
    "    df = pd.DataFrame(cm)\n",
    "    df.columns = [['Predict_Negative', 'Predict_Positive']]\n",
    "    df.index = [['Actual_Negative', 'Actual_Positive']]\n",
    "    return df"
   ]
  },
  {
   "cell_type": "code",
   "execution_count": 13,
   "metadata": {
    "pycharm": {
     "is_executing": true
    }
   },
   "outputs": [
    {
     "name": "stdout",
     "output_type": "stream",
     "text": [
      "混同行列の表示例\n"
     ]
    },
    {
     "data": {
      "text/html": [
       "<div>\n",
       "<style scoped>\n",
       "    .dataframe tbody tr th:only-of-type {\n",
       "        vertical-align: middle;\n",
       "    }\n",
       "\n",
       "    .dataframe tbody tr th {\n",
       "        vertical-align: top;\n",
       "    }\n",
       "\n",
       "    .dataframe thead th {\n",
       "        text-align: right;\n",
       "    }\n",
       "</style>\n",
       "<table border=\"1\" class=\"dataframe\">\n",
       "  <thead>\n",
       "    <tr style=\"text-align: right;\">\n",
       "      <th></th>\n",
       "      <th>Predict_A</th>\n",
       "      <th>Predict_B</th>\n",
       "    </tr>\n",
       "  </thead>\n",
       "  <tbody>\n",
       "    <tr>\n",
       "      <th>Actual_A</th>\n",
       "      <td>TN</td>\n",
       "      <td>FN</td>\n",
       "    </tr>\n",
       "    <tr>\n",
       "      <th>Actual_B</th>\n",
       "      <td>FP</td>\n",
       "      <td>TP</td>\n",
       "    </tr>\n",
       "  </tbody>\n",
       "</table>\n",
       "</div>"
      ],
      "text/plain": [
       "         Predict_A Predict_B\n",
       "Actual_A        TN        FN\n",
       "Actual_B        FP        TP"
      ]
     },
     "execution_count": 13,
     "metadata": {},
     "output_type": "execute_result"
    }
   ],
   "source": [
    "print(\"混同行列の表示例\")\n",
    "# A = Negative, B = Positive\n",
    "cm_df = pd.DataFrame({\n",
    "    'Predict_A': ['TN', 'FP'],\n",
    "    'Predict_B': ['FN', 'TP']\n",
    "}, index=['Actual_A', 'Actual_B'])\n",
    "cm_df"
   ]
  },
  {
   "cell_type": "code",
   "execution_count": 14,
   "metadata": {
    "pycharm": {
     "is_executing": true
    }
   },
   "outputs": [
    {
     "name": "stdout",
     "output_type": "stream",
     "text": [
      "ROC曲線の表示用関数\n"
     ]
    }
   ],
   "source": [
    "print(\"ROC曲線の表示用関数\")\n",
    "def show_roc_curve(predict, test_y):\n",
    "    pred =  np.where(predict > 0.5, 1, 0)\n",
    "    fpr, tpr, thresholds = metrics.roc_curve(pred, test_y)\n",
    "    plt.plot(fpr, tpr, label=f'roc_curve')\n",
    "    plt.xlabel('FPR')\n",
    "    plt.ylabel('TPR')\n",
    "    plt.legend()\n",
    "    plt.grid()\n",
    "\n",
    "    auc = metrics.auc(fpr, tpr)\n",
    "    print('auc: {:.3f}'.format(auc));"
   ]
  },
  {
   "cell_type": "markdown",
   "metadata": {},
   "source": [
    "## ランダムフォレスト"
   ]
  },
  {
   "cell_type": "markdown",
   "metadata": {},
   "source": [
    "### 学習、混同行列、ROC曲線"
   ]
  },
  {
   "cell_type": "code",
   "execution_count": 15,
   "metadata": {
    "pycharm": {
     "is_executing": true
    }
   },
   "outputs": [
    {
     "name": "stdout",
     "output_type": "stream",
     "text": [
      "学習\n"
     ]
    },
    {
     "data": {
      "text/plain": [
       "Pipeline(steps=[('randomforestclassifier',\n",
       "                 RandomForestClassifier(criterion='entropy', n_jobs=-1,\n",
       "                                        random_state=42))])"
      ]
     },
     "execution_count": 15,
     "metadata": {},
     "output_type": "execute_result"
    },
    {
     "name": "stdout",
     "output_type": "stream",
     "text": [
      "混同行列\n"
     ]
    },
    {
     "data": {
      "text/html": [
       "<div>\n",
       "<style scoped>\n",
       "    .dataframe tbody tr th:only-of-type {\n",
       "        vertical-align: middle;\n",
       "    }\n",
       "\n",
       "    .dataframe tbody tr th {\n",
       "        vertical-align: top;\n",
       "    }\n",
       "\n",
       "    .dataframe thead tr th {\n",
       "        text-align: left;\n",
       "    }\n",
       "</style>\n",
       "<table border=\"1\" class=\"dataframe\">\n",
       "  <thead>\n",
       "    <tr>\n",
       "      <th></th>\n",
       "      <th>Predict_Negative</th>\n",
       "      <th>Predict_Positive</th>\n",
       "    </tr>\n",
       "  </thead>\n",
       "  <tbody>\n",
       "    <tr>\n",
       "      <th>Actual_Negative</th>\n",
       "      <td>94</td>\n",
       "      <td>10</td>\n",
       "    </tr>\n",
       "    <tr>\n",
       "      <th>Actual_Positive</th>\n",
       "      <td>12</td>\n",
       "      <td>67</td>\n",
       "    </tr>\n",
       "  </tbody>\n",
       "</table>\n",
       "</div>"
      ],
      "text/plain": [
       "                Predict_Negative Predict_Positive\n",
       "Actual_Negative               94               10\n",
       "Actual_Positive               12               67"
      ]
     },
     "execution_count": 15,
     "metadata": {},
     "output_type": "execute_result"
    },
    {
     "name": "stdout",
     "output_type": "stream",
     "text": [
      "ROC曲線\n",
      "auc: 0.878\n"
     ]
    },
    {
     "data": {
      "image/png": "[encoded data removed]",
      "text/plain": [
       "<Figure size 1440x360 with 1 Axes>"
      ]
     },
     "metadata": {},
     "output_type": "display_data"
    }
   ],
   "source": [
    "print('学習')\n",
    "rf_model.fit(train_X, train_y)\n",
    "rf_predict = rf_model.predict_proba(test_X)[:, 1]\n",
    "\n",
    "print('混同行列')\n",
    "df = show_confusion_matrix(rf_predict, test_y)\n",
    "df\n",
    "\n",
    "print('ROC曲線')\n",
    "\n",
    "show_roc_curve(rf_predict, test_y)"
   ]
  },
  {
   "cell_type": "markdown",
   "metadata": {},
   "source": [
    "## 決定木"
   ]
  },
  {
   "cell_type": "markdown",
   "metadata": {},
   "source": [
    "### 学習、混同行列、ROC曲線"
   ]
  },
  {
   "cell_type": "code",
   "execution_count": 16,
   "metadata": {
    "pycharm": {
     "is_executing": true
    }
   },
   "outputs": [
    {
     "name": "stdout",
     "output_type": "stream",
     "text": [
      "学習\n"
     ]
    },
    {
     "data": {
      "text/plain": [
       "Pipeline(steps=[('decisiontreeclassifier', DecisionTreeClassifier())])"
      ]
     },
     "execution_count": 16,
     "metadata": {},
     "output_type": "execute_result"
    },
    {
     "name": "stdout",
     "output_type": "stream",
     "text": [
      "混同行列\n"
     ]
    },
    {
     "data": {
      "text/html": [
       "<div>\n",
       "<style scoped>\n",
       "    .dataframe tbody tr th:only-of-type {\n",
       "        vertical-align: middle;\n",
       "    }\n",
       "\n",
       "    .dataframe tbody tr th {\n",
       "        vertical-align: top;\n",
       "    }\n",
       "\n",
       "    .dataframe thead tr th {\n",
       "        text-align: left;\n",
       "    }\n",
       "</style>\n",
       "<table border=\"1\" class=\"dataframe\">\n",
       "  <thead>\n",
       "    <tr>\n",
       "      <th></th>\n",
       "      <th>Predict_Negative</th>\n",
       "      <th>Predict_Positive</th>\n",
       "    </tr>\n",
       "  </thead>\n",
       "  <tbody>\n",
       "    <tr>\n",
       "      <th>Actual_Negative</th>\n",
       "      <td>84</td>\n",
       "      <td>20</td>\n",
       "    </tr>\n",
       "    <tr>\n",
       "      <th>Actual_Positive</th>\n",
       "      <td>9</td>\n",
       "      <td>70</td>\n",
       "    </tr>\n",
       "  </tbody>\n",
       "</table>\n",
       "</div>"
      ],
      "text/plain": [
       "                Predict_Negative Predict_Positive\n",
       "Actual_Negative               84               20\n",
       "Actual_Positive                9               70"
      ]
     },
     "execution_count": 16,
     "metadata": {},
     "output_type": "execute_result"
    },
    {
     "name": "stdout",
     "output_type": "stream",
     "text": [
      "ROC曲線\n",
      "auc: 0.841\n"
     ]
    },
    {
     "data": {
      "image/png": "[encoded data removed]",
      "text/plain": [
       "<Figure size 1440x360 with 1 Axes>"
      ]
     },
     "metadata": {},
     "output_type": "display_data"
    }
   ],
   "source": [
    "print('学習')\n",
    "dt_model.fit(train_X, train_y)\n",
    "dt_predict = dt_model.predict_proba(test_X)[:, 1]\n",
    "\n",
    "print('混同行列')\n",
    "df = show_confusion_matrix(dt_predict, test_y)\n",
    "df\n",
    "\n",
    "print('ROC曲線')\n",
    "show_roc_curve(dt_predict, test_y)"
   ]
  },
  {
   "cell_type": "markdown",
   "metadata": {},
   "source": [
    "## K近傍法（分類）"
   ]
  },
  {
   "cell_type": "markdown",
   "metadata": {},
   "source": [
    "### 学習、混同行列、ROC曲線"
   ]
  },
  {
   "cell_type": "code",
   "execution_count": 17,
   "metadata": {
    "pycharm": {
     "is_executing": true
    }
   },
   "outputs": [
    {
     "name": "stdout",
     "output_type": "stream",
     "text": [
      "学習\n"
     ]
    },
    {
     "data": {
      "text/plain": [
       "Pipeline(steps=[('kneighborsclassifier', KNeighborsClassifier())])"
      ]
     },
     "execution_count": 17,
     "metadata": {},
     "output_type": "execute_result"
    },
    {
     "name": "stdout",
     "output_type": "stream",
     "text": [
      "混同行列\n"
     ]
    },
    {
     "data": {
      "text/html": [
       "<div>\n",
       "<style scoped>\n",
       "    .dataframe tbody tr th:only-of-type {\n",
       "        vertical-align: middle;\n",
       "    }\n",
       "\n",
       "    .dataframe tbody tr th {\n",
       "        vertical-align: top;\n",
       "    }\n",
       "\n",
       "    .dataframe thead tr th {\n",
       "        text-align: left;\n",
       "    }\n",
       "</style>\n",
       "<table border=\"1\" class=\"dataframe\">\n",
       "  <thead>\n",
       "    <tr>\n",
       "      <th></th>\n",
       "      <th>Predict_Negative</th>\n",
       "      <th>Predict_Positive</th>\n",
       "    </tr>\n",
       "  </thead>\n",
       "  <tbody>\n",
       "    <tr>\n",
       "      <th>Actual_Negative</th>\n",
       "      <td>91</td>\n",
       "      <td>13</td>\n",
       "    </tr>\n",
       "    <tr>\n",
       "      <th>Actual_Positive</th>\n",
       "      <td>1</td>\n",
       "      <td>78</td>\n",
       "    </tr>\n",
       "  </tbody>\n",
       "</table>\n",
       "</div>"
      ],
      "text/plain": [
       "                Predict_Negative Predict_Positive\n",
       "Actual_Negative               91               13\n",
       "Actual_Positive                1               78"
      ]
     },
     "execution_count": 17,
     "metadata": {},
     "output_type": "execute_result"
    },
    {
     "name": "stdout",
     "output_type": "stream",
     "text": [
      "ROC曲線\n",
      "auc: 0.923\n"
     ]
    },
    {
     "data": {
      "image/png": "[encoded data removed]",
      "text/plain": [
       "<Figure size 1440x360 with 1 Axes>"
      ]
     },
     "metadata": {},
     "output_type": "display_data"
    }
   ],
   "source": [
    "print('学習')\n",
    "knc_model.fit(train_X, train_y)\n",
    "knc_predict = knc_model.predict_proba(test_X)[:, 1]\n",
    "\n",
    "print('混同行列')\n",
    "df = show_confusion_matrix(knc_predict, test_y)\n",
    "df\n",
    "\n",
    "print('ROC曲線')\n",
    "show_roc_curve(knc_predict, test_y)"
   ]
  },
  {
   "cell_type": "markdown",
   "metadata": {},
   "source": [
    "## K近傍法（回帰）"
   ]
  },
  {
   "cell_type": "markdown",
   "metadata": {},
   "source": [
    "### 学習、混同行列、ROC曲線"
   ]
  },
  {
   "cell_type": "code",
   "execution_count": 18,
   "metadata": {
    "pycharm": {
     "is_executing": true
    }
   },
   "outputs": [
    {
     "name": "stdout",
     "output_type": "stream",
     "text": [
      "学習\n"
     ]
    },
    {
     "data": {
      "text/plain": [
       "Pipeline(steps=[('kneighborsregressor', KNeighborsRegressor())])"
      ]
     },
     "execution_count": 18,
     "metadata": {},
     "output_type": "execute_result"
    },
    {
     "name": "stdout",
     "output_type": "stream",
     "text": [
      "混同行列\n"
     ]
    },
    {
     "data": {
      "text/html": [
       "<div>\n",
       "<style scoped>\n",
       "    .dataframe tbody tr th:only-of-type {\n",
       "        vertical-align: middle;\n",
       "    }\n",
       "\n",
       "    .dataframe tbody tr th {\n",
       "        vertical-align: top;\n",
       "    }\n",
       "\n",
       "    .dataframe thead tr th {\n",
       "        text-align: left;\n",
       "    }\n",
       "</style>\n",
       "<table border=\"1\" class=\"dataframe\">\n",
       "  <thead>\n",
       "    <tr>\n",
       "      <th></th>\n",
       "      <th>Predict_Negative</th>\n",
       "      <th>Predict_Positive</th>\n",
       "    </tr>\n",
       "  </thead>\n",
       "  <tbody>\n",
       "    <tr>\n",
       "      <th>Actual_Negative</th>\n",
       "      <td>91</td>\n",
       "      <td>13</td>\n",
       "    </tr>\n",
       "    <tr>\n",
       "      <th>Actual_Positive</th>\n",
       "      <td>1</td>\n",
       "      <td>78</td>\n",
       "    </tr>\n",
       "  </tbody>\n",
       "</table>\n",
       "</div>"
      ],
      "text/plain": [
       "                Predict_Negative Predict_Positive\n",
       "Actual_Negative               91               13\n",
       "Actual_Positive                1               78"
      ]
     },
     "execution_count": 18,
     "metadata": {},
     "output_type": "execute_result"
    },
    {
     "name": "stdout",
     "output_type": "stream",
     "text": [
      "ROC曲線\n",
      "auc: 0.923\n"
     ]
    },
    {
     "data": {
      "image/png": "[encoded data removed]",
      "text/plain": [
       "<Figure size 1440x360 with 1 Axes>"
      ]
     },
     "metadata": {},
     "output_type": "display_data"
    }
   ],
   "source": [
    "print('学習')\n",
    "knr_model.fit(train_X, train_y)\n",
    "knr_predict = knr_model.predict(test_X)\n",
    "\n",
    "print('混同行列')\n",
    "df = show_confusion_matrix(knr_predict, test_y)\n",
    "df\n",
    "\n",
    "print('ROC曲線')\n",
    "show_roc_curve(knr_predict, test_y)"
   ]
  },
  {
   "cell_type": "markdown",
   "metadata": {},
   "source": [
    "## ロジスティック回帰"
   ]
  },
  {
   "cell_type": "markdown",
   "metadata": {},
   "source": [
    "### 学習、混同行列、ROC曲線"
   ]
  },
  {
   "cell_type": "code",
   "execution_count": 19,
   "metadata": {
    "pycharm": {
     "is_executing": true
    }
   },
   "outputs": [
    {
     "name": "stdout",
     "output_type": "stream",
     "text": [
      "学習\n"
     ]
    },
    {
     "data": {
      "text/plain": [
       "Pipeline(steps=[('standardscaler', StandardScaler()),\n",
       "                ('logisticregression', LogisticRegression(max_iter=1000))])"
      ]
     },
     "execution_count": 19,
     "metadata": {},
     "output_type": "execute_result"
    },
    {
     "name": "stdout",
     "output_type": "stream",
     "text": [
      "混同行列\n"
     ]
    },
    {
     "data": {
      "text/html": [
       "<div>\n",
       "<style scoped>\n",
       "    .dataframe tbody tr th:only-of-type {\n",
       "        vertical-align: middle;\n",
       "    }\n",
       "\n",
       "    .dataframe tbody tr th {\n",
       "        vertical-align: top;\n",
       "    }\n",
       "\n",
       "    .dataframe thead tr th {\n",
       "        text-align: left;\n",
       "    }\n",
       "</style>\n",
       "<table border=\"1\" class=\"dataframe\">\n",
       "  <thead>\n",
       "    <tr>\n",
       "      <th></th>\n",
       "      <th>Predict_Negative</th>\n",
       "      <th>Predict_Positive</th>\n",
       "    </tr>\n",
       "  </thead>\n",
       "  <tbody>\n",
       "    <tr>\n",
       "      <th>Actual_Negative</th>\n",
       "      <td>85</td>\n",
       "      <td>19</td>\n",
       "    </tr>\n",
       "    <tr>\n",
       "      <th>Actual_Positive</th>\n",
       "      <td>15</td>\n",
       "      <td>64</td>\n",
       "    </tr>\n",
       "  </tbody>\n",
       "</table>\n",
       "</div>"
      ],
      "text/plain": [
       "                Predict_Negative Predict_Positive\n",
       "Actual_Negative               85               19\n",
       "Actual_Positive               15               64"
      ]
     },
     "execution_count": 19,
     "metadata": {},
     "output_type": "execute_result"
    },
    {
     "name": "stdout",
     "output_type": "stream",
     "text": [
      "ROC曲線\n",
      "auc: 0.811\n"
     ]
    },
    {
     "data": {
      "image/png": "[encoded data removed]",
      "text/plain": [
       "<Figure size 1440x360 with 1 Axes>"
      ]
     },
     "metadata": {},
     "output_type": "display_data"
    }
   ],
   "source": [
    "print('学習')\n",
    "lr_model.fit(train_X, train_y)\n",
    "lr_predict = lr_model.predict_proba(test_X)[:, 1]\n",
    "\n",
    "print('混同行列')\n",
    "df = show_confusion_matrix(lr_predict, test_y)\n",
    "df\n",
    "\n",
    "print('ROC曲線')\n",
    "show_roc_curve(lr_predict, test_y)"
   ]
  },
  {
   "cell_type": "markdown",
   "metadata": {},
   "source": [
    "## サポートベクトルマシン"
   ]
  },
  {
   "cell_type": "markdown",
   "metadata": {},
   "source": [
    "### 学習、混同行列、ROC曲線"
   ]
  },
  {
   "cell_type": "code",
   "execution_count": 20,
   "metadata": {
    "pycharm": {
     "is_executing": true
    }
   },
   "outputs": [
    {
     "name": "stdout",
     "output_type": "stream",
     "text": [
      "学習\n"
     ]
    },
    {
     "data": {
      "text/plain": [
       "Pipeline(steps=[('standardscaler', StandardScaler()), ('svc', SVC())])"
      ]
     },
     "execution_count": 20,
     "metadata": {},
     "output_type": "execute_result"
    },
    {
     "name": "stdout",
     "output_type": "stream",
     "text": [
      "混同行列\n"
     ]
    },
    {
     "data": {
      "text/html": [
       "<div>\n",
       "<style scoped>\n",
       "    .dataframe tbody tr th:only-of-type {\n",
       "        vertical-align: middle;\n",
       "    }\n",
       "\n",
       "    .dataframe tbody tr th {\n",
       "        vertical-align: top;\n",
       "    }\n",
       "\n",
       "    .dataframe thead tr th {\n",
       "        text-align: left;\n",
       "    }\n",
       "</style>\n",
       "<table border=\"1\" class=\"dataframe\">\n",
       "  <thead>\n",
       "    <tr>\n",
       "      <th></th>\n",
       "      <th>Predict_Negative</th>\n",
       "      <th>Predict_Positive</th>\n",
       "    </tr>\n",
       "  </thead>\n",
       "  <tbody>\n",
       "    <tr>\n",
       "      <th>Actual_Negative</th>\n",
       "      <td>89</td>\n",
       "      <td>15</td>\n",
       "    </tr>\n",
       "    <tr>\n",
       "      <th>Actual_Positive</th>\n",
       "      <td>20</td>\n",
       "      <td>59</td>\n",
       "    </tr>\n",
       "  </tbody>\n",
       "</table>\n",
       "</div>"
      ],
      "text/plain": [
       "                Predict_Negative Predict_Positive\n",
       "Actual_Negative               89               15\n",
       "Actual_Positive               20               59"
      ]
     },
     "execution_count": 20,
     "metadata": {},
     "output_type": "execute_result"
    },
    {
     "name": "stdout",
     "output_type": "stream",
     "text": [
      "ROC曲線\n",
      "auc: 0.807\n"
     ]
    },
    {
     "data": {
      "image/png": "[encoded data removed]",
      "text/plain": [
       "<Figure size 1440x360 with 1 Axes>"
      ]
     },
     "metadata": {},
     "output_type": "display_data"
    }
   ],
   "source": [
    "print('学習')\n",
    "svm_model.fit(train_X, train_y)\n",
    "svm_predict = svm_model.predict(test_X);\n",
    "\n",
    "print('混同行列')\n",
    "df = show_confusion_matrix(svm_predict, test_y)\n",
    "df\n",
    "\n",
    "print('ROC曲線')\n",
    "show_roc_curve(svm_predict, test_y)"
   ]
  },
  {
   "cell_type": "markdown",
   "metadata": {},
   "source": [
    "## パーセプトロン"
   ]
  },
  {
   "cell_type": "markdown",
   "metadata": {},
   "source": [
    "### 学習、混同行列、ROC曲線"
   ]
  },
  {
   "cell_type": "code",
   "execution_count": 21,
   "metadata": {
    "pycharm": {
     "is_executing": true
    }
   },
   "outputs": [
    {
     "name": "stdout",
     "output_type": "stream",
     "text": [
      "学習\n"
     ]
    },
    {
     "data": {
      "text/plain": [
       "Pipeline(steps=[('perceptron', Perceptron())])"
      ]
     },
     "execution_count": 21,
     "metadata": {},
     "output_type": "execute_result"
    },
    {
     "name": "stdout",
     "output_type": "stream",
     "text": [
      "混同行列\n"
     ]
    },
    {
     "data": {
      "text/html": [
       "<div>\n",
       "<style scoped>\n",
       "    .dataframe tbody tr th:only-of-type {\n",
       "        vertical-align: middle;\n",
       "    }\n",
       "\n",
       "    .dataframe tbody tr th {\n",
       "        vertical-align: top;\n",
       "    }\n",
       "\n",
       "    .dataframe thead tr th {\n",
       "        text-align: left;\n",
       "    }\n",
       "</style>\n",
       "<table border=\"1\" class=\"dataframe\">\n",
       "  <thead>\n",
       "    <tr>\n",
       "      <th></th>\n",
       "      <th>Predict_Negative</th>\n",
       "      <th>Predict_Positive</th>\n",
       "    </tr>\n",
       "  </thead>\n",
       "  <tbody>\n",
       "    <tr>\n",
       "      <th>Actual_Negative</th>\n",
       "      <td>0</td>\n",
       "      <td>104</td>\n",
       "    </tr>\n",
       "    <tr>\n",
       "      <th>Actual_Positive</th>\n",
       "      <td>0</td>\n",
       "      <td>79</td>\n",
       "    </tr>\n",
       "  </tbody>\n",
       "</table>\n",
       "</div>"
      ],
      "text/plain": [
       "                Predict_Negative Predict_Positive\n",
       "Actual_Negative                0              104\n",
       "Actual_Positive                0               79"
      ]
     },
     "execution_count": 21,
     "metadata": {},
     "output_type": "execute_result"
    },
    {
     "name": "stdout",
     "output_type": "stream",
     "text": [
      "ROC曲線\n",
      "auc: nan\n"
     ]
    },
    {
     "name": "stderr",
     "output_type": "stream",
     "text": [
      "/Users/Tatsuro-Tokume/opt/anaconda3/lib/python3.8/site-packages/sklearn/metrics/_ranking.py:941: UndefinedMetricWarning: No negative samples in y_true, false positive value should be meaningless\n",
      "  warnings.warn(\"No negative samples in y_true, \"\n"
     ]
    },
    {
     "data": {
      "image/png": "[encoded data removed]",
      "text/plain": [
       "<Figure size 1440x360 with 1 Axes>"
      ]
     },
     "metadata": {},
     "output_type": "display_data"
    }
   ],
   "source": [
    "print('学習')\n",
    "pc_model.fit(train_X, train_y)\n",
    "pc_predict = pc_model.predict(test_X)\n",
    "\n",
    "print('混同行列')\n",
    "df = show_confusion_matrix(pc_predict, test_y)\n",
    "df\n",
    "\n",
    "print('ROC曲線')\n",
    "show_roc_curve(pc_predict, test_y)"
   ]
  },
  {
   "cell_type": "markdown",
   "metadata": {},
   "source": [
    "## 確率的勾配降下法"
   ]
  },
  {
   "cell_type": "markdown",
   "metadata": {},
   "source": [
    "### 学習、混同行列、ROC曲線"
   ]
  },
  {
   "cell_type": "code",
   "execution_count": 22,
   "metadata": {
    "pycharm": {
     "is_executing": true
    }
   },
   "outputs": [
    {
     "name": "stdout",
     "output_type": "stream",
     "text": [
      "学習\n"
     ]
    },
    {
     "data": {
      "text/plain": [
       "Pipeline(steps=[('sgdclassifier', SGDClassifier())])"
      ]
     },
     "execution_count": 22,
     "metadata": {},
     "output_type": "execute_result"
    },
    {
     "name": "stdout",
     "output_type": "stream",
     "text": [
      "混同行列\n"
     ]
    },
    {
     "data": {
      "text/html": [
       "<div>\n",
       "<style scoped>\n",
       "    .dataframe tbody tr th:only-of-type {\n",
       "        vertical-align: middle;\n",
       "    }\n",
       "\n",
       "    .dataframe tbody tr th {\n",
       "        vertical-align: top;\n",
       "    }\n",
       "\n",
       "    .dataframe thead tr th {\n",
       "        text-align: left;\n",
       "    }\n",
       "</style>\n",
       "<table border=\"1\" class=\"dataframe\">\n",
       "  <thead>\n",
       "    <tr>\n",
       "      <th></th>\n",
       "      <th>Predict_Negative</th>\n",
       "      <th>Predict_Positive</th>\n",
       "    </tr>\n",
       "  </thead>\n",
       "  <tbody>\n",
       "    <tr>\n",
       "      <th>Actual_Negative</th>\n",
       "      <td>103</td>\n",
       "      <td>1</td>\n",
       "    </tr>\n",
       "    <tr>\n",
       "      <th>Actual_Positive</th>\n",
       "      <td>63</td>\n",
       "      <td>16</td>\n",
       "    </tr>\n",
       "  </tbody>\n",
       "</table>\n",
       "</div>"
      ],
      "text/plain": [
       "                Predict_Negative Predict_Positive\n",
       "Actual_Negative              103                1\n",
       "Actual_Positive               63               16"
      ]
     },
     "execution_count": 22,
     "metadata": {},
     "output_type": "execute_result"
    },
    {
     "name": "stdout",
     "output_type": "stream",
     "text": [
      "ROC曲線\n",
      "auc: 0.781\n"
     ]
    },
    {
     "data": {
      "image/png": "[encoded data removed]",
      "text/plain": [
       "<Figure size 1440x360 with 1 Axes>"
      ]
     },
     "metadata": {},
     "output_type": "display_data"
    }
   ],
   "source": [
    "print('学習')\n",
    "sgd_model.fit(train_X, train_y)\n",
    "sgd_predict = sgd_model.predict(test_X)\n",
    "\n",
    "print('混同行列')\n",
    "df = show_confusion_matrix(sgd_predict, test_y)\n",
    "df\n",
    "\n",
    "print('ROC曲線')\n",
    "show_roc_curve(sgd_predict, test_y)"
   ]
  },
  {
   "cell_type": "markdown",
   "metadata": {},
   "source": [
    "## ナイーブベイズ分類器"
   ]
  },
  {
   "cell_type": "markdown",
   "metadata": {},
   "source": [
    "### 学習、混同行列、ROC曲線"
   ]
  },
  {
   "cell_type": "code",
   "execution_count": 23,
   "metadata": {
    "pycharm": {
     "is_executing": true
    }
   },
   "outputs": [
    {
     "name": "stdout",
     "output_type": "stream",
     "text": [
      "学習\n"
     ]
    },
    {
     "data": {
      "text/plain": [
       "Pipeline(steps=[('gaussiannb', GaussianNB())])"
      ]
     },
     "execution_count": 23,
     "metadata": {},
     "output_type": "execute_result"
    },
    {
     "name": "stdout",
     "output_type": "stream",
     "text": [
      "混同行列\n"
     ]
    },
    {
     "data": {
      "text/html": [
       "<div>\n",
       "<style scoped>\n",
       "    .dataframe tbody tr th:only-of-type {\n",
       "        vertical-align: middle;\n",
       "    }\n",
       "\n",
       "    .dataframe tbody tr th {\n",
       "        vertical-align: top;\n",
       "    }\n",
       "\n",
       "    .dataframe thead tr th {\n",
       "        text-align: left;\n",
       "    }\n",
       "</style>\n",
       "<table border=\"1\" class=\"dataframe\">\n",
       "  <thead>\n",
       "    <tr>\n",
       "      <th></th>\n",
       "      <th>Predict_Negative</th>\n",
       "      <th>Predict_Positive</th>\n",
       "    </tr>\n",
       "  </thead>\n",
       "  <tbody>\n",
       "    <tr>\n",
       "      <th>Actual_Negative</th>\n",
       "      <td>92</td>\n",
       "      <td>12</td>\n",
       "    </tr>\n",
       "    <tr>\n",
       "      <th>Actual_Positive</th>\n",
       "      <td>53</td>\n",
       "      <td>26</td>\n",
       "    </tr>\n",
       "  </tbody>\n",
       "</table>\n",
       "</div>"
      ],
      "text/plain": [
       "                Predict_Negative Predict_Positive\n",
       "Actual_Negative               92               12\n",
       "Actual_Positive               53               26"
      ]
     },
     "execution_count": 23,
     "metadata": {},
     "output_type": "execute_result"
    },
    {
     "name": "stdout",
     "output_type": "stream",
     "text": [
      "ROC曲線\n",
      "auc: 0.659\n"
     ]
    },
    {
     "data": {
      "image/png": "[encoded data removed]",
      "text/plain": [
       "<Figure size 1440x360 with 1 Axes>"
      ]
     },
     "metadata": {},
     "output_type": "display_data"
    }
   ],
   "source": [
    "print('学習')\n",
    "nb_model.fit(train_X, train_y)\n",
    "nb_predict = nb_model.predict_proba(test_X)[:, 1]\n",
    "\n",
    "print('混同行列')\n",
    "df = show_confusion_matrix(nb_predict, test_y)\n",
    "df\n",
    "\n",
    "print('ROC曲線')\n",
    "show_roc_curve(nb_predict, test_y)"
   ]
  },
  {
   "cell_type": "markdown",
   "metadata": {},
   "source": [
    "## XGBoost"
   ]
  },
  {
   "cell_type": "markdown",
   "metadata": {},
   "source": [
    "### 学習、混同行列、ROC曲線"
   ]
  },
  {
   "cell_type": "code",
   "execution_count": 24,
   "metadata": {
    "pycharm": {
     "is_executing": true
    }
   },
   "outputs": [
    {
     "name": "stdout",
     "output_type": "stream",
     "text": [
      "学習\n",
      "混同行列\n"
     ]
    },
    {
     "data": {
      "text/html": [
       "<div>\n",
       "<style scoped>\n",
       "    .dataframe tbody tr th:only-of-type {\n",
       "        vertical-align: middle;\n",
       "    }\n",
       "\n",
       "    .dataframe tbody tr th {\n",
       "        vertical-align: top;\n",
       "    }\n",
       "\n",
       "    .dataframe thead tr th {\n",
       "        text-align: left;\n",
       "    }\n",
       "</style>\n",
       "<table border=\"1\" class=\"dataframe\">\n",
       "  <thead>\n",
       "    <tr>\n",
       "      <th></th>\n",
       "      <th>Predict_Negative</th>\n",
       "      <th>Predict_Positive</th>\n",
       "    </tr>\n",
       "  </thead>\n",
       "  <tbody>\n",
       "    <tr>\n",
       "      <th>Actual_Negative</th>\n",
       "      <td>94</td>\n",
       "      <td>10</td>\n",
       "    </tr>\n",
       "    <tr>\n",
       "      <th>Actual_Positive</th>\n",
       "      <td>5</td>\n",
       "      <td>74</td>\n",
       "    </tr>\n",
       "  </tbody>\n",
       "</table>\n",
       "</div>"
      ],
      "text/plain": [
       "                Predict_Negative Predict_Positive\n",
       "Actual_Negative               94               10\n",
       "Actual_Positive                5               74"
      ]
     },
     "execution_count": 24,
     "metadata": {},
     "output_type": "execute_result"
    },
    {
     "name": "stdout",
     "output_type": "stream",
     "text": [
      "ROC曲線\n",
      "auc: 0.915\n"
     ]
    },
    {
     "data": {
      "image/png": "[encoded data removed]",
      "text/plain": [
       "<Figure size 1440x360 with 1 Axes>"
      ]
     },
     "metadata": {},
     "output_type": "display_data"
    }
   ],
   "source": [
    "print('学習')\n",
    "xgb_predict = xgb_model.predict(dtest)\n",
    "xgb_pred = np.where(xgb_predict > 0.5, '1', '0')\n",
    "\n",
    "print('混同行列')\n",
    "df = show_confusion_matrix(xgb_predict, y_test)\n",
    "df\n",
    "\n",
    "print('ROC曲線')\n",
    "show_roc_curve(xgb_predict, y_test)"
   ]
  },
  {
   "cell_type": "markdown",
   "metadata": {},
   "source": [
    "## 交差検証（KFold, XGBoost）"
   ]
  },
  {
   "cell_type": "markdown",
   "metadata": {},
   "source": [
    "### 学習、混同行列、ROC曲線学習"
   ]
  },
  {
   "cell_type": "code",
   "execution_count": 25,
   "metadata": {
    "pycharm": {
     "is_executing": true
    }
   },
   "outputs": [],
   "source": [
    "def xgb_training():\n",
    "    auc_scores=[]\n",
    "    kf = KFold(n_splits=5, shuffle=True, random_state=0)\n",
    "    \n",
    "    print(\"K-HoldでのXGBoost用のデータ\")\n",
    "    sample_float_kf = df_sample.astype(float).copy()\n",
    "\n",
    "    xgb_params_kf = {\n",
    "        'boosting_type': 'gbdt',\n",
    "        'objective': 'binary:logistic', \n",
    "        'metric': {'binary_error'},\n",
    "        'num_leaves': 200,\n",
    "        'num_iterations':200,\n",
    "        'learning_rate': 0.01,\n",
    "        'feature_fraction': 0.9,\n",
    "        'bagging_fraction': 0.8,\n",
    "        'bagging_freq': 10,\n",
    "        'max_depth':10,\n",
    "        'colsample_bytree':1,\n",
    "        'n_estimators':500,\n",
    "        'vervose': 0,\n",
    "        'num_boost_round': 100,\n",
    "        'early_stopping_rounds': 100,\n",
    "        'verbose_eval': 50,\n",
    "    }\n",
    "\n",
    "    auc_scores_kf = []\n",
    "    for train_index_kf, val_index_kf in kf.split(df_sample.index):\n",
    "        X_train_kf = sample_float_kf.drop('購入フラグ', axis=1).iloc[train_index_kf]\n",
    "        y_train_kf = sample_float_kf['購入フラグ'].iloc[train_index_kf]\n",
    "        X_test_kf = sample_float_kf.drop('購入フラグ', axis=1).iloc[val_index_kf]\n",
    "        y_test_kf = sample_float_kf['購入フラグ'].iloc[val_index_kf]\n",
    "\n",
    "        xgb_train_kf = xgb.DMatrix(X_train_kf, label=y_train_kf)\n",
    "        xgb_test_kf = xgb.DMatrix(X_test_kf, label=y_test_kf)\n",
    "\n",
    "        evals_kf = [(xgb_train_kf, 'train'), (xgb_test_kf, 'eval')]\n",
    "        evals_result_kf = {}\n",
    "\n",
    "        xgb_model_kf = xgb.train(\n",
    "                    xgb_params_kf,\n",
    "                    xgb_train_kf,\n",
    "                    evals=evals_kf,\n",
    "                    evals_result=evals_result_kf,\n",
    "                    )\n",
    "        xgb_predict_kf = xgb_model_kf.predict(xgb_test_kf)\n",
    "\n",
    "        fpr, tpr, thresholds = metrics.roc_curve(y_test_kf, xgb_predict_kf)\n",
    "        auc_kf = metrics.auc(fpr, tpr)\n",
    "        auc_scores_kf.append(auc_kf)\n",
    "\n",
    "    return xgb_model_kf, xgb_predict_kf, auc_scores_kf, y_test_kf"
   ]
  },
  {
   "cell_type": "code",
   "execution_count": 26,
   "metadata": {
    "pycharm": {
     "is_executing": true
    }
   },
   "outputs": [
    {
     "name": "stdout",
     "output_type": "stream",
     "text": [
      "K-HoldでのXGBoost用のデータ\n",
      "[21:14:24] WARNING: /opt/concourse/worker/volumes/live/7a2b9f41-3287-451b-6691-43e9a6c0910f/volume/xgboost-split_1619728204606/work/src/learner.cc:541: \n",
      "Parameters: { bagging_fraction, bagging_freq, boosting_type, early_stopping_rounds, feature_fraction, metric, n_estimators, num_boost_round, num_iterations, num_leaves, verbose_eval, vervose } might not be used.\n",
      "\n",
      "  This may not be accurate due to some parameters are only used in language bindings but\n",
      "  passed down to XGBoost core.  Or some parameters are not used but slip through this\n",
      "  verification. Please open an issue if you find above cases.\n",
      "\n",
      "\n",
      "[21:14:24] WARNING: /opt/concourse/worker/volumes/live/7a2b9f41-3287-451b-6691-43e9a6c0910f/volume/xgboost-split_1619728204606/work/src/learner.cc:1061: Starting in XGBoost 1.3.0, the default evaluation metric used with the objective 'binary:logistic' was changed from 'error' to 'logloss'. Explicitly set eval_metric if you'd like to restore the old behavior.\n",
      "[0]\ttrain-logloss:0.68578\teval-logloss:0.68658\n",
      "[1]\ttrain-logloss:0.67839\teval-logloss:0.67979\n",
      "[2]\ttrain-logloss:0.67136\teval-logloss:0.67368\n",
      "[3]\ttrain-logloss:0.66424\teval-logloss:0.66693\n",
      "[4]\ttrain-logloss:0.65725\teval-logloss:0.66051\n",
      "[5]\ttrain-logloss:0.65060\teval-logloss:0.65455\n",
      "[6]\ttrain-logloss:0.64386\teval-logloss:0.64817\n",
      "[7]\ttrain-logloss:0.63724\teval-logloss:0.64211\n",
      "[8]\ttrain-logloss:0.63094\teval-logloss:0.63649\n",
      "[9]\ttrain-logloss:0.62455\teval-logloss:0.63065\n",
      "[21:14:25] WARNING: /opt/concourse/worker/volumes/live/7a2b9f41-3287-451b-6691-43e9a6c0910f/volume/xgboost-split_1619728204606/work/src/learner.cc:541: \n",
      "Parameters: { bagging_fraction, bagging_freq, boosting_type, early_stopping_rounds, feature_fraction, metric, n_estimators, num_boost_round, num_iterations, num_leaves, verbose_eval, vervose } might not be used.\n",
      "\n",
      "  This may not be accurate due to some parameters are only used in language bindings but\n",
      "  passed down to XGBoost core.  Or some parameters are not used but slip through this\n",
      "  verification. Please open an issue if you find above cases.\n",
      "\n",
      "\n",
      "[21:14:25] WARNING: /opt/concourse/worker/volumes/live/7a2b9f41-3287-451b-6691-43e9a6c0910f/volume/xgboost-split_1619728204606/work/src/learner.cc:1061: Starting in XGBoost 1.3.0, the default evaluation metric used with the objective 'binary:logistic' was changed from 'error' to 'logloss'. Explicitly set eval_metric if you'd like to restore the old behavior.\n",
      "[0]\ttrain-logloss:0.68514\teval-logloss:0.68576\n",
      "[1]\ttrain-logloss:0.67730\teval-logloss:0.67862\n",
      "[2]\ttrain-logloss:0.66960\teval-logloss:0.67162\n",
      "[3]\ttrain-logloss:0.66205\teval-logloss:0.66466\n",
      "[4]\ttrain-logloss:0.65463\teval-logloss:0.65796\n",
      "[5]\ttrain-logloss:0.64736\teval-logloss:0.65127\n",
      "[6]\ttrain-logloss:0.64021\teval-logloss:0.64471\n",
      "[7]\ttrain-logloss:0.63319\teval-logloss:0.63839\n",
      "[8]\ttrain-logloss:0.62629\teval-logloss:0.63212\n",
      "[9]\ttrain-logloss:0.61952\teval-logloss:0.62604\n",
      "[21:14:25] WARNING: /opt/concourse/worker/volumes/live/7a2b9f41-3287-451b-6691-43e9a6c0910f/volume/xgboost-split_1619728204606/work/src/learner.cc:541: \n",
      "Parameters: { bagging_fraction, bagging_freq, boosting_type, early_stopping_rounds, feature_fraction, metric, n_estimators, num_boost_round, num_iterations, num_leaves, verbose_eval, vervose } might not be used.\n",
      "\n",
      "  This may not be accurate due to some parameters are only used in language bindings but\n",
      "  passed down to XGBoost core.  Or some parameters are not used but slip through this\n",
      "  verification. Please open an issue if you find above cases.\n",
      "\n",
      "\n",
      "[21:14:25] WARNING: /opt/concourse/worker/volumes/live/7a2b9f41-3287-451b-6691-43e9a6c0910f/volume/xgboost-split_1619728204606/work/src/learner.cc:1061: Starting in XGBoost 1.3.0, the default evaluation metric used with the objective 'binary:logistic' was changed from 'error' to 'logloss'. Explicitly set eval_metric if you'd like to restore the old behavior.\n",
      "[0]\ttrain-logloss:0.68518\teval-logloss:0.68553\n",
      "[1]\ttrain-logloss:0.67739\teval-logloss:0.67810\n",
      "[2]\ttrain-logloss:0.66974\teval-logloss:0.67082\n",
      "[3]\ttrain-logloss:0.66224\teval-logloss:0.66368\n",
      "[4]\ttrain-logloss:0.65487\teval-logloss:0.65668\n",
      "[5]\ttrain-logloss:0.64764\teval-logloss:0.64981\n",
      "[6]\ttrain-logloss:0.64055\teval-logloss:0.64306\n",
      "[7]\ttrain-logloss:0.63358\teval-logloss:0.63645\n",
      "[8]\ttrain-logloss:0.62672\teval-logloss:0.62999\n",
      "[9]\ttrain-logloss:0.61999\teval-logloss:0.62356\n",
      "[21:14:25] WARNING: /opt/concourse/worker/volumes/live/7a2b9f41-3287-451b-6691-43e9a6c0910f/volume/xgboost-split_1619728204606/work/src/learner.cc:541: \n",
      "Parameters: { bagging_fraction, bagging_freq, boosting_type, early_stopping_rounds, feature_fraction, metric, n_estimators, num_boost_round, num_iterations, num_leaves, verbose_eval, vervose } might not be used.\n",
      "\n",
      "  This may not be accurate due to some parameters are only used in language bindings but\n",
      "  passed down to XGBoost core.  Or some parameters are not used but slip through this\n",
      "  verification. Please open an issue if you find above cases.\n",
      "\n",
      "\n",
      "[21:14:25] WARNING: /opt/concourse/worker/volumes/live/7a2b9f41-3287-451b-6691-43e9a6c0910f/volume/xgboost-split_1619728204606/work/src/learner.cc:1061: Starting in XGBoost 1.3.0, the default evaluation metric used with the objective 'binary:logistic' was changed from 'error' to 'logloss'. Explicitly set eval_metric if you'd like to restore the old behavior.\n",
      "[0]\ttrain-logloss:0.68541\teval-logloss:0.68637\n",
      "[1]\ttrain-logloss:0.67785\teval-logloss:0.67977\n",
      "[2]\ttrain-logloss:0.67043\teval-logloss:0.67330\n",
      "[3]\ttrain-logloss:0.66315\teval-logloss:0.66696\n",
      "[4]\ttrain-logloss:0.65600\teval-logloss:0.66075\n",
      "[5]\ttrain-logloss:0.64899\teval-logloss:0.65465\n",
      "[6]\ttrain-logloss:0.64210\teval-logloss:0.64868\n",
      "[7]\ttrain-logloss:0.63534\teval-logloss:0.64282\n",
      "[8]\ttrain-logloss:0.62870\teval-logloss:0.63707\n",
      "[9]\ttrain-logloss:0.62218\teval-logloss:0.63143\n",
      "[21:14:25] WARNING: /opt/concourse/worker/volumes/live/7a2b9f41-3287-451b-6691-43e9a6c0910f/volume/xgboost-split_1619728204606/work/src/learner.cc:541: \n",
      "Parameters: { bagging_fraction, bagging_freq, boosting_type, early_stopping_rounds, feature_fraction, metric, n_estimators, num_boost_round, num_iterations, num_leaves, verbose_eval, vervose } might not be used.\n",
      "\n",
      "  This may not be accurate due to some parameters are only used in language bindings but\n",
      "  passed down to XGBoost core.  Or some parameters are not used but slip through this\n",
      "  verification. Please open an issue if you find above cases.\n",
      "\n",
      "\n",
      "[21:14:25] WARNING: /opt/concourse/worker/volumes/live/7a2b9f41-3287-451b-6691-43e9a6c0910f/volume/xgboost-split_1619728204606/work/src/learner.cc:1061: Starting in XGBoost 1.3.0, the default evaluation metric used with the objective 'binary:logistic' was changed from 'error' to 'logloss'. Explicitly set eval_metric if you'd like to restore the old behavior.\n",
      "[0]\ttrain-logloss:0.68560\teval-logloss:0.68624\n",
      "[1]\ttrain-logloss:0.67825\teval-logloss:0.67952\n",
      "[2]\ttrain-logloss:0.67104\teval-logloss:0.67292\n",
      "[3]\ttrain-logloss:0.66397\teval-logloss:0.66640\n",
      "[4]\ttrain-logloss:0.65703\teval-logloss:0.66005\n",
      "[5]\ttrain-logloss:0.65021\teval-logloss:0.65377\n",
      "[6]\ttrain-logloss:0.64353\teval-logloss:0.64761\n",
      "[7]\ttrain-logloss:0.63696\teval-logloss:0.64162\n",
      "[8]\ttrain-logloss:0.63052\teval-logloss:0.63568\n",
      "[9]\ttrain-logloss:0.62419\teval-logloss:0.62991\n"
     ]
    }
   ],
   "source": [
    "xgb_model_kf, xgb_predict_kf, auc_scores_kf, y_test_kf = xgb_training()"
   ]
  },
  {
   "cell_type": "code",
   "execution_count": 27,
   "metadata": {
    "pycharm": {
     "is_executing": true
    }
   },
   "outputs": [
    {
     "name": "stdout",
     "output_type": "stream",
     "text": [
      "k-fold-XGBoost-AUC\n"
     ]
    },
    {
     "data": {
      "text/plain": [
       "0.9387532462204657"
      ]
     },
     "execution_count": 27,
     "metadata": {},
     "output_type": "execute_result"
    },
    {
     "name": "stdout",
     "output_type": "stream",
     "text": [
      "混同行列\n"
     ]
    },
    {
     "data": {
      "text/html": [
       "<div>\n",
       "<style scoped>\n",
       "    .dataframe tbody tr th:only-of-type {\n",
       "        vertical-align: middle;\n",
       "    }\n",
       "\n",
       "    .dataframe tbody tr th {\n",
       "        vertical-align: top;\n",
       "    }\n",
       "\n",
       "    .dataframe thead tr th {\n",
       "        text-align: left;\n",
       "    }\n",
       "</style>\n",
       "<table border=\"1\" class=\"dataframe\">\n",
       "  <thead>\n",
       "    <tr>\n",
       "      <th></th>\n",
       "      <th>Predict_Negative</th>\n",
       "      <th>Predict_Positive</th>\n",
       "    </tr>\n",
       "  </thead>\n",
       "  <tbody>\n",
       "    <tr>\n",
       "      <th>Actual_Negative</th>\n",
       "      <td>61</td>\n",
       "      <td>8</td>\n",
       "    </tr>\n",
       "    <tr>\n",
       "      <th>Actual_Positive</th>\n",
       "      <td>5</td>\n",
       "      <td>48</td>\n",
       "    </tr>\n",
       "  </tbody>\n",
       "</table>\n",
       "</div>"
      ],
      "text/plain": [
       "                Predict_Negative Predict_Positive\n",
       "Actual_Negative               61                8\n",
       "Actual_Positive                5               48"
      ]
     },
     "execution_count": 27,
     "metadata": {},
     "output_type": "execute_result"
    },
    {
     "name": "stdout",
     "output_type": "stream",
     "text": [
      "ROC曲線\n",
      "auc: 0.891\n"
     ]
    },
    {
     "data": {
      "image/png": "[encoded data removed]",
      "text/plain": [
       "<Figure size 1440x360 with 1 Axes>"
      ]
     },
     "metadata": {},
     "output_type": "display_data"
    }
   ],
   "source": [
    "print(\"k-fold-XGBoost-AUC\")\n",
    "np.array(auc_scores_kf).mean()\n",
    "\n",
    "print(\"混同行列\")\n",
    "df = show_confusion_matrix(xgb_predict_kf, y_test_kf)\n",
    "df\n",
    "\n",
    "print(\"ROC曲線\")\n",
    "show_roc_curve(xgb_predict_kf, y_test_kf)"
   ]
  },
  {
   "cell_type": "markdown",
   "metadata": {},
   "source": [
    "## 交差検証（StratifiedKFold, XGBoost）"
   ]
  },
  {
   "cell_type": "code",
   "execution_count": 28,
   "metadata": {
    "pycharm": {
     "is_executing": true
    }
   },
   "outputs": [
    {
     "name": "stdout",
     "output_type": "stream",
     "text": [
      "StratifiedKHold用のXGBoost用のデータ\n",
      "パラメータ\n",
      "学習\n",
      "[21:14:25] WARNING: /opt/concourse/worker/volumes/live/7a2b9f41-3287-451b-6691-43e9a6c0910f/volume/xgboost-split_1619728204606/work/src/learner.cc:541: \n",
      "Parameters: { bagging_fraction, bagging_freq, boosting_type, early_stopping_rounds, feature_fraction, metric, n_estimators, num_boost_round, num_iterations, num_leaves, verbose_eval, vervose } might not be used.\n",
      "\n",
      "  This may not be accurate due to some parameters are only used in language bindings but\n",
      "  passed down to XGBoost core.  Or some parameters are not used but slip through this\n",
      "  verification. Please open an issue if you find above cases.\n",
      "\n",
      "\n",
      "[21:14:25] WARNING: /opt/concourse/worker/volumes/live/7a2b9f41-3287-451b-6691-43e9a6c0910f/volume/xgboost-split_1619728204606/work/src/learner.cc:1061: Starting in XGBoost 1.3.0, the default evaluation metric used with the objective 'binary:logistic' was changed from 'error' to 'logloss'. Explicitly set eval_metric if you'd like to restore the old behavior.\n",
      "[0]\ttrain-logloss:0.68489\teval-logloss:0.68629\n",
      "[1]\ttrain-logloss:0.67682\teval-logloss:0.67949\n",
      "[2]\ttrain-logloss:0.66893\teval-logloss:0.67284\n",
      "[3]\ttrain-logloss:0.66117\teval-logloss:0.66620\n",
      "[4]\ttrain-logloss:0.65356\teval-logloss:0.65987\n",
      "[5]\ttrain-logloss:0.64606\teval-logloss:0.65332\n",
      "[6]\ttrain-logloss:0.63871\teval-logloss:0.64724\n",
      "[7]\ttrain-logloss:0.63150\teval-logloss:0.64129\n",
      "[8]\ttrain-logloss:0.62440\teval-logloss:0.63512\n",
      "[9]\ttrain-logloss:0.61744\teval-logloss:0.62940\n",
      "[21:14:26] WARNING: /opt/concourse/worker/volumes/live/7a2b9f41-3287-451b-6691-43e9a6c0910f/volume/xgboost-split_1619728204606/work/src/learner.cc:541: \n",
      "Parameters: { bagging_fraction, bagging_freq, boosting_type, early_stopping_rounds, feature_fraction, metric, n_estimators, num_boost_round, num_iterations, num_leaves, verbose_eval, vervose } might not be used.\n",
      "\n",
      "  This may not be accurate due to some parameters are only used in language bindings but\n",
      "  passed down to XGBoost core.  Or some parameters are not used but slip through this\n",
      "  verification. Please open an issue if you find above cases.\n",
      "\n",
      "\n",
      "[21:14:26] WARNING: /opt/concourse/worker/volumes/live/7a2b9f41-3287-451b-6691-43e9a6c0910f/volume/xgboost-split_1619728204606/work/src/learner.cc:1061: Starting in XGBoost 1.3.0, the default evaluation metric used with the objective 'binary:logistic' was changed from 'error' to 'logloss'. Explicitly set eval_metric if you'd like to restore the old behavior.\n",
      "[0]\ttrain-logloss:0.68559\teval-logloss:0.68670\n",
      "[1]\ttrain-logloss:0.67832\teval-logloss:0.68074\n",
      "[2]\ttrain-logloss:0.67113\teval-logloss:0.67483\n",
      "[3]\ttrain-logloss:0.66414\teval-logloss:0.66912\n",
      "[4]\ttrain-logloss:0.65666\teval-logloss:0.66238\n",
      "[5]\ttrain-logloss:0.64933\teval-logloss:0.65575\n",
      "[6]\ttrain-logloss:0.64212\teval-logloss:0.64926\n",
      "[7]\ttrain-logloss:0.63505\teval-logloss:0.64295\n",
      "[8]\ttrain-logloss:0.62810\teval-logloss:0.63672\n",
      "[9]\ttrain-logloss:0.62128\teval-logloss:0.63065\n",
      "[21:14:26] WARNING: /opt/concourse/worker/volumes/live/7a2b9f41-3287-451b-6691-43e9a6c0910f/volume/xgboost-split_1619728204606/work/src/learner.cc:541: \n",
      "Parameters: { bagging_fraction, bagging_freq, boosting_type, early_stopping_rounds, feature_fraction, metric, n_estimators, num_boost_round, num_iterations, num_leaves, verbose_eval, vervose } might not be used.\n",
      "\n",
      "  This may not be accurate due to some parameters are only used in language bindings but\n",
      "  passed down to XGBoost core.  Or some parameters are not used but slip through this\n",
      "  verification. Please open an issue if you find above cases.\n",
      "\n",
      "\n",
      "[21:14:26] WARNING: /opt/concourse/worker/volumes/live/7a2b9f41-3287-451b-6691-43e9a6c0910f/volume/xgboost-split_1619728204606/work/src/learner.cc:1061: Starting in XGBoost 1.3.0, the default evaluation metric used with the objective 'binary:logistic' was changed from 'error' to 'logloss'. Explicitly set eval_metric if you'd like to restore the old behavior.\n",
      "[0]\ttrain-logloss:0.68552\teval-logloss:0.68762\n",
      "[1]\ttrain-logloss:0.67809\teval-logloss:0.68235\n",
      "[2]\ttrain-logloss:0.67079\teval-logloss:0.67721\n",
      "[3]\ttrain-logloss:0.66363\teval-logloss:0.67218\n",
      "[4]\ttrain-logloss:0.65660\teval-logloss:0.66726\n",
      "[5]\ttrain-logloss:0.64970\teval-logloss:0.66246\n",
      "[6]\ttrain-logloss:0.64293\teval-logloss:0.65776\n",
      "[7]\ttrain-logloss:0.63628\teval-logloss:0.65315\n",
      "[8]\ttrain-logloss:0.62974\teval-logloss:0.64866\n",
      "[9]\ttrain-logloss:0.62333\teval-logloss:0.64427\n",
      "[21:14:26] WARNING: /opt/concourse/worker/volumes/live/7a2b9f41-3287-451b-6691-43e9a6c0910f/volume/xgboost-split_1619728204606/work/src/learner.cc:541: \n",
      "Parameters: { bagging_fraction, bagging_freq, boosting_type, early_stopping_rounds, feature_fraction, metric, n_estimators, num_boost_round, num_iterations, num_leaves, verbose_eval, vervose } might not be used.\n",
      "\n",
      "  This may not be accurate due to some parameters are only used in language bindings but\n",
      "  passed down to XGBoost core.  Or some parameters are not used but slip through this\n",
      "  verification. Please open an issue if you find above cases.\n",
      "\n",
      "\n",
      "[21:14:26] WARNING: /opt/concourse/worker/volumes/live/7a2b9f41-3287-451b-6691-43e9a6c0910f/volume/xgboost-split_1619728204606/work/src/learner.cc:1061: Starting in XGBoost 1.3.0, the default evaluation metric used with the objective 'binary:logistic' was changed from 'error' to 'logloss'. Explicitly set eval_metric if you'd like to restore the old behavior.\n",
      "[0]\ttrain-logloss:0.68537\teval-logloss:0.68670\n",
      "[1]\ttrain-logloss:0.67780\teval-logloss:0.68036\n",
      "[2]\ttrain-logloss:0.67038\teval-logloss:0.67403\n",
      "[3]\ttrain-logloss:0.66310\teval-logloss:0.66784\n",
      "[4]\ttrain-logloss:0.65595\teval-logloss:0.66187\n",
      "[5]\ttrain-logloss:0.64893\teval-logloss:0.65591\n",
      "[6]\ttrain-logloss:0.64204\teval-logloss:0.65017\n",
      "[7]\ttrain-logloss:0.63528\teval-logloss:0.64454\n",
      "[8]\ttrain-logloss:0.62864\teval-logloss:0.63893\n",
      "[9]\ttrain-logloss:0.62212\teval-logloss:0.63352\n",
      "[21:14:26] WARNING: /opt/concourse/worker/volumes/live/7a2b9f41-3287-451b-6691-43e9a6c0910f/volume/xgboost-split_1619728204606/work/src/learner.cc:541: \n",
      "Parameters: { bagging_fraction, bagging_freq, boosting_type, early_stopping_rounds, feature_fraction, metric, n_estimators, num_boost_round, num_iterations, num_leaves, verbose_eval, vervose } might not be used.\n",
      "\n",
      "  This may not be accurate due to some parameters are only used in language bindings but\n",
      "  passed down to XGBoost core.  Or some parameters are not used but slip through this\n",
      "  verification. Please open an issue if you find above cases.\n",
      "\n",
      "\n",
      "[21:14:26] WARNING: /opt/concourse/worker/volumes/live/7a2b9f41-3287-451b-6691-43e9a6c0910f/volume/xgboost-split_1619728204606/work/src/learner.cc:1061: Starting in XGBoost 1.3.0, the default evaluation metric used with the objective 'binary:logistic' was changed from 'error' to 'logloss'. Explicitly set eval_metric if you'd like to restore the old behavior.\n",
      "[0]\ttrain-logloss:0.68547\teval-logloss:0.68579\n",
      "[1]\ttrain-logloss:0.67808\teval-logloss:0.67851\n",
      "[2]\ttrain-logloss:0.67082\teval-logloss:0.67137\n",
      "[3]\ttrain-logloss:0.66370\teval-logloss:0.66437\n",
      "[4]\ttrain-logloss:0.65672\teval-logloss:0.65750\n",
      "[5]\ttrain-logloss:0.64985\teval-logloss:0.65084\n",
      "[6]\ttrain-logloss:0.64311\teval-logloss:0.64430\n",
      "[7]\ttrain-logloss:0.63650\teval-logloss:0.63781\n",
      "[8]\ttrain-logloss:0.63000\teval-logloss:0.63156\n",
      "[9]\ttrain-logloss:0.62362\teval-logloss:0.62538\n",
      "[21:14:26] WARNING: /opt/concourse/worker/volumes/live/7a2b9f41-3287-451b-6691-43e9a6c0910f/volume/xgboost-split_1619728204606/work/src/learner.cc:541: \n",
      "Parameters: { bagging_fraction, bagging_freq, boosting_type, early_stopping_rounds, feature_fraction, metric, n_estimators, num_boost_round, num_iterations, num_leaves, verbose_eval, vervose } might not be used.\n",
      "\n",
      "  This may not be accurate due to some parameters are only used in language bindings but\n",
      "  passed down to XGBoost core.  Or some parameters are not used but slip through this\n",
      "  verification. Please open an issue if you find above cases.\n",
      "\n",
      "\n",
      "[21:14:26] WARNING: /opt/concourse/worker/volumes/live/7a2b9f41-3287-451b-6691-43e9a6c0910f/volume/xgboost-split_1619728204606/work/src/learner.cc:1061: Starting in XGBoost 1.3.0, the default evaluation metric used with the objective 'binary:logistic' was changed from 'error' to 'logloss'. Explicitly set eval_metric if you'd like to restore the old behavior.\n",
      "[0]\ttrain-logloss:0.68567\teval-logloss:0.68548\n",
      "[1]\ttrain-logloss:0.67836\teval-logloss:0.67804\n",
      "[2]\ttrain-logloss:0.67119\teval-logloss:0.67084\n",
      "[3]\ttrain-logloss:0.66375\teval-logloss:0.66336\n",
      "[4]\ttrain-logloss:0.65644\teval-logloss:0.65602\n",
      "[5]\ttrain-logloss:0.64927\teval-logloss:0.64889\n",
      "[6]\ttrain-logloss:0.64222\teval-logloss:0.64189\n",
      "[7]\ttrain-logloss:0.63530\teval-logloss:0.63495\n",
      "[8]\ttrain-logloss:0.62851\teval-logloss:0.62815\n",
      "[9]\ttrain-logloss:0.62184\teval-logloss:0.62146\n",
      "[21:14:26] WARNING: /opt/concourse/worker/volumes/live/7a2b9f41-3287-451b-6691-43e9a6c0910f/volume/xgboost-split_1619728204606/work/src/learner.cc:541: \n",
      "Parameters: { bagging_fraction, bagging_freq, boosting_type, early_stopping_rounds, feature_fraction, metric, n_estimators, num_boost_round, num_iterations, num_leaves, verbose_eval, vervose } might not be used.\n",
      "\n",
      "  This may not be accurate due to some parameters are only used in language bindings but\n",
      "  passed down to XGBoost core.  Or some parameters are not used but slip through this\n",
      "  verification. Please open an issue if you find above cases.\n",
      "\n",
      "\n",
      "[21:14:26] WARNING: /opt/concourse/worker/volumes/live/7a2b9f41-3287-451b-6691-43e9a6c0910f/volume/xgboost-split_1619728204606/work/src/learner.cc:1061: Starting in XGBoost 1.3.0, the default evaluation metric used with the objective 'binary:logistic' was changed from 'error' to 'logloss'. Explicitly set eval_metric if you'd like to restore the old behavior.\n",
      "[0]\ttrain-logloss:0.68510\teval-logloss:0.68578\n",
      "[1]\ttrain-logloss:0.67730\teval-logloss:0.67809\n",
      "[2]\ttrain-logloss:0.66965\teval-logloss:0.67043\n",
      "[3]\ttrain-logloss:0.66214\teval-logloss:0.66299\n",
      "[4]\ttrain-logloss:0.65477\teval-logloss:0.65568\n",
      "[5]\ttrain-logloss:0.64753\teval-logloss:0.64844\n",
      "[6]\ttrain-logloss:0.64043\teval-logloss:0.64139\n",
      "[7]\ttrain-logloss:0.63346\teval-logloss:0.63448\n",
      "[8]"
     ]
    },
    {
     "data": {
      "text/html": [
       "<b>limit_output extension: Maximum message size of 10000 exceeded with 10044 characters</b>"
      ]
     },
     "metadata": {},
     "output_type": "display_data"
    }
   ],
   "source": [
    "print(\"StratifiedKHold用のXGBoost用のデータ\")\n",
    "sample_skf_xgb = df_sample.astype(float).copy()\n",
    "target = '購入フラグ'\n",
    "Xtrain_skf_xgb = sample_skf_xgb.drop(columns=target)\n",
    "ytrain_skf_xgb = sample_skf_xgb[target]\n",
    "acc_results = []\n",
    "\n",
    "print(\"パラメータ\")\n",
    "xgb_params_skf_xgb = {\n",
    "    'boosting_type': 'gbdt',\n",
    "    'objective': 'binary:logistic', \n",
    "    'metric': {'binary_error'},\n",
    "    'num_leaves': 200,\n",
    "    'num_iterations':200,\n",
    "    'learning_rate': 0.01,\n",
    "    'feature_fraction': 0.9,\n",
    "    'bagging_fraction': 0.8,\n",
    "    'bagging_freq': 10,\n",
    "    'max_depth':10,\n",
    "    'colsample_bytree':1,\n",
    "    'n_estimators':500,\n",
    "    'vervose': 0,\n",
    "    'num_boost_round': 100,\n",
    "    'early_stopping_rounds': 100,\n",
    "    'verbose_eval': 50,\n",
    "}\n",
    "\n",
    "print(\"学習\")\n",
    "auc_scores_skf_xgb = []\n",
    "auc_scores=[]\n",
    "xgb_predict_skf_xgb_list = []\n",
    "y_val_skf_xgb_list = []\n",
    "cv = StratifiedKFold(n_splits=7, random_state=0, shuffle=True)\n",
    "for trn_index, val_index in cv.split(Xtrain_skf_xgb, ytrain_skf_xgb):\n",
    "    X_trn_skf_xgb, X_val_skf_xgb = Xtrain_skf_xgb.loc[trn_index], Xtrain_skf_xgb.loc[val_index]\n",
    "    y_trn_skf_xgb, y_val_skf_xgb = ytrain_skf_xgb[trn_index], ytrain_skf_xgb[val_index]\n",
    "    y_val_skf_xgb_list.append(y_val_skf_xgb)\n",
    "\n",
    "    xgb_train_skf_xgb = xgb.DMatrix(X_trn_skf_xgb, label=y_trn_skf_xgb)\n",
    "    xgb_test_skf_xgb = xgb.DMatrix(X_val_skf_xgb, label=y_val_skf_xgb)\n",
    "\n",
    "    evals_skf_xgb = [(xgb_train_skf_xgb, 'train'), (xgb_test_skf_xgb, 'eval')]\n",
    "    evals_result_skf_xgb = {}\n",
    "\n",
    "    xgb_model_skf_xgb = xgb.train(\n",
    "                xgb_params_skf_xgb,\n",
    "                xgb_train_skf_xgb,\n",
    "                evals=evals_skf_xgb,\n",
    "                evals_result=evals_result_skf_xgb,\n",
    "                )\n",
    "    xgb_predict_skf_xgb = xgb_model_skf_xgb.predict(xgb_test_skf_xgb)\n",
    "    xgb_predict_skf_xgb_list.append(xgb_predict_skf_xgb)\n",
    "\n",
    "    fpr_skf_xgb, tpr_skf_xgb, thresholds = metrics.roc_curve(y_val_skf_xgb, xgb_predict_skf_xgb)\n",
    "    auc_skf_xgb = metrics.auc(fpr_skf_xgb, tpr_skf_xgb)\n",
    "    auc_scores_skf_xgb.append(auc_skf_xgb)"
   ]
  },
  {
   "cell_type": "code",
   "execution_count": 29,
   "metadata": {
    "pycharm": {
     "is_executing": true
    }
   },
   "outputs": [
    {
     "data": {
      "text/plain": [
       "0.934"
      ]
     },
     "execution_count": 29,
     "metadata": {},
     "output_type": "execute_result"
    }
   ],
   "source": [
    "np.mean(auc_scores_skf_xgb).round(decimals=3)"
   ]
  },
  {
   "cell_type": "code",
   "execution_count": 30,
   "metadata": {
    "pycharm": {
     "is_executing": true
    }
   },
   "outputs": [
    {
     "name": "stdout",
     "output_type": "stream",
     "text": [
      "StratifiedKHoldでのXGBoostの評価\n",
      "正解率: 0.893\n",
      "適合率: 0.898\n",
      "再現率: 0.888\n",
      "F値: 0.893\n"
     ]
    }
   ],
   "source": [
    "print(\"StratifiedKHoldでのXGBoostの評価\")\n",
    "acc_list = []\n",
    "prec_list = []\n",
    "recl_list = []\n",
    "f1_list = []\n",
    "i = 0\n",
    "for predict in xgb_predict_skf_xgb_list:\n",
    "    pred_skf = np.where(predict > 0.5, 1, 0)\n",
    "    accuracy = accuracy_score(y_val_skf_xgb_list[i], pred_skf).round(decimals=3)\n",
    "    precision = precision_score(y_val_skf_xgb_list[i], pred_skf).round(decimals=3)\n",
    "    recall = recall_score(y_val_skf_xgb_list[i], pred_skf).round(decimals=3)\n",
    "    f1 = f1_score(y_val_skf_xgb_list[i], pred_skf).round(decimals=3)\n",
    "    \n",
    "    acc_list.append(accuracy)\n",
    "    prec_list.append(precision)    \n",
    "    recl_list.append(recall)\n",
    "    f1_list.append(f1)\n",
    "    i=i+1\n",
    "\n",
    "acc = np.mean(acc_list).mean().round(decimals=3)\n",
    "prec = np.mean(prec_list).mean().round(decimals=3)\n",
    "recl = np.mean(recl_list).mean().round(decimals=3)\n",
    "f = np.mean(f1_list).mean().round(decimals=3)\n",
    "print(f'正解率: {acc}')\n",
    "print(f'適合率: {prec}')\n",
    "print(f'再現率: {recl}')\n",
    "print(f'F値: {f}')"
   ]
  },
  {
   "cell_type": "markdown",
   "metadata": {},
   "source": [
    "## 交差検証（KFold, 近傍法（分類））"
   ]
  },
  {
   "cell_type": "code",
   "execution_count": 31,
   "metadata": {
    "pycharm": {
     "is_executing": true
    }
   },
   "outputs": [
    {
     "name": "stdout",
     "output_type": "stream",
     "text": [
      "ROC曲線の表示用関数\n"
     ]
    }
   ],
   "source": [
    "print(\"ROC曲線の表示用関数\")\n",
    "def show_roc_curve2(predict, test_y, i):\n",
    "    pred =  np.where(predict > 0.5, 1, 0)\n",
    "    fpr, tpr, thresholds = metrics.roc_curve(pred, test_y)\n",
    "    plt.xlabel('FPR')\n",
    "    plt.ylabel('TPR')\n",
    "    plt.legend()\n",
    "    plt.grid()\n",
    "    plt.plot(fpr, tpr, label=f'roc_curve {i}')\n",
    "\n",
    "    auc = metrics.auc(fpr, tpr)\n",
    "    print('auc: {:.3f}'.format(auc))\n",
    "    \n",
    "    return auc"
   ]
  },
  {
   "cell_type": "code",
   "execution_count": 32,
   "metadata": {
    "pycharm": {
     "is_executing": true
    }
   },
   "outputs": [
    {
     "name": "stdout",
     "output_type": "stream",
     "text": [
      "KFold\n"
     ]
    },
    {
     "data": {
      "text/plain": [
       "KNeighborsClassifier()"
      ]
     },
     "execution_count": 32,
     "metadata": {},
     "output_type": "execute_result"
    },
    {
     "data": {
      "text/html": [
       "<div>\n",
       "<style scoped>\n",
       "    .dataframe tbody tr th:only-of-type {\n",
       "        vertical-align: middle;\n",
       "    }\n",
       "\n",
       "    .dataframe tbody tr th {\n",
       "        vertical-align: top;\n",
       "    }\n",
       "\n",
       "    .dataframe thead tr th {\n",
       "        text-align: left;\n",
       "    }\n",
       "</style>\n",
       "<table border=\"1\" class=\"dataframe\">\n",
       "  <thead>\n",
       "    <tr>\n",
       "      <th></th>\n",
       "      <th>Predict_Negative</th>\n",
       "      <th>Predict_Positive</th>\n",
       "    </tr>\n",
       "  </thead>\n",
       "  <tbody>\n",
       "    <tr>\n",
       "      <th>Actual_Negative</th>\n",
       "      <td>30</td>\n",
       "      <td>3</td>\n",
       "    </tr>\n",
       "    <tr>\n",
       "      <th>Actual_Positive</th>\n",
       "      <td>1</td>\n",
       "      <td>43</td>\n",
       "    </tr>\n",
       "  </tbody>\n",
       "</table>\n",
       "</div>"
      ],
      "text/plain": [
       "                Predict_Negative Predict_Positive\n",
       "Actual_Negative               30                3\n",
       "Actual_Positive                1               43"
      ]
     },
     "execution_count": 32,
     "metadata": {},
     "output_type": "execute_result"
    },
    {
     "name": "stderr",
     "output_type": "stream",
     "text": [
      "No handles with labels found to put in legend.\n"
     ]
    },
    {
     "name": "stdout",
     "output_type": "stream",
     "text": [
      "auc: 0.951\n"
     ]
    },
    {
     "data": {
      "text/plain": [
       "KNeighborsClassifier()"
      ]
     },
     "execution_count": 32,
     "metadata": {},
     "output_type": "execute_result"
    },
    {
     "data": {
      "text/html": [
       "<div>\n",
       "<style scoped>\n",
       "    .dataframe tbody tr th:only-of-type {\n",
       "        vertical-align: middle;\n",
       "    }\n",
       "\n",
       "    .dataframe tbody tr th {\n",
       "        vertical-align: top;\n",
       "    }\n",
       "\n",
       "    .dataframe thead tr th {\n",
       "        text-align: left;\n",
       "    }\n",
       "</style>\n",
       "<table border=\"1\" class=\"dataframe\">\n",
       "  <thead>\n",
       "    <tr>\n",
       "      <th></th>\n",
       "      <th>Predict_Negative</th>\n",
       "      <th>Predict_Positive</th>\n",
       "    </tr>\n",
       "  </thead>\n",
       "  <tbody>\n",
       "    <tr>\n",
       "      <th>Actual_Negative</th>\n",
       "      <td>39</td>\n",
       "      <td>5</td>\n",
       "    </tr>\n",
       "    <tr>\n",
       "      <th>Actual_Positive</th>\n",
       "      <td>0</td>\n",
       "      <td>33</td>\n",
       "    </tr>\n",
       "  </tbody>\n",
       "</table>\n",
       "</div>"
      ],
      "text/plain": [
       "                Predict_Negative Predict_Positive\n",
       "Actual_Negative               39                5\n",
       "Actual_Positive                0               33"
      ]
     },
     "execution_count": 32,
     "metadata": {},
     "output_type": "execute_result"
    },
    {
     "name": "stdout",
     "output_type": "stream",
     "text": [
      "auc: 0.934\n"
     ]
    },
    {
     "data": {
      "text/plain": [
       "KNeighborsClassifier()"
      ]
     },
     "execution_count": 32,
     "metadata": {},
     "output_type": "execute_result"
    },
    {
     "data": {
      "text/html": [
       "<div>\n",
       "<style scoped>\n",
       "    .dataframe tbody tr th:only-of-type {\n",
       "        vertical-align: middle;\n",
       "    }\n",
       "\n",
       "    .dataframe tbody tr th {\n",
       "        vertical-align: top;\n",
       "    }\n",
       "\n",
       "    .dataframe thead tr th {\n",
       "        text-align: left;\n",
       "    }\n",
       "</style>\n",
       "<table border=\"1\" class=\"dataframe\">\n",
       "  <thead>\n",
       "    <tr>\n",
       "      <th></th>\n",
       "      <th>Predict_Negative</th>\n",
       "      <th>Predict_Positive</th>\n",
       "    </tr>\n",
       "  </thead>\n",
       "  <tbody>\n",
       "    <tr>\n",
       "      <th>Actual_Negative</th>\n",
       "      <td>26</td>\n",
       "      <td>6</td>\n",
       "    </tr>\n",
       "    <tr>\n",
       "      <th>Actual_Positive</th>\n",
       "      <td>2</td>\n",
       "      <td>42</td>\n",
       "    </tr>\n",
       "  </tbody>\n",
       "</table>\n",
       "</div>"
      ],
      "text/plain": [
       "                Predict_Negative Predict_Positive\n",
       "Actual_Negative               26                6\n",
       "Actual_Positive                2               42"
      ]
     },
     "execution_count": 32,
     "metadata": {},
     "output_type": "execute_result"
    },
    {
     "name": "stdout",
     "output_type": "stream",
     "text": [
      "auc: 0.902\n"
     ]
    },
    {
     "data": {
      "text/plain": [
       "KNeighborsClassifier()"
      ]
     },
     "execution_count": 32,
     "metadata": {},
     "output_type": "execute_result"
    },
    {
     "data": {
      "text/html": [
       "<div>\n",
       "<style scoped>\n",
       "    .dataframe tbody tr th:only-of-type {\n",
       "        vertical-align: middle;\n",
       "    }\n",
       "\n",
       "    .dataframe tbody tr th {\n",
       "        vertical-align: top;\n",
       "    }\n",
       "\n",
       "    .dataframe thead tr th {\n",
       "        text-align: left;\n",
       "    }\n",
       "</style>\n",
       "<table border=\"1\" class=\"dataframe\">\n",
       "  <thead>\n",
       "    <tr>\n",
       "      <th></th>\n",
       "      <th>Predict_Negative</th>\n",
       "      <th>Predict_Positive</th>\n",
       "    </tr>\n",
       "  </thead>\n",
       "  <tbody>\n",
       "    <tr>\n",
       "      <th>Actual_Negative</th>\n",
       "      <td>37</td>\n",
       "      <td>3</td>\n",
       "    </tr>\n",
       "    <tr>\n",
       "      <th>Actual_Positive</th>\n",
       "      <td>1</td>\n",
       "      <td>35</td>\n",
       "    </tr>\n",
       "  </tbody>\n",
       "</table>\n",
       "</div>"
      ],
      "text/plain": [
       "                Predict_Negative Predict_Positive\n",
       "Actual_Negative               37                3\n",
       "Actual_Positive                1               35"
      ]
     },
     "execution_count": 32,
     "metadata": {},
     "output_type": "execute_result"
    },
    {
     "name": "stdout",
     "output_type": "stream",
     "text": [
      "auc: 0.947\n"
     ]
    },
    {
     "data": {
      "text/plain": [
       "KNeighborsClassifier()"
      ]
     },
     "execution_count": 32,
     "metadata": {},
     "output_type": "execute_result"
    },
    {
     "data": {
      "text/html": [
       "<div>\n",
       "<style scoped>\n",
       "    .dataframe tbody tr th:only-of-type {\n",
       "        vertical-align: middle;\n",
       "    }\n",
       "\n",
       "    .dataframe tbody tr th {\n",
       "        vertical-align: top;\n",
       "    }\n",
       "\n",
       "    .dataframe thead tr th {\n",
       "        text-align: left;\n",
       "    }\n",
       "</style>\n",
       "<table border=\"1\" class=\"dataframe\">\n",
       "  <thead>\n",
       "    <tr>\n",
       "      <th></th>\n",
       "      <th>Predict_Negative</th>\n",
       "      <th>Predict_Positive</th>\n",
       "    </tr>\n",
       "  </thead>\n",
       "  <tbody>\n",
       "    <tr>\n",
       "      <th>Actual_Negative</th>\n",
       "      <td>31</td>\n",
       "      <td>1</td>\n",
       "    </tr>\n",
       "    <tr>\n",
       "      <th>Actual_Positive</th>\n",
       "      <td>2</td>\n",
       "      <td>42</td>\n",
       "    </tr>\n",
       "  </tbody>\n",
       "</table>\n",
       "</div>"
      ],
      "text/plain": [
       "                Predict_Negative Predict_Positive\n",
       "Actual_Negative               31                1\n",
       "Actual_Positive                2               42"
      ]
     },
     "execution_count": 32,
     "metadata": {},
     "output_type": "execute_result"
    },
    {
     "name": "stdout",
     "output_type": "stream",
     "text": [
      "auc: 0.958\n"
     ]
    },
    {
     "data": {
      "text/plain": [
       "KNeighborsClassifier()"
      ]
     },
     "execution_count": 32,
     "metadata": {},
     "output_type": "execute_result"
    },
    {
     "data": {
      "text/html": [
       "<div>\n",
       "<style scoped>\n",
       "    .dataframe tbody tr th:only-of-type {\n",
       "        vertical-align: middle;\n",
       "    }\n",
       "\n",
       "    .dataframe tbody tr th {\n",
       "        vertical-align: top;\n",
       "    }\n",
       "\n",
       "    .dataframe thead tr th {\n",
       "        text-align: left;\n",
       "    }\n",
       "</style>\n",
       "<table border=\"1\" class=\"dataframe\">\n",
       "  <thead>\n",
       "    <tr>\n",
       "      <th></th>\n",
       "      <th>Predict_Negative</th>\n",
       "      <th>Predict_Positive</th>\n",
       "    </tr>\n",
       "  </thead>\n",
       "  <tbody>\n",
       "    <tr>\n",
       "      <th>Actual_Negative</th>\n",
       "      <td>40</td>\n",
       "      <td>2</td>\n",
       "    </tr>\n",
       "    <tr>\n",
       "      <th>Actual_Positive</th>\n",
       "      <td>1</td>\n",
       "      <td>33</td>\n",
       "    </tr>\n",
       "  </tbody>\n",
       "</table>\n",
       "</div>"
      ],
      "text/plain": [
       "                Predict_Negative Predict_Positive\n",
       "Actual_Negative               40                2\n",
       "Actual_Positive                1               33"
      ]
     },
     "execution_count": 32,
     "metadata": {},
     "output_type": "execute_result"
    },
    {
     "name": "stdout",
     "output_type": "stream",
     "text": [
      "auc: 0.959\n"
     ]
    },
    {
     "data": {
      "text/plain": [
       "KNeighborsClassifier()"
      ]
     },
     "execution_count": 32,
     "metadata": {},
     "output_type": "execute_result"
    },
    {
     "data": {
      "text/html": [
       "<div>\n",
       "<style scoped>\n",
       "    .dataframe tbody tr th:only-of-type {\n",
       "        vertical-align: middle;\n",
       "    }\n",
       "\n",
       "    .dataframe tbody tr th {\n",
       "        vertical-align: top;\n",
       "    }\n",
       "\n",
       "    .dataframe thead tr th {\n",
       "        text-align: left;\n",
       "    }\n",
       "</style>\n",
       "<table border=\"1\" class=\"dataframe\">\n",
       "  <thead>\n",
       "    <tr>\n",
       "      <th></th>\n",
       "      <th>Predict_Negative</th>\n",
       "      <th>Predict_Positive</th>\n",
       "    </tr>\n",
       "  </thead>\n",
       "  <tbody>\n",
       "    <tr>\n",
       "      <th>Actual_Negative</th>\n",
       "      <td>40</td>\n",
       "      <td>2</td>\n",
       "    </tr>\n",
       "    <tr>\n",
       "      <th>Actual_Positive</th>\n",
       "      <td>0</td>\n",
       "      <td>34</td>\n",
       "    </tr>\n",
       "  </tbody>\n",
       "</table>\n",
       "</div>"
      ],
      "text/plain": [
       "                Predict_Negative Predict_Positive\n",
       "Actual_Negative               40                2\n",
       "Actual_Positive                0               34"
      ]
     },
     "execution_count": 32,
     "metadata": {},
     "output_type": "execute_result"
    },
    {
     "name": "stdout",
     "output_type": "stream",
     "text": [
      "auc: 0.972\n"
     ]
    },
    {
     "data": {
      "text/plain": [
       "KNeighborsClassifier()"
      ]
     },
     "execution_count": 32,
     "metadata": {},
     "output_type": "execute_result"
    },
    {
     "data": {
      "text/html": [
       "<div>\n",
       "<style scoped>\n",
       "    .dataframe tbody tr th:only-of-type {\n",
       "        vertical-align: middle;\n",
       "    }\n",
       "\n",
       "    .dataframe tbody tr th {\n",
       "        vertical-align: top;\n",
       "    }\n",
       "\n",
       "    .dataframe thead tr th {\n",
       "        text-align: left;\n",
       "    }\n",
       "</style>\n",
       "<table border=\"1\" class=\"dataframe\">\n",
       "  <thead>\n",
       "    <tr>\n",
       "      <th></th>\n",
       "      <th>Predict_Negative</th>\n",
       "      <th>Predict_Positive</th>\n",
       "    </tr>\n",
       "  </thead>\n",
       "  <tbody>\n",
       "    <tr>\n",
       "      <th>Actual_Negative</th>\n",
       "      <td>38</td>\n",
       "      <td>2</td>\n",
       "    </tr>\n",
       "    <tr>\n",
       "      <th>Actual_Positive</th>\n",
       "      <td>0</td>\n",
       "      <td>36</td>\n",
       "    </tr>\n",
       "  </tbody>\n",
       "</table>\n",
       "</div>"
      ],
      "text/plain": [
       "                Predict_Negative Predict_Positive\n",
       "Actual_Negative               38                2\n",
       "Actual_Positive                0               36"
      ]
     },
     "execution_count": 32,
     "metadata": {},
     "output_type": "execute_result"
    },
    {
     "name": "stdout",
     "output_type": "stream",
     "text": [
      "auc: 0.974\n",
      "平均正解率 0.949\n"
     ]
    },
    {
     "data": {
      "image/png": "[encoded data removed]",
      "text/plain": [
       "<Figure size 1440x360 with 1 Axes>"
      ]
     },
     "metadata": {},
     "output_type": "display_data"
    }
   ],
   "source": [
    "print(\"KFold\")\n",
    "i = 1\n",
    "kn_models_kf = []\n",
    "kn_predicts_kf = []\n",
    "acc_results = []\n",
    "auc_results = []\n",
    "y_vals_kf = []\n",
    "\n",
    "target = '購入フラグ'\n",
    "Xtrain = df_sample.drop(columns=target)\n",
    "ytrain = df_sample[target]\n",
    "kf = KFold(n_splits=8, random_state=0, shuffle=True)\n",
    "\n",
    "for trn_index, val_index in kf.split(Xtrain, ytrain):\n",
    "    X_trn, X_val = Xtrain.loc[trn_index], Xtrain.loc[val_index]\n",
    "    y_trn, y_val = ytrain[trn_index], ytrain[val_index]\n",
    "    y_vals_kf.append(y_val)\n",
    "\n",
    "    kn_model_kf = KNeighborsClassifier()\n",
    "    kn_model_kf.fit(X_trn, y_trn) # 学習\n",
    "    kn_models_kf.append(kn_model_kf)\n",
    "    kn_predict_kf = kn_model_kf.predict_proba(X_val)[:, 1] # 予測\n",
    "    kn_predicts_kf.append(kn_predict_kf)\n",
    "\n",
    "    acc = kn_model_kf.score(X_val, y_val) # 評価\n",
    "    acc_results.append(acc)\n",
    "    \n",
    "    kn_pred_kf = np.where(kn_predict_kf > 0.5, 1, 0) \n",
    "    df = show_confusion_matrix(kn_pred_kf, y_val) # 混同行列\n",
    "    df\n",
    "    \n",
    "    plt.grid()\n",
    "    auc = show_roc_curve2(kn_pred_kf, y_val, i) # ROC曲線\n",
    "    auc_results.append(auc)\n",
    "    i=i+1\n",
    "\n",
    "accuracy_mean = np.mean(acc_results).round(decimals=3)\n",
    "print(f'平均正解率 {accuracy_mean}')"
   ]
  },
  {
   "cell_type": "code",
   "execution_count": 33,
   "metadata": {
    "pycharm": {
     "is_executing": true
    }
   },
   "outputs": [
    {
     "name": "stdout",
     "output_type": "stream",
     "text": [
      "平均正解率 0.949\n"
     ]
    }
   ],
   "source": [
    "accuracy_mean = np.mean(acc_results).round(decimals=3)\n",
    "print(f'平均正解率 {accuracy_mean}')"
   ]
  },
  {
   "cell_type": "markdown",
   "metadata": {},
   "source": [
    "## 交差検証（StratifiedKFold, K近傍法（分類））"
   ]
  },
  {
   "cell_type": "code",
   "execution_count": 34,
   "metadata": {
    "pycharm": {
     "is_executing": true
    }
   },
   "outputs": [
    {
     "name": "stderr",
     "output_type": "stream",
     "text": [
      "0it [00:00, ?it/s]"
     ]
    },
    {
     "name": "stdout",
     "output_type": "stream",
     "text": [
      "StratifiedKFold\n"
     ]
    },
    {
     "data": {
      "text/plain": [
       "KNeighborsClassifier(n_neighbors=1, p=34)"
      ]
     },
     "execution_count": 34,
     "metadata": {},
     "output_type": "execute_result"
    },
    {
     "data": {
      "text/html": [
       "<div>\n",
       "<style scoped>\n",
       "    .dataframe tbody tr th:only-of-type {\n",
       "        vertical-align: middle;\n",
       "    }\n",
       "\n",
       "    .dataframe tbody tr th {\n",
       "        vertical-align: top;\n",
       "    }\n",
       "\n",
       "    .dataframe thead tr th {\n",
       "        text-align: left;\n",
       "    }\n",
       "</style>\n",
       "<table border=\"1\" class=\"dataframe\">\n",
       "  <thead>\n",
       "    <tr>\n",
       "      <th></th>\n",
       "      <th>Predict_Negative</th>\n",
       "      <th>Predict_Positive</th>\n",
       "    </tr>\n",
       "  </thead>\n",
       "  <tbody>\n",
       "    <tr>\n",
       "      <th>Actual_Negative</th>\n",
       "      <td>44</td>\n",
       "      <td>0</td>\n",
       "    </tr>\n",
       "    <tr>\n",
       "      <th>Actual_Positive</th>\n",
       "      <td>1</td>\n",
       "      <td>43</td>\n",
       "    </tr>\n",
       "  </tbody>\n",
       "</table>\n",
       "</div>"
      ],
      "text/plain": [
       "                Predict_Negative Predict_Positive\n",
       "Actual_Negative               44                0\n",
       "Actual_Positive                1               43"
      ]
     },
     "execution_count": 34,
     "metadata": {},
     "output_type": "execute_result"
    },
    {
     "name": "stderr",
     "output_type": "stream",
     "text": [
      "No handles with labels found to put in legend.\n",
      "1it [00:00,  7.45it/s]"
     ]
    },
    {
     "name": "stdout",
     "output_type": "stream",
     "text": [
      "auc: 0.989\n"
     ]
    },
    {
     "data": {
      "text/plain": [
       "KNeighborsClassifier(n_neighbors=1, p=34)"
      ]
     },
     "execution_count": 34,
     "metadata": {},
     "output_type": "execute_result"
    },
    {
     "data": {
      "text/html": [
       "<div>\n",
       "<style scoped>\n",
       "    .dataframe tbody tr th:only-of-type {\n",
       "        vertical-align: middle;\n",
       "    }\n",
       "\n",
       "    .dataframe tbody tr th {\n",
       "        vertical-align: top;\n",
       "    }\n",
       "\n",
       "    .dataframe thead tr th {\n",
       "        text-align: left;\n",
       "    }\n",
       "</style>\n",
       "<table border=\"1\" class=\"dataframe\">\n",
       "  <thead>\n",
       "    <tr>\n",
       "      <th></th>\n",
       "      <th>Predict_Negative</th>\n",
       "      <th>Predict_Positive</th>\n",
       "    </tr>\n",
       "  </thead>\n",
       "  <tbody>\n",
       "    <tr>\n",
       "      <th>Actual_Negative</th>\n",
       "      <td>42</td>\n",
       "      <td>2</td>\n",
       "    </tr>\n",
       "    <tr>\n",
       "      <th>Actual_Positive</th>\n",
       "      <td>1</td>\n",
       "      <td>42</td>\n",
       "    </tr>\n",
       "  </tbody>\n",
       "</table>\n",
       "</div>"
      ],
      "text/plain": [
       "                Predict_Negative Predict_Positive\n",
       "Actual_Negative               42                2\n",
       "Actual_Positive                1               42"
      ]
     },
     "execution_count": 34,
     "metadata": {},
     "output_type": "execute_result"
    },
    {
     "name": "stderr",
     "output_type": "stream",
     "text": [
      "2it [00:00,  7.84it/s]"
     ]
    },
    {
     "name": "stdout",
     "output_type": "stream",
     "text": [
      "auc: 0.966\n"
     ]
    },
    {
     "data": {
      "text/plain": [
       "KNeighborsClassifier(n_neighbors=1, p=34)"
      ]
     },
     "execution_count": 34,
     "metadata": {},
     "output_type": "execute_result"
    },
    {
     "data": {
      "text/html": [
       "<div>\n",
       "<style scoped>\n",
       "    .dataframe tbody tr th:only-of-type {\n",
       "        vertical-align: middle;\n",
       "    }\n",
       "\n",
       "    .dataframe tbody tr th {\n",
       "        vertical-align: top;\n",
       "    }\n",
       "\n",
       "    .dataframe thead tr th {\n",
       "        text-align: left;\n",
       "    }\n",
       "</style>\n",
       "<table border=\"1\" class=\"dataframe\">\n",
       "  <thead>\n",
       "    <tr>\n",
       "      <th></th>\n",
       "      <th>Predict_Negative</th>\n",
       "      <th>Predict_Positive</th>\n",
       "    </tr>\n",
       "  </thead>\n",
       "  <tbody>\n",
       "    <tr>\n",
       "      <th>Actual_Negative</th>\n",
       "      <td>42</td>\n",
       "      <td>2</td>\n",
       "    </tr>\n",
       "    <tr>\n",
       "      <th>Actual_Positive</th>\n",
       "      <td>5</td>\n",
       "      <td>38</td>\n",
       "    </tr>\n",
       "  </tbody>\n",
       "</table>\n",
       "</div>"
      ],
      "text/plain": [
       "                Predict_Negative Predict_Positive\n",
       "Actual_Negative               42                2\n",
       "Actual_Positive                5               38"
      ]
     },
     "execution_count": 34,
     "metadata": {},
     "output_type": "execute_result"
    },
    {
     "name": "stderr",
     "output_type": "stream",
     "text": [
      "3it [00:00,  8.17it/s]"
     ]
    },
    {
     "name": "stdout",
     "output_type": "stream",
     "text": [
      "auc: 0.922\n"
     ]
    },
    {
     "data": {
      "text/plain": [
       "KNeighborsClassifier(n_neighbors=1, p=34)"
      ]
     },
     "execution_count": 34,
     "metadata": {},
     "output_type": "execute_result"
    },
    {
     "data": {
      "text/html": [
       "<div>\n",
       "<style scoped>\n",
       "    .dataframe tbody tr th:only-of-type {\n",
       "        vertical-align: middle;\n",
       "    }\n",
       "\n",
       "    .dataframe tbody tr th {\n",
       "        vertical-align: top;\n",
       "    }\n",
       "\n",
       "    .dataframe thead tr th {\n",
       "        text-align: left;\n",
       "    }\n",
       "</style>\n",
       "<table border=\"1\" class=\"dataframe\">\n",
       "  <thead>\n",
       "    <tr>\n",
       "      <th></th>\n",
       "      <th>Predict_Negative</th>\n",
       "      <th>Predict_Positive</th>\n",
       "    </tr>\n",
       "  </thead>\n",
       "  <tbody>\n",
       "    <tr>\n",
       "      <th>Actual_Negative</th>\n",
       "      <td>42</td>\n",
       "      <td>2</td>\n",
       "    </tr>\n",
       "    <tr>\n",
       "      <th>Actual_Positive</th>\n",
       "      <td>1</td>\n",
       "      <td>42</td>\n",
       "    </tr>\n",
       "  </tbody>\n",
       "</table>\n",
       "</div>"
      ],
      "text/plain": [
       "                Predict_Negative Predict_Positive\n",
       "Actual_Negative               42                2\n",
       "Actual_Positive                1               42"
      ]
     },
     "execution_count": 34,
     "metadata": {},
     "output_type": "execute_result"
    },
    {
     "name": "stderr",
     "output_type": "stream",
     "text": [
      "4it [00:00,  8.32it/s]"
     ]
    },
    {
     "name": "stdout",
     "output_type": "stream",
     "text": [
      "auc: 0.966\n"
     ]
    },
    {
     "data": {
      "text/plain": [
       "KNeighborsClassifier(n_neighbors=1, p=34)"
      ]
     },
     "execution_count": 34,
     "metadata": {},
     "output_type": "execute_result"
    },
    {
     "data": {
      "text/html": [
       "<div>\n",
       "<style scoped>\n",
       "    .dataframe tbody tr th:only-of-type {\n",
       "        vertical-align: middle;\n",
       "    }\n",
       "\n",
       "    .dataframe tbody tr th {\n",
       "        vertical-align: top;\n",
       "    }\n",
       "\n",
       "    .dataframe thead tr th {\n",
       "        text-align: left;\n",
       "    }\n",
       "</style>\n",
       "<table border=\"1\" class=\"dataframe\">\n",
       "  <thead>\n",
       "    <tr>\n",
       "      <th></th>\n",
       "      <th>Predict_Negative</th>\n",
       "      <th>Predict_Positive</th>\n",
       "    </tr>\n",
       "  </thead>\n",
       "  <tbody>\n",
       "    <tr>\n",
       "      <th>Actual_Negative</th>\n",
       "      <td>43</td>\n",
       "      <td>0</td>\n",
       "    </tr>\n",
       "    <tr>\n",
       "      <th>Actual_Positive</th>\n",
       "      <td>4</td>\n",
       "      <td>40</td>\n",
       "    </tr>\n",
       "  </tbody>\n",
       "</table>\n",
       "</div>"
      ],
      "text/plain": [
       "                Predict_Negative Predict_Positive\n",
       "Actual_Negative               43                0\n",
       "Actual_Positive                4               40"
      ]
     },
     "execution_count": 34,
     "metadata": {},
     "output_type": "execute_result"
    },
    {
     "name": "stderr",
     "output_type": "stream",
     "text": [
      "5it [00:00,  8.64it/s]"
     ]
    },
    {
     "name": "stdout",
     "output_type": "stream",
     "text": [
      "auc: 0.957\n"
     ]
    },
    {
     "data": {
      "text/plain": [
       "KNeighborsClassifier(n_neighbors=1, p=34)"
      ]
     },
     "execution_count": 34,
     "metadata": {},
     "output_type": "execute_result"
    },
    {
     "data": {
      "text/html": [
       "<div>\n",
       "<style scoped>\n",
       "    .dataframe tbody tr th:only-of-type {\n",
       "        vertical-align: middle;\n",
       "    }\n",
       "\n",
       "    .dataframe tbody tr th {\n",
       "        vertical-align: top;\n",
       "    }\n",
       "\n",
       "    .dataframe thead tr th {\n",
       "        text-align: left;\n",
       "    }\n",
       "</style>\n",
       "<table border=\"1\" class=\"dataframe\">\n",
       "  <thead>\n",
       "    <tr>\n",
       "      <th></th>\n",
       "      <th>Predict_Negative</th>\n",
       "      <th>Predict_Positive</th>\n",
       "    </tr>\n",
       "  </thead>\n",
       "  <tbody>\n",
       "    <tr>\n",
       "      <th>Actual_Negative</th>\n",
       "      <td>43</td>\n",
       "      <td>0</td>\n",
       "    </tr>\n",
       "    <tr>\n",
       "      <th>Actual_Positive</th>\n",
       "      <td>3</td>\n",
       "      <td>41</td>\n",
       "    </tr>\n",
       "  </tbody>\n",
       "</table>\n",
       "</div>"
      ],
      "text/plain": [
       "                Predict_Negative Predict_Positive\n",
       "Actual_Negative               43                0\n",
       "Actual_Positive                3               41"
      ]
     },
     "execution_count": 34,
     "metadata": {},
     "output_type": "execute_result"
    },
    {
     "name": "stderr",
     "output_type": "stream",
     "text": [
      "6it [00:00,  8.71it/s]"
     ]
    },
    {
     "name": "stdout",
     "output_type": "stream",
     "text": [
      "auc: 0.967\n"
     ]
    },
    {
     "data": {
      "text/plain": [
       "KNeighborsClassifier(n_neighbors=1, p=34)"
      ]
     },
     "execution_count": 34,
     "metadata": {},
     "output_type": "execute_result"
    },
    {
     "data": {
      "text/html": [
       "<div>\n",
       "<style scoped>\n",
       "    .dataframe tbody tr th:only-of-type {\n",
       "        vertical-align: middle;\n",
       "    }\n",
       "\n",
       "    .dataframe tbody tr th {\n",
       "        vertical-align: top;\n",
       "    }\n",
       "\n",
       "    .dataframe thead tr th {\n",
       "        text-align: left;\n",
       "    }\n",
       "</style>\n",
       "<table border=\"1\" class=\"dataframe\">\n",
       "  <thead>\n",
       "    <tr>\n",
       "      <th></th>\n",
       "      <th>Predict_Negative</th>\n",
       "      <th>Predict_Positive</th>\n",
       "    </tr>\n",
       "  </thead>\n",
       "  <tbody>\n",
       "    <tr>\n",
       "      <th>Actual_Negative</th>\n",
       "      <td>42</td>\n",
       "      <td>1</td>\n",
       "    </tr>\n",
       "    <tr>\n",
       "      <th>Actual_Positive</th>\n",
       "      <td>4</td>\n",
       "      <td>40</td>\n",
       "    </tr>\n",
       "  </tbody>\n",
       "</table>\n",
       "</div>"
      ],
      "text/plain": [
       "                Predict_Negative Predict_Positive\n",
       "Actual_Negative               42                1\n",
       "Actual_Positive                4               40"
      ]
     },
     "execution_count": 34,
     "metadata": {},
     "output_type": "execute_result"
    },
    {
     "name": "stderr",
     "output_type": "stream",
     "text": [
      "7it [00:00,  8.77it/s]"
     ]
    },
    {
     "name": "stdout",
     "output_type": "stream",
     "text": [
      "auc: 0.944\n",
      "平均正解率 0.957\n"
     ]
    },
    {
     "name": "stderr",
     "output_type": "stream",
     "text": [
      "\n"
     ]
    },
    {
     "data": {
      "image/png": "[encoded data removed]",
      "text/plain": [
       "<Figure size 1440x360 with 1 Axes>"
      ]
     },
     "metadata": {},
     "output_type": "display_data"
    }
   ],
   "source": [
    "print(\"StratifiedKFold\")\n",
    "i = 1\n",
    "kn_models_skf = []\n",
    "kn_predicts_skf = []\n",
    "acc_results = []\n",
    "auc_results = []\n",
    "y_vals_skf = []\n",
    "\n",
    "target = '購入フラグ'\n",
    "Xtrain = df_sample.drop(columns=target)\n",
    "ytrain = df_sample[target]\n",
    "cv = StratifiedKFold(n_splits=7, random_state=0, shuffle=True)\n",
    "kn_model_skf = KNeighborsClassifier(n_neighbors=1, p=34)\n",
    "\n",
    "for trn_index, val_index in tqdm(cv.split(Xtrain, ytrain)):\n",
    "    X_trn, X_val = Xtrain.loc[trn_index], Xtrain.loc[val_index]\n",
    "    y_trn, y_val = ytrain[trn_index], ytrain[val_index]\n",
    "    y_vals_skf.append(y_val)\n",
    "\n",
    "    kn_model_skf.fit(X_trn, y_trn) # 学習\n",
    "    kn_models_skf.append(kn_model_skf) # モデル格納\n",
    "    kn_predict_skf = kn_model_skf.predict_proba(X_val)[:, 1] # 予測\n",
    "    kn_predicts_skf.append(kn_predict_skf)\n",
    "\n",
    "    acc = kn_model_skf.score(X_val, y_val) # 評価\n",
    "    acc_results.append(acc)\n",
    "    \n",
    "    kn_pred_skf = np.where(kn_predict_skf > 0.5, 1, 0) \n",
    "    df = show_confusion_matrix(kn_pred_skf, y_val) # 混同行列\n",
    "    df\n",
    "    \n",
    "    auc = show_roc_curve2(kn_pred_skf, y_val, i) # ROC曲線\n",
    "    auc_results.append(auc)\n",
    "    i=i+1\n",
    "\n",
    "accuracy_mean = np.mean(acc_results).round(decimals=3)\n",
    "print(f'平均正解率 {accuracy_mean}')"
   ]
  },
  {
   "cell_type": "code",
   "execution_count": 35,
   "metadata": {
    "pycharm": {
     "is_executing": true
    }
   },
   "outputs": [
    {
     "name": "stdout",
     "output_type": "stream",
     "text": [
      "平均正解率 0.957\n"
     ]
    }
   ],
   "source": [
    "accuracy_mean = np.mean(acc_results).round(decimals=3)\n",
    "print(f'平均正解率 {accuracy_mean}')"
   ]
  },
  {
   "cell_type": "markdown",
   "metadata": {},
   "source": [
    "### 考察"
   ]
  },
  {
   "cell_type": "markdown",
   "metadata": {},
   "source": [
    "ホールドアウト法でも高い評価。  \n",
    "StratifiedKFoldでより高い精度が出る可能性もあるが、処理時間がかなり長い為、現実的ではないと思われる。  \n",
    "K近傍法は大量データには向かないアルゴリズムのようだ。40万件では処理パフォーマンンスは厳しそう。別のアルゴリズムを検討するのが妥当かもしれない。    "
   ]
  },
  {
   "cell_type": "markdown",
   "metadata": {},
   "source": [
    "## 交差検証（StratifiedKFold, K近傍法（回帰））"
   ]
  },
  {
   "cell_type": "code",
   "execution_count": 38,
   "metadata": {
    "pycharm": {
     "is_executing": true
    }
   },
   "outputs": [
    {
     "name": "stdout",
     "output_type": "stream",
     "text": [
      "StratifiedKFold\n"
     ]
    },
    {
     "data": {
      "text/plain": [
       "KNeighborsRegressor(n_neighbors=1, p=34)"
      ]
     },
     "execution_count": 38,
     "metadata": {},
     "output_type": "execute_result"
    },
    {
     "data": {
      "text/html": [
       "<div>\n",
       "<style scoped>\n",
       "    .dataframe tbody tr th:only-of-type {\n",
       "        vertical-align: middle;\n",
       "    }\n",
       "\n",
       "    .dataframe tbody tr th {\n",
       "        vertical-align: top;\n",
       "    }\n",
       "\n",
       "    .dataframe thead tr th {\n",
       "        text-align: left;\n",
       "    }\n",
       "</style>\n",
       "<table border=\"1\" class=\"dataframe\">\n",
       "  <thead>\n",
       "    <tr>\n",
       "      <th></th>\n",
       "      <th>Predict_Negative</th>\n",
       "      <th>Predict_Positive</th>\n",
       "    </tr>\n",
       "  </thead>\n",
       "  <tbody>\n",
       "    <tr>\n",
       "      <th>Actual_Negative</th>\n",
       "      <td>44</td>\n",
       "      <td>0</td>\n",
       "    </tr>\n",
       "    <tr>\n",
       "      <th>Actual_Positive</th>\n",
       "      <td>1</td>\n",
       "      <td>43</td>\n",
       "    </tr>\n",
       "  </tbody>\n",
       "</table>\n",
       "</div>"
      ],
      "text/plain": [
       "                Predict_Negative Predict_Positive\n",
       "Actual_Negative               44                0\n",
       "Actual_Positive                1               43"
      ]
     },
     "execution_count": 38,
     "metadata": {},
     "output_type": "execute_result"
    },
    {
     "name": "stderr",
     "output_type": "stream",
     "text": [
      "No handles with labels found to put in legend.\n"
     ]
    },
    {
     "name": "stdout",
     "output_type": "stream",
     "text": [
      "auc: 0.989\n"
     ]
    },
    {
     "data": {
      "text/plain": [
       "KNeighborsRegressor(n_neighbors=1, p=34)"
      ]
     },
     "execution_count": 38,
     "metadata": {},
     "output_type": "execute_result"
    },
    {
     "data": {
      "text/html": [
       "<div>\n",
       "<style scoped>\n",
       "    .dataframe tbody tr th:only-of-type {\n",
       "        vertical-align: middle;\n",
       "    }\n",
       "\n",
       "    .dataframe tbody tr th {\n",
       "        vertical-align: top;\n",
       "    }\n",
       "\n",
       "    .dataframe thead tr th {\n",
       "        text-align: left;\n",
       "    }\n",
       "</style>\n",
       "<table border=\"1\" class=\"dataframe\">\n",
       "  <thead>\n",
       "    <tr>\n",
       "      <th></th>\n",
       "      <th>Predict_Negative</th>\n",
       "      <th>Predict_Positive</th>\n",
       "    </tr>\n",
       "  </thead>\n",
       "  <tbody>\n",
       "    <tr>\n",
       "      <th>Actual_Negative</th>\n",
       "      <td>42</td>\n",
       "      <td>2</td>\n",
       "    </tr>\n",
       "    <tr>\n",
       "      <th>Actual_Positive</th>\n",
       "      <td>1</td>\n",
       "      <td>42</td>\n",
       "    </tr>\n",
       "  </tbody>\n",
       "</table>\n",
       "</div>"
      ],
      "text/plain": [
       "                Predict_Negative Predict_Positive\n",
       "Actual_Negative               42                2\n",
       "Actual_Positive                1               42"
      ]
     },
     "execution_count": 38,
     "metadata": {},
     "output_type": "execute_result"
    },
    {
     "name": "stdout",
     "output_type": "stream",
     "text": [
      "auc: 0.966\n"
     ]
    },
    {
     "data": {
      "text/plain": [
       "KNeighborsRegressor(n_neighbors=1, p=34)"
      ]
     },
     "execution_count": 38,
     "metadata": {},
     "output_type": "execute_result"
    },
    {
     "data": {
      "text/html": [
       "<div>\n",
       "<style scoped>\n",
       "    .dataframe tbody tr th:only-of-type {\n",
       "        vertical-align: middle;\n",
       "    }\n",
       "\n",
       "    .dataframe tbody tr th {\n",
       "        vertical-align: top;\n",
       "    }\n",
       "\n",
       "    .dataframe thead tr th {\n",
       "        text-align: left;\n",
       "    }\n",
       "</style>\n",
       "<table border=\"1\" class=\"dataframe\">\n",
       "  <thead>\n",
       "    <tr>\n",
       "      <th></th>\n",
       "      <th>Predict_Negative</th>\n",
       "      <th>Predict_Positive</th>\n",
       "    </tr>\n",
       "  </thead>\n",
       "  <tbody>\n",
       "    <tr>\n",
       "      <th>Actual_Negative</th>\n",
       "      <td>42</td>\n",
       "      <td>2</td>\n",
       "    </tr>\n",
       "    <tr>\n",
       "      <th>Actual_Positive</th>\n",
       "      <td>5</td>\n",
       "      <td>38</td>\n",
       "    </tr>\n",
       "  </tbody>\n",
       "</table>\n",
       "</div>"
      ],
      "text/plain": [
       "                Predict_Negative Predict_Positive\n",
       "Actual_Negative               42                2\n",
       "Actual_Positive                5               38"
      ]
     },
     "execution_count": 38,
     "metadata": {},
     "output_type": "execute_result"
    },
    {
     "name": "stdout",
     "output_type": "stream",
     "text": [
      "auc: 0.922\n"
     ]
    },
    {
     "data": {
      "text/plain": [
       "KNeighborsRegressor(n_neighbors=1, p=34)"
      ]
     },
     "execution_count": 38,
     "metadata": {},
     "output_type": "execute_result"
    },
    {
     "data": {
      "text/html": [
       "<div>\n",
       "<style scoped>\n",
       "    .dataframe tbody tr th:only-of-type {\n",
       "        vertical-align: middle;\n",
       "    }\n",
       "\n",
       "    .dataframe tbody tr th {\n",
       "        vertical-align: top;\n",
       "    }\n",
       "\n",
       "    .dataframe thead tr th {\n",
       "        text-align: left;\n",
       "    }\n",
       "</style>\n",
       "<table border=\"1\" class=\"dataframe\">\n",
       "  <thead>\n",
       "    <tr>\n",
       "      <th></th>\n",
       "      <th>Predict_Negative</th>\n",
       "      <th>Predict_Positive</th>\n",
       "    </tr>\n",
       "  </thead>\n",
       "  <tbody>\n",
       "    <tr>\n",
       "      <th>Actual_Negative</th>\n",
       "      <td>42</td>\n",
       "      <td>2</td>\n",
       "    </tr>\n",
       "    <tr>\n",
       "      <th>Actual_Positive</th>\n",
       "      <td>1</td>\n",
       "      <td>42</td>\n",
       "    </tr>\n",
       "  </tbody>\n",
       "</table>\n",
       "</div>"
      ],
      "text/plain": [
       "                Predict_Negative Predict_Positive\n",
       "Actual_Negative               42                2\n",
       "Actual_Positive                1               42"
      ]
     },
     "execution_count": 38,
     "metadata": {},
     "output_type": "execute_result"
    },
    {
     "name": "stdout",
     "output_type": "stream",
     "text": [
      "auc: 0.966\n"
     ]
    },
    {
     "data": {
      "text/plain": [
       "KNeighborsRegressor(n_neighbors=1, p=34)"
      ]
     },
     "execution_count": 38,
     "metadata": {},
     "output_type": "execute_result"
    },
    {
     "data": {
      "text/html": [
       "<div>\n",
       "<style scoped>\n",
       "    .dataframe tbody tr th:only-of-type {\n",
       "        vertical-align: middle;\n",
       "    }\n",
       "\n",
       "    .dataframe tbody tr th {\n",
       "        vertical-align: top;\n",
       "    }\n",
       "\n",
       "    .dataframe thead tr th {\n",
       "        text-align: left;\n",
       "    }\n",
       "</style>\n",
       "<table border=\"1\" class=\"dataframe\">\n",
       "  <thead>\n",
       "    <tr>\n",
       "      <th></th>\n",
       "      <th>Predict_Negative</th>\n",
       "      <th>Predict_Positive</th>\n",
       "    </tr>\n",
       "  </thead>\n",
       "  <tbody>\n",
       "    <tr>\n",
       "      <th>Actual_Negative</th>\n",
       "      <td>43</td>\n",
       "      <td>0</td>\n",
       "    </tr>\n",
       "    <tr>\n",
       "      <th>Actual_Positive</th>\n",
       "      <td>4</td>\n",
       "      <td>40</td>\n",
       "    </tr>\n",
       "  </tbody>\n",
       "</table>\n",
       "</div>"
      ],
      "text/plain": [
       "                Predict_Negative Predict_Positive\n",
       "Actual_Negative               43                0\n",
       "Actual_Positive                4               40"
      ]
     },
     "execution_count": 38,
     "metadata": {},
     "output_type": "execute_result"
    },
    {
     "name": "stdout",
     "output_type": "stream",
     "text": [
      "auc: 0.957\n"
     ]
    },
    {
     "data": {
      "text/plain": [
       "KNeighborsRegressor(n_neighbors=1, p=34)"
      ]
     },
     "execution_count": 38,
     "metadata": {},
     "output_type": "execute_result"
    },
    {
     "data": {
      "text/html": [
       "<div>\n",
       "<style scoped>\n",
       "    .dataframe tbody tr th:only-of-type {\n",
       "        vertical-align: middle;\n",
       "    }\n",
       "\n",
       "    .dataframe tbody tr th {\n",
       "        vertical-align: top;\n",
       "    }\n",
       "\n",
       "    .dataframe thead tr th {\n",
       "        text-align: left;\n",
       "    }\n",
       "</style>\n",
       "<table border=\"1\" class=\"dataframe\">\n",
       "  <thead>\n",
       "    <tr>\n",
       "      <th></th>\n",
       "      <th>Predict_Negative</th>\n",
       "      <th>Predict_Positive</th>\n",
       "    </tr>\n",
       "  </thead>\n",
       "  <tbody>\n",
       "    <tr>\n",
       "      <th>Actual_Negative</th>\n",
       "      <td>43</td>\n",
       "      <td>0</td>\n",
       "    </tr>\n",
       "    <tr>\n",
       "      <th>Actual_Positive</th>\n",
       "      <td>3</td>\n",
       "      <td>41</td>\n",
       "    </tr>\n",
       "  </tbody>\n",
       "</table>\n",
       "</div>"
      ],
      "text/plain": [
       "                Predict_Negative Predict_Positive\n",
       "Actual_Negative               43                0\n",
       "Actual_Positive                3               41"
      ]
     },
     "execution_count": 38,
     "metadata": {},
     "output_type": "execute_result"
    },
    {
     "name": "stdout",
     "output_type": "stream",
     "text": [
      "auc: 0.967\n"
     ]
    },
    {
     "data": {
      "text/plain": [
       "KNeighborsRegressor(n_neighbors=1, p=34)"
      ]
     },
     "execution_count": 38,
     "metadata": {},
     "output_type": "execute_result"
    },
    {
     "data": {
      "text/html": [
       "<div>\n",
       "<style scoped>\n",
       "    .dataframe tbody tr th:only-of-type {\n",
       "        vertical-align: middle;\n",
       "    }\n",
       "\n",
       "    .dataframe tbody tr th {\n",
       "        vertical-align: top;\n",
       "    }\n",
       "\n",
       "    .dataframe thead tr th {\n",
       "        text-align: left;\n",
       "    }\n",
       "</style>\n",
       "<table border=\"1\" class=\"dataframe\">\n",
       "  <thead>\n",
       "    <tr>\n",
       "      <th></th>\n",
       "      <th>Predict_Negative</th>\n",
       "      <th>Predict_Positive</th>\n",
       "    </tr>\n",
       "  </thead>\n",
       "  <tbody>\n",
       "    <tr>\n",
       "      <th>Actual_Negative</th>\n",
       "      <td>42</td>\n",
       "      <td>1</td>\n",
       "    </tr>\n",
       "    <tr>\n",
       "      <th>Actual_Positive</th>\n",
       "      <td>4</td>\n",
       "      <td>40</td>\n",
       "    </tr>\n",
       "  </tbody>\n",
       "</table>\n",
       "</div>"
      ],
      "text/plain": [
       "                Predict_Negative Predict_Positive\n",
       "Actual_Negative               42                1\n",
       "Actual_Positive                4               40"
      ]
     },
     "execution_count": 38,
     "metadata": {},
     "output_type": "execute_result"
    },
    {
     "name": "stdout",
     "output_type": "stream",
     "text": [
      "auc: 0.944\n"
     ]
    },
    {
     "data": {
      "image/png": "[encoded data removed]",
      "text/plain": [
       "<Figure size 1440x360 with 1 Axes>"
      ]
     },
     "metadata": {},
     "output_type": "display_data"
    }
   ],
   "source": [
    "print(\"StratifiedKFold\")\n",
    "i = 1\n",
    "knr_models_skf = []\n",
    "knr_predicts_skf = []\n",
    "acc_results = []\n",
    "auc_results = []\n",
    "y_vals_skf = []\n",
    "\n",
    "target = '購入フラグ'\n",
    "Xtrain = df_sample.drop(columns=target)\n",
    "ytrain = df_sample[target]\n",
    "cv = StratifiedKFold(n_splits=7, random_state=0, shuffle=True)\n",
    "knr_model_skf = KNeighborsRegressor(n_neighbors=1, p=34)\n",
    "\n",
    "for trn_index, val_index in cv.split(Xtrain, ytrain):\n",
    "    X_trn, X_val = Xtrain.loc[trn_index], Xtrain.loc[val_index]\n",
    "    y_trn, y_val = ytrain[trn_index], ytrain[val_index]\n",
    "    y_vals_skf.append(y_val)\n",
    "\n",
    "    knr_model_skf.fit(X_trn, y_trn) # 学習\n",
    "    knr_models_skf.append(knr_model_skf) # モデル格納\n",
    "    knr_predict_skf = knr_model_skf.predict(X_val) # 予測\n",
    "    knr_predicts_skf.append(knr_predict_skf)\n",
    "\n",
    "    accruacy = knr_model_skf.score(X_val, y_val) # 評価\n",
    "    acc_results.append(accruacy)\n",
    "    \n",
    "    knr_pred_skf = np.where(knr_predict_skf > 0.5, 1, 0) \n",
    "    df = show_confusion_matrix(knr_pred_skf, y_val) # 混同行列\n",
    "    df\n",
    "    \n",
    "    auc = show_roc_curve2(knr_pred_skf, y_val, i) # ROC曲線\n",
    "    auc_results.append(auc)\n",
    "    i=i+1"
   ]
  },
  {
   "cell_type": "code",
   "execution_count": 39,
   "metadata": {
    "pycharm": {
     "is_executing": true
    }
   },
   "outputs": [
    {
     "name": "stdout",
     "output_type": "stream",
     "text": [
      "平均正解率 0.959\n"
     ]
    }
   ],
   "source": [
    "auc_mean = np.mean(auc_results).round(decimals=3)\n",
    "print(f'平均正解率 {auc_mean}')"
   ]
  },
  {
   "cell_type": "markdown",
   "metadata": {},
   "source": [
    "# 評価"
   ]
  },
  {
   "cell_type": "markdown",
   "metadata": {},
   "source": [
    "## 正解率・適合率・再現率、F値"
   ]
  },
  {
   "cell_type": "markdown",
   "metadata": {},
   "source": [
    "### XGBoostでの評価"
   ]
  },
  {
   "cell_type": "code",
   "execution_count": 42,
   "metadata": {
    "pycharm": {
     "is_executing": true
    }
   },
   "outputs": [
    {
     "name": "stdout",
     "output_type": "stream",
     "text": [
      "XGBoostの評価\n",
      "評価値\n",
      "accuracy: 0.92\n",
      "precision: 0.88\n",
      "recall: 0.94\n",
      "f1: 0.91\n"
     ]
    }
   ],
   "source": [
    "print(\"XGBoostの評価\")\n",
    "xgb_pred = np.where(xgb_predict > 0.5, 1, 0)\n",
    "accuracy = round(accuracy_score(y_test, xgb_pred), 2)\n",
    "precision = round(precision_score(y_test, xgb_pred), 2)\n",
    "recall = round(recall_score(y_test, xgb_pred), 2)\n",
    "f1 = round(f1_score(y_test, xgb_pred), 2)\n",
    "\n",
    "print('評価値')\n",
    "print(f'accuracy: {accuracy}')\n",
    "print(f'precision: {precision}')\n",
    "print(f'recall: {recall}')\n",
    "print(f'f1: {f1}');"
   ]
  },
  {
   "cell_type": "markdown",
   "metadata": {},
   "source": [
    "### XGBoost（KFold）での評価"
   ]
  },
  {
   "cell_type": "code",
   "execution_count": 43,
   "metadata": {
    "pycharm": {
     "is_executing": true
    }
   },
   "outputs": [
    {
     "name": "stdout",
     "output_type": "stream",
     "text": [
      "K-HoldでのXGBoostの評価\n",
      "accuracy: 0.89\n",
      "precision: 0.86\n",
      "recall: 0.91\n",
      "f1: 0.88\n"
     ]
    }
   ],
   "source": [
    "print(\"K-HoldでのXGBoostの評価\")\n",
    "xgb_pred_kf = np.where(xgb_predict_kf > 0.5, 1, 0)\n",
    "accuracy_kf = round(accuracy_score(y_test_kf, xgb_pred_kf), 2)\n",
    "precision_kf = round(precision_score(y_test_kf, xgb_pred_kf), 2)\n",
    "recall_kf = round(recall_score(y_test_kf, xgb_pred_kf), 2)\n",
    "f1_kf = round(f1_score(y_test_kf, xgb_pred_kf), 2)\n",
    "\n",
    "print(f'accuracy: {accuracy_kf}')\n",
    "print(f'precision: {precision_kf}')\n",
    "print(f'recall: {recall_kf}')\n",
    "print(f'f1: {f1_kf}');"
   ]
  },
  {
   "cell_type": "markdown",
   "metadata": {},
   "source": [
    "#### 考察"
   ]
  },
  {
   "cell_type": "markdown",
   "metadata": {},
   "source": [
    "K-Hold評価が低下しているため、理由を考察する。他の分割方法を試して比較検討する。  \n",
    "複雑なモデルで評価が芳しくないが、これは主成分が多い？（20個）ことが影響しているのだろうか。特徴量を精査し、再度学習・評価してみることとする。  "
   ]
  },
  {
   "cell_type": "markdown",
   "metadata": {},
   "source": [
    "### K近傍法での評価（KFold）"
   ]
  },
  {
   "cell_type": "code",
   "execution_count": 44,
   "metadata": {
    "pycharm": {
     "is_executing": true
    }
   },
   "outputs": [
    {
     "name": "stderr",
     "output_type": "stream",
     "text": [
      "100%|██████████| 8/8 [00:00<00:00, 197.11it/s]"
     ]
    },
    {
     "name": "stdout",
     "output_type": "stream",
     "text": [
      "KFold\n",
      "正解率: 0.949\n",
      "適合率: 0.926\n",
      "再現率: 0.979\n",
      "F値: 0.952\n"
     ]
    },
    {
     "name": "stderr",
     "output_type": "stream",
     "text": [
      "\n"
     ]
    }
   ],
   "source": [
    "print(\"KFold\")\n",
    "acc_list = []\n",
    "prec_list = []\n",
    "recl_list = []\n",
    "f1_list = []\n",
    "i = 0\n",
    "for predict in tqdm(kn_predicts_kf):\n",
    "    pred_skf = np.where(predict > 0.5, 1, 0)\n",
    "    accuracy = accuracy_score(y_vals_kf[i], pred_skf).round(decimals=3)\n",
    "    precision = precision_score(y_vals_kf[i], pred_skf).round(decimals=3)\n",
    "    recall = recall_score(y_vals_kf[i], pred_skf).round(decimals=3)\n",
    "    f1 = f1_score(y_vals_kf[i], pred_skf).round(decimals=3)\n",
    "    \n",
    "    acc_list.append(accuracy)\n",
    "    prec_list.append(precision)    \n",
    "    recl_list.append(recall)\n",
    "    f1_list.append(f1)\n",
    "    i=i+1\n",
    "\n",
    "acc = np.mean(acc_list).mean().round(decimals=3)\n",
    "prec = np.mean(prec_list).mean().round(decimals=3)\n",
    "recl = np.mean(recl_list).mean().round(decimals=3)\n",
    "f = np.mean(f1_list).mean().round(decimals=3)\n",
    "print(f'正解率: {acc}')\n",
    "print(f'適合率: {prec}')\n",
    "print(f'再現率: {recl}')\n",
    "print(f'F値: {f}')"
   ]
  },
  {
   "cell_type": "markdown",
   "metadata": {},
   "source": [
    "### K近傍法での評価（StratifiedKFold）"
   ]
  },
  {
   "cell_type": "code",
   "execution_count": 45,
   "metadata": {
    "pycharm": {
     "is_executing": true
    }
   },
   "outputs": [
    {
     "name": "stderr",
     "output_type": "stream",
     "text": [
      "100%|██████████| 7/7 [00:00<00:00, 234.28it/s]"
     ]
    },
    {
     "name": "stdout",
     "output_type": "stream",
     "text": [
      "StratifiedKHoldでのK近傍法の評価\n",
      "正解率: 0.958\n",
      "適合率: 0.977\n",
      "再現率: 0.938\n",
      "F値: 0.956\n"
     ]
    },
    {
     "name": "stderr",
     "output_type": "stream",
     "text": [
      "\n"
     ]
    }
   ],
   "source": [
    "print(\"StratifiedKHoldでのK近傍法の評価\")\n",
    "acc_list = []\n",
    "prec_list = []\n",
    "recl_list = []\n",
    "f1_list = []\n",
    "i = 0\n",
    "for predict in tqdm(kn_predicts_skf):\n",
    "    pred_skf = np.where(predict > 0.5, 1, 0)\n",
    "    accuracy = accuracy_score(y_vals_skf[i], pred_skf).round(decimals=3)\n",
    "    precision = precision_score(y_vals_skf[i], pred_skf).round(decimals=3)\n",
    "    recall = recall_score(y_vals_skf[i], pred_skf).round(decimals=3)\n",
    "    f1 = f1_score(y_vals_skf[i], pred_skf).round(decimals=3)\n",
    "    \n",
    "    acc_list.append(accuracy)\n",
    "    prec_list.append(precision)    \n",
    "    recl_list.append(recall)\n",
    "    f1_list.append(f1)\n",
    "    i=i+1\n",
    "\n",
    "acc = np.mean(acc_list).mean().round(decimals=3)\n",
    "prec = np.mean(prec_list).mean().round(decimals=3)\n",
    "recl = np.mean(recl_list).mean().round(decimals=3)\n",
    "f = np.mean(f1_list).mean().round(decimals=3)\n",
    "print(f'正解率: {acc}')\n",
    "print(f'適合率: {prec}')\n",
    "print(f'再現率: {recl}')\n",
    "print(f'F値: {f}')"
   ]
  },
  {
   "cell_type": "markdown",
   "metadata": {},
   "source": [
    "#### 考察"
   ]
  },
  {
   "cell_type": "markdown",
   "metadata": {},
   "source": [
    "対象の顧客を漏れなく予測したい。  \n",
    "その為、陽性・偽陰性の比率(true Positive(TP)、not false Negatibe(FN))を重視したい。  \n",
    "※TPはできる限り漏れなく、FNは少ないことを重視する。  \n",
    "よってRecallの評価値を重視する。  \n",
    "K近傍法の評価が高い。対象顧客は共通の属性が多いのでは。つまりは木系のアルゴリズムで分岐判断するより、近しい顧客を求めることでより正しく予測できたのではないか。  "
   ]
  },
  {
   "cell_type": "markdown",
   "metadata": {},
   "source": [
    "## 重要度"
   ]
  },
  {
   "cell_type": "code",
   "execution_count": 46,
   "metadata": {
    "pycharm": {
     "is_executing": true
    }
   },
   "outputs": [
    {
     "name": "stdout",
     "output_type": "stream",
     "text": [
      "各変数の重要度をプロット\n"
     ]
    },
    {
     "data": {
      "image/png": "[encoded data removed]",
      "text/plain": [
       "<Figure size 1440x1080 with 1 Axes>"
      ]
     },
     "metadata": {},
     "output_type": "display_data"
    }
   ],
   "source": [
    "print(\"各変数の重要度をプロット\")\n",
    "plt.rcParams[\"figure.figsize\"] = [20,15]\n",
    "plt.rcParams[\"font.size\"] = 10\n",
    "xgb.plot_importance(xgb_model);"
   ]
  },
  {
   "cell_type": "markdown",
   "metadata": {},
   "source": [
    "## 学習曲線"
   ]
  },
  {
   "cell_type": "code",
   "execution_count": 47,
   "metadata": {
    "pycharm": {
     "is_executing": true
    }
   },
   "outputs": [
    {
     "name": "stdout",
     "output_type": "stream",
     "text": [
      "学習曲線のライブラリ\n"
     ]
    }
   ],
   "source": [
    "from sklearn.tree import DecisionTreeRegressor\n",
    "from sklearn.model_selection import learning_curve\n",
    "print(\"学習曲線のライブラリ\")"
   ]
  },
  {
   "cell_type": "code",
   "execution_count": 48,
   "metadata": {
    "pycharm": {
     "is_executing": true
    }
   },
   "outputs": [
    {
     "name": "stdout",
     "output_type": "stream",
     "text": [
      "決定木学習用の関数\n"
     ]
    }
   ],
   "source": [
    "print(\"決定木学習用の関数\")\n",
    "def dt_training():\n",
    "    dt_model = DecisionTreeRegressor(max_depth=5, max_features=5, max_leaf_nodes =10, random_state=42).fit(X_train, y_train)\n",
    "    dt_predict = dt_model.predict(X_test)\n",
    "    \n",
    "    dt_pred = np.where(dt_predict > 0.5, 1, 0)\n",
    "    fpr, tpr, thresholds = metrics.roc_curve(y_test, dt_pred)\n",
    "    auc = metrics.auc(fpr, tpr)\n",
    "\n",
    "    return dt_model, dt_pred, auc"
   ]
  },
  {
   "cell_type": "code",
   "execution_count": 49,
   "metadata": {
    "pycharm": {
     "is_executing": true
    }
   },
   "outputs": [
    {
     "name": "stdout",
     "output_type": "stream",
     "text": [
      "学習曲線描画用の関数\n"
     ]
    }
   ],
   "source": [
    "print(\"学習曲線描画用の関数\")\n",
    "def plot_learning_curve(model, X_data, y_data):\n",
    "    # データ準備\n",
    "    train_sizes, train_scores, val_scores = learning_curve(model, X=X_data, y=y_data, train_sizes = np.linspace(0.1, 1.0, 10), cv=10, n_jobs=1)\n",
    "    \n",
    "    # プロット準備\n",
    "    train_scores_mean = np.mean(train_scores, axis=1)\n",
    "    train_scores_std = np.std(train_scores, axis=1)\n",
    "    val_scores_mean = np.mean(val_scores, axis=1)\n",
    "    val_scores_std = np.std(val_scores, axis=1)\n",
    "    plt.figure()\n",
    "    plt.title(\"Learning Curve\")\n",
    "    plt.xlabel(\"Training examples\")\n",
    "    plt.ylabel(\"Score\")\n",
    "\n",
    "    # Traing score と Val score をプロット\n",
    "    plt.plot(train_sizes, train_scores_mean, 'o-', color=\"r\", label=\"Training score\")\n",
    "    plt.plot(train_sizes, val_scores_mean, 'o-', color=\"g\", label=\"Validation score\")\n",
    "\n",
    "    # 標準偏差の範囲を色付け\n",
    "    plt.fill_between(train_sizes, train_scores_mean - train_scores_std, train_scores_mean + train_scores_std, color=\"r\", alpha=0.2)\n",
    "    plt.fill_between(train_sizes, val_scores_mean - val_scores_std, val_scores_mean + val_scores_std, color=\"g\", alpha=0.2)\n",
    "\n",
    "    # Y軸の範囲\n",
    "    plt.ylim(0.0, 1.0)\n",
    "\n",
    "    # 凡例の表示位置\n",
    "    plt.grid()\n",
    "    plt.legend(loc=\"best\")\n",
    "    plt.show();"
   ]
  },
  {
   "cell_type": "markdown",
   "metadata": {},
   "source": [
    "### 決定木（比較用）"
   ]
  },
  {
   "cell_type": "code",
   "execution_count": 50,
   "metadata": {
    "pycharm": {
     "is_executing": true
    }
   },
   "outputs": [
    {
     "name": "stdout",
     "output_type": "stream",
     "text": [
      "決定木の学習を実施\n"
     ]
    }
   ],
   "source": [
    "print(\"決定木の学習を実施\")\n",
    "dt_model, dt_pred, auc = dt_training();"
   ]
  },
  {
   "cell_type": "code",
   "execution_count": 51,
   "metadata": {
    "pycharm": {
     "is_executing": true
    }
   },
   "outputs": [
    {
     "name": "stdout",
     "output_type": "stream",
     "text": [
      "学習曲線の描画\n"
     ]
    },
    {
     "data": {
      "image/png": "[encoded data removed]",
      "text/plain": [
       "<Figure size 1440x360 with 1 Axes>"
      ]
     },
     "metadata": {},
     "output_type": "display_data"
    }
   ],
   "source": [
    "plt.rcParams[\"figure.figsize\"] = [20,5]\n",
    "plt.rcParams[\"font.size\"] = 10\n",
    "\n",
    "print(\"学習曲線の描画\")\n",
    "plot_learning_curve(dt_model, X_train, y_train);"
   ]
  },
  {
   "cell_type": "markdown",
   "metadata": {},
   "source": [
    "### サポートベクトルマシン（比較用）"
   ]
  },
  {
   "cell_type": "code",
   "execution_count": 52,
   "metadata": {
    "pycharm": {
     "is_executing": true
    }
   },
   "outputs": [
    {
     "name": "stdout",
     "output_type": "stream",
     "text": [
      "学習曲線の描画\n"
     ]
    },
    {
     "data": {
      "image/png": "[encoded data removed]",
      "text/plain": [
       "<Figure size 1440x360 with 1 Axes>"
      ]
     },
     "metadata": {},
     "output_type": "display_data"
    }
   ],
   "source": [
    "print(\"学習曲線の描画\")\n",
    "plot_learning_curve(svm_model, X_train, y_train);"
   ]
  },
  {
   "cell_type": "markdown",
   "metadata": {},
   "source": [
    "### K近傍法"
   ]
  },
  {
   "cell_type": "code",
   "execution_count": 53,
   "metadata": {
    "pycharm": {
     "is_executing": true
    }
   },
   "outputs": [
    {
     "name": "stdout",
     "output_type": "stream",
     "text": [
      "学習曲線の描画\n"
     ]
    },
    {
     "data": {
      "image/png": "[encoded data removed]",
      "text/plain": [
       "<Figure size 1440x360 with 1 Axes>"
      ]
     },
     "metadata": {},
     "output_type": "display_data"
    }
   ],
   "source": [
    "print(\"学習曲線の描画\")\n",
    "plt.rcParams[\"figure.figsize\"] = [20,5]\n",
    "plot_learning_curve(kn_model_skf, X_train, y_train);"
   ]
  },
  {
   "cell_type": "markdown",
   "metadata": {},
   "source": [
    "#### 考察"
   ]
  },
  {
   "cell_type": "markdown",
   "metadata": {},
   "source": [
    "- 決定木  \n",
    "訓練、検証データともに、近しい評価結果が出ており、過学習はしていなそう。  \n",
    "ただスコアが80%を下回っており、全体的に学習が足りていない可能性がある。  \n",
    "  \n",
    "  \n",
    "- サポートベクトルマシン  \n",
    "訓練、検証データともにスコアが高く、よく学習できていると思われる。(ちょっと高すぎる？)  \n",
    "  \n",
    "  \n",
    "- K近傍法  \n",
    "訓練データに過剰適合していそう。  \n",
    "検証データに対してのスコアが低い。汎化性能は低い。。  \n",
    "訓練データにノイズが多いのではないか。  "
   ]
  },
  {
   "cell_type": "markdown",
   "metadata": {},
   "source": [
    "## AUC"
   ]
  },
  {
   "cell_type": "markdown",
   "metadata": {},
   "source": [
    "### 各変数単体のAUC"
   ]
  },
  {
   "cell_type": "code",
   "execution_count": 54,
   "metadata": {
    "pycharm": {
     "is_executing": true
    }
   },
   "outputs": [
    {
     "name": "stdout",
     "output_type": "stream",
     "text": [
      "各変数単体のAUC算出用の関数\n"
     ]
    }
   ],
   "source": [
    "print(\"各変数単体のAUC算出用の関数\")\n",
    "def get_auc_list():\n",
    "    print('初期化')\n",
    "    column_list = []\n",
    "    auc_list = []\n",
    "    cols = df_sample.columns[1:]\n",
    "    \n",
    "    print('学習')\n",
    "    kf = KFold(n_splits=5, shuffle=True, random_state=0)\n",
    "    for col in cols:\n",
    "        for train_index_dt, val_index_dt in kf.split(df_sample.index):\n",
    "            X_train_dt = df_sample[[col]].iloc[train_index_dt]\n",
    "            y_train_dt = df_sample['購入フラグ'].iloc[train_index_dt]\n",
    "            X_test_dt = df_sample[[col]].iloc[val_index_dt]\n",
    "            y_test_dt = df_sample['購入フラグ'].iloc[val_index_dt]\n",
    "\n",
    "            dt_model = DecisionTreeRegressor(\n",
    "                max_depth=5, \n",
    "                max_leaf_nodes =10, random_state=42)\n",
    "            dt_model.fit(X_train_dt, y_train_dt)\n",
    "\n",
    "        dt_predict = dt_model.predict(X_test_dt)\n",
    "\n",
    "        fpr, tpr, thresholds = metrics.roc_curve(y_test_dt, dt_predict)\n",
    "        auc = metrics.auc(fpr, tpr)\n",
    "        auc_list.append(auc.round(decimals=3))\n",
    "        column_list.append(col)\n",
    "\n",
    "    tree_auc = pd.DataFrame()\n",
    "    tree_auc['カラム名'] = column_list\n",
    "    tree_auc['AUC'] = auc_list\n",
    "    tree_auc\n",
    "    \n",
    "    return tree_auc"
   ]
  },
  {
   "cell_type": "code",
   "execution_count": 55,
   "metadata": {
    "pycharm": {
     "is_executing": true
    }
   },
   "outputs": [
    {
     "name": "stdout",
     "output_type": "stream",
     "text": [
      "各変数単体のAUC\n",
      "初期化\n",
      "学習\n"
     ]
    },
    {
     "data": {
      "text/html": [
       "<div>\n",
       "<style scoped>\n",
       "    .dataframe tbody tr th:only-of-type {\n",
       "        vertical-align: middle;\n",
       "    }\n",
       "\n",
       "    .dataframe tbody tr th {\n",
       "        vertical-align: top;\n",
       "    }\n",
       "\n",
       "    .dataframe thead th {\n",
       "        text-align: right;\n",
       "    }\n",
       "</style>\n",
       "<table border=\"1\" class=\"dataframe\">\n",
       "  <thead>\n",
       "    <tr style=\"text-align: right;\">\n",
       "      <th></th>\n",
       "      <th>カラム名</th>\n",
       "      <th>AUC</th>\n",
       "      <th>順位</th>\n",
       "    </tr>\n",
       "  </thead>\n",
       "  <tbody>\n",
       "    <tr>\n",
       "      <th>12</th>\n",
       "      <td>ジャンコード</td>\n",
       "      <td>0.978</td>\n",
       "      <td>1</td>\n",
       "    </tr>\n",
       "    <tr>\n",
       "      <th>21</th>\n",
       "      <td>原単価</td>\n",
       "      <td>0.956</td>\n",
       "      <td>2</td>\n",
       "    </tr>\n",
       "    <tr>\n",
       "      <th>18</th>\n",
       "      <td>売単価</td>\n",
       "      <td>0.941</td>\n",
       "      <td>3</td>\n",
       "    </tr>\n",
       "    <tr>\n",
       "      <th>20</th>\n",
       "      <td>販売金額</td>\n",
       "      <td>0.937</td>\n",
       "      <td>4</td>\n",
       "    </tr>\n",
       "    <tr>\n",
       "      <th>23</th>\n",
       "      <td>売上単価</td>\n",
       "      <td>0.912</td>\n",
       "      <td>5</td>\n",
       "    </tr>\n",
       "    <tr>\n",
       "      <th>13</th>\n",
       "      <td>国コード</td>\n",
       "      <td>0.7</td>\n",
       "      <td>6</td>\n",
       "    </tr>\n",
       "    <tr>\n",
       "      <th>17</th>\n",
       "      <td>数量</td>\n",
       "      <td>0.63</td>\n",
       "      <td>7</td>\n",
       "    </tr>\n",
       "    <tr>\n",
       "      <th>1</th>\n",
       "      <td>性別</td>\n",
       "      <td>0.606</td>\n",
       "      <td>8</td>\n",
       "    </tr>\n",
       "    <tr>\n",
       "      <th>0</th>\n",
       "      <td>顧客コード</td>\n",
       "      <td>0.605</td>\n",
       "      <td>9</td>\n",
       "    </tr>\n",
       "    <tr>\n",
       "      <th>9</th>\n",
       "      <td>移動距離</td>\n",
       "      <td>0.57</td>\n",
       "      <td>10</td>\n",
       "    </tr>\n",
       "    <tr>\n",
       "      <th>2</th>\n",
       "      <td>誕生日</td>\n",
       "      <td>0.564</td>\n",
       "      <td>11</td>\n",
       "    </tr>\n",
       "    <tr>\n",
       "      <th>3</th>\n",
       "      <td>年齢</td>\n",
       "      <td>0.564</td>\n",
       "      <td>12</td>\n",
       "    </tr>\n",
       "    <tr>\n",
       "      <th>25</th>\n",
       "      <td>レシート行</td>\n",
       "      <td>0.56</td>\n",
       "      <td>13</td>\n",
       "    </tr>\n",
       "    <tr>\n",
       "      <th>7</th>\n",
       "      <td>市区町村</td>\n",
       "      <td>0.551</td>\n",
       "      <td>14</td>\n",
       "    </tr>\n",
       "    <tr>\n",
       "      <th>32</th>\n",
       "      <td>レジNo.5</td>\n",
       "      <td>0.551</td>\n",
       "      <td>15</td>\n",
       "    </tr>\n",
       "    <tr>\n",
       "      <th>38</th>\n",
       "      <td>Saturday</td>\n",
       "      <td>0.55</td>\n",
       "      <td>16</td>\n",
       "    </tr>\n",
       "    <tr>\n",
       "      <th>37</th>\n",
       "      <td>Friday</td>\n",
       "      <td>0.549</td>\n",
       "      <td>17</td>\n",
       "    </tr>\n",
       "    <tr>\n",
       "      <th>4</th>\n",
       "      <td>年齢グループ</td>\n",
       "      <td>0.543</td>\n",
       "      <td>18</td>\n",
       "    </tr>\n",
       "    <tr>\n",
       "      <th>24</th>\n",
       "      <td>来店回数</td>\n",
       "      <td>0.538</td>\n",
       "      <td>19</td>\n",
       "    </tr>\n",
       "    <tr>\n",
       "      <th>5</th>\n",
       "      <td>郵便番号</td>\n",
       "      <td>0.535</td>\n",
       "      <td>20</td>\n",
       "    </tr>\n",
       "    <tr>\n",
       "      <th>16</th>\n",
       "      <td>日付時間</td>\n",
       "      <td>0.533</td>\n",
       "      <td>21</td>\n",
       "    </tr>\n",
       "    <tr>\n",
       "      <th>14</th>\n",
       "      <td>日付</td>\n",
       "      <td>0.522</td>\n",
       "      <td>22</td>\n",
       "    </tr>\n",
       "    <tr>\n",
       "      <th>33</th>\n",
       "      <td>Monday</td>\n",
       "      <td>0.521</td>\n",
       "      <td>23</td>\n",
       "    </tr>\n",
       "    <tr>\n",
       "      <th>35</th>\n",
       "      <td>Wednesday</td>\n",
       "      <td>0.52</td>\n",
       "      <td>24</td>\n",
       "    </tr>\n",
       "    <tr>\n",
       "      <th>15</th>\n",
       "      <td>時間</td>\n",
       "      <td>0.517</td>\n",
       "      <td>25</td>\n",
       "    </tr>\n",
       "    <tr>\n",
       "      <th>6</th>\n",
       "      <td>都道府県</td>\n",
       "      <td>0.509</td>\n",
       "      <td>26</td>\n",
       "    </tr>\n",
       "    <tr>\n",
       "      <th>27</th>\n",
       "      <td>レシートNo</td>\n",
       "      <td>0.508</td>\n",
       "      <td>27</td>\n",
       "    </tr>\n",
       "    <tr>\n",
       "      <th>28</th>\n",
       "      <td>レジNo.1</td>\n",
       "      <td>0.507</td>\n",
       "      <td>28</td>\n",
       "    </tr>\n",
       "    <tr>\n",
       "      <th>19</th>\n",
       "      <td>値引</td>\n",
       "      <td>0.5</td>\n",
       "      <td>29</td>\n",
       "    </tr>\n",
       "    <tr>\n",
       "      <th>22</th>\n",
       "      <td>売単価分類</td>\n",
       "      <td>0.5</td>\n",
       "      <td>30</td>\n",
       "    </tr>\n",
       "    <tr>\n",
       "      <th>11</th>\n",
       "      <td>買物可能フラグ</td>\n",
       "      <td>0.5</td>\n",
       "      <td>31</td>\n",
       "    </tr>\n",
       "    <tr>\n",
       "      <th>26</th>\n",
       "      <td>レシート行分類</td>\n",
       "      <td>0.5</td>\n",
       "      <td>32</td>\n",
       "    </tr>\n",
       "    <tr>\n",
       "      <th>8</th>\n",
       "      <td>都道府県フラグ</td>\n",
       "      <td>0.5</td>\n",
       "      <td>33</td>\n",
       "    </tr>\n",
       "    <tr>\n",
       "      <th>34</th>\n",
       "      <td>Tuesday</td>\n",
       "      <td>0.499</td>\n",
       "      <td>34</td>\n",
       "    </tr>\n",
       "    <tr>\n",
       "      <th>31</th>\n",
       "      <td>レジNo.4</td>\n",
       "      <td>0.483</td>\n",
       "      <td>35</td>\n",
       "    </tr>\n",
       "    <tr>\n",
       "      <th>39</th>\n",
       "      <td>Sunday</td>\n",
       "      <td>0.478</td>\n",
       "      <td>36</td>\n",
       "    </tr>\n",
       "    <tr>\n",
       "      <th>10</th>\n",
       "      <td>移動時間</td>\n",
       "      <td>0.474</td>\n",
       "      <td>37</td>\n",
       "    </tr>\n",
       "    <tr>\n",
       "      <th>36</th>\n",
       "      <td>Thursday</td>\n",
       "      <td>0.463</td>\n",
       "      <td>38</td>\n",
       "    </tr>\n",
       "    <tr>\n",
       "      <th>30</th>\n",
       "      <td>レジNo.3</td>\n",
       "      <td>0.45</td>\n",
       "      <td>39</td>\n",
       "    </tr>\n",
       "    <tr>\n",
       "      <th>29</th>\n",
       "      <td>レジNo.2</td>\n",
       "      <td>0.388</td>\n",
       "      <td>40</td>\n",
       "    </tr>\n",
       "  </tbody>\n",
       "</table>\n",
       "</div>"
      ],
      "text/plain": [
       "         カラム名    AUC  順位\n",
       "12     ジャンコード  0.978   1\n",
       "21        原単価  0.956   2\n",
       "18        売単価  0.941   3\n",
       "20       販売金額  0.937   4\n",
       "23       売上単価  0.912   5\n",
       "13       国コード    0.7   6\n",
       "17         数量   0.63   7\n",
       "1          性別  0.606   8\n",
       "0       顧客コード  0.605   9\n",
       "9        移動距離   0.57  10\n",
       "2         誕生日  0.564  11\n",
       "3          年齢  0.564  12\n",
       "25      レシート行   0.56  13\n",
       "7        市区町村  0.551  14\n",
       "32     レジNo.5  0.551  15\n",
       "38   Saturday   0.55  16\n",
       "37     Friday  0.549  17\n",
       "4      年齢グループ  0.543  18\n",
       "24       来店回数  0.538  19\n",
       "5        郵便番号  0.535  20\n",
       "16       日付時間  0.533  21\n",
       "14         日付  0.522  22\n",
       "33     Monday  0.521  23\n",
       "35  Wednesday   0.52  24\n",
       "15         時間  0.517  25\n",
       "6        都道府県  0.509  26\n",
       "27     レシートNo  0.508  27\n",
       "28     レジNo.1  0.507  28\n",
       "19         値引    0.5  29\n",
       "22      売単価分類    0.5  30\n",
       "11    買物可能フラグ    0.5  31\n",
       "26    レシート行分類    0.5  32\n",
       "8     都道府県フラグ    0.5  33\n",
       "34    Tuesday  0.499  34\n",
       "31     レジNo.4  0.483  35\n",
       "39     Sunday  0.478  36\n",
       "10       移動時間  0.474  37\n",
       "36   Thursday  0.463  38\n",
       "30     レジNo.3   0.45  39\n",
       "29     レジNo.2  0.388  40"
      ]
     },
     "execution_count": 55,
     "metadata": {},
     "output_type": "execute_result"
    }
   ],
   "source": [
    "print(\"各変数単体のAUC\")\n",
    "list = get_auc_list()\n",
    "auc_list = list.sort_values(by='AUC', ascending=False).astype(str)\n",
    "auc_list['順位'] = list.index+1\n",
    "auc_list"
   ]
  },
  {
   "cell_type": "markdown",
   "metadata": {},
   "source": [
    "## 特徴量の再精査"
   ]
  },
  {
   "cell_type": "markdown",
   "metadata": {},
   "source": [
    "## 考察"
   ]
  },
  {
   "cell_type": "markdown",
   "metadata": {},
   "source": [
    "<p>ジャンコードは、国コード、商品コード、アイテムコードに分解してみる</p>\n",
    "<p>曜日は、金、土、日曜日のみに絞ってみる</p>\n",
    "<p>レジは、レジNo.5に絞ってみる</p>\n",
    "<p>日付時間のみ残し、日付、時間項目は除外してみる</p>\n",
    "<p>移動距離は残し、移動時間が除外してみる</p>\n",
    "<p>市区町村は残し、都道府県は除外してみる</p>\n",
    "<p>都道府県フラグも不要とする</p>\n",
    "<p>顧客コードは、共通番号部分は削除し、固有番号のみを残してみる</p>\n",
    "<p>買物可能フラグは不要とする</p>\n",
    "<p>レシート行分類は不要とする</p>"
   ]
  },
  {
   "cell_type": "markdown",
   "metadata": {},
   "source": [
    "# パラメータ・チューニング"
   ]
  },
  {
   "cell_type": "markdown",
   "metadata": {},
   "source": [
    "## パラメータ・サーチ（パラメータ単体）"
   ]
  },
  {
   "cell_type": "code",
   "execution_count": 56,
   "metadata": {
    "pycharm": {
     "is_executing": true
    }
   },
   "outputs": [
    {
     "name": "stdout",
     "output_type": "stream",
     "text": [
      "n_neighborsサーチ\n"
     ]
    },
    {
     "data": {
      "image/png": "[encoded data removed]",
      "text/plain": [
       "<Figure size 1440x360 with 1 Axes>"
      ]
     },
     "metadata": {},
     "output_type": "display_data"
    }
   ],
   "source": [
    "print(\"n_neighborsサーチ\")\n",
    "accuracy = []\n",
    "k_range = range(1, 90)\n",
    "for k in range(1, 90):\n",
    "    knn = KNeighborsClassifier(n_neighbors=k)\n",
    "    knn.fit(X_train, y_train)\n",
    "    y_pred_kn = knn.predict(X_test)\n",
    "    accuracy.append(metrics.accuracy_score(y_test, y_pred_kn))\n",
    "\n",
    "plt.grid()\n",
    "plt.plot(k_range, accuracy);"
   ]
  },
  {
   "cell_type": "code",
   "execution_count": 57,
   "metadata": {
    "pycharm": {
     "is_executing": true
    }
   },
   "outputs": [
    {
     "name": "stdout",
     "output_type": "stream",
     "text": [
      "pサーチ\n"
     ]
    },
    {
     "data": {
      "image/png": "[encoded data removed]",
      "text/plain": [
       "<Figure size 1440x360 with 1 Axes>"
      ]
     },
     "metadata": {},
     "output_type": "display_data"
    }
   ],
   "source": [
    "print(\"pサーチ\")\n",
    "accuracy = []\n",
    "k_range = range(1, 90)\n",
    "for k in range(1, 90):\n",
    "    knn = KNeighborsClassifier(n_neighbors=1, p=k)\n",
    "    knn.fit(X_train, y_train)\n",
    "    y_pred_kn = knn.predict(X_test)\n",
    "    accuracy.append(metrics.accuracy_score(y_test, y_pred_kn))\n",
    "\n",
    "plt.grid()\n",
    "plt.plot(k_range, accuracy);"
   ]
  },
  {
   "cell_type": "markdown",
   "metadata": {},
   "source": [
    "## ランダムサーチ、グリッドサーチ"
   ]
  },
  {
   "cell_type": "code",
   "execution_count": 58,
   "metadata": {
    "pycharm": {
     "is_executing": true
    }
   },
   "outputs": [
    {
     "name": "stdout",
     "output_type": "stream",
     "text": [
      "ランダムサーチでパラメーターサーチ(広範囲用)\n"
     ]
    }
   ],
   "source": [
    "# あたりをつける\n",
    "print(\"ランダムサーチでパラメーターサーチ(広範囲用)\")\n",
    "def random_search(model_param_set_random):\n",
    "    max_score = 0\n",
    "    best_model = None\n",
    "    best_param = None\n",
    "        \n",
    "    for model, param in tqdm(model_param_set_random.items()):\n",
    "        clf = RandomizedSearchCV(model, param)\n",
    "        clf.fit(train_X, train_y)\n",
    "        pred_y = clf.predict(test_X)\n",
    "        score = f1_score(test_y, pred_y, average=\"micro\")\n",
    "\n",
    "        if max_score < score:\n",
    "            max_score = score\n",
    "            best_model = model.__class__.__name__\n",
    "            best_param = clf.best_estimator_ # best_params_\n",
    "\n",
    "    print(\"学習モデル:{},\\nパラメーター:{}\".format(best_model, best_param))\n",
    "    print(\"ベストスコア:\", max_score)"
   ]
  },
  {
   "cell_type": "code",
   "execution_count": 59,
   "metadata": {
    "pycharm": {
     "is_executing": true
    }
   },
   "outputs": [
    {
     "name": "stdout",
     "output_type": "stream",
     "text": [
      "グリッドサーチでパラメーターサーチ（狭範囲用）\n"
     ]
    }
   ],
   "source": [
    "print(\"グリッドサーチでパラメーターサーチ（狭範囲用）\")\n",
    "def grid_search(model_param_set_grid):\n",
    "    max_score = 0\n",
    "    best_model = None\n",
    "    best_param = None\n",
    "\n",
    "    for model, param in tqdm(model_param_set_grid.items()):\n",
    "        clf = GridSearchCV(model, param)\n",
    "        clf.fit(train_X, train_y)\n",
    "        pred_y = clf.predict(test_X)\n",
    "        score = f1_score(test_y, pred_y, average=\"micro\")\n",
    "\n",
    "        if max_score < score:\n",
    "            max_score = score\n",
    "            best_model = model.__class__.__name__\n",
    "            best_param = clf.best_params_\n",
    "\n",
    "    print(\"学習モデル:{},\\nパラメーター:{}\".format(best_model, best_param))\n",
    "    print(\"ベストスコア:\",max_score)"
   ]
  },
  {
   "cell_type": "code",
   "execution_count": 60,
   "metadata": {
    "pycharm": {
     "is_executing": true
    }
   },
   "outputs": [
    {
     "name": "stderr",
     "output_type": "stream",
     "text": [
      "  0%|          | 0/1 [00:00<?, ?it/s]"
     ]
    },
    {
     "name": "stdout",
     "output_type": "stream",
     "text": [
      "ランダムサーチ\n"
     ]
    },
    {
     "name": "stderr",
     "output_type": "stream",
     "text": [
      "/Users/Tatsuro-Tokume/opt/anaconda3/lib/python3.8/site-packages/sklearn/model_selection/_validation.py:696: UserWarning: Scoring failed. The score on this train-test partition for these parameters will be set to nan. Details: \n",
      "Traceback (most recent call last):\n",
      "  File \"/Users/Tatsuro-Tokume/opt/anaconda3/lib/python3.8/site-packages/sklearn/model_selection/_validation.py\", line 687, in _score\n",
      "    scores = scorer(estimator, X_test, y_test)\n",
      "  File \"/Users/Tatsuro-Tokume/opt/anaconda3/lib/python3.8/site-packages/sklearn/metrics/_scorer.py\", line 397, in _passthrough_scorer\n",
      "    return estimator.score(*args, **kwargs)\n",
      "  File \"/Users/Tatsuro-Tokume/opt/anaconda3/lib/python3.8/site-packages/sklearn/base.py\", line 500, in score\n",
      "    return accuracy_score(y, self.predict(X), sample_weight=sample_weight)\n",
      "  File \"/Users/Tatsuro-Tokume/opt/anaconda3/lib/python3.8/site-packages/sklearn/neighbors/_classification.py\", line 197, in predict\n",
      "    neigh_dist, neigh_ind = self.kneighbors(X)\n",
      "  File \"/Users/Tatsuro-Tokume/opt/anaconda3/lib/python3.8/site-packages/sklearn/neighbors/_base.py\", line 686, in kneighbors\n",
      "    n_jobs = effective_n_jobs(self.n_jobs)\n",
      "  File \"/Users/Tatsuro-Tokume/opt/anaconda3/lib/python3.8/site-packages/joblib/parallel.py\", line 417, in effective_n_jobs\n",
      "    return backend.effective_n_jobs(n_jobs=n_jobs)\n",
      "  File \"/Users/Tatsuro-Tokume/opt/anaconda3/lib/python3.8/site-packages/joblib/_parallel_backends.py\", line 504, in effective_n_jobs\n",
      "    raise ValueError('n_jobs == 0 in Parallel has no meaning')\n",
      "ValueError: n_jobs == 0 in Parallel has no meaning\n",
      "\n",
      "  warnings.warn(\n",
      "/Users/Tatsuro-Tokume/opt/anaconda3/lib/python3.8/site-packages/sklearn/model_selection/_validation.py:696: UserWarning: Scoring failed. The score on this train-test partition for these parameters will be set to nan. Details: \n",
      "Traceback (most recent call last):\n",
      "  File \"/Users/Tatsuro-Tokume/opt/anaconda3/lib/python3.8/site-packages/sklearn/model_selection/_validation.py\", line 687, in _score\n",
      "    scores = scorer(estimator, X_test, y_test)\n",
      "  File \"/Users/Tatsuro-Tokume/opt/anaconda3/lib/python3.8/site-packages/sklearn/metrics/_scorer.py\", line 397, in _passthrough_scorer\n",
      "    return estimator.score(*args, **kwargs)\n",
      "  File \"/Users/Tatsuro-Tokume/opt/anaconda3/lib/python3.8/site-packages/sklearn/base.py\", line 500, in score\n",
      "    return accuracy_score(y, self.predict(X), sample_weight=sample_weight)\n",
      "  File \"/Users/Tatsuro-Tokume/opt/anaconda3/lib/python3.8/site-packages/sklearn/neighbors/_classification.py\", line 197, in predict\n",
      "    neigh_dist, neigh_ind = self.kneighbors(X)\n",
      "  File \"/Users/Tatsuro-Tokume/opt/anaconda3/lib/python3.8/site-packages/sklearn/neighbors/_base.py\", line 686, in kneighbors\n",
      "    n_jobs = effective_n_jobs(self.n_jobs)\n",
      "  File \"/Users/Tatsuro-Tokume/opt/anaconda3/lib/python3.8/site-packages/joblib/parallel.py\", line 417, in effective_n_jobs\n",
      "    return backend.effective_n_jobs(n_jobs=n_jobs)\n",
      "  File \"/Users/Tatsuro-Tokume/opt/anaconda3/lib/python3.8/site-packages/joblib/_parallel_backends.py\", line 504, in effective_n_jobs\n",
      "    raise ValueError('n_jobs == 0 in Parallel has no meaning')\n",
      "ValueError: n_jobs == 0 in Parallel has no meaning\n",
      "\n",
      "  warnings.warn(\n",
      "/Users/Tatsuro-Tokume/opt/anaconda3/lib/python3.8/site-packages/sklearn/model_selection/_validation.py:696: UserWarning: Scoring failed. The score on this train-test partition for these parameters will be set to nan. Details: \n",
      "Traceback (most recent call last):\n",
      "  File \"/Users/Tatsuro-Tokume/opt/anaconda3/lib/python3.8/site-packages/sklearn/model_selection/_validation.py\", line 687, in _score\n",
      "    scores = scorer(estimator, X_test, y_test)\n",
      "  File \"/Users/Tatsuro-Tokume/opt/anaconda3/lib/python3.8/site-packages/sklearn/metrics/_scorer.py\", line 397, in _passthrough_scorer\n",
      "    return estimator.score(*args, **kwargs)\n",
      "  File \"/Users/Tatsuro-Tokume/opt/anaconda3/lib/python3.8/site-packages/sklearn/base.py\", line 500, in score\n",
      "    return accuracy_score(y, self.predict(X), sample_weight=sample_weight)\n",
      "  File \"/Users/Tatsuro-Tokume/opt/anaconda3/lib/python3.8/site-packages/sklearn/neighbors/_classification.py\", line 197, in predict\n",
      "    neigh_dist, neigh_ind = self.kneighbors(X)\n",
      "  File \"/Users/Tatsuro-Tokume/opt/anaconda3/lib/python3.8/site-packages/sklearn/neighbors/_base.py\", line 686, in kneighbors\n",
      "    n_jobs = effective_n_jobs(self.n_jobs)\n",
      "  File \"/Users/Tatsuro-Tokume/opt/anaconda3/lib/python3.8/site-packages/joblib/parallel.py\", line 417, in effective_n_jobs\n",
      "    return backend.effective_n_jobs(n_jobs=n_jobs)\n",
      "  File \"/Users/Tatsuro-Tokume/opt/anaconda3/lib/python3.8/site-packages/joblib/_parallel_backends.py\", line 504, in effective_n_jobs\n",
      "    raise ValueError('n_jobs == 0 in Parallel has no meaning')\n",
      "ValueError: n_jobs == 0 in Parallel has no meaning\n",
      "\n",
      "  warnings.warn(\n",
      "/Users/Tatsuro-Tokume/opt/anaconda3/lib/python3.8/site-packages/sklearn/model_selection/_validation.py:696: UserWarning: Scoring failed. The score on this train-test partition for these parameters will be set to nan. Details: \n",
      "Traceback (most recent call last):\n",
      "  File \"/Users/Tatsuro-Tokume/opt/anaconda3/lib/python3.8/site-packages/sklearn/model_selection/_validation.py\", line 687, in _score\n",
      "    scores = scorer(estimator, X_test, y_test)\n",
      "  File \"/Users/Tatsuro-Tokume/opt/anaconda3/lib/python3.8/site-packages/sklearn/metrics/_scorer.py\", line 397, in _passthrough_scorer\n",
      "    return estimator.score(*args, **kwargs)\n",
      "  File \"/Users/Tatsuro-Tokume/opt/anaconda3/lib/python3.8/site-packages/sklearn/base.py\", line 500, in score\n",
      "    return accuracy_score(y, self.predict(X), sample_weight=sample_weight)\n",
      "  File \"/Users/Tatsuro-Tokume/opt/anaconda3/lib/python3.8/site-packages/sklearn/neighbors/_classification.py\", line 197, in predict\n",
      "    neigh_dist, neigh_ind = self.kneighbors(X)\n",
      "  File \"/Users/Tatsuro-Tokume/opt/anaconda3/lib/python3.8/site-packages/sklearn/neighbors/_base.py\", line 686, in kneighbors\n",
      "    n_jobs = effective_n_jobs(self.n_jobs)\n",
      "  File \"/Users/Tatsuro-Tokume/opt/anaconda3/lib/python3.8/site-packages/joblib/parallel.py\", line 417, in effective_n_jobs\n",
      "    return backend.effective_n_jobs(n_jobs=n_jobs)\n",
      "  File \"/Users/Tatsuro-Tokume/opt/anaconda3/lib/python3.8/site-packages/joblib/_parallel_backends.py\", line 504, in effective_n_jobs\n",
      "    raise ValueError('n_jobs == 0 in Parallel has no meaning')\n",
      "ValueError: n_jobs == 0 in Parallel has no meaning\n",
      "\n",
      "  warnings.warn(\n",
      "/Users/Tatsuro-Tokume/opt/anaconda3/lib/python3.8/site-packages/sklearn/model_selection/_validation.py:696: UserWarning: Scoring failed. The score on this train-test partition for these parameters will be set to nan. Details: \n",
      "Traceback (most recent call last):\n",
      "  File \"/Users/Tatsuro-Tokume/opt/anaconda3/lib/python3.8/site-packages/sklearn/model_selection/_validation.py\", line 687, in _score\n",
      "    scores = scorer(estimator, X_test, y_test)\n",
      "  File \"/Users/Tatsuro-Tokume/opt/anaconda3/lib/python3.8/site-packages/sklearn/metrics/_scorer.py\", line 397, in _passthrough_scorer\n",
      "    return estimator.score(*args, **kwargs)\n",
      "  File \"/Users/Tatsuro-Tokume/opt/anaconda3/lib/python3.8/site-packages/sklearn/base.py\", line 500, in score\n",
      "    return accuracy_score(y, self.predict(X), sample_weight=sample_weight)\n",
      "  File \"/Users/Tatsuro-Tokume/opt/anaconda3/lib/python3.8/site-packages/sklearn/neighbors/_classification.py\", line 197, in predict\n",
      "    neigh_dist, neigh_ind = self.kneighbors(X)\n",
      "  File \"/Users/Tatsuro-Tokume/opt/anaconda3/lib/python3.8/site-packages/sklearn/neighbors/_base.py\", line 686, in kneighbors\n",
      "    n_jobs = effective_n_jobs(self.n_jobs)\n",
      "  File \"/Users/Tatsuro-Tokume/opt/anaconda3/lib/python3.8/site-packages/joblib/parallel.py\", line 417, in effective_n_jobs\n",
      "    return backend.effective_n_jobs(n_jobs=n_jobs)\n",
      "  File \"/Users/Tatsuro-Tokume/opt/anaconda3/lib/python3.8/site-packages/joblib/_parallel_backends.py\", line 504, in effective_n_jobs\n",
      "    raise ValueError('n_jobs == 0 in Parallel has no meaning')\n",
      "ValueError: n_jobs == 0 in Parallel has no meaning\n",
      "\n",
      "  warnings.warn(\n",
      "/Users/Tatsuro-Tokume/opt/anaconda3/lib/python3.8/site-packages/sklearn/model_selection/_search.py:922: UserWarning: One or more of the test scores are non-finite: [       nan 0.50601915 0.71666211 0.65124487 0.56199726 0.52927497\n",
      " 0.49425445 0.48248974 0.50601915 0.50601915]\n",
      "  warnings.warn(\n",
      "100%|██████████| 1/1 [00:01<00:00,  1.44s/it]"
     ]
    },
    {
     "name": "stdout",
     "output_type": "stream",
     "text": [
      "学習モデル:KNeighborsClassifier,\n",
      "パラメーター:KNeighborsClassifier(leaf_size=43, n_jobs=9, n_neighbors=37, p=13)\n",
      "ベストスコア: 0.7158469945355191\n"
     ]
    },
    {
     "name": "stderr",
     "output_type": "stream",
     "text": [
      "\n"
     ]
    }
   ],
   "source": [
    "print(\"ランダムサーチ\")\n",
    "model_param_set_random = { # パラメーターをセット\n",
    "    KNeighborsClassifier(): {\n",
    "        \"n_neighbors\": [i for i in range(1, 100)], # 近傍オブジェクト数\n",
    "        \"p\": [i for i in range(1, 100)], # \n",
    "        \"leaf_size\":  [i for i in range(1, 100)], # リーフサイズ\n",
    "        \"n_jobs\": [i for i in range(0, 10)] # 近傍検索ジョブ数\n",
    "    }\n",
    "}\n",
    "random_search(model_param_set_random)"
   ]
  },
  {
   "cell_type": "code",
   "execution_count": 61,
   "metadata": {
    "pycharm": {
     "is_executing": true
    }
   },
   "outputs": [
    {
     "name": "stderr",
     "output_type": "stream",
     "text": [
      "  0%|          | 0/1 [00:00<?, ?it/s]"
     ]
    },
    {
     "name": "stdout",
     "output_type": "stream",
     "text": [
      "グリッドサーチ\n"
     ]
    },
    {
     "name": "stderr",
     "output_type": "stream",
     "text": [
      "100%|██████████| 1/1 [00:29<00:00, 29.14s/it]"
     ]
    },
    {
     "name": "stdout",
     "output_type": "stream",
     "text": [
      "学習モデル:KNeighborsClassifier,\n",
      "パラメーター:{'n_neighbors': 1, 'p': 20}\n",
      "ベストスコア: 0.9344262295081968\n"
     ]
    },
    {
     "name": "stderr",
     "output_type": "stream",
     "text": [
      "\n"
     ]
    }
   ],
   "source": [
    "print(\"グリッドサーチ\")\n",
    "model_param_set_grid = {\n",
    "    KNeighborsClassifier(): {\n",
    "        \"n_neighbors\": [i for i in range(1, 10)],\n",
    "        \"p\": [i for i in range(20, 40)]\n",
    "    }\n",
    "}\n",
    "grid_search(model_param_set_grid)"
   ]
  },
  {
   "cell_type": "markdown",
   "metadata": {},
   "source": [
    "#### 考察"
   ]
  },
  {
   "cell_type": "markdown",
   "metadata": {},
   "source": [
    "グリッドサーチのサーチ結果と異なる。pパラメータは、20~40の範囲で探索する。  "
   ]
  },
  {
   "cell_type": "markdown",
   "metadata": {},
   "source": [
    "# 再学習"
   ]
  },
  {
   "cell_type": "markdown",
   "metadata": {},
   "source": [
    "下記、２パターン（①②）のデータでの学習を実施する。  \n",
    "①アンダーサンプリングしたデータの特徴量の内、上位10件のデータ    \n",
    "②主成分分析により抽出した第２０成分までのデータ    "
   ]
  },
  {
   "cell_type": "markdown",
   "metadata": {},
   "source": [
    "## 重要度（上位10件）"
   ]
  },
  {
   "cell_type": "markdown",
   "metadata": {},
   "source": [
    "### XGBoost"
   ]
  },
  {
   "cell_type": "code",
   "execution_count": 62,
   "metadata": {
    "pycharm": {
     "is_executing": true
    }
   },
   "outputs": [],
   "source": [
    "top_importances = ['購入フラグ', 'ジャンコード', '原単価', '売単価', '販売金額', '売上単価', '国コード', '数量', '性別', '顧客コード', '移動距離']\n",
    "top_imp = df_sample[top_importances].copy()"
   ]
  },
  {
   "cell_type": "code",
   "execution_count": 63,
   "metadata": {
    "pycharm": {
     "is_executing": true
    }
   },
   "outputs": [
    {
     "name": "stderr",
     "output_type": "stream",
     "text": [
      "0it [00:00, ?it/s]"
     ]
    },
    {
     "name": "stdout",
     "output_type": "stream",
     "text": [
      "StratifiedKHold用のXGBoost用のデータ\n",
      "パラメータ\n",
      "学習\n",
      "[21:15:19] WARNING: /opt/concourse/worker/volumes/live/7a2b9f41-3287-451b-6691-43e9a6c0910f/volume/xgboost-split_1619728204606/work/src/learner.cc:541: \n",
      "Parameters: { bagging_fraction, bagging_freq, boosting_type, early_stopping_rounds, feature_fraction, metric, n_estimators, num_boost_round, num_iterations, num_leaves, verbose_eval, vervose } might not be used.\n",
      "\n",
      "  This may not be accurate due to some parameters are only used in language bindings but\n",
      "  passed down to XGBoost core.  Or some parameters are not used but slip through this\n",
      "  verification. Please open an issue if you find above cases.\n",
      "\n",
      "\n",
      "[21:15:19] WARNING: /opt/concourse/worker/volumes/live/7a2b9f41-3287-451b-6691-43e9a6c0910f/volume/xgboost-split_1619728204606/work/src/learner.cc:1061: Starting in XGBoost 1.3.0, the default evaluation metric used with the objective 'binary:logistic' was changed from 'error' to 'logloss'. Explicitly set eval_metric if you'd like to restore the old behavior.\n",
      "[0]\ttrain-logloss:0.68486\teval-logloss:0.68570\n",
      "[1]\ttrain-logloss:0.67672\teval-logloss:0.67840\n",
      "[2]\ttrain-logloss:0.66874\teval-logloss:0.67125\n",
      "[3]\ttrain-logloss:0.66090\teval-logloss:0.66424\n",
      "[4]\ttrain-logloss:0.65321\teval-logloss:0.65737\n",
      "[5]\ttrain-logloss:0.64566\teval-logloss:0.65064\n",
      "[6]\ttrain-logloss:0.63824\teval-logloss:0.64404\n",
      "[7]\ttrain-logloss:0.63096\teval-logloss:0.63757\n",
      "[8]\ttrain-logloss:0.62381\teval-logloss:0.63122\n",
      "[9]\ttrain-logloss:0.61678\teval-logloss:0.62500\n",
      "[21:15:19] WARNING: /opt/concourse/worker/volumes/live/7a2b9f41-3287-451b-6691-43e9a6c0910f/volume/xgboost-split_1619728204606/work/src/learner.cc:541: \n",
      "Parameters: { bagging_fraction, bagging_freq, boosting_type, early_stopping_rounds, feature_fraction, metric, n_estimators, num_boost_round, num_iterations, num_leaves, verbose_eval, vervose } might not be used.\n",
      "\n",
      "  This may not be accurate due to some parameters are only used in language bindings but\n",
      "  passed down to XGBoost core.  Or some parameters are not used but slip through this\n",
      "  verification. Please open an issue if you find above cases.\n",
      "\n",
      "\n",
      "[21:15:19] WARNING: /opt/concourse/worker/volumes/live/7a2b9f41-3287-451b-6691-43e9a6c0910f/volume/xgboost-split_1619728204606/work/src/learner.cc:1061: Starting in XGBoost 1.3.0, the default evaluation metric used with the objective 'binary:logistic' was changed from 'error' to 'logloss'. Explicitly set eval_metric if you'd like to restore the old behavior.\n",
      "[0]\ttrain-logloss:0.68570\teval-logloss:0.68651\n",
      "[1]\ttrain-logloss:0.67844\teval-logloss:0.68019\n",
      "[2]\ttrain-logloss:0.67131\teval-logloss:0.67400\n",
      "[3]\ttrain-logloss:0.66431\teval-logloss:0.66793\n",
      "[4]\ttrain-logloss:0.65687\teval-logloss:0.66133\n",
      "[5]\ttrain-logloss:0.65013\teval-logloss:0.65550\n",
      "[6]\ttrain-logloss:0.64294\teval-logloss:0.64907\n",
      "[7]\ttrain-logloss:0.63589\teval-logloss:0.64283\n",
      "[8]\ttrain-logloss:0.62875\teval-logloss:0.63603\n",
      "[9]\ttrain-logloss:0.62194\teval-logloss:0.63002\n"
     ]
    },
    {
     "name": "stderr",
     "output_type": "stream",
     "text": [
      "2it [00:00, 14.23it/s]"
     ]
    },
    {
     "name": "stdout",
     "output_type": "stream",
     "text": [
      "[21:15:19] WARNING: /opt/concourse/worker/volumes/live/7a2b9f41-3287-451b-6691-43e9a6c0910f/volume/xgboost-split_1619728204606/work/src/learner.cc:541: \n",
      "Parameters: { bagging_fraction, bagging_freq, boosting_type, early_stopping_rounds, feature_fraction, metric, n_estimators, num_boost_round, num_iterations, num_leaves, verbose_eval, vervose } might not be used.\n",
      "\n",
      "  This may not be accurate due to some parameters are only used in language bindings but\n",
      "  passed down to XGBoost core.  Or some parameters are not used but slip through this\n",
      "  verification. Please open an issue if you find above cases.\n",
      "\n",
      "\n",
      "[21:15:19] WARNING: /opt/concourse/worker/volumes/live/7a2b9f41-3287-451b-6691-43e9a6c0910f/volume/xgboost-split_1619728204606/work/src/learner.cc:1061: Starting in XGBoost 1.3.0, the default evaluation metric used with the objective 'binary:logistic' was changed from 'error' to 'logloss'. Explicitly set eval_metric if you'd like to restore the old behavior.\n",
      "[0]\ttrain-logloss:0.68491\teval-logloss:0.68528\n",
      "[1]\ttrain-logloss:0.67683\teval-logloss:0.67751\n",
      "[2]\ttrain-logloss:0.66890\teval-logloss:0.66990\n",
      "[3]\ttrain-logloss:0.66112\teval-logloss:0.66243\n",
      "[4]\ttrain-logloss:0.65349\teval-logloss:0.65509\n",
      "[5]\ttrain-logloss:0.64599\teval-logloss:0.64790\n",
      "[6]\ttrain-logloss:0.63863\teval-logloss:0.64084\n",
      "[7]\ttrain-logloss:0.63140\teval-logloss:0.63390\n",
      "[8]\ttrain-logloss:0.62430\teval-logloss:0.62710\n",
      "[9]\ttrain-logloss:0.61732\teval-logloss:0.62042\n",
      "[21:15:19] WARNING: /opt/concourse/worker/volumes/live/7a2b9f41-3287-451b-6691-43e9a6c0910f/volume/xgboost-split_1619728204606/work/src/learner.cc:541: \n",
      "Parameters: { bagging_fraction, bagging_freq, boosting_type, early_stopping_rounds, feature_fraction, metric, n_estimators, num_boost_round, num_iterations, num_leaves, verbose_eval, vervose } might not be used.\n",
      "\n",
      "  This may not be accurate due to some parameters are only used in language bindings but\n",
      "  passed down to XGBoost core.  Or some parameters are not used but slip through this\n",
      "  verification. Please open an issue if you find above cases.\n",
      "\n",
      "\n",
      "[21:15:19] WARNING: /opt/concourse/worker/volumes/live/7a2b9f41-3287-451b-6691-43e9a6c0910f/volume/xgboost-split_1619728204606/work/src/learner.cc:1061: Starting in XGBoost 1.3.0, the default evaluation metric used with the objective 'binary:logistic' was changed from 'error' to 'logloss'. Explicitly set eval_metric if you'd like to restore the old behavior.\n",
      "[0]\ttrain-logloss:0.68513\teval-logloss:0.68566\n",
      "[1]\ttrain-logloss:0.67737\teval-logloss:0.67824\n",
      "[2]\ttrain-logloss:0.66976\teval-logloss:0.67097\n",
      "[3]\ttrain-logloss:0.66229\teval-logloss:0.66384\n",
      "[4]\ttrain-logloss:0.65496\teval-logloss:0.65685\n",
      "[5]\ttrain-logloss:0.64776\teval-logloss:0.64998\n",
      "[6]\ttrain-logloss:0.64070\teval-logloss:0.64324\n",
      "[7]\ttrain-logloss:0.63376\teval-logloss:0.63663\n",
      "[8]\ttrain-logloss:0.62695\teval-logloss:0.63014\n",
      "[9]\ttrain-logloss:0.62026\teval-logloss:0.62377\n"
     ]
    },
    {
     "name": "stderr",
     "output_type": "stream",
     "text": [
      "4it [00:00, 14.63it/s]"
     ]
    },
    {
     "name": "stdout",
     "output_type": "stream",
     "text": [
      "[21:15:19] WARNING: /opt/concourse/worker/volumes/live/7a2b9f41-3287-451b-6691-43e9a6c0910f/volume/xgboost-split_1619728204606/work/src/learner.cc:541: \n",
      "Parameters: { bagging_fraction, bagging_freq, boosting_type, early_stopping_rounds, feature_fraction, metric, n_estimators, num_boost_round, num_iterations, num_leaves, verbose_eval, vervose } might not be used.\n",
      "\n",
      "  This may not be accurate due to some parameters are only used in language bindings but\n",
      "  passed down to XGBoost core.  Or some parameters are not used but slip through this\n",
      "  verification. Please open an issue if you find above cases.\n",
      "\n",
      "\n",
      "[21:15:19] WARNING: /opt/concourse/worker/volumes/live/7a2b9f41-3287-451b-6691-43e9a6c0910f/volume/xgboost-split_1619728204606/work/src/learner.cc:1061: Starting in XGBoost 1.3.0, the default evaluation metric used with the objective 'binary:logistic' was changed from 'error' to 'logloss'. Explicitly set eval_metric if you'd like to restore the old behavior.\n",
      "[0]\ttrain-logloss:0.68510\teval-logloss:0.68564\n",
      "[1]\ttrain-logloss:0.67724\teval-logloss:0.67834\n",
      "[2]\ttrain-logloss:0.66953\teval-logloss:0.67117\n",
      "[3]\ttrain-logloss:0.66196\teval-logloss:0.66409\n",
      "[4]\ttrain-logloss:0.65453\teval-logloss:0.65719\n",
      "[5]\ttrain-logloss:0.64723\teval-logloss:0.65037\n",
      "[6]\ttrain-logloss:0.64007\teval-logloss:0.64367\n",
      "[7]\ttrain-logloss:0.63303\teval-logloss:0.63715\n",
      "[8]\ttrain-logloss:0.62612\teval-logloss:0.63069\n",
      "[9]\ttrain-logloss:0.61933\teval-logloss:0.62441\n",
      "[21:15:19] WARNING: /opt/concourse/worker/volumes/live/7a2b9f41-3287-451b-6691-43e9a6c0910f/volume/xgboost-split_1619728204606/work/src/learner.cc:541: \n",
      "Parameters: { bagging_fraction, bagging_freq, boosting_type, early_stopping_rounds, feature_fraction, metric, n_estimators, num_boost_round, num_iterations, num_leaves, verbose_eval, vervose } might not be used.\n",
      "\n",
      "  This may not be accurate due to some parameters are only used in language bindings but\n",
      "  passed down to XGBoost core.  Or some parameters are not used but slip through this\n",
      "  verification. Please open an issue if you find above cases.\n",
      "\n",
      "\n",
      "[21:15:19] WARNING: /opt/concourse/worker/volumes/live/7a2b9f41-3287-451b-6691-43e9a6c0910f/volume/xgboost-split_1619728204606/work/src/learner.cc:1061: Starting in XGBoost 1.3.0, the default evaluation metric used with the objective 'binary:logistic' was changed from 'error' to 'logloss'. Explicitly set eval_metric if you'd like to restore the old behavior.\n",
      "[0]\ttrain-logloss:0.68506\teval-logloss:0.68517\n",
      "[1]\ttrain-logloss:0.67732\teval-logloss:0.67740\n",
      "[2]\ttrain-logloss:0.66963\teval-logloss:0.66958\n",
      "[3]\ttrain-logloss:0.66207\teval-logloss:0.66190\n",
      "[4]\ttrain-logloss:0.65465\teval-logloss:0.65436\n",
      "[5]\ttrain-logloss:0.64737\teval-logloss:0.64696\n",
      "[6]\ttrain-logloss:0.64022\teval-logloss:0.63954\n",
      "[7]\ttrain-logloss:0.63318\teval-logloss:0.63222\n",
      "[8]\ttrain-logloss:0.62626\teval-logloss:0.62513\n",
      "[9]\ttrain-logloss:0.61948\teval-logloss:0.61823\n"
     ]
    },
    {
     "name": "stderr",
     "output_type": "stream",
     "text": [
      "6it [00:00, 14.54it/s]"
     ]
    },
    {
     "name": "stdout",
     "output_type": "stream",
     "text": [
      "[21:15:19] WARNING: /opt/concourse/worker/volumes/live/7a2b9f41-3287-451b-6691-43e9a6c0910f/volume/xgboost-split_1619728204606/work/src/learner.cc:541: \n",
      "Parameters: { bagging_fraction, bagging_freq, boosting_type, early_stopping_rounds, feature_fraction, metric, n_estimators, num_boost_round, num_iterations, num_leaves, verbose_eval, vervose } might not be used.\n",
      "\n",
      "  This may not be accurate due to some parameters are only used in language bindings but\n",
      "  passed down to XGBoost core.  Or some parameters are not used but slip through this\n",
      "  verification. Please open an issue if you find above cases.\n",
      "\n",
      "\n",
      "[21:15:20] WARNING: /opt/concourse/worker/volumes/live/7a2b9f41-3287-451b-6691-43e9a6c0910f/volume/xgboost-split_1619728204606/work/src/learner.cc:1061: Starting in XGBoost 1.3.0, the default evaluation metric used with the objective 'binary:logistic' was changed from 'error' to 'logloss'. Explicitly set eval_metric if you'd like to restore the old behavior.\n",
      "[0]\ttrain-logloss:0.68525\teval-logloss:0.68539\n",
      "[1]\ttrain-logloss:0.67753\teval-logloss:0.67773\n",
      "[2]\ttrain-logloss:0.66995\teval-logloss:0.67022\n",
      "[3]\ttrain-logloss:0.66252\teval-logloss:0.66286\n",
      "[4]\ttrain-logloss:0.65522\teval-logloss:0.65563\n",
      "[5]\ttrain-logloss:0.64806\teval-logloss:0.64853\n",
      "[6]\ttrain"
     ]
    },
    {
     "data": {
      "text/html": [
       "<b>limit_output extension: Maximum message size of 10000 exceeded with 10038 characters</b>"
      ]
     },
     "metadata": {},
     "output_type": "display_data"
    }
   ],
   "source": [
    "print(\"StratifiedKHold用のXGBoost用のデータ\")\n",
    "top_imp_skf = top_imp.astype(float).copy()\n",
    "target = '購入フラグ'\n",
    "Xtrain = top_imp_skf.drop(columns=target)\n",
    "ytrain = top_imp_skf[target]\n",
    "\n",
    "print(\"パラメータ\")\n",
    "xgb_params_skf = {\n",
    "    'boosting_type': 'gbdt',\n",
    "    'objective': 'binary:logistic', \n",
    "    'metric': {'binary_error'},\n",
    "    'num_leaves': 100,\n",
    "    'num_iterations':100,\n",
    "    'learning_rate': 0.01,\n",
    "    'feature_fraction': 0.9,\n",
    "    'bagging_fraction': 0.8,\n",
    "    'bagging_freq': 10,\n",
    "    'max_depth':10,\n",
    "    'colsample_bytree':1,\n",
    "    'n_estimators':500,\n",
    "    'vervose': 0,\n",
    "    'num_boost_round': 100,\n",
    "    'early_stopping_rounds': 100,\n",
    "    'verbose_eval': 50,\n",
    "}\n",
    "\n",
    "print(\"学習\")\n",
    "auc_scores_skf = []\n",
    "xgb_predict_skf_list = []\n",
    "y_val_skf_list = []\n",
    "cv = StratifiedKFold(n_splits=7, random_state=0, shuffle=True)\n",
    "for trn_index, val_index in tqdm(cv.split(Xtrain, ytrain)):\n",
    "    X_trn, X_val = Xtrain.loc[trn_index], Xtrain.loc[val_index]\n",
    "    y_trn, y_val = ytrain[trn_index], ytrain[val_index]\n",
    "    y_val_skf_list.append(y_val)\n",
    "\n",
    "    xgb_train_skf = xgb.DMatrix(X_trn, label=y_trn)\n",
    "    xgb_test_skf = xgb.DMatrix(X_val, label=y_val)\n",
    "\n",
    "    evals_skf = [(xgb_train_skf, 'train'), (xgb_test_skf, 'eval')]\n",
    "    evals_result_skf = {}\n",
    "\n",
    "    xgb_model_skf = xgb.train(\n",
    "                xgb_params_skf,\n",
    "                xgb_train_skf,\n",
    "                evals=evals_skf,\n",
    "                evals_result=evals_result_skf,\n",
    "                )\n",
    "    xgb_predict_skf = xgb_model_skf.predict(xgb_test_skf)\n",
    "    xgb_predict_skf_list.append(xgb_predict_skf)\n",
    "\n",
    "    fpr, tpr, thresholds = metrics.roc_curve(y_val, xgb_predict_skf)\n",
    "    auc_skf = metrics.auc(fpr, tpr)\n",
    "    auc_scores_skf.append(auc_skf)"
   ]
  },
  {
   "cell_type": "code",
   "execution_count": 64,
   "metadata": {
    "pycharm": {
     "is_executing": true
    }
   },
   "outputs": [
    {
     "data": {
      "text/plain": [
       "0.961"
      ]
     },
     "execution_count": 64,
     "metadata": {},
     "output_type": "execute_result"
    }
   ],
   "source": [
    "np.mean(auc_scores_skf).round(decimals=3)"
   ]
  },
  {
   "cell_type": "markdown",
   "metadata": {},
   "source": [
    "StratifiedKHoldでのXGBoostの評価（全量)  \n",
    "Accuracy：0.934  "
   ]
  },
  {
   "cell_type": "code",
   "execution_count": 65,
   "metadata": {
    "pycharm": {
     "is_executing": true
    }
   },
   "outputs": [
    {
     "name": "stderr",
     "output_type": "stream",
     "text": [
      "  0%|          | 0/7 [00:00<?, ?it/s]"
     ]
    },
    {
     "name": "stdout",
     "output_type": "stream",
     "text": [
      "StratifiedKHoldでのXGBoostの評価（重要度上位１０件）\n"
     ]
    },
    {
     "name": "stderr",
     "output_type": "stream",
     "text": [
      "100%|██████████| 7/7 [00:00<00:00, 140.27it/s]"
     ]
    },
    {
     "name": "stdout",
     "output_type": "stream",
     "text": [
      "正解率: 0.928\n",
      "適合率: 0.912\n",
      "再現率: 0.947\n",
      "F値: 0.929\n"
     ]
    },
    {
     "name": "stderr",
     "output_type": "stream",
     "text": [
      "\n"
     ]
    }
   ],
   "source": [
    "print(\"StratifiedKHoldでのXGBoostの評価（重要度上位１０件）\")\n",
    "acc_list = []\n",
    "prec_list = []\n",
    "recl_list = []\n",
    "f1_list = []\n",
    "i = 0\n",
    "for predict in tqdm(xgb_predict_skf_list):\n",
    "    pred_skf = np.where(predict > 0.5, 1, 0)\n",
    "    accuracy = accuracy_score(y_val_skf_list[i], pred_skf).round(decimals=3)\n",
    "    precision = precision_score(y_val_skf_list[i], pred_skf).round(decimals=3)\n",
    "    recall = recall_score(y_val_skf_list[i], pred_skf).round(decimals=3)\n",
    "    f1 = f1_score(y_val_skf_list[i], pred_skf).round(decimals=3)\n",
    "    \n",
    "    acc_list.append(accuracy)\n",
    "    prec_list.append(precision)    \n",
    "    recl_list.append(recall)\n",
    "    f1_list.append(f1)\n",
    "    i=i+1\n",
    "\n",
    "acc = np.mean(acc_list).mean().round(decimals=3)\n",
    "prec = np.mean(prec_list).mean().round(decimals=3)\n",
    "recl = np.mean(recl_list).mean().round(decimals=3)\n",
    "f = np.mean(f1_list).mean().round(decimals=3)\n",
    "print(f'正解率: {acc}')\n",
    "print(f'適合率: {prec}')\n",
    "print(f'再現率: {recl}')\n",
    "print(f'F値: {f}')"
   ]
  },
  {
   "cell_type": "markdown",
   "metadata": {},
   "source": [
    "StratifiedKHoldでのXGBoostの評価（全量）  \n",
    "正解率: 0.893  \n",
    "適合率: 0.898  \n",
    "再現率: 0.888  \n",
    "F値: 0.893  "
   ]
  },
  {
   "cell_type": "markdown",
   "metadata": {},
   "source": [
    "「全量」→「重要度上位１０件」、評価の向上が見られる。  "
   ]
  },
  {
   "cell_type": "markdown",
   "metadata": {},
   "source": [
    "### K近傍法（分類）"
   ]
  },
  {
   "cell_type": "code",
   "execution_count": 66,
   "metadata": {
    "pycharm": {
     "is_executing": true
    }
   },
   "outputs": [
    {
     "name": "stdout",
     "output_type": "stream",
     "text": [
      "StratifiedKFold\n"
     ]
    },
    {
     "name": "stderr",
     "output_type": "stream",
     "text": [
      "0it [00:00, ?it/s]"
     ]
    },
    {
     "data": {
      "text/plain": [
       "KNeighborsClassifier(n_neighbors=1, p=34)"
      ]
     },
     "execution_count": 66,
     "metadata": {},
     "output_type": "execute_result"
    },
    {
     "data": {
      "text/plain": [
       "KNeighborsClassifier(n_neighbors=1, p=34)"
      ]
     },
     "execution_count": 66,
     "metadata": {},
     "output_type": "execute_result"
    },
    {
     "data": {
      "text/plain": [
       "KNeighborsClassifier(n_neighbors=1, p=34)"
      ]
     },
     "execution_count": 66,
     "metadata": {},
     "output_type": "execute_result"
    },
    {
     "data": {
      "text/plain": [
       "KNeighborsClassifier(n_neighbors=1, p=34)"
      ]
     },
     "execution_count": 66,
     "metadata": {},
     "output_type": "execute_result"
    },
    {
     "name": "stderr",
     "output_type": "stream",
     "text": [
      "4it [00:00, 37.79it/s]"
     ]
    },
    {
     "data": {
      "text/plain": [
       "KNeighborsClassifier(n_neighbors=1, p=34)"
      ]
     },
     "execution_count": 66,
     "metadata": {},
     "output_type": "execute_result"
    },
    {
     "data": {
      "text/plain": [
       "KNeighborsClassifier(n_neighbors=1, p=34)"
      ]
     },
     "execution_count": 66,
     "metadata": {},
     "output_type": "execute_result"
    },
    {
     "data": {
      "text/plain": [
       "KNeighborsClassifier(n_neighbors=1, p=34)"
      ]
     },
     "execution_count": 66,
     "metadata": {},
     "output_type": "execute_result"
    },
    {
     "name": "stderr",
     "output_type": "stream",
     "text": [
      "7it [00:00, 39.89it/s]"
     ]
    },
    {
     "name": "stdout",
     "output_type": "stream",
     "text": [
      "平均正解率 0.966\n"
     ]
    },
    {
     "name": "stderr",
     "output_type": "stream",
     "text": [
      "\n"
     ]
    }
   ],
   "source": [
    "print(\"StratifiedKFold\")\n",
    "i = 1\n",
    "knc_models_skf = []\n",
    "knc_predicts_skf = []\n",
    "acc_results_skf = []\n",
    "y_vals_skf = []\n",
    "\n",
    "target = '購入フラグ'\n",
    "Xtrain_skf = top_imp.drop(columns=target)\n",
    "ytrain_skf = top_imp[target]\n",
    "cv = StratifiedKFold(n_splits=7, random_state=0, shuffle=True)\n",
    "knc_model_skf = KNeighborsClassifier(n_neighbors=1, p=34)\n",
    "\n",
    "for trn_index, val_index in tqdm(cv.split(Xtrain_skf, ytrain_skf)):\n",
    "    X_trn, X_val = Xtrain_skf.loc[trn_index], Xtrain_skf.loc[val_index]\n",
    "    y_trn, y_val = ytrain_skf[trn_index], ytrain_skf[val_index]\n",
    "    y_vals_skf.append(y_val)\n",
    "\n",
    "    knc_model_skf.fit(X_trn, y_trn) # 学習\n",
    "    knc_models_skf.append(knc_model_skf) # モデル格納\n",
    "    knc_predict_skf = knc_model_skf.predict_proba(X_val)[:, 1] # 予測\n",
    "    knc_predicts_skf.append(knc_predict_skf)\n",
    "\n",
    "    acc = knc_model_skf.score(X_val, y_val) # 評価\n",
    "    acc_results_skf.append(acc)\n",
    "\n",
    "accuracy_mean = np.mean(acc_results_skf).round(decimals=3)\n",
    "print(f'平均正解率 {accuracy_mean}')"
   ]
  },
  {
   "cell_type": "code",
   "execution_count": 67,
   "metadata": {
    "pycharm": {
     "is_executing": true
    }
   },
   "outputs": [
    {
     "name": "stdout",
     "output_type": "stream",
     "text": [
      "平均正解率 0.966\n"
     ]
    }
   ],
   "source": [
    "accuracy_mean = np.mean(acc_results_skf).round(decimals=3)\n",
    "print(f'平均正解率 {accuracy_mean}')"
   ]
  },
  {
   "cell_type": "code",
   "execution_count": 68,
   "metadata": {
    "pycharm": {
     "is_executing": true
    }
   },
   "outputs": [
    {
     "name": "stderr",
     "output_type": "stream",
     "text": [
      "100%|██████████| 7/7 [00:00<00:00, 230.49it/s]"
     ]
    },
    {
     "name": "stdout",
     "output_type": "stream",
     "text": [
      "StratifiedKHoldでのK近傍法の評価（重要度上位１０件）\n",
      "正解率: 0.958\n",
      "適合率: 0.977\n",
      "再現率: 0.938\n",
      "F値: 0.956\n"
     ]
    },
    {
     "name": "stderr",
     "output_type": "stream",
     "text": [
      "\n"
     ]
    }
   ],
   "source": [
    "print(\"StratifiedKHoldでのK近傍法の評価（重要度上位１０件）\")\n",
    "acc_list = []\n",
    "prec_list = []\n",
    "recl_list = []\n",
    "f1_list = []\n",
    "i = 0\n",
    "for predict in tqdm(kn_predicts_skf):\n",
    "    pred_skf = np.where(predict > 0.5, 1, 0)\n",
    "    accuracy = accuracy_score(y_vals_skf[i], pred_skf).round(decimals=3)\n",
    "    precision = precision_score(y_vals_skf[i], pred_skf).round(decimals=3)\n",
    "    recall = recall_score(y_vals_skf[i], pred_skf).round(decimals=3)\n",
    "    f1 = f1_score(y_vals_skf[i], pred_skf).round(decimals=3)\n",
    "    \n",
    "    acc_list.append(accuracy)\n",
    "    prec_list.append(precision)\n",
    "    recl_list.append(recall)\n",
    "    f1_list.append(f1)\n",
    "    i=i+1\n",
    "\n",
    "acc = np.mean(acc_list).mean().round(decimals=3)\n",
    "prec = np.mean(prec_list).mean().round(decimals=3)\n",
    "recl = np.mean(recl_list).mean().round(decimals=3)\n",
    "f = np.mean(f1_list).mean().round(decimals=3)\n",
    "print(f'正解率: {acc}')\n",
    "print(f'適合率: {prec}')\n",
    "print(f'再現率: {recl}')\n",
    "print(f'F値: {f}')"
   ]
  },
  {
   "cell_type": "markdown",
   "metadata": {},
   "source": [
    "StratifiedKHoldでのK近傍法の評価（全量）  \n",
    "正解率: 0.958  \n",
    "適合率: 0.977  \n",
    "再現率: 0.938  \n",
    "F値: 0.956  "
   ]
  },
  {
   "cell_type": "markdown",
   "metadata": {},
   "source": [
    "K近傍法：平均正解率 0.966  \n",
    "XGBoost：平均正解率0.961  "
   ]
  },
  {
   "cell_type": "markdown",
   "metadata": {},
   "source": [
    "## 主成分（上位20成分）"
   ]
  },
  {
   "cell_type": "code",
   "execution_count": 69,
   "metadata": {
    "pycharm": {
     "is_executing": true
    }
   },
   "outputs": [
    {
     "data": {
      "text/html": [
       "<div>\n",
       "<style scoped>\n",
       "    .dataframe tbody tr th:only-of-type {\n",
       "        vertical-align: middle;\n",
       "    }\n",
       "\n",
       "    .dataframe tbody tr th {\n",
       "        vertical-align: top;\n",
       "    }\n",
       "\n",
       "    .dataframe thead th {\n",
       "        text-align: right;\n",
       "    }\n",
       "</style>\n",
       "<table border=\"1\" class=\"dataframe\">\n",
       "  <thead>\n",
       "    <tr style=\"text-align: right;\">\n",
       "      <th></th>\n",
       "      <th>購入フラグ</th>\n",
       "      <th>第1主成分</th>\n",
       "      <th>第2主成分</th>\n",
       "      <th>第3主成分</th>\n",
       "      <th>第4主成分</th>\n",
       "      <th>第5主成分</th>\n",
       "      <th>第6主成分</th>\n",
       "      <th>第7主成分</th>\n",
       "      <th>第8主成分</th>\n",
       "      <th>第9主成分</th>\n",
       "      <th>...</th>\n",
       "      <th>第11主成分</th>\n",
       "      <th>第12主成分</th>\n",
       "      <th>第13主成分</th>\n",
       "      <th>第14主成分</th>\n",
       "      <th>第15主成分</th>\n",
       "      <th>第16主成分</th>\n",
       "      <th>第17主成分</th>\n",
       "      <th>第18主成分</th>\n",
       "      <th>第19主成分</th>\n",
       "      <th>第20主成分</th>\n",
       "    </tr>\n",
       "  </thead>\n",
       "  <tbody>\n",
       "    <tr>\n",
       "      <th>0</th>\n",
       "      <td>0.0</td>\n",
       "      <td>-0.253</td>\n",
       "      <td>-0.27</td>\n",
       "      <td>0.815</td>\n",
       "      <td>-0.756</td>\n",
       "      <td>-2.182</td>\n",
       "      <td>1.125</td>\n",
       "      <td>0.866</td>\n",
       "      <td>-0.342</td>\n",
       "      <td>-0.308</td>\n",
       "      <td>...</td>\n",
       "      <td>1.316</td>\n",
       "      <td>-1.609</td>\n",
       "      <td>-1.152</td>\n",
       "      <td>-0.198</td>\n",
       "      <td>1.567</td>\n",
       "      <td>0.347</td>\n",
       "      <td>0.606</td>\n",
       "      <td>0.395</td>\n",
       "      <td>-0.544</td>\n",
       "      <td>0.423</td>\n",
       "    </tr>\n",
       "    <tr>\n",
       "      <th>1</th>\n",
       "      <td>0.0</td>\n",
       "      <td>-0.331</td>\n",
       "      <td>-0.68</td>\n",
       "      <td>3.739</td>\n",
       "      <td>-0.156</td>\n",
       "      <td>-0.166</td>\n",
       "      <td>1.223</td>\n",
       "      <td>0.814</td>\n",
       "      <td>-0.461</td>\n",
       "      <td>-0.552</td>\n",
       "      <td>...</td>\n",
       "      <td>1.395</td>\n",
       "      <td>-1.697</td>\n",
       "      <td>-1.103</td>\n",
       "      <td>-0.218</td>\n",
       "      <td>1.325</td>\n",
       "      <td>0.721</td>\n",
       "      <td>0.093</td>\n",
       "      <td>-1.111</td>\n",
       "      <td>-0.04</td>\n",
       "      <td>0.46</td>\n",
       "    </tr>\n",
       "  </tbody>\n",
       "</table>\n",
       "<p>2 rows × 21 columns</p>\n",
       "</div>"
      ],
      "text/plain": [
       "  購入フラグ   第1主成分  第2主成分  第3主成分   第4主成分   第5主成分  第6主成分  第7主成分   第8主成分   第9主成分  \\\n",
       "0   0.0  -0.253  -0.27  0.815  -0.756  -2.182  1.125  0.866  -0.342  -0.308   \n",
       "1   0.0  -0.331  -0.68  3.739  -0.156  -0.166  1.223  0.814  -0.461  -0.552   \n",
       "\n",
       "   ... 第11主成分  第12主成分  第13主成分  第14主成分 第15主成分 第16主成分 第17主成分  第18主成分  第19主成分  \\\n",
       "0  ...  1.316  -1.609  -1.152  -0.198  1.567  0.347  0.606   0.395  -0.544   \n",
       "1  ...  1.395  -1.697  -1.103  -0.218  1.325  0.721  0.093  -1.111   -0.04   \n",
       "\n",
       "  第20主成分  \n",
       "0  0.423  \n",
       "1   0.46  \n",
       "\n",
       "[2 rows x 21 columns]"
      ]
     },
     "execution_count": 69,
     "metadata": {},
     "output_type": "execute_result"
    }
   ],
   "source": [
    "principal = pd.read_csv(\"./principal.csv\")\n",
    "principal_= pd.DataFrame()\n",
    "principal_ = principal.drop(columns='Unnamed: 0', axis=0).astype(float).round(decimals=3).astype(str)\n",
    "principal_.head(2)"
   ]
  },
  {
   "cell_type": "code",
   "execution_count": 87,
   "metadata": {
    "pycharm": {
     "is_executing": true
    }
   },
   "outputs": [
    {
     "name": "stderr",
     "output_type": "stream",
     "text": [
      "0it [00:00, ?it/s]"
     ]
    },
    {
     "name": "stdout",
     "output_type": "stream",
     "text": [
      "パラメータ\n",
      "学習\n",
      "[16:01:29] WARNING: /opt/concourse/worker/volumes/live/7a2b9f41-3287-451b-6691-43e9a6c0910f/volume/xgboost-split_1619728204606/work/src/learner.cc:541: \n",
      "Parameters: { bagging_fraction, bagging_freq, boosting_type, early_stopping_rounds, feature_fraction, metric, n_estimators, num_boost_round, num_iterations, num_leaves, verbose_eval, vervose } might not be used.\n",
      "\n",
      "  This may not be accurate due to some parameters are only used in language bindings but\n",
      "  passed down to XGBoost core.  Or some parameters are not used but slip through this\n",
      "  verification. Please open an issue if you find above cases.\n",
      "\n",
      "\n",
      "[16:01:29] WARNING: /opt/concourse/worker/volumes/live/7a2b9f41-3287-451b-6691-43e9a6c0910f/volume/xgboost-split_1619728204606/work/src/learner.cc:1061: Starting in XGBoost 1.3.0, the default evaluation metric used with the objective 'binary:logistic' was changed from 'error' to 'logloss'. Explicitly set eval_metric if you'd like to restore the old behavior.\n",
      "[0]\ttrain-logloss:0.68348\teval-logloss:0.68318\n",
      "[1]\ttrain-logloss:0.67374\teval-logloss:0.67344\n",
      "[2]\ttrain-logloss:0.66410\teval-logloss:0.66396\n",
      "[3]\ttrain-logloss:0.65442\teval-logloss:0.65460\n",
      "[4]\ttrain-logloss:0.64520\teval-logloss:0.64544\n",
      "[5]\ttrain-logloss:0.63670\teval-logloss:0.63641\n",
      "[6]\ttrain-logloss:0.62755\teval-logloss:0.62760\n",
      "[7]\ttrain-logloss:0.61918\teval-logloss:0.61901\n",
      "[8]\ttrain-logloss:0.61018\teval-logloss:0.61053\n",
      "[9]\ttrain-logloss:0.60191\teval-logloss:0.60220\n"
     ]
    },
    {
     "name": "stderr",
     "output_type": "stream",
     "text": [
      "1it [00:02,  2.84s/it]"
     ]
    },
    {
     "name": "stdout",
     "output_type": "stream",
     "text": [
      "[16:01:31] WARNING: /opt/concourse/worker/volumes/live/7a2b9f41-3287-451b-6691-43e9a6c0910f/volume/xgboost-split_1619728204606/work/src/learner.cc:541: \n",
      "Parameters: { bagging_fraction, bagging_freq, boosting_type, early_stopping_rounds, feature_fraction, metric, n_estimators, num_boost_round, num_iterations, num_leaves, verbose_eval, vervose } might not be used.\n",
      "\n",
      "  This may not be accurate due to some parameters are only used in language bindings but\n",
      "  passed down to XGBoost core.  Or some parameters are not used but slip through this\n",
      "  verification. Please open an issue if you find above cases.\n",
      "\n",
      "\n",
      "[16:01:32] WARNING: /opt/concourse/worker/volumes/live/7a2b9f41-3287-451b-6691-43e9a6c0910f/volume/xgboost-split_1619728204606/work/src/learner.cc:1061: Starting in XGBoost 1.3.0, the default evaluation metric used with the objective 'binary:logistic' was changed from 'error' to 'logloss'. Explicitly set eval_metric if you'd like to restore the old behavior.\n",
      "[0]\ttrain-logloss:0.68348\teval-logloss:0.68318\n",
      "[1]\ttrain-logloss:0.67374\teval-logloss:0.67344\n",
      "[2]\ttrain-logloss:0.66410\teval-logloss:0.66396\n",
      "[3]\ttrain-logloss:0.65442\teval-logloss:0.65460\n",
      "[4]\ttrain-logloss:0.64519\teval-logloss:0.64544\n",
      "[5]\ttrain-logloss:0.63670\teval-logloss:0.63642\n",
      "[6]\ttrain-logloss:0.62755\teval-logloss:0.62761\n",
      "[7]\ttrain-logloss:0.61918\teval-logloss:0.61901\n",
      "[8]\ttrain-logloss:0.61018\teval-logloss:0.61053\n",
      "[9]\ttrain-logloss:0.60191\teval-logloss:0.60221\n"
     ]
    },
    {
     "name": "stderr",
     "output_type": "stream",
     "text": [
      "2it [00:05,  2.69s/it]"
     ]
    },
    {
     "name": "stdout",
     "output_type": "stream",
     "text": [
      "[16:01:34] WARNING: /opt/concourse/worker/volumes/live/7a2b9f41-3287-451b-6691-43e9a6c0910f/volume/xgboost-split_1619728204606/work/src/learner.cc:541: \n",
      "Parameters: { bagging_fraction, bagging_freq, boosting_type, early_stopping_rounds, feature_fraction, metric, n_estimators, num_boost_round, num_iterations, num_leaves, verbose_eval, vervose } might not be used.\n",
      "\n",
      "  This may not be accurate due to some parameters are only used in language bindings but\n",
      "  passed down to XGBoost core.  Or some parameters are not used but slip through this\n",
      "  verification. Please open an issue if you find above cases.\n",
      "\n",
      "\n",
      "[16:01:34] WARNING: /opt/concourse/worker/volumes/live/7a2b9f41-3287-451b-6691-43e9a6c0910f/volume/xgboost-split_1619728204606/work/src/learner.cc:1061: Starting in XGBoost 1.3.0, the default evaluation metric used with the objective 'binary:logistic' was changed from 'error' to 'logloss'. Explicitly set eval_metric if you'd like to restore the old behavior.\n",
      "[0]\ttrain-logloss:0.68348\teval-logloss:0.68318\n",
      "[1]\ttrain-logloss:0.67374\teval-logloss:0.67344\n",
      "[2]\ttrain-logloss:0.66410\teval-logloss:0.66396\n",
      "[3]\ttrain-logloss:0.65442\teval-logloss:0.65460\n",
      "[4]\ttrain-logloss:0.64520\teval-logloss:0.64544\n",
      "[5]\ttrain-logloss:0.63670\teval-logloss:0.63641\n",
      "[6]\ttrain-logloss:0.62755\teval-logloss:0.62760\n",
      "[7]\ttrain-logloss:0.61918\teval-logloss:0.61901\n",
      "[8]\ttrain-logloss:0.61018\teval-logloss:0.61053\n",
      "[9]\ttrain-logloss:0.60192\teval-logloss:0.60220\n"
     ]
    },
    {
     "name": "stderr",
     "output_type": "stream",
     "text": [
      "3it [00:07,  2.58s/it]"
     ]
    },
    {
     "name": "stdout",
     "output_type": "stream",
     "text": [
      "[16:01:36] WARNING: /opt/concourse/worker/volumes/live/7a2b9f41-3287-451b-6691-43e9a6c0910f/volume/xgboost-split_1619728204606/work/src/learner.cc:541: \n",
      "Parameters: { bagging_fraction, bagging_freq, boosting_type, early_stopping_rounds, feature_fraction, metric, n_estimators, num_boost_round, num_iterations, num_leaves, verbose_eval, vervose } might not be used.\n",
      "\n",
      "  This may not be accurate due to some parameters are only used in language bindings but\n",
      "  passed down to XGBoost core.  Or some parameters are not used but slip through this\n",
      "  verification. Please open an issue if you find above cases.\n",
      "\n",
      "\n",
      "[16:01:36] WARNING: /opt/concourse/worker/volumes/live/7a2b9f41-3287-451b-6691-43e9a6c0910f/volume/xgboost-split_1619728204606/work/src/learner.cc:1061: Starting in XGBoost 1.3.0, the default evaluation metric used with the objective 'binary:logistic' was changed from 'error' to 'logloss'. Explicitly set eval_metric if you'd like to restore the old behavior.\n",
      "[0]\ttrain-logloss:0.68348\teval-logloss:0.68318\n",
      "[1]\ttrain-logloss:0.67374\teval-logloss:0.67344\n",
      "[2]\ttrain-logloss:0.66410\teval-logloss:0.66396\n",
      "[3]\ttrain-logloss:0.65442\teval-logloss:0.65460\n",
      "[4]\ttrain-logloss:0.64520\teval-logloss:0.64544\n",
      "[5]\ttrain-logloss:0.63670\teval-logloss:0.63642\n",
      "[6]\ttrain-logloss:0.62755\teval-logloss:0.62761\n",
      "[7]\ttrain-logloss:0.61918\teval-logloss:0.61901\n",
      "[8]\ttrain-logloss:0.61018\teval-logloss:0.61053\n",
      "[9]\ttrain-logloss:0.60191\teval-logloss:0.60221\n"
     ]
    },
    {
     "name": "stderr",
     "output_type": "stream",
     "text": [
      "4it [00:09,  2.52s/it]"
     ]
    },
    {
     "name": "stdout",
     "output_type": "stream",
     "text": [
      "[16:01:38] WARNING: /opt/concourse/worker/volumes/live/7a2b9f41-3287-451b-6691-43e9a6c0910f/volume/xgboost-split_1619728204606/work/src/learner.cc:541: \n",
      "Parameters: { bagging_fraction, bagging_freq, boosting_type, early_stopping_rounds, feature_fraction, metric, n_estimators, num_boost_round, num_iterations, num_leaves, verbose_eval, vervose } might not be used.\n",
      "\n",
      "  This may not be accurate due to some parameters are only used in language bindings but\n",
      "  passed down to XGBoost core.  Or some parameters are not used but slip through this\n",
      "  verification. Please open an issue if you find above cases.\n",
      "\n",
      "\n",
      "[16:01:39] WARNING: /opt/concourse/worker/volumes/live/7a2b9f41-3287-451b-6691-43e9a6c0910f/volume/xgboost-split_1619728204606/work/src/learner.cc:1061: Starting in XGBoost 1.3.0, the default evaluation metric used with the objective 'binary:logistic' was changed from 'error' to 'logloss'. Explicitly set eval_metric if you'd like to restore the old behavior.\n",
      "[0]\ttrain-logloss:0.68348\teval-logloss:0.68318\n",
      "[1]\ttrain-logloss:0.67374\teval-logloss:0.67344\n",
      "[2]\ttrain-logloss:0.66410\teval-logloss:0.66396\n",
      "[3]\ttrain-logloss:0.65442\teval-logloss:0.65460\n",
      "[4]\ttrain-logloss:0.64519\teval-logloss:0.64544\n",
      "[5]\ttrain-logloss:0.63670\teval-logloss:0.63641\n",
      "[6]\ttrain-logloss:0.62755\teval-logloss:0.62760\n",
      "[7]\ttrain-logloss:0.61918\teval-logloss:0.61900\n",
      "[8]\ttrain-logloss:0.61018\teval-logloss:0.61052\n",
      "[9]\ttrain-logloss:0.60191\teval-logloss:0.60220\n"
     ]
    },
    {
     "name": "stderr",
     "output_type": "stream",
     "text": [
      "5it [00:12,  2.46s/it]"
     ]
    },
    {
     "name": "stdout",
     "output_type": "stream",
     "text": [
      "[16:01:41] WARNING: /opt/concourse/worker/volumes/live/7a2b9f41-3287-451b-6691-43e9a6c0910f/volume/xgboost-split_1619728204606/work/src/learner.cc:541: \n",
      "Parameters: { bagging_fraction, bagging_freq, boosting_type, early_stopping_rounds, feature_fraction, metric, n_estimators, num_boost_round, num_iterations, num_leaves, verbose_eval, vervose } might not be used.\n",
      "\n",
      "  This may not be accurate due to some parameters are only used in language bindings but\n",
      "  passed down to XGBoost core.  Or some parameters are not used but slip through this\n",
      "  verification. Please open an issue if you find above cases.\n",
      "\n",
      "\n",
      "[16:01:41] WARNING: /opt/concourse/worker/volumes/live/7a2b9f41-3287-451b-6691-43e9a6c0910f/volume/xgboost-split_1619728204606/work/src/learner.cc:1061: Starting in XGBoost 1.3.0, the default evaluation metric used with the objective 'binary:logistic' was changed from 'error' to 'logloss'. Explicitly set eval_metric if you'd like to restore the old behavior.\n",
      "[0]\ttrain-logloss:0.68348\teval-logloss:0.68318\n",
      "[1]\ttrain-logloss:0.67374\teval-logloss:0.67344\n",
      "[2]\ttrain-logloss:0.66410\teval-logloss:0.66396\n",
      "[3]\ttrain-logloss:0.65442\teval-logloss:0.65460\n",
      "[4]\ttrain-logloss:0.64520\teval-logloss:0.64544\n",
      "[5]\ttrain-logloss:0.63670\teval-logloss:0.63641\n",
      "[6]\ttrain-logloss:0.62755\teval-logloss:0.62760\n",
      "[7]\ttrain-logloss:0.61918\teval-logloss:0.61900\n",
      "[8]\ttrain-logloss:0.61018\teval-logloss:0.61052\n",
      "[9]\ttrain-logloss:0.60191\teval-logloss:0.60219\n"
     ]
    },
    {
     "name": "stderr",
     "output_type": "stream",
     "text": [
      "6it [00:14,  2.46s/it]"
     ]
    },
    {
     "name": "stdout",
     "output_type": "stream",
     "text": [
      "[16:01:43] WARNING: /opt/concourse/worker/volumes/live/7a2b9f41-3287-451b-6691-43e9a6c0910f/volume/xgboost-split_1619728204606/work/src/learner.cc:541: \n",
      "Parameters: { bagging_fraction, bagging_freq, boosting_type, early_stopping_rounds, feature_fraction, metric, n_estimators, num_boost_round, num_iterations, num_leaves, verbose_eval, vervose } might not be used.\n",
      "\n",
      "  This may not be accurate due to some parameters are only used in language bindings but\n",
      "  passed down to XGBoost core.  Or some parameters are not used but slip through this\n",
      "  verification. Please open an issue if you find above cases.\n",
      "\n",
      "\n",
      "[16:01:43] WARNING: /opt/concourse/worker/volumes/live/7a2b9f41-3287-451b-6691-43e9a6c0910f/volume/xgboost-split_1619728204606/work/src/learner.cc:1061: Starting in XGBoost 1.3.0, the default evaluation metric used with the objective 'binary:logistic' was changed from 'error' to 'logloss'. Explicitly set eval_metric if you'd like to restore the old behavior.\n",
      "[0]\ttrain-logloss:0.68348\teval-logloss:0.68318\n",
      "[1]\ttrain-logloss:0.67374\teval-logloss:0.67344\n",
      "[2]\ttrain-logloss:0.66410\teval-logloss:0.66396\n",
      "[3]\ttrain-logloss:0.65442\teval-logloss:0.65460\n",
      "[4]\ttrain-logloss:0.64519\teval-logloss:0.64544\n",
      "[5]\ttrain-logloss"
     ]
    },
    {
     "data": {
      "text/html": [
       "<b>limit_output extension: Maximum message size of 10000 exceeded with 10030 characters</b>"
      ]
     },
     "metadata": {},
     "output_type": "display_data"
    }
   ],
   "source": [
    "principal_skf = principal_.astype(float).copy()\n",
    "target = '購入フラグ'\n",
    "Xtrain = principal_skf.drop(columns=target)\n",
    "ytrain = principal_skf[target]\n",
    "\n",
    "print(\"パラメータ\")\n",
    "xgb_params_skf = {\n",
    "    'boosting_type': 'gbdt',\n",
    "    'objective': 'binary:logistic', \n",
    "    'metric': {'binary_error'},\n",
    "    'num_leaves': 100,\n",
    "    'num_iterations':100,\n",
    "    'learning_rate': 0.01,\n",
    "    'feature_fraction': 0.9,\n",
    "    'bagging_fraction': 0.8,\n",
    "    'bagging_freq': 10,\n",
    "    'max_depth':10,\n",
    "    'colsample_bytree':1,\n",
    "    'n_estimators':500,\n",
    "    'vervose': 0,\n",
    "    'num_boost_round': 100,\n",
    "    'early_stopping_rounds': 100,\n",
    "    'verbose_eval': 50,\n",
    "}\n",
    "\n",
    "print(\"学習\")\n",
    "auc_scores_skf = []\n",
    "xgb_predict_skf_list = []\n",
    "y_val_skf_list = []\n",
    "cv = StratifiedKFold(n_splits=7, random_state=0, shuffle=True)\n",
    "for trn_index, val_index in tqdm(cv.split(Xtrain, ytrain)):\n",
    "    X_trn, X_val = Xtrain.loc[trn_index], Xtrain.loc[val_index]\n",
    "    y_trn, y_val = ytrain[trn_index], ytrain[val_index]\n",
    "    y_val_skf_list.append(y_val)\n",
    "\n",
    "    xgb_train_skf = xgb.DMatrix(X_trn, label=y_trn)\n",
    "    xgb_test_skf = xgb.DMatrix(X_val, label=y_val)\n",
    "\n",
    "    evals_skf = [(xgb_train_skf, 'train'), (xgb_test_skf, 'eval')]\n",
    "    evals_result_skf = {}\n",
    "\n",
    "    xgb_model_skf = xgb.train(\n",
    "                xgb_params_skf,\n",
    "                xgb_train_skf,\n",
    "                evals=evals_skf,\n",
    "                evals_result=evals_result_skf,\n",
    "                )\n",
    "    xgb_predict_skf = xgb_model_skf.predict(xgb_test_skf)\n",
    "    xgb_predict_skf_list.append(xgb_predict_skf)\n",
    "\n",
    "    fpr, tpr, thresholds = metrics.roc_curve(y_val, xgb_predict_skf)\n",
    "    auc_skf = metrics.auc(fpr, tpr)\n",
    "    auc_scores_skf.append(auc_skf)"
   ]
  },
  {
   "cell_type": "code",
   "execution_count": 91,
   "metadata": {
    "pycharm": {
     "is_executing": true
    }
   },
   "outputs": [
    {
     "name": "stdout",
     "output_type": "stream",
     "text": [
      "平均正解率 0.741\n"
     ]
    }
   ],
   "source": [
    "accuracy_mean = np.mean(auc_scores_skf).round(decimals=3)\n",
    "print(f'平均正解率 {accuracy_mean}')"
   ]
  },
  {
   "cell_type": "markdown",
   "metadata": {},
   "source": [
    "# 再パラメータ・チューニング"
   ]
  },
  {
   "cell_type": "markdown",
   "metadata": {},
   "source": [
    "## XGBoost"
   ]
  },
  {
   "cell_type": "code",
   "execution_count": 73,
   "metadata": {
    "pycharm": {
     "is_executing": true
    }
   },
   "outputs": [],
   "source": [
    "target = '購入フラグ'\n",
    "X_pc = top_imp.drop(columns=target)\n",
    "y_pc = top_imp[target]\n",
    "train_X_pc, test_X_pc, train_y_pc, test_y_pc = train_test_split(X_pc, y_pc, test_size=0.3, random_state=42);"
   ]
  },
  {
   "cell_type": "code",
   "execution_count": 74,
   "metadata": {
    "pycharm": {
     "is_executing": true
    }
   },
   "outputs": [
    {
     "name": "stdout",
     "output_type": "stream",
     "text": [
      "あたりをつける\n"
     ]
    }
   ],
   "source": [
    "print(\"あたりをつける\")\n",
    "def random_search2(model_param_set_random_pc):\n",
    "    max_score_pc = 0\n",
    "    best_model_pc = None\n",
    "    best_param_pc = None\n",
    "        \n",
    "    for model, param in tqdm(model_param_set_random_pc.items()):\n",
    "        clf_pc = RandomizedSearchCV(model, param)\n",
    "        clf_pc.fit(train_X_pc, train_y_pc)\n",
    "        pred_y_pc = clf_pc.predict(test_X_pc)\n",
    "        score_pc = f1_score(test_y_pc, pred_y_pc, average=\"micro\")\n",
    "\n",
    "        if max_score_pc < score_pc:\n",
    "            max_score_pc = score_pc\n",
    "            best_model_pc = model.__class__.__name__\n",
    "            best_param_pc = clf_pc.best_estimator_\n",
    "    \n",
    "    return best_model_pc, best_param_pc, max_score_pc"
   ]
  },
  {
   "cell_type": "code",
   "execution_count": 75,
   "metadata": {
    "pycharm": {
     "is_executing": true
    }
   },
   "outputs": [
    {
     "name": "stderr",
     "output_type": "stream",
     "text": [
      "  0%|          | 0/1 [00:00<?, ?it/s]"
     ]
    },
    {
     "name": "stdout",
     "output_type": "stream",
     "text": [
      "パラメーターをセット\n",
      "ランダムサーチ\n"
     ]
    },
    {
     "name": "stderr",
     "output_type": "stream",
     "text": [
      "/Users/Tatsuro-Tokume/opt/anaconda3/lib/python3.8/site-packages/xgboost/sklearn.py:888: UserWarning: The use of label encoder in XGBClassifier is deprecated and will be removed in a future release. To remove this warning, do the following: 1) Pass option use_label_encoder=False when constructing XGBClassifier object; and 2) Encode your labels (y) as integers starting with 0, i.e. 0, 1, 2, ..., [num_class - 1].\n",
      "  warnings.warn(label_encoder_deprecation_msg, UserWarning)\n",
      "/Users/Tatsuro-Tokume/opt/anaconda3/lib/python3.8/site-packages/sklearn/model_selection/_validation.py:615: FitFailedWarning: Estimator fit failed. The score on this train-test partition for these parameters will be set to nan. Details: \n",
      "Traceback (most recent call last):\n",
      "  File \"/Users/Tatsuro-Tokume/opt/anaconda3/lib/python3.8/site-packages/sklearn/model_selection/_validation.py\", line 598, in _fit_and_score\n",
      "    estimator.fit(X_train, y_train, **fit_params)\n",
      "  File \"/Users/Tatsuro-Tokume/opt/anaconda3/lib/python3.8/site-packages/xgboost/core.py\", line 422, in inner_f\n",
      "    return f(**kwargs)\n",
      "  File \"/Users/Tatsuro-Tokume/opt/anaconda3/lib/python3.8/site-packages/xgboost/sklearn.py\", line 909, in fit\n",
      "    self._Booster = train(xgb_options, train_dmatrix,\n",
      "  File \"/Users/Tatsuro-Tokume/opt/anaconda3/lib/python3.8/site-packages/xgboost/training.py\", line 227, in train\n",
      "    bst = _train_internal(params, dtrain,\n",
      "  File \"/Users/Tatsuro-Tokume/opt/anaconda3/lib/python3.8/site-packages/xgboost/training.py\", line 102, in _train_internal\n",
      "    bst.update(dtrain, i, obj)\n",
      "  File \"/Users/Tatsuro-Tokume/opt/anaconda3/lib/python3.8/site-packages/xgboost/core.py\", line 1280, in update\n",
      "    _check_call(_LIB.XGBoosterUpdateOneIter(self.handle,\n",
      "  File \"/Users/Tatsuro-Tokume/opt/anaconda3/lib/python3.8/site-packages/xgboost/core.py\", line 189, in _check_call\n",
      "    raise XGBoostError(py_str(_LIB.XGBGetLastError()))\n",
      "xgboost.core.XGBoostError: value 5 for Parameter colsample_bytree exceed bound [0,1]\n",
      "colsample_bytree: Subsample ratio of columns, resample on each tree construction.\n",
      "\n",
      "  warnings.warn(\"Estimator fit failed. The score on this train-test\"\n",
      "/Users/Tatsuro-Tokume/opt/anaconda3/lib/python3.8/site-packages/xgboost/sklearn.py:888: UserWarning: The use of label encoder in XGBClassifier is deprecated and will be removed in a future release. To remove this warning, do the following: 1) Pass option use_label_encoder=False when constructing XGBClassifier object; and 2) Encode your labels (y) as integers starting with 0, i.e. 0, 1, 2, ..., [num_class - 1].\n",
      "  warnings.warn(label_encoder_deprecation_msg, UserWarning)\n",
      "/Users/Tatsuro-Tokume/opt/anaconda3/lib/python3.8/site-packages/sklearn/model_selection/_validation.py:615: FitFailedWarning: Estimator fit failed. The score on this train-test partition for these parameters will be set to nan. Details: \n",
      "Traceback (most recent call last):\n",
      "  File \"/Users/Tatsuro-Tokume/opt/anaconda3/lib/python3.8/site-packages/sklearn/model_selection/_validation.py\", line 598, in _fit_and_score\n",
      "    estimator.fit(X_train, y_train, **fit_params)\n",
      "  File \"/Users/Tatsuro-Tokume/opt/anaconda3/lib/python3.8/site-packages/xgboost/core.py\", line 422, in inner_f\n",
      "    return f(**kwargs)\n",
      "  File \"/Users/Tatsuro-Tokume/opt/anaconda3/lib/python3.8/site-packages/xgboost/sklearn.py\", line 909, in fit\n",
      "    self._Booster = train(xgb_options, train_dmatrix,\n",
      "  File \"/Users/Tatsuro-Tokume/opt/anaconda3/lib/python3.8/site-packages/xgboost/training.py\", line 227, in train\n",
      "    bst = _train_internal(params, dtrain,\n",
      "  File \"/Users/Tatsuro-Tokume/opt/anaconda3/lib/python3.8/site-packages/xgboost/training.py\", line 102, in _train_internal\n",
      "    bst.update(dtrain, i, obj)\n",
      "  File \"/Users/Tatsuro-Tokume/opt/anaconda3/lib/python3.8/site-packages/xgboost/core.py\", line 1280, in update\n",
      "    _check_call(_LIB.XGBoosterUpdateOneIter(self.handle,\n",
      "  File \"/Users/Tatsuro-Tokume/opt/anaconda3/lib/python3.8/site-packages/xgboost/core.py\", line 189, in _check_call\n",
      "    raise XGBoostError(py_str(_LIB.XGBGetLastError()))\n",
      "xgboost.core.XGBoostError: value 5 for Parameter colsample_bytree exceed bound [0,1]\n",
      "colsample_bytree: Subsample ratio of columns, resample on each tree construction.\n",
      "\n",
      "  warnings.warn(\"Estimator fit failed. The score on this train-test\"\n",
      "/Users/Tatsuro-Tokume/opt/anaconda3/lib/python3.8/site-packages/xgboost/sklearn.py:888: UserWarning: The use of label encoder in XGBClassifier is deprecated and will be removed in a future release. To remove this warning, do the following: 1) Pass option use_label_encoder=False when constructing XGBClassifier object; and 2) Encode your labels (y) as integers starting with 0, i.e. 0, 1, 2, ..., [num_class - 1].\n",
      "  warnings.warn(label_encoder_deprecation_msg, UserWarning)\n",
      "/Users/Tatsuro-Tokume/opt/anaconda3/lib/python3.8/site-packages/sklearn/model_selection/_validation.py:615: FitFailedWarning: Estimator fit failed. The score on this train-test partition for these parameters will be set to nan. Details: \n",
      "Traceback (most recent call last):\n",
      "  File \"/Users/Tatsuro-Tokume/opt/anaconda3/lib/python3.8/site-packages/sklearn/model_selection/_validation.py\", line 598, in _fit_and_score\n",
      "    estimator.fit(X_train, y_train, **fit_params)\n",
      "  File \"/Users/Tatsuro-Tokume/opt/anaconda3/lib/python3.8/site-packages/xgboost/core.py\", line 422, in inner_f\n",
      "    return f(**kwargs)\n",
      "  File \"/Users/Tatsuro-Tokume/opt/anaconda3/lib/python3.8/site-packages/xgboost/sklearn.py\", line 909, in fit\n",
      "    self._Booster = train(xgb_options, train_dmatrix,\n",
      "  File \"/Users/Tatsuro-Tokume/opt/anaconda3/lib/python3.8/site-packages/xgboost/training.py\", line 227, in train\n",
      "    bst = _train_internal(params, dtrain,\n",
      "  File \"/Users/Tatsuro-Tokume/opt/anaconda3/lib/python3.8/site-packages/xgboost/training.py\", line 102, in _train_internal\n",
      "    bst.update(dtrain, i, obj)\n",
      "  File \"/Users/Tatsuro-Tokume/opt/anaconda3/lib/python3.8/site-packages/xgboost/core.py\", line 1280, in update\n",
      "    _check_call(_LIB.XGBoosterUpdateOneIter(self.handle,\n",
      "  File \"/Users/Tatsuro-Tokume/opt/anaconda3/lib/python3.8/site-packages/xgboost/core.py\", line 189, in _check_call\n",
      "    raise XGBoostError(py_str(_LIB.XGBGetLastError()))\n",
      "xgboost.core.XGBoostError: value 5 for Parameter colsample_bytree exceed bound [0,1]\n",
      "colsample_bytree: Subsample ratio of columns, resample on each tree construction.\n",
      "\n",
      "  warnings.warn(\"Estimator fit failed. The score on this train-test\"\n",
      "/Users/Tatsuro-Tokume/opt/anaconda3/lib/python3.8/site-packages/xgboost/sklearn.py:888: UserWarning: The use of label encoder in XGBClassifier is deprecated and will be removed in a future release. To remove this warning, do the following: 1) Pass option use_label_encoder=False when constructing XGBClassifier object; and 2) Encode your labels (y) as integers starting with 0, i.e. 0, 1, 2, ..., [num_class - 1].\n",
      "  warnings.warn(label_encoder_deprecation_msg, UserWarning)\n",
      "/Users/Tatsuro-Tokume/opt/anaconda3/lib/python3.8/site-packages/sklearn/model_selection/_validation.py:615: FitFailedWarning: Estimator fit failed. The score on this train-test partition for these parameters will be set to nan. Details: \n",
      "Traceback (most recent call last):\n",
      "  File \"/Users/Tatsuro-Tokume/opt/anaconda3/lib/python3.8/site-packages/sklearn/model_selection/_validation.py\", line 598, in _fit_and_score\n",
      "    estimator.fit(X_train, y_train, **fit_params)\n",
      "  File \"/Users/Tatsuro-Tokume/opt/anaconda3/lib/python3.8/site-packages/xgboost/core.py\", line 422, in inner_f\n",
      "    return f(**kwargs)\n",
      "  File \"/Users/Tatsuro-Tokume/opt/anaconda3/lib/python3.8/site-packages/xgboost/sklearn.py\", line 909, in fit\n",
      "    self._Booster = train(xgb_options, train_dmatrix,\n",
      "  File \"/Users/Tatsuro-Tokume/opt/anaconda3/lib/python3.8/site-packages/xgboost/training.py\", line 227, in train\n",
      "    bst = _train_internal(params, dtrain,\n",
      "  File \"/Users/Tatsuro-Tokume/opt/anaconda3/lib/python3.8/site-packages/xgboost/training.py\", line 102, in _train_internal\n",
      "    bst.update(dtrain, i, obj)\n",
      "  File \"/Users/Tatsuro-Tokume/opt/anaconda3/lib/python3.8/site-packages/xgboost/core.py\", line 1280, in update\n",
      "    _check_call(_LIB.XGBoosterUpdateOneIter(self.handle,\n",
      "  File \"/Users/Tatsuro-Tokume/opt/anaconda3/lib/python3.8/site-packages/xgboost/core.py\", line 189, in _check_call\n",
      "    raise XGBoostError(py_str(_LIB.XGBGetLastError()))\n",
      "xgboost.core.XGBoostError: value 5 for Parameter colsample_bytree exceed bound [0,1]\n",
      "colsample_bytree: Subsample ratio of columns, resample on each tree construction.\n",
      "\n",
      "  warnings.warn(\"Estimator fit failed. The score on this train-test\"\n",
      "/Users/Tatsuro-Tokume/opt/anaconda3/lib/python3.8/site-packages/xgboost/sklearn.py:888: UserWarning: The use of label encoder in XGBClassifier is deprecated and will be removed in a future release. To remove this warning, do the following: 1) Pass option use_label_encoder=False when constructing XGBClassifier object; and 2) Encode your labels (y) as integers starting with 0, i.e. 0, 1, 2, ..., [num_class - 1].\n",
      "  warnings.warn(label_encoder_deprecation_msg, UserWarning)\n",
      "/Users/Tatsuro-Tokume/opt/anaconda3/lib/python3.8/site-packages/sklearn/model_selection/_validation.py:615: FitFailedWarning: Estimator fit failed. The score on this train-test partition for these parameters will be set to nan. Details: \n",
      "Traceback (most recent call last):\n",
      "  File \"/Users/Tatsuro-Tokume/opt/anaconda3/lib/python3.8/site-packages/sklearn/model_selection/_validation.py\", line 598, in _fit_and_score\n",
      "    estimator.fit(X_train, y_train, **fit_params)\n",
      "  File \"/Users/Tatsuro-Tokume/opt/anaconda3/lib/python3.8/site-packages/xgboost/core.py\", line 422, in inner_f\n",
      "    return f(**kwargs)\n",
      "  File \"/Users/Tatsuro-Tokume/opt/anaconda3/lib/python3.8/site-packages/xgboost/sklearn.py\", line 909, in fit\n",
      "    self._Booster = train(xgb_options, train_dmatrix,\n",
      "  File \"/Users/Tatsuro-Tokume/opt/anaconda3/lib/python3.8/site-packages/xgboost/training.py\", line 227, in train\n",
      "    bst = _train_internal(params, dtrain,\n",
      "  File \"/Users/Tatsuro-Tokume/opt/anaconda3/lib/python3.8/site-packages/"
     ]
    },
    {
     "data": {
      "text/html": [
       "<b>limit_output extension: Maximum message size of 10000 exceeded with 19137 characters</b>"
      ]
     },
     "metadata": {},
     "output_type": "display_data"
    }
   ],
   "source": [
    "print(\"パラメーターをセット\")\n",
    "model_param_set_random = {\n",
    "    xgb.XGBClassifier(): {\n",
    "        \"num_leaves\": [i for i in range(30, 200)],\n",
    "        \"num_iterations\": [i for i in range(50, 200)],\n",
    "        \"learning_rate\": [i for i in (format(i*0.01, '.2f') for i in range(1,10))],\n",
    "        \"feature_fraction\": [i for i in (format(i*0.1, '.1f') for i in range(5,10))],\n",
    "        \"bagging_fraction\": [i for i in (format(i*0.01, '.2f') for i in range(5,10))],\n",
    "        \"bagging_freq\": [i for i in range(1, 20)],\n",
    "        \"max_depth\": [i for i in range(1, 20)],\n",
    "        \"colsample_bytree\": [i for i in range(1, 10)],\n",
    "        \"n_estimators\": [i for i in range(50, 200)],\n",
    "        \"vervose\": [i for i in range(1, 10)]\n",
    "    }\n",
    "}\n",
    "print(\"ランダムサーチ\")\n",
    "best_model_pc, best_param_pc, max_score_pc = random_search2(model_param_set_random)"
   ]
  },
  {
   "cell_type": "code",
   "execution_count": 76,
   "metadata": {
    "pycharm": {
     "is_executing": true
    }
   },
   "outputs": [
    {
     "name": "stdout",
     "output_type": "stream",
     "text": [
      "学習モデル:XGBClassifier,\n",
      "パラメーター:XGBClassifier(bagging_fraction='0.05', bagging_freq=8, base_score=0.5,\n",
      "              booster='gbtree', colsample_bylevel=1, colsample_bynode=1,\n",
      "              colsample_bytree=1, feature_fraction='0.9', gamma=0, gpu_id=-1,\n",
      "              importance_type='gain', interaction_constraints='',\n",
      "              learning_rate='0.07', max_delta_step=0, max_depth=2,\n",
      "              min_child_weight=1, missing=nan, monotone_constraints='()',\n",
      "              n_estimators=193, n_jobs=8, num_iterations=175, num_leaves=144,\n",
      "              num_parallel_tree=1, random_state=0, reg_alpha=0, reg_lambda=1,\n",
      "              scale_pos_weight=1, subsample=1, tree_method='exact',\n",
      "              validate_parameters=1, ...)\n",
      "ベストスコア: 0.9398907103825137\n"
     ]
    }
   ],
   "source": [
    "print(\"学習モデル:{},\\nパラメーター:{}\".format(best_model_pc, best_param_pc))\n",
    "print(\"ベストスコア:\", max_score_pc)"
   ]
  },
  {
   "cell_type": "code",
   "execution_count": 77,
   "metadata": {
    "pycharm": {
     "is_executing": true
    }
   },
   "outputs": [],
   "source": [
    "def run_xgb(target_param, k_range):\n",
    "    import xgboost as xgb\n",
    "    top_importances = ['購入フラグ', 'ジャンコード', '原単価', '売単価', '販売金額', '売上単価', '国コード', '数量', '性別', '顧客コード', '移動距離']\n",
    "    top_imp = df_sample[top_importances].copy()\n",
    "\n",
    "    target = '購入フラグ'\n",
    "    X = top_imp.drop(columns=target)\n",
    "    y = top_imp[target]\n",
    "    \n",
    "    train_X, test_X, train_y, test_y = train_test_split(X, y, test_size=0.3, random_state=42);\n",
    "\n",
    "    xgb_train = xgb.DMatrix(train_X, label=train_y)\n",
    "    xgb_test = xgb.DMatrix(test_X, label=test_y)\n",
    "\n",
    "    accuracy_list = []\n",
    "    k_list = []\n",
    "    params_list=[]\n",
    "    for k in k_range:\n",
    "        k_list.append(k)\n",
    "        params = {\n",
    "            'boosting_type': 'gbdt',\n",
    "            'objective': 'binary:logistic', \n",
    "            'metric': {'binary_error'},\n",
    "            'num_leaves': 110,\n",
    "            'num_iterations':120,\n",
    "            'learning_rate': 0.04,\n",
    "            'feature_fraction': 0.9,\n",
    "            'bagging_fraction': 0.8,\n",
    "            'bagging_freq': 3,\n",
    "            'max_depth':7,\n",
    "            'colsample_bytree':0.3\n",
    "        }\n",
    "        params.update({target_param: k})\n",
    "\n",
    "        model_chun = xgb.train(\n",
    "                    params,\n",
    "                    xgb_train\n",
    "                    )\n",
    "        predict_chun = model_chun.predict(xgb_test)\n",
    "        pred_chun =  np.where(predict_chun > 0.5, 1, 0)\n",
    "        accuracy = metrics.accuracy_score(test_y, pred_chun)\n",
    "        accuracy_list.append(accuracy)\n",
    "        \n",
    "    return accuracy_list"
   ]
  },
  {
   "cell_type": "code",
   "execution_count": 78,
   "metadata": {
    "pycharm": {
     "is_executing": true
    }
   },
   "outputs": [
    {
     "name": "stdout",
     "output_type": "stream",
     "text": [
      "XGBoostサーチ\n",
      "[21:15:29] WARNING: /opt/concourse/worker/volumes/live/7a2b9f41-3287-451b-6691-43e9a6c0910f/volume/xgboost-split_1619728204606/work/src/learner.cc:541: \n",
      "Parameters: { bagging_fraction, bagging_freq, boosting_type, feature_fraction, metric, num_iterations, num_leaves } might not be used.\n",
      "\n",
      "  This may not be accurate due to some parameters are only used in language bindings but\n",
      "  passed down to XGBoost core.  Or some parameters are not used but slip through this\n",
      "  verification. Please open an issue if you find above cases.\n",
      "\n",
      "\n",
      "[21:15:29] WARNING: /opt/concourse/worker/volumes/live/7a2b9f41-3287-451b-6691-43e9a6c0910f/volume/xgboost-split_1619728204606/work/src/learner.cc:1061: Starting in XGBoost 1.3.0, the default evaluation metric used with the objective 'binary:logistic' was changed from 'error' to 'logloss'. Explicitly set eval_metric if you'd like to restore the old behavior.\n",
      "[21:15:29] WARNING: /opt/concourse/worker/volumes/live/7a2b9f41-3287-451b-6691-43e9a6c0910f/volume/xgboost-split_1619728204606/work/src/learner.cc:541: \n",
      "Parameters: { bagging_fraction, bagging_freq, boosting_type, feature_fraction, metric, num_iterations, num_leaves } might not be used.\n",
      "\n",
      "  This may not be accurate due to some parameters are only used in language bindings but\n",
      "  passed down to XGBoost core.  Or some parameters are not used but slip through this\n",
      "  verification. Please open an issue if you find above cases.\n",
      "\n",
      "\n",
      "[21:15:29] WARNING: /opt/concourse/worker/volumes/live/7a2b9f41-3287-451b-6691-43e9a6c0910f/volume/xgboost-split_1619728204606/work/src/learner.cc:1061: Starting in XGBoost 1.3.0, the default evaluation metric used with the objective 'binary:logistic' was changed from 'error' to 'logloss'. Explicitly set eval_metric if you'd like to restore the old behavior.\n",
      "[21:15:29] WARNING: /opt/concourse/worker/volumes/live/7a2b9f41-3287-451b-6691-43e9a6c0910f/volume/xgboost-split_1619728204606/work/src/learner.cc:541: \n",
      "Parameters: { bagging_fraction, bagging_freq, boosting_type, feature_fraction, metric, num_iterations, num_leaves } might not be used.\n",
      "\n",
      "  This may not be accurate due to some parameters are only used in language bindings but\n",
      "  passed down to XGBoost core.  Or some parameters are not used but slip through this\n",
      "  verification. Please open an issue if you find above cases.\n",
      "\n",
      "\n",
      "[21:15:29] WARNING: /opt/concourse/worker/volumes/live/7a2b9f41-3287-451b-6691-43e9a6c0910f/volume/xgboost-split_1619728204606/work/src/learner.cc:1061: Starting in XGBoost 1.3.0, the default evaluation metric used with the objective 'binary:logistic' was changed from 'error' to 'logloss'. Explicitly set eval_metric if you'd like to restore the old behavior.\n",
      "[21:15:29] WARNING: /opt/concourse/worker/volumes/live/7a2b9f41-3287-451b-6691-43e9a6c0910f/volume/xgboost-split_1619728204606/work/src/learner.cc:541: \n",
      "Parameters: { bagging_fraction, bagging_freq, boosting_type, feature_fraction, metric, num_iterations, num_leaves } might not be used.\n",
      "\n",
      "  This may not be accurate due to some parameters are only used in language bindings but\n",
      "  passed down to XGBoost core.  Or some parameters are not used but slip through this\n",
      "  verification. Please open an issue if you find above cases.\n",
      "\n",
      "\n",
      "[21:15:29] WARNING: /opt/concourse/worker/volumes/live/7a2b9f41-3287-451b-6691-43e9a6c0910f/volume/xgboost-split_1619728204606/work/src/learner.cc:1061: Starting in XGBoost 1.3.0, the default evaluation metric used with the objective 'binary:logistic' was changed from 'error' to 'logloss'. Explicitly set eval_metric if you'd like to restore the old behavior.\n",
      "[21:15:29] WARNING: /opt/concourse/worker/volumes/live/7a2b9f41-3287-451b-6691-43e9a6c0910f/volume/xgboost-split_1619728204606/work/src/learner.cc:541: \n",
      "Parameters: { bagging_fraction, bagging_freq, boosting_type, feature_fraction, metric, num_iterations, num_leaves } might not be used.\n",
      "\n",
      "  This may not be accurate due to some parameters are only used in language bindings but\n",
      "  passed down to XGBoost core.  Or some parameters are not used but slip through this\n",
      "  verification. Please open an issue if you find above cases.\n",
      "\n",
      "\n",
      "[21:15:29] WARNING: /opt/concourse/worker/volumes/live/7a2b9f41-3287-451b-6691-43e9a6c0910f/volume/xgboost-split_1619728204606/work/src/learner.cc:1061: Starting in XGBoost 1.3.0, the default evaluation metric used with the objective 'binary:logistic' was changed from 'error' to 'logloss'. Explicitly set eval_metric if you'd like to restore the old behavior.\n",
      "[21:15:29] WARNING: /opt/concourse/worker/volumes/live/7a2b9f41-3287-451b-6691-43e9a6c0910f/volume/xgboost-split_1619728204606/work/src/learner.cc:541: \n",
      "Parameters: { bagging_fraction, bagging_freq, boosting_type, feature_fraction, metric, num_iterations, num_leaves } might not be used.\n",
      "\n",
      "  This may not be accurate due to some parameters are only used in language bindings but\n",
      "  passed down to XGBoost core.  Or some parameters are not used but slip through this\n",
      "  verification. Please open an issue if you find above cases.\n",
      "\n",
      "\n",
      "[21:15:29] WARNING: /opt/concourse/worker/volumes/live/7a2b9f41-3287-451b-6691-43e9a6c0910f/volume/xgboost-split_1619728204606/work/src/learner.cc:1061: Starting in XGBoost 1.3.0, the default evaluation metric used with the objective 'binary:logistic' was changed from 'error' to 'logloss'. Explicitly set eval_metric if you'd like to restore the old behavior.\n",
      "[21:15:29] WARNING: /opt/concourse/worker/volumes/live/7a2b9f41-3287-451b-6691-43e9a6c0910f/volume/xgboost-split_1619728204606/work/src/learner.cc:541: \n",
      "Parameters: { bagging_fraction, bagging_freq, boosting_type, feature_fraction, metric, num_iterations, num_leaves } might not be used.\n",
      "\n",
      "  This may not be accurate due to some parameters are only used in language bindings but\n",
      "  passed down to XGBoost core.  Or some parameters are not used but slip through this\n",
      "  verification. Please open an issue if you find above cases.\n",
      "\n",
      "\n",
      "[21:15:29] WARNING: /opt/concourse/worker/volumes/live/7a2b9f41-3287-451b-6691-43e9a6c0910f/volume/xgboost-split_1619728204606/work/src/learner.cc:1061: Starting in XGBoost 1.3.0, the default evaluation metric used with the objective 'binary:logistic' was changed from 'error' to 'logloss'. Explicitly set eval_metric if you'd like to restore the old behavior.\n",
      "[21:15:29] WARNING: /opt/concourse/worker/volumes/live/7a2b9f41-3287-451b-6691-43e9a6c0910f/volume/xgboost-split_1619728204606/work/src/learner.cc:541: \n",
      "Parameters: { bagging_fraction, bagging_freq, boosting_type, feature_fraction, metric, num_iterations, num_leaves } might not be used.\n",
      "\n",
      "  This may not be accurate due to some parameters are only used in language bindings but\n",
      "  passed down to XGBoost core.  Or some parameters are not used but slip through this\n",
      "  verification. Please open an issue if you find above cases.\n",
      "\n",
      "\n",
      "[21:15:29] WARNING: /opt/concourse/worker/volumes/live/7a2b9f41-3287-451b-6691-43e9a6c0910f/volume/xgboost-split_1619728204606/work/src/learner.cc:1061: Starting in XGBoost 1.3.0, the default evaluation metric used with the objective 'binary:logistic' was changed from 'error' to 'logloss'. Explicitly set eval_metric if you'd like to restore the old behavior.\n",
      "[21:15:29] WARNING: /opt/concourse/worker/volumes/live/7a2b9f41-3287-451b-6691-43e9a6c0910f/volume/xgboost-split_1619728204606/work/src/learner.cc:541: \n",
      "Parameters: { bagging_fraction, bagging_freq, boosting_type, feature_fraction, metric, num_iterations, num_leaves } might not be used.\n",
      "\n",
      "  This may not be accurate due to some parameters are only used in language bindings but\n",
      "  passed down to XGBoost core.  Or some parameters are not used but slip through this\n",
      "  verification. Please open an issue if you find above cases.\n",
      "\n",
      "\n",
      "[21:15:29] WARNING: /opt/concourse/worker/volumes/live/7a2b9f41-3287-451b-6691-43e9a6c0910f/volume/xgboost-split_1619728204606/work/src/learner.cc:1061: Starting in XGBoost 1.3.0, the default evaluation metric used with the objective 'binary:logistic' was changed from 'error' to 'logloss'. Explicitly set eval_metric if you'd like to restore the old behavior.\n"
     ]
    }
   ],
   "source": [
    "print(\"XGBoostサーチ\")\n",
    "target_param = 'colsample_bytree'\n",
    "# k_range = range(100, 1000)\n",
    "k_range = [format(i*0.1, '.1f') for i in range(1,10)]\n",
    "# k_range = [format(i*0.01, '.2f') for i in range(1,10)]\n",
    "accuracy_list = run_xgb(target_param, k_range)"
   ]
  },
  {
   "cell_type": "code",
   "execution_count": 79,
   "metadata": {
    "pycharm": {
     "is_executing": true
    }
   },
   "outputs": [
    {
     "name": "stdout",
     "output_type": "stream",
     "text": [
      "0.907\n"
     ]
    },
    {
     "data": {
      "image/png": "[encoded data removed]",
      "text/plain": [
       "<Figure size 1440x360 with 1 Axes>"
      ]
     },
     "metadata": {},
     "output_type": "display_data"
    }
   ],
   "source": [
    "print(np.mean(accuracy_list).round(decimals=3))\n",
    "plt.grid()\n",
    "plt.plot(k_range, accuracy_list);"
   ]
  },
  {
   "cell_type": "markdown",
   "metadata": {},
   "source": [
    "最終値  \n",
    "boosting_type: gbdt,    \n",
    "objective: binary:logistic,     \n",
    "metric: {binary_error},    \n",
    "num_leaves: 110,    \n",
    "num_iterations:120,    \n",
    "learning_rate: 0.04,    \n",
    "feature_fraction: 0.9,    \n",
    "bagging_fraction: 0.8,    \n",
    "bagging_freq: 3,    \n",
    "max_depth:7,    \n",
    "colsample_bytree:0.3"
   ]
  },
  {
   "cell_type": "markdown",
   "metadata": {},
   "source": [
    "## K近傍法（分類）"
   ]
  },
  {
   "cell_type": "code",
   "execution_count": 80,
   "metadata": {
    "pycharm": {
     "is_executing": true
    }
   },
   "outputs": [
    {
     "name": "stderr",
     "output_type": "stream",
     "text": [
      "  0%|          | 0/1 [00:00<?, ?it/s]"
     ]
    },
    {
     "name": "stdout",
     "output_type": "stream",
     "text": [
      "ランダムサーチ\n"
     ]
    },
    {
     "name": "stderr",
     "output_type": "stream",
     "text": [
      "/Users/Tatsuro-Tokume/opt/anaconda3/lib/python3.8/site-packages/sklearn/model_selection/_validation.py:696: UserWarning: Scoring failed. The score on this train-test partition for these parameters will be set to nan. Details: \n",
      "Traceback (most recent call last):\n",
      "  File \"/Users/Tatsuro-Tokume/opt/anaconda3/lib/python3.8/site-packages/sklearn/model_selection/_validation.py\", line 687, in _score\n",
      "    scores = scorer(estimator, X_test, y_test)\n",
      "  File \"/Users/Tatsuro-Tokume/opt/anaconda3/lib/python3.8/site-packages/sklearn/metrics/_scorer.py\", line 397, in _passthrough_scorer\n",
      "    return estimator.score(*args, **kwargs)\n",
      "  File \"/Users/Tatsuro-Tokume/opt/anaconda3/lib/python3.8/site-packages/sklearn/base.py\", line 500, in score\n",
      "    return accuracy_score(y, self.predict(X), sample_weight=sample_weight)\n",
      "  File \"/Users/Tatsuro-Tokume/opt/anaconda3/lib/python3.8/site-packages/sklearn/neighbors/_classification.py\", line 197, in predict\n",
      "    neigh_dist, neigh_ind = self.kneighbors(X)\n",
      "  File \"/Users/Tatsuro-Tokume/opt/anaconda3/lib/python3.8/site-packages/sklearn/neighbors/_base.py\", line 686, in kneighbors\n",
      "    n_jobs = effective_n_jobs(self.n_jobs)\n",
      "  File \"/Users/Tatsuro-Tokume/opt/anaconda3/lib/python3.8/site-packages/joblib/parallel.py\", line 417, in effective_n_jobs\n",
      "    return backend.effective_n_jobs(n_jobs=n_jobs)\n",
      "  File \"/Users/Tatsuro-Tokume/opt/anaconda3/lib/python3.8/site-packages/joblib/_parallel_backends.py\", line 504, in effective_n_jobs\n",
      "    raise ValueError('n_jobs == 0 in Parallel has no meaning')\n",
      "ValueError: n_jobs == 0 in Parallel has no meaning\n",
      "\n",
      "  warnings.warn(\n",
      "/Users/Tatsuro-Tokume/opt/anaconda3/lib/python3.8/site-packages/sklearn/model_selection/_validation.py:696: UserWarning: Scoring failed. The score on this train-test partition for these parameters will be set to nan. Details: \n",
      "Traceback (most recent call last):\n",
      "  File \"/Users/Tatsuro-Tokume/opt/anaconda3/lib/python3.8/site-packages/sklearn/model_selection/_validation.py\", line 687, in _score\n",
      "    scores = scorer(estimator, X_test, y_test)\n",
      "  File \"/Users/Tatsuro-Tokume/opt/anaconda3/lib/python3.8/site-packages/sklearn/metrics/_scorer.py\", line 397, in _passthrough_scorer\n",
      "    return estimator.score(*args, **kwargs)\n",
      "  File \"/Users/Tatsuro-Tokume/opt/anaconda3/lib/python3.8/site-packages/sklearn/base.py\", line 500, in score\n",
      "    return accuracy_score(y, self.predict(X), sample_weight=sample_weight)\n",
      "  File \"/Users/Tatsuro-Tokume/opt/anaconda3/lib/python3.8/site-packages/sklearn/neighbors/_classification.py\", line 197, in predict\n",
      "    neigh_dist, neigh_ind = self.kneighbors(X)\n",
      "  File \"/Users/Tatsuro-Tokume/opt/anaconda3/lib/python3.8/site-packages/sklearn/neighbors/_base.py\", line 686, in kneighbors\n",
      "    n_jobs = effective_n_jobs(self.n_jobs)\n",
      "  File \"/Users/Tatsuro-Tokume/opt/anaconda3/lib/python3.8/site-packages/joblib/parallel.py\", line 417, in effective_n_jobs\n",
      "    return backend.effective_n_jobs(n_jobs=n_jobs)\n",
      "  File \"/Users/Tatsuro-Tokume/opt/anaconda3/lib/python3.8/site-packages/joblib/_parallel_backends.py\", line 504, in effective_n_jobs\n",
      "    raise ValueError('n_jobs == 0 in Parallel has no meaning')\n",
      "ValueError: n_jobs == 0 in Parallel has no meaning\n",
      "\n",
      "  warnings.warn(\n",
      "/Users/Tatsuro-Tokume/opt/anaconda3/lib/python3.8/site-packages/sklearn/model_selection/_validation.py:696: UserWarning: Scoring failed. The score on this train-test partition for these parameters will be set to nan. Details: \n",
      "Traceback (most recent call last):\n",
      "  File \"/Users/Tatsuro-Tokume/opt/anaconda3/lib/python3.8/site-packages/sklearn/model_selection/_validation.py\", line 687, in _score\n",
      "    scores = scorer(estimator, X_test, y_test)\n",
      "  File \"/Users/Tatsuro-Tokume/opt/anaconda3/lib/python3.8/site-packages/sklearn/metrics/_scorer.py\", line 397, in _passthrough_scorer\n",
      "    return estimator.score(*args, **kwargs)\n",
      "  File \"/Users/Tatsuro-Tokume/opt/anaconda3/lib/python3.8/site-packages/sklearn/base.py\", line 500, in score\n",
      "    return accuracy_score(y, self.predict(X), sample_weight=sample_weight)\n",
      "  File \"/Users/Tatsuro-Tokume/opt/anaconda3/lib/python3.8/site-packages/sklearn/neighbors/_classification.py\", line 197, in predict\n",
      "    neigh_dist, neigh_ind = self.kneighbors(X)\n",
      "  File \"/Users/Tatsuro-Tokume/opt/anaconda3/lib/python3.8/site-packages/sklearn/neighbors/_base.py\", line 686, in kneighbors\n",
      "    n_jobs = effective_n_jobs(self.n_jobs)\n",
      "  File \"/Users/Tatsuro-Tokume/opt/anaconda3/lib/python3.8/site-packages/joblib/parallel.py\", line 417, in effective_n_jobs\n",
      "    return backend.effective_n_jobs(n_jobs=n_jobs)\n",
      "  File \"/Users/Tatsuro-Tokume/opt/anaconda3/lib/python3.8/site-packages/joblib/_parallel_backends.py\", line 504, in effective_n_jobs\n",
      "    raise ValueError('n_jobs == 0 in Parallel has no meaning')\n",
      "ValueError: n_jobs == 0 in Parallel has no meaning\n",
      "\n",
      "  warnings.warn(\n",
      "/Users/Tatsuro-Tokume/opt/anaconda3/lib/python3.8/site-packages/sklearn/model_selection/_validation.py:696: UserWarning: Scoring failed. The score on this train-test partition for these parameters will be set to nan. Details: \n",
      "Traceback (most recent call last):\n",
      "  File \"/Users/Tatsuro-Tokume/opt/anaconda3/lib/python3.8/site-packages/sklearn/model_selection/_validation.py\", line 687, in _score\n",
      "    scores = scorer(estimator, X_test, y_test)\n",
      "  File \"/Users/Tatsuro-Tokume/opt/anaconda3/lib/python3.8/site-packages/sklearn/metrics/_scorer.py\", line 397, in _passthrough_scorer\n",
      "    return estimator.score(*args, **kwargs)\n",
      "  File \"/Users/Tatsuro-Tokume/opt/anaconda3/lib/python3.8/site-packages/sklearn/base.py\", line 500, in score\n",
      "    return accuracy_score(y, self.predict(X), sample_weight=sample_weight)\n",
      "  File \"/Users/Tatsuro-Tokume/opt/anaconda3/lib/python3.8/site-packages/sklearn/neighbors/_classification.py\", line 197, in predict\n",
      "    neigh_dist, neigh_ind = self.kneighbors(X)\n",
      "  File \"/Users/Tatsuro-Tokume/opt/anaconda3/lib/python3.8/site-packages/sklearn/neighbors/_base.py\", line 686, in kneighbors\n",
      "    n_jobs = effective_n_jobs(self.n_jobs)\n",
      "  File \"/Users/Tatsuro-Tokume/opt/anaconda3/lib/python3.8/site-packages/joblib/parallel.py\", line 417, in effective_n_jobs\n",
      "    return backend.effective_n_jobs(n_jobs=n_jobs)\n",
      "  File \"/Users/Tatsuro-Tokume/opt/anaconda3/lib/python3.8/site-packages/joblib/_parallel_backends.py\", line 504, in effective_n_jobs\n",
      "    raise ValueError('n_jobs == 0 in Parallel has no meaning')\n",
      "ValueError: n_jobs == 0 in Parallel has no meaning\n",
      "\n",
      "  warnings.warn(\n",
      "/Users/Tatsuro-Tokume/opt/anaconda3/lib/python3.8/site-packages/sklearn/model_selection/_validation.py:696: UserWarning: Scoring failed. The score on this train-test partition for these parameters will be set to nan. Details: \n",
      "Traceback (most recent call last):\n",
      "  File \"/Users/Tatsuro-Tokume/opt/anaconda3/lib/python3.8/site-packages/sklearn/model_selection/_validation.py\", line 687, in _score\n",
      "    scores = scorer(estimator, X_test, y_test)\n",
      "  File \"/Users/Tatsuro-Tokume/opt/anaconda3/lib/python3.8/site-packages/sklearn/metrics/_scorer.py\", line 397, in _passthrough_scorer\n",
      "    return estimator.score(*args, **kwargs)\n",
      "  File \"/Users/Tatsuro-Tokume/opt/anaconda3/lib/python3.8/site-packages/sklearn/base.py\", line 500, in score\n",
      "    return accuracy_score(y, self.predict(X), sample_weight=sample_weight)\n",
      "  File \"/Users/Tatsuro-Tokume/opt/anaconda3/lib/python3.8/site-packages/sklearn/neighbors/_classification.py\", line 197, in predict\n",
      "    neigh_dist, neigh_ind = self.kneighbors(X)\n",
      "  File \"/Users/Tatsuro-Tokume/opt/anaconda3/lib/python3.8/site-packages/sklearn/neighbors/_base.py\", line 686, in kneighbors\n",
      "    n_jobs = effective_n_jobs(self.n_jobs)\n",
      "  File \"/Users/Tatsuro-Tokume/opt/anaconda3/lib/python3.8/site-packages/joblib/parallel.py\", line 417, in effective_n_jobs\n",
      "    return backend.effective_n_jobs(n_jobs=n_jobs)\n",
      "  File \"/Users/Tatsuro-Tokume/opt/anaconda3/lib/python3.8/site-packages/joblib/_parallel_backends.py\", line 504, in effective_n_jobs\n",
      "    raise ValueError('n_jobs == 0 in Parallel has no meaning')\n",
      "ValueError: n_jobs == 0 in Parallel has no meaning\n",
      "\n",
      "  warnings.warn(\n",
      "/Users/Tatsuro-Tokume/opt/anaconda3/lib/python3.8/site-packages/sklearn/model_selection/_search.py:922: UserWarning: One or more of the test scores are non-finite: [0.52927497 0.56199726 0.77756498        nan 0.52927497 0.78459644\n",
      " 0.52927497 0.52927497 0.7870041  0.52927497]\n",
      "  warnings.warn(\n",
      "100%|██████████| 1/1 [00:42<00:00, 42.82s/it]\n"
     ]
    },
    {
     "data": {
      "text/plain": [
       "('KNeighborsClassifier',\n",
       " KNeighborsClassifier(leaf_size=14, n_jobs=9, n_neighbors=22, p=27),\n",
       " 0.8469945355191257)"
      ]
     },
     "execution_count": 80,
     "metadata": {},
     "output_type": "execute_result"
    }
   ],
   "source": [
    "print(\"ランダムサーチ\")\n",
    "model_param_set_random = {\n",
    "    KNeighborsClassifier(): {\n",
    "        \"n_neighbors\": [i for i in range(1, 100)],\n",
    "        \"p\": [i for i in range(1, 100)],\n",
    "        \"leaf_size\":  [i for i in range(1, 100)],\n",
    "        \"n_jobs\": [i for i in range(0, 10)]\n",
    "    }\n",
    "}\n",
    "random_search2(model_param_set_random)"
   ]
  },
  {
   "cell_type": "code",
   "execution_count": 81,
   "metadata": {
    "pycharm": {
     "is_executing": true
    }
   },
   "outputs": [],
   "source": [
    "def run_kn(k_range):\n",
    "    top_importances = ['購入フラグ', 'ジャンコード', '原単価', '売単価', '販売金額', '売上単価', '国コード', '数量', '性別', '顧客コード', '移動距離']\n",
    "    top_imp = df_sample[top_importances].copy()\n",
    "\n",
    "    target = '購入フラグ'\n",
    "    Xtrain = top_imp.drop(columns=target)\n",
    "    ytrain = top_imp[target]\n",
    "    train_X, test_X, train_y, test_y = train_test_split(X, y, test_size=0.3, random_state=42)\n",
    "\n",
    "    accuracy_list = []\n",
    "    for k in k_range:\n",
    "        knc_model = KNeighborsClassifier(n_neighbors=4, p=k, leaf_size=7, n_jobs=5)\n",
    "        knc_model.fit(train_X, train_y)\n",
    "\n",
    "        knc_pred = knc_model.predict_proba(test_X)[:, 1]\n",
    "        pred_chun =  np.where(knc_pred > 0.5, 1, 0)\n",
    "        accuracy = metrics.accuracy_score(test_y, pred_chun)\n",
    "        accuracy_list.append(accuracy)\n",
    "        \n",
    "    return accuracy_list"
   ]
  },
  {
   "cell_type": "code",
   "execution_count": 82,
   "metadata": {
    "pycharm": {
     "is_executing": true
    }
   },
   "outputs": [
    {
     "name": "stdout",
     "output_type": "stream",
     "text": [
      "K近傍法サーチ\n",
      "0.924\n"
     ]
    },
    {
     "data": {
      "image/png": "[encoded data removed]",
      "text/plain": [
       "<Figure size 1440x360 with 1 Axes>"
      ]
     },
     "metadata": {},
     "output_type": "display_data"
    }
   ],
   "source": [
    "print(\"K近傍法サーチ\")\n",
    "from sklearn.neighbors import KNeighborsClassifier # K近傍法\n",
    "k_range = range(1, 50)\n",
    "accuracy_list = run_kn(k_range)\n",
    "print(np.mean(accuracy_list).round(decimals=3))\n",
    "plt.grid()\n",
    "plt.plot(k_range, accuracy_list);"
   ]
  },
  {
   "cell_type": "markdown",
   "metadata": {},
   "source": [
    "最終結果  \n",
    "n_neighbors=4  \n",
    "p=38  \n",
    "leaf_size=7  \n",
    "n_jobs=5  "
   ]
  },
  {
   "cell_type": "markdown",
   "metadata": {},
   "source": [
    "# アンサンブル（スタッキング）"
   ]
  },
  {
   "cell_type": "code",
   "execution_count": 83,
   "metadata": {
    "pycharm": {
     "is_executing": true
    }
   },
   "outputs": [
    {
     "name": "stderr",
     "output_type": "stream",
     "text": [
      "/Users/Tatsuro-Tokume/opt/anaconda3/lib/python3.8/site-packages/xgboost/sklearn.py:888: UserWarning: The use of label encoder in XGBClassifier is deprecated and will be removed in a future release. To remove this warning, do the following: 1) Pass option use_label_encoder=False when constructing XGBClassifier object; and 2) Encode your labels (y) as integers starting with 0, i.e. 0, 1, 2, ..., [num_class - 1].\n",
      "  warnings.warn(label_encoder_deprecation_msg, UserWarning)\n"
     ]
    },
    {
     "name": "stdout",
     "output_type": "stream",
     "text": [
      "[21:16:14] WARNING: /opt/concourse/worker/volumes/live/7a2b9f41-3287-451b-6691-43e9a6c0910f/volume/xgboost-split_1619728204606/work/src/learner.cc:541: \n",
      "Parameters: { bagging_fraction, bagging_freq, boosting_type, feature_fraction, metric, num_iterations, num_leaves } might not be used.\n",
      "\n",
      "  This may not be accurate due to some parameters are only used in language bindings but\n",
      "  passed down to XGBoost core.  Or some parameters are not used but slip through this\n",
      "  verification. Please open an issue if you find above cases.\n",
      "\n",
      "\n",
      "[21:16:14] WARNING: /opt/concourse/worker/volumes/live/7a2b9f41-3287-451b-6691-43e9a6c0910f/volume/xgboost-split_1619728204606/work/src/learner.cc:1061: Starting in XGBoost 1.3.0, the default evaluation metric used with the objective 'binary:logistic' was changed from 'error' to 'logloss'. Explicitly set eval_metric if you'd like to restore the old behavior.\n"
     ]
    },
    {
     "data": {
      "text/plain": [
       "XGBClassifier(bagging_fraction=0.8, bagging_freq=3, base_score=0.5,\n",
       "              booster='gbtree', boosting_type='gbdt', colsample_bylevel=1,\n",
       "              colsample_bynode=1, colsample_bytree=0.3, feature_fraction=0.9,\n",
       "              gamma=0, gpu_id=-1, importance_type='gain',\n",
       "              interaction_constraints='', learning_rate=0.04, max_delta_step=0,\n",
       "              max_depth=7, metric={'binary_error'}, min_child_weight=1,\n",
       "              missing=nan, monotone_constraints='()', n_estimators=100,\n",
       "              n_jobs=8, num_iterations=120, num_leaves=110, num_parallel_tree=1,\n",
       "              random_state=0, reg_alpha=0, reg_lambda=1, scale_pos_weight=1,\n",
       "              subsample=1, ...)"
      ]
     },
     "execution_count": 83,
     "metadata": {},
     "output_type": "execute_result"
    },
    {
     "name": "stderr",
     "output_type": "stream",
     "text": [
      "/Users/Tatsuro-Tokume/opt/anaconda3/lib/python3.8/site-packages/xgboost/sklearn.py:888: UserWarning: The use of label encoder in XGBClassifier is deprecated and will be removed in a future release. To remove this warning, do the following: 1) Pass option use_label_encoder=False when constructing XGBClassifier object; and 2) Encode your labels (y) as integers starting with 0, i.e. 0, 1, 2, ..., [num_class - 1].\n",
      "  warnings.warn(label_encoder_deprecation_msg, UserWarning)\n",
      "/Users/Tatsuro-Tokume/opt/anaconda3/lib/python3.8/site-packages/xgboost/sklearn.py:888: UserWarning: The use of label encoder in XGBClassifier is deprecated and will be removed in a future release. To remove this warning, do the following: 1) Pass option use_label_encoder=False when constructing XGBClassifier object; and 2) Encode your labels (y) as integers starting with 0, i.e. 0, 1, 2, ..., [num_class - 1].\n",
      "  warnings.warn(label_encoder_deprecation_msg, UserWarning)\n"
     ]
    },
    {
     "name": "stdout",
     "output_type": "stream",
     "text": [
      "[21:16:14] WARNING: /opt/concourse/worker/volumes/live/7a2b9f41-3287-451b-6691-43e9a6c0910f/volume/xgboost-split_1619728204606/work/src/learner.cc:541: \n",
      "Parameters: { bagging_fraction, bagging_freq, boosting_type, feature_fraction, metric, num_iterations, num_leaves } might not be used.\n",
      "\n",
      "  This may not be accurate due to some parameters are only used in language bindings but\n",
      "  passed down to XGBoost core.  Or some parameters are not used but slip through this\n",
      "  verification. Please open an issue if you find above cases.\n",
      "\n",
      "\n",
      "[21:16:14] WARNING: /opt/concourse/worker/volumes/live/7a2b9f41-3287-451b-6691-43e9a6c0910f/volume/xgboost-split_1619728204606/work/src/learner.cc:1061: Starting in XGBoost 1.3.0, the default evaluation metric used with the objective 'binary:logistic' was changed from 'error' to 'logloss'. Explicitly set eval_metric if you'd like to restore the old behavior.\n",
      "[21:16:14] WARNING: /opt/concourse/worker/volumes/live/7a2b9f41-3287-451b-6691-43e9a6c0910f/volume/xgboost-split_1619728204606/work/src/learner.cc:541: \n",
      "Parameters: { bagging_fraction, bagging_freq, boosting_type, feature_fraction, metric, num_iterations, num_leaves } might not be used.\n",
      "\n",
      "  This may not be accurate due to some parameters are only used in language bindings but\n",
      "  passed down to XGBoost core.  Or some parameters are not used but slip through this\n",
      "  verification. Please open an issue if you find above cases.\n",
      "\n",
      "\n",
      "[21:16:14] WARNING: /opt/concourse/worker/volumes/live/7a2b9f41-3287-451b-6691-43e9a6c0910f/volume/xgboost-split_1619728204606/work/src/learner.cc:1061: Starting in XGBoost 1.3.0, the default evaluation metric used with the objective 'binary:logistic' was changed from 'error' to 'logloss'. Explicitly set eval_metric if you'd like to restore the old behavior.\n"
     ]
    },
    {
     "name": "stderr",
     "output_type": "stream",
     "text": [
      "/Users/Tatsuro-Tokume/opt/anaconda3/lib/python3.8/site-packages/xgboost/sklearn.py:888: UserWarning: The use of label encoder in XGBClassifier is deprecated and will be removed in a future release. To remove this warning, do the following: 1) Pass option use_label_encoder=False when constructing XGBClassifier object; and 2) Encode your labels (y) as integers starting with 0, i.e. 0, 1, 2, ..., [num_class - 1].\n",
      "  warnings.warn(label_encoder_deprecation_msg, UserWarning)\n"
     ]
    },
    {
     "name": "stdout",
     "output_type": "stream",
     "text": [
      "[21:16:14] WARNING: /opt/concourse/worker/volumes/live/7a2b9f41-3287-451b-6691-43e9a6c0910f/volume/xgboost-split_1619728204606/work/src/learner.cc:541: \n",
      "Parameters: { bagging_fraction, bagging_freq, boosting_type, feature_fraction, metric, num_iterations, num_leaves } might not be used.\n",
      "\n",
      "  This may not be accurate due to some parameters are only used in language bindings but\n",
      "  passed down to XGBoost core.  Or some parameters are not used but slip through this\n",
      "  verification. Please open an issue if you find above cases.\n",
      "\n",
      "\n",
      "[21:16:14] WARNING: /opt/concourse/worker/volumes/live/7a2b9f41-3287-451b-6691-43e9a6c0910f/volume/xgboost-split_1619728204606/work/src/learner.cc:1061: Starting in XGBoost 1.3.0, the default evaluation metric used with the objective 'binary:logistic' was changed from 'error' to 'logloss'. Explicitly set eval_metric if you'd like to restore the old behavior.\n"
     ]
    },
    {
     "name": "stderr",
     "output_type": "stream",
     "text": [
      "/Users/Tatsuro-Tokume/opt/anaconda3/lib/python3.8/site-packages/xgboost/sklearn.py:888: UserWarning: The use of label encoder in XGBClassifier is deprecated and will be removed in a future release. To remove this warning, do the following: 1) Pass option use_label_encoder=False when constructing XGBClassifier object; and 2) Encode your labels (y) as integers starting with 0, i.e. 0, 1, 2, ..., [num_class - 1].\n",
      "  warnings.warn(label_encoder_deprecation_msg, UserWarning)\n"
     ]
    },
    {
     "name": "stdout",
     "output_type": "stream",
     "text": [
      "[21:16:15] WARNING: /opt/concourse/worker/volumes/live/7a2b9f41-3287-451b-6691-43e9a6c0910f/volume/xgboost-split_1619728204606/work/src/learner.cc:541: \n",
      "Parameters: { bagging_fraction, bagging_freq, boosting_type, feature_fraction, metric, num_iterations, num_leaves } might not be used.\n",
      "\n",
      "  This may not be accurate due to some parameters are only used in language bindings but\n",
      "  passed down to XGBoost core.  Or some parameters are not used but slip through this\n",
      "  verification. Please open an issue if you find above cases.\n",
      "\n",
      "\n",
      "[21:16:15] WARNING: /opt/concourse/worker/volumes/live/7a2b9f41-3287-451b-6691-43e9a6c0910f/volume/xgboost-split_1619728204606/work/src/learner.cc:1061: Starting in XGBoost 1.3.0, the default evaluation metric used with the objective 'binary:logistic' was changed from 'error' to 'logloss'. Explicitly set eval_metric if you'd like to restore the old behavior.\n"
     ]
    },
    {
     "name": "stderr",
     "output_type": "stream",
     "text": [
      "/Users/Tatsuro-Tokume/opt/anaconda3/lib/python3.8/site-packages/xgboost/sklearn.py:888: UserWarning: The use of label encoder in XGBClassifier is deprecated and will be removed in a future release. To remove this warning, do the following: 1) Pass option use_label_encoder=False when constructing XGBClassifier object; and 2) Encode your labels (y) as integers starting with 0, i.e. 0, 1, 2, ..., [num_class - 1].\n",
      "  warnings.warn(label_encoder_deprecation_msg, UserWarning)\n"
     ]
    },
    {
     "name": "stdout",
     "output_type": "stream",
     "text": [
      "[21:16:15] WARNING: /opt/concourse/worker/volumes/live/7a2b9f41-3287-451b-6691-43e9a6c0910f/volume/xgboost-split_1619728204606/work/src/learner.cc:541: \n",
      "Parameters: { bagging_fraction, bagging_freq, boosting_type, feature_fraction, metric, num_iterations, num_leaves } might not be used.\n",
      "\n",
      "  This may not be accurate due to some parameters are only used in language bindings but\n",
      "  passed down to XGBoost core.  Or some parameters are not used but slip through this\n",
      "  verification. Please open an issue if you find above cases.\n",
      "\n",
      "\n",
      "[21:16:15] WARNING: /opt/concourse/worker/volumes/live/7a2b9f41-3287-451b-6691-43e9a6c0910f/volume/xgboost-split_1619728204606/work/src/learner.cc:1061: Starting in XGBoost 1.3.0, the default evaluation metric used with the objective 'binary:logistic' was changed from 'error' to 'logloss'. Explicitly set eval_metric if you'd like to restore the old behavior.\n"
     ]
    },
    {
     "data": {
      "text/plain": [
       "KNeighborsClassifier(leaf_size=7, n_jobs=5, n_neighbors=4, p=38)"
      ]
     },
     "execution_count": 83,
     "metadata": {},
     "output_type": "execute_result"
    },
    {
     "name": "stderr",
     "output_type": "stream",
     "text": [
      "/Users/Tatsuro-Tokume/opt/anaconda3/lib/python3.8/site-packages/xgboost/sklearn.py:888: UserWarning: The use of label encoder in XGBClassifier is deprecated and will be removed in a future release. To remove this warning, do the following: 1) Pass option use_label_encoder=False when constructing XGBClassifier object; and 2) Encode your labels (y) as integers starting with 0, i.e. 0, 1, 2, ..., [num_class - 1].\n",
      "  warnings.warn(label_encoder_deprecation_msg, UserWarning)\n"
     ]
    },
    {
     "name": "stdout",
     "output_type": "stream",
     "text": [
      "[21:16:22] WARNING: /opt/concourse/worker/volumes/live/7a2b9f41-3287-451b-6691-43e9a6c0910f/volume/xgboost-split_1619728204606/work/src/learner.cc:541: \n",
      "Parameters: { bagging_fraction, bagging_freq, boosting_type, feature_fraction, metric, num_iterations, num_leaves } might not be used.\n",
      "\n",
      "  This may not be accurate due to some parameters are only used in language bindings but\n",
      "  passed down to XGBoost core.  Or some parameters are not used but slip through this\n",
      "  verification. Please open an issue if you find above cases.\n",
      "\n",
      "\n",
      "[21:16:22] WARNING: /opt/concourse/worker/volumes/live/7a2b9f41-"
     ]
    },
    {
     "data": {
      "text/html": [
       "<b>limit_output extension: Maximum message size of 10000 exceeded with 10297 characters</b>"
      ]
     },
     "metadata": {},
     "output_type": "display_data"
    }
   ],
   "source": [
    "# データ準備\n",
    "top_importances = ['購入フラグ', 'ジャンコード', '原単価', '売単価', '販売金額', '売上単価', '国コード', '数量', '性別', '顧客コード', '移動距離']\n",
    "top_imp = df_sample[top_importances].astype(float).copy()\n",
    "\n",
    "target = '購入フラグ'\n",
    "Xtrain = top_imp.drop(columns=target)\n",
    "ytrain = top_imp[target]\n",
    "seed = 0\n",
    "\n",
    "X_train, X_test, y_train, y_test = train_test_split(Xtrain, ytrain, random_state=seed)\n",
    "StKFold = model_selection.StratifiedKFold(n_splits = 5, shuffle=True, random_state=seed) \n",
    "scores = {}\n",
    "\n",
    "# XGBoost\n",
    "xgb_params = {\n",
    "            'boosting_type': 'gbdt',\n",
    "            'objective': 'binary:logistic', \n",
    "            'metric': {'binary_error'},\n",
    "            'num_leaves': 110,\n",
    "            'num_iterations':120,\n",
    "            'learning_rate': 0.04,\n",
    "            'feature_fraction': 0.9,\n",
    "            'bagging_fraction': 0.8,\n",
    "            'bagging_freq': 3,\n",
    "            'max_depth':7,\n",
    "            'colsample_bytree':0.3\n",
    "}\n",
    "xgb_clf = XGBClassifier(**xgb_params)\n",
    "xgb_clf.fit(X_train, y_train)\n",
    "\n",
    "results = model_selection.cross_val_score(xgb_clf, Xtrain, ytrain, cv=StKFold)\n",
    "scores[('1.XGBoost', 'train_score')] = results.mean().round(decimals=3).astype(str)\n",
    "scores[('1.XGBoost', 'test_score')] = xgb_clf.score(X_test, y_test).round(decimals=3).astype(str)\n",
    "\n",
    "# K近傍法（分類）\n",
    "knc_clf = KNeighborsClassifier(n_neighbors=4, p=38, leaf_size=7, n_jobs=5)\n",
    "knc_clf.fit(X_train, y_train)\n",
    "\n",
    "results = model_selection.cross_val_score(knc_clf, X_test, y_test, cv = StKFold)\n",
    "scores[('2.KNeighborsClassifier', 'train_score')] = results.mean().round(decimals=3).astype(str)\n",
    "scores[('2.KNeighborsClassifier', 'test_score')] = knc_clf.score(X_test, y_test).round(decimals=3).astype(str)\n",
    "\n",
    "# アンサンブル（スタッキング）\n",
    "estimators=[('xgb', xgb_clf), ('knc', knc_clf)]\n",
    "stk_clf=StackingClassifier(estimators=estimators, final_estimator=KNeighborsClassifier())\n",
    "stk_clf.fit(X_train, y_train)\n",
    "results = model_selection.cross_val_score(stk_clf, X_test, y_test, cv = StKFold) \n",
    "scores[('3.Stacking', 'train_score')] = results.mean().round(decimals=3).astype(str)\n",
    "scores[('3.Stacking', 'test_score')] = stk_clf.score(X_test, y_test).round(decimals=3).astype(str)"
   ]
  },
  {
   "cell_type": "code",
   "execution_count": 84,
   "metadata": {
    "pycharm": {
     "is_executing": true
    }
   },
   "outputs": [
    {
     "data": {
      "text/html": [
       "<div>\n",
       "<style scoped>\n",
       "    .dataframe tbody tr th:only-of-type {\n",
       "        vertical-align: middle;\n",
       "    }\n",
       "\n",
       "    .dataframe tbody tr th {\n",
       "        vertical-align: top;\n",
       "    }\n",
       "\n",
       "    .dataframe thead th {\n",
       "        text-align: right;\n",
       "    }\n",
       "</style>\n",
       "<table border=\"1\" class=\"dataframe\">\n",
       "  <thead>\n",
       "    <tr style=\"text-align: right;\">\n",
       "      <th></th>\n",
       "      <th>test_score</th>\n",
       "      <th>train_score</th>\n",
       "    </tr>\n",
       "  </thead>\n",
       "  <tbody>\n",
       "    <tr>\n",
       "      <th>1.XGBoost</th>\n",
       "      <td>0.941</td>\n",
       "      <td>0.957</td>\n",
       "    </tr>\n",
       "    <tr>\n",
       "      <th>2.KNeighborsClassifier</th>\n",
       "      <td>0.778</td>\n",
       "      <td>0.688</td>\n",
       "    </tr>\n",
       "    <tr>\n",
       "      <th>3.Stacking</th>\n",
       "      <td>0.954</td>\n",
       "      <td>0.909</td>\n",
       "    </tr>\n",
       "  </tbody>\n",
       "</table>\n",
       "</div>"
      ],
      "text/plain": [
       "                       test_score train_score\n",
       "1.XGBoost                   0.941       0.957\n",
       "2.KNeighborsClassifier      0.778       0.688\n",
       "3.Stacking                  0.954       0.909"
      ]
     },
     "execution_count": 84,
     "metadata": {},
     "output_type": "execute_result"
    }
   ],
   "source": [
    "# モデル評価\n",
    "pd.Series(scores).unstack()"
   ]
  }
 ],
 "metadata": {
  "kernelspec": {
   "display_name": "Python 3",
   "language": "python",
   "name": "python3"
  },
  "language_info": {
   "codemirror_mode": {
    "name": "ipython",
    "version": 3
   },
   "file_extension": ".py",
   "mimetype": "text/x-python",
   "name": "python",
   "nbconvert_exporter": "python",
   "pygments_lexer": "ipython3",
   "version": "3.8.5"
  },
  "toc": {
   "base_numbering": 1,
   "nav_menu": {},
   "number_sections": true,
   "sideBar": true,
   "skip_h1_title": false,
   "title_cell": "Table of Contents",
   "title_sidebar": "Contents",
   "toc_cell": false,
   "toc_position": {
    "height": "calc(100% - 180px)",
    "left": "10px",
    "top": "150px",
    "width": "362.997px"
   },
   "toc_section_display": true,
   "toc_window_display": true
  }
 },
 "nbformat": 4,
 "nbformat_minor": 1
}
